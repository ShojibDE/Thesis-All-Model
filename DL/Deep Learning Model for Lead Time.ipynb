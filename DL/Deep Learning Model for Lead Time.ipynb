{
 "cells": [
  {
   "cell_type": "code",
   "execution_count": 1,
   "metadata": {},
   "outputs": [],
   "source": [
    "# Import all necessary library\n",
    "import pandas as pd \n",
    "import numpy as np\n",
    "\n",
    "# visualization library\n",
    "import matplotlib.pyplot as plt"
   ]
  },
  {
   "cell_type": "code",
   "execution_count": 2,
   "metadata": {},
   "outputs": [],
   "source": [
    "# Loading the dataset\n",
    "\n",
    "df = pd.read_csv(r'E:\\Hochschule Ansbach\\Thesis\\DATA\\df_LeadTime.csv')"
   ]
  },
  {
   "cell_type": "code",
   "execution_count": 3,
   "metadata": {},
   "outputs": [
    {
     "data": {
      "text/html": [
       "<div>\n",
       "<style scoped>\n",
       "    .dataframe tbody tr th:only-of-type {\n",
       "        vertical-align: middle;\n",
       "    }\n",
       "\n",
       "    .dataframe tbody tr th {\n",
       "        vertical-align: top;\n",
       "    }\n",
       "\n",
       "    .dataframe thead th {\n",
       "        text-align: right;\n",
       "    }\n",
       "</style>\n",
       "<table border=\"1\" class=\"dataframe\">\n",
       "  <thead>\n",
       "    <tr style=\"text-align: right;\">\n",
       "      <th></th>\n",
       "      <th>Actual shipping days</th>\n",
       "      <th>Estimated shipping days</th>\n",
       "      <th>Late_risk</th>\n",
       "      <th>Order Item Product Price</th>\n",
       "      <th>Quantity</th>\n",
       "      <th>Sales</th>\n",
       "      <th>Order Item Total</th>\n",
       "      <th>Product Price</th>\n",
       "      <th>Department</th>\n",
       "      <th>Shipping Mode</th>\n",
       "      <th>Orders Date_datetype</th>\n",
       "      <th>Shipping date_datetype</th>\n",
       "      <th>Customer Segment cat</th>\n",
       "      <th>Category_map</th>\n",
       "      <th>Order Region_map</th>\n",
       "      <th>Delivery Status_code</th>\n",
       "    </tr>\n",
       "  </thead>\n",
       "  <tbody>\n",
       "    <tr>\n",
       "      <th>0</th>\n",
       "      <td>3</td>\n",
       "      <td>4</td>\n",
       "      <td>0</td>\n",
       "      <td>327.75</td>\n",
       "      <td>1</td>\n",
       "      <td>327.75</td>\n",
       "      <td>314.640015</td>\n",
       "      <td>327.75</td>\n",
       "      <td>Fitness</td>\n",
       "      <td>Standard Class</td>\n",
       "      <td>2018-01-31 22:56:00</td>\n",
       "      <td>2018-02-03 22:56:00</td>\n",
       "      <td>0</td>\n",
       "      <td>357</td>\n",
       "      <td>9539</td>\n",
       "      <td>1</td>\n",
       "    </tr>\n",
       "    <tr>\n",
       "      <th>1</th>\n",
       "      <td>5</td>\n",
       "      <td>4</td>\n",
       "      <td>1</td>\n",
       "      <td>327.75</td>\n",
       "      <td>1</td>\n",
       "      <td>327.75</td>\n",
       "      <td>311.359985</td>\n",
       "      <td>327.75</td>\n",
       "      <td>Fitness</td>\n",
       "      <td>Standard Class</td>\n",
       "      <td>2018-01-13 12:27:00</td>\n",
       "      <td>2018-01-18 12:27:00</td>\n",
       "      <td>0</td>\n",
       "      <td>357</td>\n",
       "      <td>7731</td>\n",
       "      <td>1</td>\n",
       "    </tr>\n",
       "    <tr>\n",
       "      <th>2</th>\n",
       "      <td>4</td>\n",
       "      <td>4</td>\n",
       "      <td>0</td>\n",
       "      <td>327.75</td>\n",
       "      <td>1</td>\n",
       "      <td>327.75</td>\n",
       "      <td>309.720001</td>\n",
       "      <td>327.75</td>\n",
       "      <td>Fitness</td>\n",
       "      <td>Standard Class</td>\n",
       "      <td>2018-01-13 12:06:00</td>\n",
       "      <td>2018-01-17 12:06:00</td>\n",
       "      <td>0</td>\n",
       "      <td>357</td>\n",
       "      <td>7731</td>\n",
       "      <td>1</td>\n",
       "    </tr>\n",
       "    <tr>\n",
       "      <th>3</th>\n",
       "      <td>3</td>\n",
       "      <td>4</td>\n",
       "      <td>0</td>\n",
       "      <td>327.75</td>\n",
       "      <td>1</td>\n",
       "      <td>327.75</td>\n",
       "      <td>304.809998</td>\n",
       "      <td>327.75</td>\n",
       "      <td>Fitness</td>\n",
       "      <td>Standard Class</td>\n",
       "      <td>2018-01-13 11:45:00</td>\n",
       "      <td>2018-01-16 11:45:00</td>\n",
       "      <td>2</td>\n",
       "      <td>357</td>\n",
       "      <td>10148</td>\n",
       "      <td>1</td>\n",
       "    </tr>\n",
       "    <tr>\n",
       "      <th>4</th>\n",
       "      <td>2</td>\n",
       "      <td>4</td>\n",
       "      <td>0</td>\n",
       "      <td>327.75</td>\n",
       "      <td>1</td>\n",
       "      <td>327.75</td>\n",
       "      <td>298.250000</td>\n",
       "      <td>327.75</td>\n",
       "      <td>Fitness</td>\n",
       "      <td>Standard Class</td>\n",
       "      <td>2018-01-13 11:24:00</td>\n",
       "      <td>2018-01-15 11:24:00</td>\n",
       "      <td>1</td>\n",
       "      <td>357</td>\n",
       "      <td>10148</td>\n",
       "      <td>1</td>\n",
       "    </tr>\n",
       "  </tbody>\n",
       "</table>\n",
       "</div>"
      ],
      "text/plain": [
       "   Actual shipping days  Estimated shipping days  Late_risk  \\\n",
       "0                     3                        4          0   \n",
       "1                     5                        4          1   \n",
       "2                     4                        4          0   \n",
       "3                     3                        4          0   \n",
       "4                     2                        4          0   \n",
       "\n",
       "   Order Item Product Price  Quantity   Sales  Order Item Total  \\\n",
       "0                    327.75         1  327.75        314.640015   \n",
       "1                    327.75         1  327.75        311.359985   \n",
       "2                    327.75         1  327.75        309.720001   \n",
       "3                    327.75         1  327.75        304.809998   \n",
       "4                    327.75         1  327.75        298.250000   \n",
       "\n",
       "   Product Price Department   Shipping Mode Orders Date_datetype  \\\n",
       "0         327.75    Fitness  Standard Class  2018-01-31 22:56:00   \n",
       "1         327.75    Fitness  Standard Class  2018-01-13 12:27:00   \n",
       "2         327.75    Fitness  Standard Class  2018-01-13 12:06:00   \n",
       "3         327.75    Fitness  Standard Class  2018-01-13 11:45:00   \n",
       "4         327.75    Fitness  Standard Class  2018-01-13 11:24:00   \n",
       "\n",
       "  Shipping date_datetype  Customer Segment cat  Category_map  \\\n",
       "0    2018-02-03 22:56:00                     0           357   \n",
       "1    2018-01-18 12:27:00                     0           357   \n",
       "2    2018-01-17 12:06:00                     0           357   \n",
       "3    2018-01-16 11:45:00                     2           357   \n",
       "4    2018-01-15 11:24:00                     1           357   \n",
       "\n",
       "   Order Region_map  Delivery Status_code  \n",
       "0              9539                     1  \n",
       "1              7731                     1  \n",
       "2              7731                     1  \n",
       "3             10148                     1  \n",
       "4             10148                     1  "
      ]
     },
     "execution_count": 3,
     "metadata": {},
     "output_type": "execute_result"
    }
   ],
   "source": [
    "# printing 1st 5 rows\n",
    "df.head()"
   ]
  },
  {
   "cell_type": "markdown",
   "metadata": {},
   "source": [
    "# EDA"
   ]
  },
  {
   "cell_type": "code",
   "execution_count": 4,
   "metadata": {},
   "outputs": [
    {
     "data": {
      "text/html": [
       "<div>\n",
       "<style scoped>\n",
       "    .dataframe tbody tr th:only-of-type {\n",
       "        vertical-align: middle;\n",
       "    }\n",
       "\n",
       "    .dataframe tbody tr th {\n",
       "        vertical-align: top;\n",
       "    }\n",
       "\n",
       "    .dataframe thead th {\n",
       "        text-align: right;\n",
       "    }\n",
       "</style>\n",
       "<table border=\"1\" class=\"dataframe\">\n",
       "  <thead>\n",
       "    <tr style=\"text-align: right;\">\n",
       "      <th></th>\n",
       "      <th>Actual shipping days</th>\n",
       "      <th>Estimated shipping days</th>\n",
       "      <th>Late_risk</th>\n",
       "      <th>Order Item Product Price</th>\n",
       "      <th>Quantity</th>\n",
       "      <th>Sales</th>\n",
       "      <th>Order Item Total</th>\n",
       "      <th>Product Price</th>\n",
       "      <th>Customer Segment cat</th>\n",
       "      <th>Category_map</th>\n",
       "      <th>Order Region_map</th>\n",
       "      <th>Delivery Status_code</th>\n",
       "    </tr>\n",
       "  </thead>\n",
       "  <tbody>\n",
       "    <tr>\n",
       "      <th>count</th>\n",
       "      <td>180519.000000</td>\n",
       "      <td>180519.000000</td>\n",
       "      <td>180519.000000</td>\n",
       "      <td>180519.000000</td>\n",
       "      <td>180519.000000</td>\n",
       "      <td>180519.000000</td>\n",
       "      <td>180519.000000</td>\n",
       "      <td>180519.000000</td>\n",
       "      <td>180519.000000</td>\n",
       "      <td>180519.000000</td>\n",
       "      <td>180519.000000</td>\n",
       "      <td>180519.000000</td>\n",
       "    </tr>\n",
       "    <tr>\n",
       "      <th>mean</th>\n",
       "      <td>3.497654</td>\n",
       "      <td>2.931847</td>\n",
       "      <td>0.548291</td>\n",
       "      <td>141.232550</td>\n",
       "      <td>2.127638</td>\n",
       "      <td>203.772096</td>\n",
       "      <td>183.107609</td>\n",
       "      <td>141.232550</td>\n",
       "      <td>0.660545</td>\n",
       "      <td>16311.775331</td>\n",
       "      <td>14231.371119</td>\n",
       "      <td>0.957046</td>\n",
       "    </tr>\n",
       "    <tr>\n",
       "      <th>std</th>\n",
       "      <td>1.623722</td>\n",
       "      <td>1.374449</td>\n",
       "      <td>0.497664</td>\n",
       "      <td>139.732492</td>\n",
       "      <td>1.453451</td>\n",
       "      <td>132.273077</td>\n",
       "      <td>120.043670</td>\n",
       "      <td>139.732492</td>\n",
       "      <td>0.762408</td>\n",
       "      <td>7112.004248</td>\n",
       "      <td>9431.443100</td>\n",
       "      <td>0.202754</td>\n",
       "    </tr>\n",
       "    <tr>\n",
       "      <th>min</th>\n",
       "      <td>0.000000</td>\n",
       "      <td>0.000000</td>\n",
       "      <td>0.000000</td>\n",
       "      <td>9.990000</td>\n",
       "      <td>1.000000</td>\n",
       "      <td>9.990000</td>\n",
       "      <td>7.490000</td>\n",
       "      <td>9.990000</td>\n",
       "      <td>0.000000</td>\n",
       "      <td>61.000000</td>\n",
       "      <td>553.000000</td>\n",
       "      <td>0.000000</td>\n",
       "    </tr>\n",
       "    <tr>\n",
       "      <th>25%</th>\n",
       "      <td>2.000000</td>\n",
       "      <td>2.000000</td>\n",
       "      <td>0.000000</td>\n",
       "      <td>50.000000</td>\n",
       "      <td>1.000000</td>\n",
       "      <td>119.980003</td>\n",
       "      <td>104.379997</td>\n",
       "      <td>50.000000</td>\n",
       "      <td>0.000000</td>\n",
       "      <td>12487.000000</td>\n",
       "      <td>7280.000000</td>\n",
       "      <td>1.000000</td>\n",
       "    </tr>\n",
       "    <tr>\n",
       "      <th>50%</th>\n",
       "      <td>3.000000</td>\n",
       "      <td>4.000000</td>\n",
       "      <td>1.000000</td>\n",
       "      <td>59.990002</td>\n",
       "      <td>1.000000</td>\n",
       "      <td>199.919998</td>\n",
       "      <td>163.990005</td>\n",
       "      <td>59.990002</td>\n",
       "      <td>0.000000</td>\n",
       "      <td>17325.000000</td>\n",
       "      <td>9792.000000</td>\n",
       "      <td>1.000000</td>\n",
       "    </tr>\n",
       "    <tr>\n",
       "      <th>75%</th>\n",
       "      <td>5.000000</td>\n",
       "      <td>4.000000</td>\n",
       "      <td>1.000000</td>\n",
       "      <td>199.990005</td>\n",
       "      <td>3.000000</td>\n",
       "      <td>299.950012</td>\n",
       "      <td>247.399994</td>\n",
       "      <td>199.990005</td>\n",
       "      <td>1.000000</td>\n",
       "      <td>22246.000000</td>\n",
       "      <td>27109.000000</td>\n",
       "      <td>1.000000</td>\n",
       "    </tr>\n",
       "    <tr>\n",
       "      <th>max</th>\n",
       "      <td>6.000000</td>\n",
       "      <td>4.000000</td>\n",
       "      <td>1.000000</td>\n",
       "      <td>1999.989990</td>\n",
       "      <td>5.000000</td>\n",
       "      <td>1999.989990</td>\n",
       "      <td>1939.989990</td>\n",
       "      <td>1999.989990</td>\n",
       "      <td>2.000000</td>\n",
       "      <td>24551.000000</td>\n",
       "      <td>28341.000000</td>\n",
       "      <td>1.000000</td>\n",
       "    </tr>\n",
       "  </tbody>\n",
       "</table>\n",
       "</div>"
      ],
      "text/plain": [
       "       Actual shipping days  Estimated shipping days      Late_risk  \\\n",
       "count         180519.000000            180519.000000  180519.000000   \n",
       "mean               3.497654                 2.931847       0.548291   \n",
       "std                1.623722                 1.374449       0.497664   \n",
       "min                0.000000                 0.000000       0.000000   \n",
       "25%                2.000000                 2.000000       0.000000   \n",
       "50%                3.000000                 4.000000       1.000000   \n",
       "75%                5.000000                 4.000000       1.000000   \n",
       "max                6.000000                 4.000000       1.000000   \n",
       "\n",
       "       Order Item Product Price       Quantity          Sales  \\\n",
       "count             180519.000000  180519.000000  180519.000000   \n",
       "mean                 141.232550       2.127638     203.772096   \n",
       "std                  139.732492       1.453451     132.273077   \n",
       "min                    9.990000       1.000000       9.990000   \n",
       "25%                   50.000000       1.000000     119.980003   \n",
       "50%                   59.990002       1.000000     199.919998   \n",
       "75%                  199.990005       3.000000     299.950012   \n",
       "max                 1999.989990       5.000000    1999.989990   \n",
       "\n",
       "       Order Item Total  Product Price  Customer Segment cat   Category_map  \\\n",
       "count     180519.000000  180519.000000         180519.000000  180519.000000   \n",
       "mean         183.107609     141.232550              0.660545   16311.775331   \n",
       "std          120.043670     139.732492              0.762408    7112.004248   \n",
       "min            7.490000       9.990000              0.000000      61.000000   \n",
       "25%          104.379997      50.000000              0.000000   12487.000000   \n",
       "50%          163.990005      59.990002              0.000000   17325.000000   \n",
       "75%          247.399994     199.990005              1.000000   22246.000000   \n",
       "max         1939.989990    1999.989990              2.000000   24551.000000   \n",
       "\n",
       "       Order Region_map  Delivery Status_code  \n",
       "count     180519.000000         180519.000000  \n",
       "mean       14231.371119              0.957046  \n",
       "std         9431.443100              0.202754  \n",
       "min          553.000000              0.000000  \n",
       "25%         7280.000000              1.000000  \n",
       "50%         9792.000000              1.000000  \n",
       "75%        27109.000000              1.000000  \n",
       "max        28341.000000              1.000000  "
      ]
     },
     "execution_count": 4,
     "metadata": {},
     "output_type": "execute_result"
    }
   ],
   "source": [
    "# describe method for numeric columns\n",
    "df.describe()"
   ]
  },
  {
   "cell_type": "code",
   "execution_count": 5,
   "metadata": {},
   "outputs": [
    {
     "data": {
      "text/html": [
       "<div>\n",
       "<style scoped>\n",
       "    .dataframe tbody tr th:only-of-type {\n",
       "        vertical-align: middle;\n",
       "    }\n",
       "\n",
       "    .dataframe tbody tr th {\n",
       "        vertical-align: top;\n",
       "    }\n",
       "\n",
       "    .dataframe thead th {\n",
       "        text-align: right;\n",
       "    }\n",
       "</style>\n",
       "<table border=\"1\" class=\"dataframe\">\n",
       "  <thead>\n",
       "    <tr style=\"text-align: right;\">\n",
       "      <th></th>\n",
       "      <th>Department</th>\n",
       "      <th>Shipping Mode</th>\n",
       "      <th>Orders Date_datetype</th>\n",
       "      <th>Shipping date_datetype</th>\n",
       "    </tr>\n",
       "  </thead>\n",
       "  <tbody>\n",
       "    <tr>\n",
       "      <th>count</th>\n",
       "      <td>180519</td>\n",
       "      <td>180519</td>\n",
       "      <td>180519</td>\n",
       "      <td>180519</td>\n",
       "    </tr>\n",
       "    <tr>\n",
       "      <th>unique</th>\n",
       "      <td>11</td>\n",
       "      <td>4</td>\n",
       "      <td>65752</td>\n",
       "      <td>63701</td>\n",
       "    </tr>\n",
       "    <tr>\n",
       "      <th>top</th>\n",
       "      <td>Fan Shop</td>\n",
       "      <td>Standard Class</td>\n",
       "      <td>2017-01-08 12:58:00</td>\n",
       "      <td>2015-09-10 19:58:00</td>\n",
       "    </tr>\n",
       "    <tr>\n",
       "      <th>freq</th>\n",
       "      <td>66861</td>\n",
       "      <td>107752</td>\n",
       "      <td>5</td>\n",
       "      <td>10</td>\n",
       "    </tr>\n",
       "  </tbody>\n",
       "</table>\n",
       "</div>"
      ],
      "text/plain": [
       "       Department   Shipping Mode Orders Date_datetype Shipping date_datetype\n",
       "count      180519          180519               180519                 180519\n",
       "unique         11               4                65752                  63701\n",
       "top      Fan Shop  Standard Class  2017-01-08 12:58:00    2015-09-10 19:58:00\n",
       "freq        66861          107752                    5                     10"
      ]
     },
     "execution_count": 5,
     "metadata": {},
     "output_type": "execute_result"
    }
   ],
   "source": [
    "# describe for non numeric columns \n",
    "df.describe(exclude='number')"
   ]
  },
  {
   "cell_type": "code",
   "execution_count": 6,
   "metadata": {},
   "outputs": [
    {
     "name": "stdout",
     "output_type": "stream",
     "text": [
      "<class 'pandas.core.frame.DataFrame'>\n",
      "RangeIndex: 180519 entries, 0 to 180518\n",
      "Data columns (total 16 columns):\n",
      " #   Column                    Non-Null Count   Dtype  \n",
      "---  ------                    --------------   -----  \n",
      " 0   Actual shipping days      180519 non-null  int64  \n",
      " 1   Estimated shipping days   180519 non-null  int64  \n",
      " 2   Late_risk                 180519 non-null  int64  \n",
      " 3   Order Item Product Price  180519 non-null  float64\n",
      " 4   Quantity                  180519 non-null  int64  \n",
      " 5   Sales                     180519 non-null  float64\n",
      " 6   Order Item Total          180519 non-null  float64\n",
      " 7   Product Price             180519 non-null  float64\n",
      " 8   Department                180519 non-null  object \n",
      " 9   Shipping Mode             180519 non-null  object \n",
      " 10  Orders Date_datetype      180519 non-null  object \n",
      " 11  Shipping date_datetype    180519 non-null  object \n",
      " 12  Customer Segment cat      180519 non-null  int64  \n",
      " 13  Category_map              180519 non-null  int64  \n",
      " 14  Order Region_map          180519 non-null  int64  \n",
      " 15  Delivery Status_code      180519 non-null  int64  \n",
      "dtypes: float64(4), int64(8), object(4)\n",
      "memory usage: 22.0+ MB\n"
     ]
    }
   ],
   "source": [
    "# info method \n",
    "df.info()"
   ]
  },
  {
   "cell_type": "code",
   "execution_count": null,
   "metadata": {},
   "outputs": [],
   "source": []
  },
  {
   "cell_type": "markdown",
   "metadata": {},
   "source": [
    "# Preprocessing "
   ]
  },
  {
   "cell_type": "code",
   "execution_count": 7,
   "metadata": {},
   "outputs": [],
   "source": [
    "# Dropping irrevant columns\n",
    "df.drop(['Orders Date_datetype', 'Shipping date_datetype'], axis=1, inplace= True)"
   ]
  },
  {
   "cell_type": "raw",
   "metadata": {},
   "source": [
    "# finding specific values\n",
    "# 2016-08-27 10:42:00\n",
    "# https://stackoverflow.com/questions/53587315/pandas-find-specific-value-in-entire-dataframe\n",
    "df[df.eq(\"2016-08-27 10:42:00\").any(1)]"
   ]
  },
  {
   "cell_type": "markdown",
   "metadata": {},
   "source": [
    "# I will also drop the Estimated Shipping columns "
   ]
  },
  {
   "cell_type": "code",
   "execution_count": 8,
   "metadata": {},
   "outputs": [
    {
     "data": {
      "text/html": [
       "<div>\n",
       "<style scoped>\n",
       "    .dataframe tbody tr th:only-of-type {\n",
       "        vertical-align: middle;\n",
       "    }\n",
       "\n",
       "    .dataframe tbody tr th {\n",
       "        vertical-align: top;\n",
       "    }\n",
       "\n",
       "    .dataframe thead th {\n",
       "        text-align: right;\n",
       "    }\n",
       "</style>\n",
       "<table border=\"1\" class=\"dataframe\">\n",
       "  <thead>\n",
       "    <tr style=\"text-align: right;\">\n",
       "      <th></th>\n",
       "      <th>Actual shipping days</th>\n",
       "      <th>Estimated shipping days</th>\n",
       "      <th>Late_risk</th>\n",
       "      <th>Order Item Product Price</th>\n",
       "      <th>Quantity</th>\n",
       "      <th>Sales</th>\n",
       "      <th>Order Item Total</th>\n",
       "      <th>Product Price</th>\n",
       "      <th>Department</th>\n",
       "      <th>Shipping Mode</th>\n",
       "      <th>Customer Segment cat</th>\n",
       "      <th>Category_map</th>\n",
       "      <th>Order Region_map</th>\n",
       "      <th>Delivery Status_code</th>\n",
       "    </tr>\n",
       "  </thead>\n",
       "  <tbody>\n",
       "    <tr>\n",
       "      <th>0</th>\n",
       "      <td>3</td>\n",
       "      <td>4</td>\n",
       "      <td>0</td>\n",
       "      <td>327.75</td>\n",
       "      <td>1</td>\n",
       "      <td>327.75</td>\n",
       "      <td>314.640015</td>\n",
       "      <td>327.75</td>\n",
       "      <td>Fitness</td>\n",
       "      <td>Standard Class</td>\n",
       "      <td>0</td>\n",
       "      <td>357</td>\n",
       "      <td>9539</td>\n",
       "      <td>1</td>\n",
       "    </tr>\n",
       "    <tr>\n",
       "      <th>1</th>\n",
       "      <td>5</td>\n",
       "      <td>4</td>\n",
       "      <td>1</td>\n",
       "      <td>327.75</td>\n",
       "      <td>1</td>\n",
       "      <td>327.75</td>\n",
       "      <td>311.359985</td>\n",
       "      <td>327.75</td>\n",
       "      <td>Fitness</td>\n",
       "      <td>Standard Class</td>\n",
       "      <td>0</td>\n",
       "      <td>357</td>\n",
       "      <td>7731</td>\n",
       "      <td>1</td>\n",
       "    </tr>\n",
       "    <tr>\n",
       "      <th>2</th>\n",
       "      <td>4</td>\n",
       "      <td>4</td>\n",
       "      <td>0</td>\n",
       "      <td>327.75</td>\n",
       "      <td>1</td>\n",
       "      <td>327.75</td>\n",
       "      <td>309.720001</td>\n",
       "      <td>327.75</td>\n",
       "      <td>Fitness</td>\n",
       "      <td>Standard Class</td>\n",
       "      <td>0</td>\n",
       "      <td>357</td>\n",
       "      <td>7731</td>\n",
       "      <td>1</td>\n",
       "    </tr>\n",
       "    <tr>\n",
       "      <th>3</th>\n",
       "      <td>3</td>\n",
       "      <td>4</td>\n",
       "      <td>0</td>\n",
       "      <td>327.75</td>\n",
       "      <td>1</td>\n",
       "      <td>327.75</td>\n",
       "      <td>304.809998</td>\n",
       "      <td>327.75</td>\n",
       "      <td>Fitness</td>\n",
       "      <td>Standard Class</td>\n",
       "      <td>2</td>\n",
       "      <td>357</td>\n",
       "      <td>10148</td>\n",
       "      <td>1</td>\n",
       "    </tr>\n",
       "    <tr>\n",
       "      <th>4</th>\n",
       "      <td>2</td>\n",
       "      <td>4</td>\n",
       "      <td>0</td>\n",
       "      <td>327.75</td>\n",
       "      <td>1</td>\n",
       "      <td>327.75</td>\n",
       "      <td>298.250000</td>\n",
       "      <td>327.75</td>\n",
       "      <td>Fitness</td>\n",
       "      <td>Standard Class</td>\n",
       "      <td>1</td>\n",
       "      <td>357</td>\n",
       "      <td>10148</td>\n",
       "      <td>1</td>\n",
       "    </tr>\n",
       "    <tr>\n",
       "      <th>5</th>\n",
       "      <td>6</td>\n",
       "      <td>4</td>\n",
       "      <td>0</td>\n",
       "      <td>327.75</td>\n",
       "      <td>1</td>\n",
       "      <td>327.75</td>\n",
       "      <td>294.980011</td>\n",
       "      <td>327.75</td>\n",
       "      <td>Fitness</td>\n",
       "      <td>Standard Class</td>\n",
       "      <td>0</td>\n",
       "      <td>357</td>\n",
       "      <td>10148</td>\n",
       "      <td>0</td>\n",
       "    </tr>\n",
       "    <tr>\n",
       "      <th>6</th>\n",
       "      <td>2</td>\n",
       "      <td>1</td>\n",
       "      <td>1</td>\n",
       "      <td>327.75</td>\n",
       "      <td>1</td>\n",
       "      <td>327.75</td>\n",
       "      <td>288.420013</td>\n",
       "      <td>327.75</td>\n",
       "      <td>Fitness</td>\n",
       "      <td>First Class</td>\n",
       "      <td>2</td>\n",
       "      <td>357</td>\n",
       "      <td>7280</td>\n",
       "      <td>1</td>\n",
       "    </tr>\n",
       "    <tr>\n",
       "      <th>7</th>\n",
       "      <td>2</td>\n",
       "      <td>1</td>\n",
       "      <td>1</td>\n",
       "      <td>327.75</td>\n",
       "      <td>1</td>\n",
       "      <td>327.75</td>\n",
       "      <td>285.140015</td>\n",
       "      <td>327.75</td>\n",
       "      <td>Fitness</td>\n",
       "      <td>First Class</td>\n",
       "      <td>1</td>\n",
       "      <td>357</td>\n",
       "      <td>7280</td>\n",
       "      <td>1</td>\n",
       "    </tr>\n",
       "    <tr>\n",
       "      <th>8</th>\n",
       "      <td>3</td>\n",
       "      <td>2</td>\n",
       "      <td>1</td>\n",
       "      <td>327.75</td>\n",
       "      <td>1</td>\n",
       "      <td>327.75</td>\n",
       "      <td>278.589996</td>\n",
       "      <td>327.75</td>\n",
       "      <td>Fitness</td>\n",
       "      <td>Second Class</td>\n",
       "      <td>1</td>\n",
       "      <td>357</td>\n",
       "      <td>7280</td>\n",
       "      <td>1</td>\n",
       "    </tr>\n",
       "    <tr>\n",
       "      <th>9</th>\n",
       "      <td>2</td>\n",
       "      <td>1</td>\n",
       "      <td>1</td>\n",
       "      <td>327.75</td>\n",
       "      <td>1</td>\n",
       "      <td>327.75</td>\n",
       "      <td>275.309998</td>\n",
       "      <td>327.75</td>\n",
       "      <td>Fitness</td>\n",
       "      <td>First Class</td>\n",
       "      <td>1</td>\n",
       "      <td>357</td>\n",
       "      <td>7280</td>\n",
       "      <td>1</td>\n",
       "    </tr>\n",
       "  </tbody>\n",
       "</table>\n",
       "</div>"
      ],
      "text/plain": [
       "   Actual shipping days  Estimated shipping days  Late_risk  \\\n",
       "0                     3                        4          0   \n",
       "1                     5                        4          1   \n",
       "2                     4                        4          0   \n",
       "3                     3                        4          0   \n",
       "4                     2                        4          0   \n",
       "5                     6                        4          0   \n",
       "6                     2                        1          1   \n",
       "7                     2                        1          1   \n",
       "8                     3                        2          1   \n",
       "9                     2                        1          1   \n",
       "\n",
       "   Order Item Product Price  Quantity   Sales  Order Item Total  \\\n",
       "0                    327.75         1  327.75        314.640015   \n",
       "1                    327.75         1  327.75        311.359985   \n",
       "2                    327.75         1  327.75        309.720001   \n",
       "3                    327.75         1  327.75        304.809998   \n",
       "4                    327.75         1  327.75        298.250000   \n",
       "5                    327.75         1  327.75        294.980011   \n",
       "6                    327.75         1  327.75        288.420013   \n",
       "7                    327.75         1  327.75        285.140015   \n",
       "8                    327.75         1  327.75        278.589996   \n",
       "9                    327.75         1  327.75        275.309998   \n",
       "\n",
       "   Product Price Department   Shipping Mode  Customer Segment cat  \\\n",
       "0         327.75    Fitness  Standard Class                     0   \n",
       "1         327.75    Fitness  Standard Class                     0   \n",
       "2         327.75    Fitness  Standard Class                     0   \n",
       "3         327.75    Fitness  Standard Class                     2   \n",
       "4         327.75    Fitness  Standard Class                     1   \n",
       "5         327.75    Fitness  Standard Class                     0   \n",
       "6         327.75    Fitness     First Class                     2   \n",
       "7         327.75    Fitness     First Class                     1   \n",
       "8         327.75    Fitness    Second Class                     1   \n",
       "9         327.75    Fitness     First Class                     1   \n",
       "\n",
       "   Category_map  Order Region_map  Delivery Status_code  \n",
       "0           357              9539                     1  \n",
       "1           357              7731                     1  \n",
       "2           357              7731                     1  \n",
       "3           357             10148                     1  \n",
       "4           357             10148                     1  \n",
       "5           357             10148                     0  \n",
       "6           357              7280                     1  \n",
       "7           357              7280                     1  \n",
       "8           357              7280                     1  \n",
       "9           357              7280                     1  "
      ]
     },
     "execution_count": 8,
     "metadata": {},
     "output_type": "execute_result"
    }
   ],
   "source": [
    "# printing 1st 5 rows\n",
    "df.head(10)"
   ]
  },
  {
   "cell_type": "markdown",
   "metadata": {},
   "source": [
    "# Visual EDA\n",
    "pd.plotting.scatter_matrix(df,  figsize = [20, 20],s=0.5, marker = 'D')\n",
    "\n",
    "plt.xticks(rotation=90)\n",
    "plt.show()"
   ]
  },
  {
   "cell_type": "markdown",
   "metadata": {},
   "source": [
    "# Encoding dummy variables"
   ]
  },
  {
   "cell_type": "raw",
   "metadata": {},
   "source": [
    "# Encoding dummy variables\n",
    "df_dum = pd.get_dummies(df, columns=['Department','Shipping Mode'], drop_first=True)\n",
    "\n",
    "\n",
    "df_dum.head()"
   ]
  },
  {
   "cell_type": "markdown",
   "metadata": {},
   "source": [
    "# Sanity Check"
   ]
  },
  {
   "cell_type": "code",
   "execution_count": 9,
   "metadata": {},
   "outputs": [],
   "source": [
    "# Have to count is it right or not cause i drop the 1st one so i have to do calculate the number or column ok or not "
   ]
  },
  {
   "cell_type": "code",
   "execution_count": 10,
   "metadata": {},
   "outputs": [
    {
     "data": {
      "text/plain": [
       "array(['Fitness', 'Apparel', 'Golf', 'Footwear', 'Outdoors', 'Fan Shop',\n",
       "       'Technology', 'Book Shop', 'Discs Shop', 'Pet Shop',\n",
       "       'Health and Beauty '], dtype=object)"
      ]
     },
     "execution_count": 10,
     "metadata": {},
     "output_type": "execute_result"
    }
   ],
   "source": [
    "# unique values in 'Department' column\n",
    "df.Department.unique()"
   ]
  },
  {
   "cell_type": "code",
   "execution_count": 11,
   "metadata": {},
   "outputs": [
    {
     "data": {
      "text/plain": [
       "array(['Standard Class', 'First Class', 'Second Class', 'Same Day'],\n",
       "      dtype=object)"
      ]
     },
     "execution_count": 11,
     "metadata": {},
     "output_type": "execute_result"
    }
   ],
   "source": [
    "# unique values in 'Shipping Mode' column\n",
    "df['Shipping Mode'].unique()"
   ]
  },
  {
   "cell_type": "code",
   "execution_count": 12,
   "metadata": {},
   "outputs": [
    {
     "name": "stdout",
     "output_type": "stream",
     "text": [
      "Total unique values in \"Department\" :  11\n",
      "Total unique values in \"Shipping Mode\":  4\n"
     ]
    }
   ],
   "source": [
    "# Counting how many unique values in these two  columns \n",
    "\n",
    "from collections import  Counter\n",
    "\n",
    "d=Counter(df.Department.unique()) # this give us a dictonary .so  extract the values of dict nad make a sum.\n",
    "\n",
    "\n",
    "print('Total unique values in \"Department\" : ', sum(d.values()))\n",
    "\n",
    "\n",
    "\n",
    "e=Counter(df['Shipping Mode'].unique()) # this give us a dictonary .so  extract the values of dict nad make a sum.\n",
    "\n",
    "\n",
    "print('Total unique values in \"Shipping Mode\": ',sum(e.values()))\n",
    "\n",
    "# as we make dummy variable so we add 11+4= 15 columns ad we drop 1st to net 13 cloumns we  added\n",
    "\n",
    "#print('\\nOriginal df shape: ', df.shape)\n",
    "\n",
    "#print('Dummy var df shape: ',df_dum.shape)\n",
    "# get_dummy() also drop by default 'Department','Shipping Mode' columns which we made dummy variavle"
   ]
  },
  {
   "cell_type": "code",
   "execution_count": 13,
   "metadata": {},
   "outputs": [
    {
     "data": {
      "text/plain": [
       "Actual shipping days          int64\n",
       "Estimated shipping days       int64\n",
       "Late_risk                     int64\n",
       "Order Item Product Price    float64\n",
       "Quantity                      int64\n",
       "Sales                       float64\n",
       "Order Item Total            float64\n",
       "Product Price               float64\n",
       "Department                   object\n",
       "Shipping Mode                object\n",
       "Customer Segment cat          int64\n",
       "Category_map                  int64\n",
       "Order Region_map              int64\n",
       "Delivery Status_code          int64\n",
       "dtype: object"
      ]
     },
     "execution_count": 13,
     "metadata": {},
     "output_type": "execute_result"
    }
   ],
   "source": [
    "# Checking data types\n",
    "df.dtypes"
   ]
  },
  {
   "cell_type": "code",
   "execution_count": null,
   "metadata": {},
   "outputs": [],
   "source": []
  },
  {
   "cell_type": "markdown",
   "metadata": {},
   "source": [
    "# Train/test split"
   ]
  },
  {
   "cell_type": "code",
   "execution_count": 40,
   "metadata": {},
   "outputs": [],
   "source": [
    "# Import necessary Library\n",
    "\n",
    "\n",
    "from sklearn.model_selection import train_test_split\n",
    "from sklearn.metrics import mean_absolute_error,mean_squared_error,r2_score\n",
    "\n"
   ]
  },
  {
   "cell_type": "code",
   "execution_count": 15,
   "metadata": {},
   "outputs": [
    {
     "name": "stdout",
     "output_type": "stream",
     "text": [
      "[3 5 4 2 6 0 1]\n",
      "int64\n"
     ]
    }
   ],
   "source": [
    "# \"Actual shipping days\" is target/Predic column/ variable here\n",
    "\n",
    "\n",
    "# https://datascience.stackexchange.com/questions/70272/discrete-values-as-target-variable\n",
    "# https://www.springboard.com/blog/data-science/regression-vs-classification/\n",
    "\n",
    " \n",
    "\n",
    "print(df[\"Actual shipping days\"].unique()) # it has 7 discreat valuues are that valeus are integer \n",
    "\n",
    "print(df[\"Actual shipping days\"].dtypes)\n",
    "\n",
    "# it is a regression problem"
   ]
  },
  {
   "cell_type": "raw",
   "metadata": {},
   "source": [
    "# separating the feature variable\n",
    "X=df.drop(\"Actual shipping days\", axis=1).to_numpy()\n",
    "\n",
    "# separating the target variable\n",
    "\n",
    "y=df_dum[\"Actual shipping days\"].to_numpy()"
   ]
  },
  {
   "cell_type": "code",
   "execution_count": 16,
   "metadata": {},
   "outputs": [],
   "source": [
    "# separating the feature variable\n",
    "X=df.drop(\"Actual shipping days\", axis=1)\n",
    "\n",
    "# separating the target variable\n",
    "\n",
    "y=df[\"Actual shipping days\"]"
   ]
  },
  {
   "cell_type": "code",
   "execution_count": 17,
   "metadata": {},
   "outputs": [
    {
     "name": "stdout",
     "output_type": "stream",
     "text": [
      "(180519, 13)\n",
      "(180519,)\n"
     ]
    }
   ],
   "source": [
    "# printing the dimension of feature space\n",
    "print(X.shape)\n",
    "\n",
    "# printing the dimension of target space\n",
    "print(y.shape)"
   ]
  },
  {
   "cell_type": "code",
   "execution_count": 18,
   "metadata": {},
   "outputs": [],
   "source": [
    "# Set seed for reproducibility\n",
    "\n",
    "SEED = 1\n",
    "\n",
    "# Split dataset into 70% train and 30% test\n",
    "X_train, X_test, y_train, y_test = train_test_split(X, y,\n",
    "                                                    \n",
    "                                                    test_size=0.3,\n",
    "                                                    \n",
    "                                                    random_state=SEED)"
   ]
  },
  {
   "cell_type": "code",
   "execution_count": 19,
   "metadata": {},
   "outputs": [
    {
     "name": "stdout",
     "output_type": "stream",
     "text": [
      " X_train dimension :  (126363, 13)\n",
      "\n",
      " X_test dimension :  (54156, 13)\n",
      "\n",
      " y_train dimension :  (126363,)\n",
      " \n",
      " y_test dimension :  (54156,)\n"
     ]
    }
   ],
   "source": [
    "# printing dimension\n",
    "\n",
    "print(' X_train dimension : ', X_train.shape)\n",
    "print('\\n X_test dimension : ',X_test.shape )\n",
    "\n",
    "\n",
    "print('\\n y_train dimension : ',y_train.shape )\n",
    "print(' \\n y_test dimension : ',   y_test.shape)"
   ]
  },
  {
   "cell_type": "code",
   "execution_count": 20,
   "metadata": {},
   "outputs": [
    {
     "data": {
      "text/html": [
       "<div>\n",
       "<style scoped>\n",
       "    .dataframe tbody tr th:only-of-type {\n",
       "        vertical-align: middle;\n",
       "    }\n",
       "\n",
       "    .dataframe tbody tr th {\n",
       "        vertical-align: top;\n",
       "    }\n",
       "\n",
       "    .dataframe thead th {\n",
       "        text-align: right;\n",
       "    }\n",
       "</style>\n",
       "<table border=\"1\" class=\"dataframe\">\n",
       "  <thead>\n",
       "    <tr style=\"text-align: right;\">\n",
       "      <th></th>\n",
       "      <th>Estimated shipping days</th>\n",
       "      <th>Late_risk</th>\n",
       "      <th>Order Item Product Price</th>\n",
       "      <th>Quantity</th>\n",
       "      <th>Sales</th>\n",
       "      <th>Order Item Total</th>\n",
       "      <th>Product Price</th>\n",
       "      <th>Department</th>\n",
       "      <th>Shipping Mode</th>\n",
       "      <th>Customer Segment cat</th>\n",
       "      <th>Category_map</th>\n",
       "      <th>Order Region_map</th>\n",
       "      <th>Delivery Status_code</th>\n",
       "    </tr>\n",
       "  </thead>\n",
       "  <tbody>\n",
       "    <tr>\n",
       "      <th>174722</th>\n",
       "      <td>4</td>\n",
       "      <td>1</td>\n",
       "      <td>24.990000</td>\n",
       "      <td>4</td>\n",
       "      <td>99.959999</td>\n",
       "      <td>92.959999</td>\n",
       "      <td>24.990000</td>\n",
       "      <td>Fitness</td>\n",
       "      <td>Standard Class</td>\n",
       "      <td>0</td>\n",
       "      <td>343</td>\n",
       "      <td>28341</td>\n",
       "      <td>1</td>\n",
       "    </tr>\n",
       "    <tr>\n",
       "      <th>172881</th>\n",
       "      <td>2</td>\n",
       "      <td>0</td>\n",
       "      <td>129.990005</td>\n",
       "      <td>1</td>\n",
       "      <td>129.990005</td>\n",
       "      <td>122.839996</td>\n",
       "      <td>129.990005</td>\n",
       "      <td>Apparel</td>\n",
       "      <td>Second Class</td>\n",
       "      <td>0</td>\n",
       "      <td>22246</td>\n",
       "      <td>27109</td>\n",
       "      <td>1</td>\n",
       "    </tr>\n",
       "    <tr>\n",
       "      <th>93616</th>\n",
       "      <td>4</td>\n",
       "      <td>1</td>\n",
       "      <td>129.990005</td>\n",
       "      <td>1</td>\n",
       "      <td>129.990005</td>\n",
       "      <td>123.489998</td>\n",
       "      <td>129.990005</td>\n",
       "      <td>Apparel</td>\n",
       "      <td>Standard Class</td>\n",
       "      <td>0</td>\n",
       "      <td>22246</td>\n",
       "      <td>7731</td>\n",
       "      <td>1</td>\n",
       "    </tr>\n",
       "    <tr>\n",
       "      <th>165190</th>\n",
       "      <td>4</td>\n",
       "      <td>0</td>\n",
       "      <td>39.990002</td>\n",
       "      <td>5</td>\n",
       "      <td>199.949997</td>\n",
       "      <td>185.949997</td>\n",
       "      <td>39.990002</td>\n",
       "      <td>Golf</td>\n",
       "      <td>Standard Class</td>\n",
       "      <td>2</td>\n",
       "      <td>10984</td>\n",
       "      <td>959</td>\n",
       "      <td>1</td>\n",
       "    </tr>\n",
       "    <tr>\n",
       "      <th>168879</th>\n",
       "      <td>1</td>\n",
       "      <td>1</td>\n",
       "      <td>99.989998</td>\n",
       "      <td>5</td>\n",
       "      <td>499.950012</td>\n",
       "      <td>494.950012</td>\n",
       "      <td>99.989998</td>\n",
       "      <td>Footwear</td>\n",
       "      <td>First Class</td>\n",
       "      <td>2</td>\n",
       "      <td>12487</td>\n",
       "      <td>1677</td>\n",
       "      <td>1</td>\n",
       "    </tr>\n",
       "    <tr>\n",
       "      <th>...</th>\n",
       "      <td>...</td>\n",
       "      <td>...</td>\n",
       "      <td>...</td>\n",
       "      <td>...</td>\n",
       "      <td>...</td>\n",
       "      <td>...</td>\n",
       "      <td>...</td>\n",
       "      <td>...</td>\n",
       "      <td>...</td>\n",
       "      <td>...</td>\n",
       "      <td>...</td>\n",
       "      <td>...</td>\n",
       "      <td>...</td>\n",
       "    </tr>\n",
       "    <tr>\n",
       "      <th>73349</th>\n",
       "      <td>1</td>\n",
       "      <td>1</td>\n",
       "      <td>199.990005</td>\n",
       "      <td>1</td>\n",
       "      <td>199.990005</td>\n",
       "      <td>169.990005</td>\n",
       "      <td>199.990005</td>\n",
       "      <td>Fan Shop</td>\n",
       "      <td>First Class</td>\n",
       "      <td>0</td>\n",
       "      <td>15540</td>\n",
       "      <td>3232</td>\n",
       "      <td>1</td>\n",
       "    </tr>\n",
       "    <tr>\n",
       "      <th>109259</th>\n",
       "      <td>4</td>\n",
       "      <td>0</td>\n",
       "      <td>59.990002</td>\n",
       "      <td>5</td>\n",
       "      <td>299.950012</td>\n",
       "      <td>269.959992</td>\n",
       "      <td>59.990002</td>\n",
       "      <td>Apparel</td>\n",
       "      <td>Standard Class</td>\n",
       "      <td>0</td>\n",
       "      <td>24551</td>\n",
       "      <td>28341</td>\n",
       "      <td>1</td>\n",
       "    </tr>\n",
       "    <tr>\n",
       "      <th>50057</th>\n",
       "      <td>2</td>\n",
       "      <td>0</td>\n",
       "      <td>59.990002</td>\n",
       "      <td>5</td>\n",
       "      <td>299.950012</td>\n",
       "      <td>290.950012</td>\n",
       "      <td>59.990002</td>\n",
       "      <td>Apparel</td>\n",
       "      <td>Second Class</td>\n",
       "      <td>1</td>\n",
       "      <td>24551</td>\n",
       "      <td>6915</td>\n",
       "      <td>1</td>\n",
       "    </tr>\n",
       "    <tr>\n",
       "      <th>5192</th>\n",
       "      <td>4</td>\n",
       "      <td>0</td>\n",
       "      <td>59.990002</td>\n",
       "      <td>3</td>\n",
       "      <td>179.970001</td>\n",
       "      <td>167.369995</td>\n",
       "      <td>59.990002</td>\n",
       "      <td>Apparel</td>\n",
       "      <td>Standard Class</td>\n",
       "      <td>1</td>\n",
       "      <td>24551</td>\n",
       "      <td>14935</td>\n",
       "      <td>1</td>\n",
       "    </tr>\n",
       "    <tr>\n",
       "      <th>128037</th>\n",
       "      <td>4</td>\n",
       "      <td>0</td>\n",
       "      <td>50.000000</td>\n",
       "      <td>2</td>\n",
       "      <td>100.000000</td>\n",
       "      <td>87.000000</td>\n",
       "      <td>50.000000</td>\n",
       "      <td>Golf</td>\n",
       "      <td>Standard Class</td>\n",
       "      <td>0</td>\n",
       "      <td>21035</td>\n",
       "      <td>10148</td>\n",
       "      <td>1</td>\n",
       "    </tr>\n",
       "  </tbody>\n",
       "</table>\n",
       "<p>126363 rows × 13 columns</p>\n",
       "</div>"
      ],
      "text/plain": [
       "        Estimated shipping days  Late_risk  Order Item Product Price  \\\n",
       "174722                        4          1                 24.990000   \n",
       "172881                        2          0                129.990005   \n",
       "93616                         4          1                129.990005   \n",
       "165190                        4          0                 39.990002   \n",
       "168879                        1          1                 99.989998   \n",
       "...                         ...        ...                       ...   \n",
       "73349                         1          1                199.990005   \n",
       "109259                        4          0                 59.990002   \n",
       "50057                         2          0                 59.990002   \n",
       "5192                          4          0                 59.990002   \n",
       "128037                        4          0                 50.000000   \n",
       "\n",
       "        Quantity       Sales  Order Item Total  Product Price Department  \\\n",
       "174722         4   99.959999         92.959999      24.990000    Fitness   \n",
       "172881         1  129.990005        122.839996     129.990005    Apparel   \n",
       "93616          1  129.990005        123.489998     129.990005    Apparel   \n",
       "165190         5  199.949997        185.949997      39.990002       Golf   \n",
       "168879         5  499.950012        494.950012      99.989998   Footwear   \n",
       "...          ...         ...               ...            ...        ...   \n",
       "73349          1  199.990005        169.990005     199.990005   Fan Shop   \n",
       "109259         5  299.950012        269.959992      59.990002    Apparel   \n",
       "50057          5  299.950012        290.950012      59.990002    Apparel   \n",
       "5192           3  179.970001        167.369995      59.990002    Apparel   \n",
       "128037         2  100.000000         87.000000      50.000000       Golf   \n",
       "\n",
       "         Shipping Mode  Customer Segment cat  Category_map  Order Region_map  \\\n",
       "174722  Standard Class                     0           343             28341   \n",
       "172881    Second Class                     0         22246             27109   \n",
       "93616   Standard Class                     0         22246              7731   \n",
       "165190  Standard Class                     2         10984               959   \n",
       "168879     First Class                     2         12487              1677   \n",
       "...                ...                   ...           ...               ...   \n",
       "73349      First Class                     0         15540              3232   \n",
       "109259  Standard Class                     0         24551             28341   \n",
       "50057     Second Class                     1         24551              6915   \n",
       "5192    Standard Class                     1         24551             14935   \n",
       "128037  Standard Class                     0         21035             10148   \n",
       "\n",
       "        Delivery Status_code  \n",
       "174722                     1  \n",
       "172881                     1  \n",
       "93616                      1  \n",
       "165190                     1  \n",
       "168879                     1  \n",
       "...                      ...  \n",
       "73349                      1  \n",
       "109259                     1  \n",
       "50057                      1  \n",
       "5192                       1  \n",
       "128037                     1  \n",
       "\n",
       "[126363 rows x 13 columns]"
      ]
     },
     "execution_count": 20,
     "metadata": {},
     "output_type": "execute_result"
    }
   ],
   "source": [
    "# printing X_train\n",
    "X_train"
   ]
  },
  {
   "cell_type": "code",
   "execution_count": 21,
   "metadata": {},
   "outputs": [
    {
     "data": {
      "text/html": [
       "<div>\n",
       "<style scoped>\n",
       "    .dataframe tbody tr th:only-of-type {\n",
       "        vertical-align: middle;\n",
       "    }\n",
       "\n",
       "    .dataframe tbody tr th {\n",
       "        vertical-align: top;\n",
       "    }\n",
       "\n",
       "    .dataframe thead th {\n",
       "        text-align: right;\n",
       "    }\n",
       "</style>\n",
       "<table border=\"1\" class=\"dataframe\">\n",
       "  <thead>\n",
       "    <tr style=\"text-align: right;\">\n",
       "      <th></th>\n",
       "      <th>Estimated shipping days</th>\n",
       "      <th>Late_risk</th>\n",
       "      <th>Order Item Product Price</th>\n",
       "      <th>Quantity</th>\n",
       "      <th>Sales</th>\n",
       "      <th>Order Item Total</th>\n",
       "      <th>Product Price</th>\n",
       "      <th>Department</th>\n",
       "      <th>Shipping Mode</th>\n",
       "      <th>Customer Segment cat</th>\n",
       "      <th>Category_map</th>\n",
       "      <th>Order Region_map</th>\n",
       "      <th>Delivery Status_code</th>\n",
       "    </tr>\n",
       "  </thead>\n",
       "  <tbody>\n",
       "    <tr>\n",
       "      <th>101369</th>\n",
       "      <td>4</td>\n",
       "      <td>0</td>\n",
       "      <td>49.980000</td>\n",
       "      <td>4</td>\n",
       "      <td>199.919998</td>\n",
       "      <td>197.919998</td>\n",
       "      <td>49.980000</td>\n",
       "      <td>Fan Shop</td>\n",
       "      <td>Standard Class</td>\n",
       "      <td>0</td>\n",
       "      <td>19298</td>\n",
       "      <td>4045</td>\n",
       "      <td>1</td>\n",
       "    </tr>\n",
       "    <tr>\n",
       "      <th>3026</th>\n",
       "      <td>4</td>\n",
       "      <td>1</td>\n",
       "      <td>164.380005</td>\n",
       "      <td>1</td>\n",
       "      <td>164.380005</td>\n",
       "      <td>164.380005</td>\n",
       "      <td>164.380005</td>\n",
       "      <td>Discs Shop</td>\n",
       "      <td>Standard Class</td>\n",
       "      <td>2</td>\n",
       "      <td>483</td>\n",
       "      <td>27109</td>\n",
       "      <td>1</td>\n",
       "    </tr>\n",
       "    <tr>\n",
       "      <th>57549</th>\n",
       "      <td>4</td>\n",
       "      <td>1</td>\n",
       "      <td>59.990002</td>\n",
       "      <td>4</td>\n",
       "      <td>239.960007</td>\n",
       "      <td>226.759994</td>\n",
       "      <td>59.990002</td>\n",
       "      <td>Apparel</td>\n",
       "      <td>Standard Class</td>\n",
       "      <td>0</td>\n",
       "      <td>24551</td>\n",
       "      <td>6009</td>\n",
       "      <td>1</td>\n",
       "    </tr>\n",
       "    <tr>\n",
       "      <th>127144</th>\n",
       "      <td>4</td>\n",
       "      <td>1</td>\n",
       "      <td>129.990005</td>\n",
       "      <td>1</td>\n",
       "      <td>129.990005</td>\n",
       "      <td>103.989998</td>\n",
       "      <td>129.990005</td>\n",
       "      <td>Apparel</td>\n",
       "      <td>Standard Class</td>\n",
       "      <td>0</td>\n",
       "      <td>22246</td>\n",
       "      <td>14935</td>\n",
       "      <td>1</td>\n",
       "    </tr>\n",
       "    <tr>\n",
       "      <th>160375</th>\n",
       "      <td>4</td>\n",
       "      <td>0</td>\n",
       "      <td>39.750000</td>\n",
       "      <td>1</td>\n",
       "      <td>39.750000</td>\n",
       "      <td>37.560001</td>\n",
       "      <td>39.750000</td>\n",
       "      <td>Discs Shop</td>\n",
       "      <td>Standard Class</td>\n",
       "      <td>0</td>\n",
       "      <td>838</td>\n",
       "      <td>7280</td>\n",
       "      <td>1</td>\n",
       "    </tr>\n",
       "    <tr>\n",
       "      <th>...</th>\n",
       "      <td>...</td>\n",
       "      <td>...</td>\n",
       "      <td>...</td>\n",
       "      <td>...</td>\n",
       "      <td>...</td>\n",
       "      <td>...</td>\n",
       "      <td>...</td>\n",
       "      <td>...</td>\n",
       "      <td>...</td>\n",
       "      <td>...</td>\n",
       "      <td>...</td>\n",
       "      <td>...</td>\n",
       "      <td>...</td>\n",
       "    </tr>\n",
       "    <tr>\n",
       "      <th>151386</th>\n",
       "      <td>4</td>\n",
       "      <td>0</td>\n",
       "      <td>399.980011</td>\n",
       "      <td>1</td>\n",
       "      <td>399.980011</td>\n",
       "      <td>379.980011</td>\n",
       "      <td>399.980011</td>\n",
       "      <td>Fan Shop</td>\n",
       "      <td>Standard Class</td>\n",
       "      <td>1</td>\n",
       "      <td>17325</td>\n",
       "      <td>6915</td>\n",
       "      <td>1</td>\n",
       "    </tr>\n",
       "    <tr>\n",
       "      <th>9189</th>\n",
       "      <td>4</td>\n",
       "      <td>0</td>\n",
       "      <td>59.990002</td>\n",
       "      <td>5</td>\n",
       "      <td>299.950012</td>\n",
       "      <td>278.950012</td>\n",
       "      <td>59.990002</td>\n",
       "      <td>Apparel</td>\n",
       "      <td>Standard Class</td>\n",
       "      <td>0</td>\n",
       "      <td>24551</td>\n",
       "      <td>9539</td>\n",
       "      <td>1</td>\n",
       "    </tr>\n",
       "    <tr>\n",
       "      <th>83970</th>\n",
       "      <td>4</td>\n",
       "      <td>0</td>\n",
       "      <td>59.990002</td>\n",
       "      <td>1</td>\n",
       "      <td>59.990002</td>\n",
       "      <td>47.990002</td>\n",
       "      <td>59.990002</td>\n",
       "      <td>Apparel</td>\n",
       "      <td>Standard Class</td>\n",
       "      <td>0</td>\n",
       "      <td>24551</td>\n",
       "      <td>8318</td>\n",
       "      <td>1</td>\n",
       "    </tr>\n",
       "    <tr>\n",
       "      <th>122909</th>\n",
       "      <td>2</td>\n",
       "      <td>1</td>\n",
       "      <td>99.989998</td>\n",
       "      <td>3</td>\n",
       "      <td>299.970001</td>\n",
       "      <td>269.970001</td>\n",
       "      <td>99.989998</td>\n",
       "      <td>Footwear</td>\n",
       "      <td>Second Class</td>\n",
       "      <td>1</td>\n",
       "      <td>12487</td>\n",
       "      <td>27109</td>\n",
       "      <td>1</td>\n",
       "    </tr>\n",
       "    <tr>\n",
       "      <th>168108</th>\n",
       "      <td>4</td>\n",
       "      <td>0</td>\n",
       "      <td>50.000000</td>\n",
       "      <td>4</td>\n",
       "      <td>200.000000</td>\n",
       "      <td>186.000000</td>\n",
       "      <td>50.000000</td>\n",
       "      <td>Golf</td>\n",
       "      <td>Standard Class</td>\n",
       "      <td>2</td>\n",
       "      <td>21035</td>\n",
       "      <td>7280</td>\n",
       "      <td>1</td>\n",
       "    </tr>\n",
       "  </tbody>\n",
       "</table>\n",
       "<p>54156 rows × 13 columns</p>\n",
       "</div>"
      ],
      "text/plain": [
       "        Estimated shipping days  Late_risk  Order Item Product Price  \\\n",
       "101369                        4          0                 49.980000   \n",
       "3026                          4          1                164.380005   \n",
       "57549                         4          1                 59.990002   \n",
       "127144                        4          1                129.990005   \n",
       "160375                        4          0                 39.750000   \n",
       "...                         ...        ...                       ...   \n",
       "151386                        4          0                399.980011   \n",
       "9189                          4          0                 59.990002   \n",
       "83970                         4          0                 59.990002   \n",
       "122909                        2          1                 99.989998   \n",
       "168108                        4          0                 50.000000   \n",
       "\n",
       "        Quantity       Sales  Order Item Total  Product Price  Department  \\\n",
       "101369         4  199.919998        197.919998      49.980000    Fan Shop   \n",
       "3026           1  164.380005        164.380005     164.380005  Discs Shop   \n",
       "57549          4  239.960007        226.759994      59.990002     Apparel   \n",
       "127144         1  129.990005        103.989998     129.990005     Apparel   \n",
       "160375         1   39.750000         37.560001      39.750000  Discs Shop   \n",
       "...          ...         ...               ...            ...         ...   \n",
       "151386         1  399.980011        379.980011     399.980011    Fan Shop   \n",
       "9189           5  299.950012        278.950012      59.990002     Apparel   \n",
       "83970          1   59.990002         47.990002      59.990002     Apparel   \n",
       "122909         3  299.970001        269.970001      99.989998    Footwear   \n",
       "168108         4  200.000000        186.000000      50.000000        Golf   \n",
       "\n",
       "         Shipping Mode  Customer Segment cat  Category_map  Order Region_map  \\\n",
       "101369  Standard Class                     0         19298              4045   \n",
       "3026    Standard Class                     2           483             27109   \n",
       "57549   Standard Class                     0         24551              6009   \n",
       "127144  Standard Class                     0         22246             14935   \n",
       "160375  Standard Class                     0           838              7280   \n",
       "...                ...                   ...           ...               ...   \n",
       "151386  Standard Class                     1         17325              6915   \n",
       "9189    Standard Class                     0         24551              9539   \n",
       "83970   Standard Class                     0         24551              8318   \n",
       "122909    Second Class                     1         12487             27109   \n",
       "168108  Standard Class                     2         21035              7280   \n",
       "\n",
       "        Delivery Status_code  \n",
       "101369                     1  \n",
       "3026                       1  \n",
       "57549                      1  \n",
       "127144                     1  \n",
       "160375                     1  \n",
       "...                      ...  \n",
       "151386                     1  \n",
       "9189                       1  \n",
       "83970                      1  \n",
       "122909                     1  \n",
       "168108                     1  \n",
       "\n",
       "[54156 rows x 13 columns]"
      ]
     },
     "execution_count": 21,
     "metadata": {},
     "output_type": "execute_result"
    }
   ],
   "source": [
    "# printing X_test\n",
    "X_test"
   ]
  },
  {
   "cell_type": "code",
   "execution_count": null,
   "metadata": {},
   "outputs": [],
   "source": []
  },
  {
   "cell_type": "code",
   "execution_count": null,
   "metadata": {},
   "outputs": [],
   "source": []
  },
  {
   "cell_type": "markdown",
   "metadata": {},
   "source": [
    "# One Hot Encoding "
   ]
  },
  {
   "cell_type": "code",
   "execution_count": 22,
   "metadata": {},
   "outputs": [],
   "source": [
    "from sklearn.preprocessing import OneHotEncoder"
   ]
  },
  {
   "cell_type": "code",
   "execution_count": 23,
   "metadata": {},
   "outputs": [],
   "source": [
    "# drop 1st dummy variable to avoid dummny variable trap\n",
    "\n",
    "ohe = OneHotEncoder(drop='first',sparse=False,dtype=np.int32) # then u do not need to use 'to_array()'\n",
    "\n",
    "X_train_new= ohe.fit_transform(X_train[['Shipping Mode','Department']])\n",
    "\n",
    "X_test_new= ohe.fit_transform(X_test[['Shipping Mode','Department']])"
   ]
  },
  {
   "cell_type": "code",
   "execution_count": 24,
   "metadata": {},
   "outputs": [
    {
     "data": {
      "text/plain": [
       "array([[0, 0, 1, ..., 0, 0, 0],\n",
       "       [0, 1, 0, ..., 0, 0, 0],\n",
       "       [0, 0, 1, ..., 0, 0, 0],\n",
       "       ...,\n",
       "       [0, 1, 0, ..., 0, 0, 0],\n",
       "       [0, 0, 1, ..., 0, 0, 0],\n",
       "       [0, 0, 1, ..., 0, 0, 0]])"
      ]
     },
     "execution_count": 24,
     "metadata": {},
     "output_type": "execute_result"
    }
   ],
   "source": [
    "# have a look on X_train_new\n",
    "X_train_new"
   ]
  },
  {
   "cell_type": "code",
   "execution_count": 25,
   "metadata": {},
   "outputs": [
    {
     "data": {
      "text/plain": [
       "array([[0, 0, 1, ..., 0, 0, 0],\n",
       "       [0, 0, 1, ..., 0, 0, 0],\n",
       "       [0, 0, 1, ..., 0, 0, 0],\n",
       "       ...,\n",
       "       [0, 0, 1, ..., 0, 0, 0],\n",
       "       [0, 1, 0, ..., 0, 0, 0],\n",
       "       [0, 0, 1, ..., 0, 0, 0]])"
      ]
     },
     "execution_count": 25,
     "metadata": {},
     "output_type": "execute_result"
    }
   ],
   "source": [
    "# have a look on X_train_new\n",
    "X_test_new"
   ]
  },
  {
   "cell_type": "code",
   "execution_count": 26,
   "metadata": {},
   "outputs": [
    {
     "name": "stdout",
     "output_type": "stream",
     "text": [
      " X_train_new dimension :  (126363, 13)\n",
      "\n",
      " X_test_new dimension :  (54156, 13)\n"
     ]
    }
   ],
   "source": [
    "# dimension of X_train_new and X_test_new\n",
    "print(' X_train_new dimension : ', X_train_new.shape)\n",
    "print('\\n X_test_new dimension : ',X_test_new.shape )"
   ]
  },
  {
   "cell_type": "markdown",
   "metadata": {},
   "source": [
    "# Joining "
   ]
  },
  {
   "cell_type": "code",
   "execution_count": 27,
   "metadata": {},
   "outputs": [
    {
     "data": {
      "text/plain": [
       "Index(['Estimated shipping days', 'Late_risk', 'Order Item Product Price',\n",
       "       'Quantity', 'Sales', 'Order Item Total', 'Product Price', 'Department',\n",
       "       'Shipping Mode', 'Customer Segment cat', 'Category_map',\n",
       "       'Order Region_map', 'Delivery Status_code'],\n",
       "      dtype='object')"
      ]
     },
     "execution_count": 27,
     "metadata": {},
     "output_type": "execute_result"
    }
   ],
   "source": [
    "X_train.columns"
   ]
  },
  {
   "cell_type": "code",
   "execution_count": 28,
   "metadata": {},
   "outputs": [],
   "source": [
    "# join with others columns and One hot encoded columns\n",
    "X_train=np.hstack((X_train[['Estimated shipping days', 'Late_risk', 'Order Item Product Price',\n",
    "       'Quantity', 'Sales', 'Order Item Total', 'Product Price', \n",
    "        'Customer Segment cat', 'Category_map',\n",
    "       'Order Region_map', 'Delivery Status_code']].values,X_train_new))"
   ]
  },
  {
   "cell_type": "code",
   "execution_count": 29,
   "metadata": {},
   "outputs": [
    {
     "data": {
      "text/plain": [
       "(126363, 24)"
      ]
     },
     "execution_count": 29,
     "metadata": {},
     "output_type": "execute_result"
    }
   ],
   "source": [
    "# Dimension of  X_train after joining \n",
    "X_train.shape"
   ]
  },
  {
   "cell_type": "code",
   "execution_count": 30,
   "metadata": {},
   "outputs": [],
   "source": [
    "# join with others columns and One hot encoded columns\n",
    "X_test=np.hstack((X_test[['Estimated shipping days', 'Late_risk', 'Order Item Product Price',\n",
    "       'Quantity', 'Sales', 'Order Item Total', 'Product Price', \n",
    "        'Customer Segment cat', 'Category_map',\n",
    "       'Order Region_map', 'Delivery Status_code']].values,X_test_new))"
   ]
  },
  {
   "cell_type": "code",
   "execution_count": 31,
   "metadata": {},
   "outputs": [
    {
     "data": {
      "text/plain": [
       "(54156, 24)"
      ]
     },
     "execution_count": 31,
     "metadata": {},
     "output_type": "execute_result"
    }
   ],
   "source": [
    "# Dimension of  X_test after joining \n",
    "X_test.shape"
   ]
  },
  {
   "cell_type": "code",
   "execution_count": null,
   "metadata": {},
   "outputs": [],
   "source": []
  },
  {
   "cell_type": "code",
   "execution_count": null,
   "metadata": {},
   "outputs": [],
   "source": []
  },
  {
   "cell_type": "code",
   "execution_count": null,
   "metadata": {},
   "outputs": [],
   "source": []
  },
  {
   "cell_type": "code",
   "execution_count": null,
   "metadata": {},
   "outputs": [],
   "source": []
  },
  {
   "cell_type": "code",
   "execution_count": null,
   "metadata": {},
   "outputs": [],
   "source": []
  },
  {
   "cell_type": "markdown",
   "metadata": {},
   "source": [
    "# Building Model "
   ]
  },
  {
   "cell_type": "code",
   "execution_count": 47,
   "metadata": {},
   "outputs": [],
   "source": [
    "from keras.models import Sequential\n",
    "from keras.layers import Dense\n",
    "\n",
    "# Define the model architecture\n",
    "model = Sequential()\n",
    "model.add(Dense(128, input_dim=24, activation='relu'))\n",
    "model.add(Dense(32,activation='relu'))\n",
    "model.add(Dense(8,activation='relu'))\n",
    "\n",
    "\n",
    "model.add(Dense(1, activation='linear'))# for  regression problem the output layer activation function in only 'linear''"
   ]
  },
  {
   "cell_type": "code",
   "execution_count": 48,
   "metadata": {},
   "outputs": [
    {
     "name": "stdout",
     "output_type": "stream",
     "text": [
      "Model: \"sequential_3\"\n",
      "_________________________________________________________________\n",
      " Layer (type)                Output Shape              Param #   \n",
      "=================================================================\n",
      " dense_7 (Dense)             (None, 128)               3200      \n",
      "                                                                 \n",
      " dense_8 (Dense)             (None, 32)                4128      \n",
      "                                                                 \n",
      " dense_9 (Dense)             (None, 8)                 264       \n",
      "                                                                 \n",
      " dense_10 (Dense)            (None, 1)                 9         \n",
      "                                                                 \n",
      "=================================================================\n",
      "Total params: 7,601\n",
      "Trainable params: 7,601\n",
      "Non-trainable params: 0\n",
      "_________________________________________________________________\n"
     ]
    }
   ],
   "source": [
    "model.summary()"
   ]
  },
  {
   "cell_type": "code",
   "execution_count": 56,
   "metadata": {},
   "outputs": [
    {
     "name": "stdout",
     "output_type": "stream",
     "text": [
      "Epoch 1/50\n",
      "3160/3160 [==============================] - 9s 3ms/step - loss: 1.6799 - accuracy: 0.0310 - val_loss: 1.4451 - val_accuracy: 0.0400\n",
      "Epoch 2/50\n",
      "3160/3160 [==============================] - 8s 2ms/step - loss: 1.4323 - accuracy: 0.0370 - val_loss: 1.9892 - val_accuracy: 0.0327\n",
      "Epoch 3/50\n",
      "3160/3160 [==============================] - 8s 2ms/step - loss: 1.3297 - accuracy: 0.0382 - val_loss: 1.6062 - val_accuracy: 0.0322\n",
      "Epoch 4/50\n",
      "3160/3160 [==============================] - 8s 3ms/step - loss: 1.1841 - accuracy: 0.0407 - val_loss: 1.4476 - val_accuracy: 0.0391\n",
      "Epoch 5/50\n",
      "3160/3160 [==============================] - 8s 2ms/step - loss: 1.0997 - accuracy: 0.0427 - val_loss: 2.0013 - val_accuracy: 0.0355\n",
      "Epoch 6/50\n",
      "3160/3160 [==============================] - 8s 3ms/step - loss: 1.0687 - accuracy: 0.0419 - val_loss: 3.1756 - val_accuracy: 0.0263\n",
      "Epoch 7/50\n",
      "3160/3160 [==============================] - 8s 3ms/step - loss: 1.0260 - accuracy: 0.0440 - val_loss: 1.8178 - val_accuracy: 0.0390\n",
      "Epoch 8/50\n",
      "3160/3160 [==============================] - 8s 3ms/step - loss: 0.9411 - accuracy: 0.0457 - val_loss: 2.4666 - val_accuracy: 0.0315\n",
      "Epoch 9/50\n",
      "3160/3160 [==============================] - 8s 3ms/step - loss: 0.9350 - accuracy: 0.0466 - val_loss: 2.3116 - val_accuracy: 0.0275\n",
      "Epoch 10/50\n",
      "3160/3160 [==============================] - 8s 3ms/step - loss: 0.9076 - accuracy: 0.0470 - val_loss: 1.0409 - val_accuracy: 0.0443\n",
      "Epoch 11/50\n",
      "3160/3160 [==============================] - 8s 3ms/step - loss: 0.8685 - accuracy: 0.0475 - val_loss: 0.7530 - val_accuracy: 0.0517\n",
      "Epoch 12/50\n",
      "3160/3160 [==============================] - 8s 3ms/step - loss: 0.8313 - accuracy: 0.0480 - val_loss: 3.0091 - val_accuracy: 0.0390\n",
      "Epoch 13/50\n",
      "3160/3160 [==============================] - 8s 3ms/step - loss: 0.8740 - accuracy: 0.0483 - val_loss: 0.7831 - val_accuracy: 0.0525\n",
      "Epoch 14/50\n",
      "3160/3160 [==============================] - 8s 3ms/step - loss: 0.8153 - accuracy: 0.0487 - val_loss: 1.5410 - val_accuracy: 0.0331\n",
      "Epoch 15/50\n",
      "3160/3160 [==============================] - 8s 3ms/step - loss: 0.8020 - accuracy: 0.0486 - val_loss: 1.9173 - val_accuracy: 0.0300\n",
      "Epoch 16/50\n",
      "3160/3160 [==============================] - 8s 3ms/step - loss: 0.7912 - accuracy: 0.0486 - val_loss: 1.3746 - val_accuracy: 0.0490\n",
      "Epoch 17/50\n",
      "3160/3160 [==============================] - 8s 3ms/step - loss: 0.7933 - accuracy: 0.0484 - val_loss: 0.6561 - val_accuracy: 0.0510\n",
      "Epoch 18/50\n",
      "3160/3160 [==============================] - 8s 3ms/step - loss: 0.8021 - accuracy: 0.0484 - val_loss: 0.8331 - val_accuracy: 0.0521\n",
      "Epoch 19/50\n",
      "3160/3160 [==============================] - 8s 3ms/step - loss: 0.7575 - accuracy: 0.0492 - val_loss: 1.1818 - val_accuracy: 0.0296\n",
      "Epoch 20/50\n",
      "3160/3160 [==============================] - 8s 3ms/step - loss: 0.7652 - accuracy: 0.0489 - val_loss: 1.0408 - val_accuracy: 0.0512\n",
      "Epoch 21/50\n",
      "3160/3160 [==============================] - 8s 3ms/step - loss: 0.7516 - accuracy: 0.0490 - val_loss: 1.5873 - val_accuracy: 0.0381\n",
      "Epoch 22/50\n",
      "3160/3160 [==============================] - 8s 3ms/step - loss: 0.7448 - accuracy: 0.0495 - val_loss: 0.7339 - val_accuracy: 0.0511\n",
      "Epoch 23/50\n",
      "3160/3160 [==============================] - 8s 3ms/step - loss: 0.7355 - accuracy: 0.0500 - val_loss: 0.5922 - val_accuracy: 0.0520\n",
      "Epoch 24/50\n",
      "3160/3160 [==============================] - 8s 3ms/step - loss: 0.7325 - accuracy: 0.0502 - val_loss: 0.6638 - val_accuracy: 0.0515\n",
      "Epoch 25/50\n",
      "3160/3160 [==============================] - 8s 3ms/step - loss: 0.7260 - accuracy: 0.0506 - val_loss: 2.0691 - val_accuracy: 0.0397\n",
      "Epoch 26/50\n",
      "3160/3160 [==============================] - 8s 3ms/step - loss: 0.7257 - accuracy: 0.0503 - val_loss: 0.9600 - val_accuracy: 0.0527\n",
      "Epoch 27/50\n",
      "3160/3160 [==============================] - 8s 3ms/step - loss: 0.7293 - accuracy: 0.0500 - val_loss: 0.5929 - val_accuracy: 0.0522\n",
      "Epoch 28/50\n",
      "3160/3160 [==============================] - 8s 3ms/step - loss: 0.7353 - accuracy: 0.0502 - val_loss: 0.6878 - val_accuracy: 0.0521\n",
      "Epoch 29/50\n",
      "3160/3160 [==============================] - 8s 3ms/step - loss: 0.7087 - accuracy: 0.0507 - val_loss: 0.6786 - val_accuracy: 0.0525\n",
      "Epoch 30/50\n",
      "3160/3160 [==============================] - 8s 3ms/step - loss: 0.7062 - accuracy: 0.0503 - val_loss: 1.8408 - val_accuracy: 0.0482\n",
      "Epoch 31/50\n",
      "3160/3160 [==============================] - 8s 3ms/step - loss: 0.7061 - accuracy: 0.0507 - val_loss: 1.1619 - val_accuracy: 0.0522\n",
      "Epoch 32/50\n",
      "3160/3160 [==============================] - 8s 3ms/step - loss: 0.7016 - accuracy: 0.0506 - val_loss: 0.5895 - val_accuracy: 0.0524\n",
      "Epoch 33/50\n",
      "3160/3160 [==============================] - 8s 2ms/step - loss: 0.7041 - accuracy: 0.0504 - val_loss: 0.6047 - val_accuracy: 0.0525\n",
      "Epoch 34/50\n",
      "3160/3160 [==============================] - 8s 2ms/step - loss: 0.7085 - accuracy: 0.0506 - val_loss: 0.6130 - val_accuracy: 0.0524\n",
      "Epoch 35/50\n",
      "3160/3160 [==============================] - 8s 2ms/step - loss: 0.7031 - accuracy: 0.0508 - val_loss: 0.6528 - val_accuracy: 0.0519\n",
      "Epoch 36/50\n",
      "3160/3160 [==============================] - 8s 2ms/step - loss: 0.6946 - accuracy: 0.0508 - val_loss: 1.6733 - val_accuracy: 0.0492\n",
      "Epoch 37/50\n",
      "3160/3160 [==============================] - 8s 2ms/step - loss: 0.6899 - accuracy: 0.0506 - val_loss: 0.5945 - val_accuracy: 0.0525\n",
      "Epoch 38/50\n",
      "3160/3160 [==============================] - 8s 2ms/step - loss: 0.6920 - accuracy: 0.0507 - val_loss: 1.7214 - val_accuracy: 0.0297\n",
      "Epoch 39/50\n",
      "3160/3160 [==============================] - 8s 2ms/step - loss: 0.6745 - accuracy: 0.0508 - val_loss: 0.7669 - val_accuracy: 0.0491\n",
      "Epoch 40/50\n",
      "3160/3160 [==============================] - 8s 2ms/step - loss: 0.6833 - accuracy: 0.0505 - val_loss: 1.1441 - val_accuracy: 0.0522\n",
      "Epoch 41/50\n",
      "3160/3160 [==============================] - 8s 2ms/step - loss: 0.6922 - accuracy: 0.0506 - val_loss: 0.7533 - val_accuracy: 0.0524\n",
      "Epoch 42/50\n",
      "3160/3160 [==============================] - 8s 2ms/step - loss: 0.6881 - accuracy: 0.0512 - val_loss: 0.7626 - val_accuracy: 0.0444\n",
      "Epoch 43/50\n",
      "3160/3160 [==============================] - 8s 2ms/step - loss: 0.6821 - accuracy: 0.0509 - val_loss: 0.6031 - val_accuracy: 0.0523\n",
      "Epoch 44/50\n",
      "3160/3160 [==============================] - 8s 3ms/step - loss: 0.6774 - accuracy: 0.0509 - val_loss: 0.5914 - val_accuracy: 0.0520\n",
      "Epoch 45/50\n",
      "3160/3160 [==============================] - 9s 3ms/step - loss: 0.6753 - accuracy: 0.0509 - val_loss: 0.5940 - val_accuracy: 0.0524\n",
      "Epoch 46/50\n",
      "3160/3160 [==============================] - 8s 2ms/step - loss: 0.6795 - accuracy: 0.0510 - val_loss: 0.7372 - val_accuracy: 0.0525\n",
      "Epoch 47/50\n",
      "3160/3160 [==============================] - 8s 2ms/step - loss: 0.6687 - accuracy: 0.0514 - val_loss: 1.2492 - val_accuracy: 0.0522\n",
      "Epoch 48/50\n",
      "3160/3160 [==============================] - 8s 3ms/step - loss: 0.6783 - accuracy: 0.0515 - val_loss: 1.0725 - val_accuracy: 0.0392\n",
      "Epoch 49/50\n",
      "3160/3160 [==============================] - 8s 2ms/step - loss: 0.6761 - accuracy: 0.0511 - val_loss: 0.6833 - val_accuracy: 0.0521\n",
      "Epoch 50/50\n",
      "3160/3160 [==============================] - 8s 2ms/step - loss: 0.6724 - accuracy: 0.0516 - val_loss: 0.9008 - val_accuracy: 0.0503\n"
     ]
    }
   ],
   "source": [
    "# Compile the model\n",
    "model.compile(loss='mse', optimizer='adam', metrics=['accuracy'])\n",
    "\n",
    "# Fit the model to the data\n",
    "history =model.fit(X_train,  y_train, epochs=50, validation_split=0.2)"
   ]
  },
  {
   "cell_type": "code",
   "execution_count": 57,
   "metadata": {},
   "outputs": [
    {
     "name": "stdout",
     "output_type": "stream",
     "text": [
      "1693/1693 [==============================] - 3s 2ms/step\n"
     ]
    }
   ],
   "source": [
    "# Prediction\n",
    "y_pred= model.predict(X_test)"
   ]
  },
  {
   "cell_type": "raw",
   "metadata": {},
   "source": [
    "r2_score(y_test, y_pred)\n",
    "# so terrible model , need to improve "
   ]
  },
  {
   "cell_type": "code",
   "execution_count": 67,
   "metadata": {},
   "outputs": [
    {
     "data": {
      "text/plain": [
       "[<matplotlib.lines.Line2D at 0x29686c658b0>]"
      ]
     },
     "execution_count": 67,
     "metadata": {},
     "output_type": "execute_result"
    },
    {
     "data": {
      "image/png": "[encoded data removed]",
      "text/plain": [
       "<Figure size 432x288 with 1 Axes>"
      ]
     },
     "metadata": {
      "needs_background": "light"
     },
     "output_type": "display_data"
    }
   ],
   "source": [
    "plt.plot(history.history['loss'])\n",
    "plt.plot(history.history['val_loss'])"
   ]
  },
  {
   "cell_type": "code",
   "execution_count": 68,
   "metadata": {},
   "outputs": [
    {
     "data": {
      "text/plain": [
       "[<matplotlib.lines.Line2D at 0x29686c49d60>]"
      ]
     },
     "execution_count": 68,
     "metadata": {},
     "output_type": "execute_result"
    },
    {
     "data": {
      "image/png": "[encoded data removed]",
      "text/plain": [
       "<Figure size 432x288 with 1 Axes>"
      ]
     },
     "metadata": {
      "needs_background": "light"
     },
     "output_type": "display_data"
    }
   ],
   "source": [
    "plt.plot(history.history['accuracy'])\n",
    "plt.plot(history.history['val_accuracy'])"
   ]
  },
  {
   "cell_type": "markdown",
   "metadata": {},
   "source": [
    "# Model Performance"
   ]
  },
  {
   "cell_type": "code",
   "execution_count": 58,
   "metadata": {},
   "outputs": [
    {
     "name": "stdout",
     "output_type": "stream",
     "text": [
      "MAE 0.7347329556559524\n"
     ]
    }
   ],
   "source": [
    "# mean_absolute_error\n",
    "## There is no correct value for MSE. Simply put, the lower the value the better and 0 means the model is perfect\n",
    "print(\"MAE\",mean_absolute_error(y_test,y_pred))"
   ]
  },
  {
   "cell_type": "code",
   "execution_count": 59,
   "metadata": {},
   "outputs": [
    {
     "name": "stdout",
     "output_type": "stream",
     "text": [
      "MSE 0.9139544839642538\n"
     ]
    }
   ],
   "source": [
    "# There is no correct value for MSE. Simply put, the lower the value the better and 0 means the model is perfect.\n",
    "print(\"MSE\",mean_squared_error(y_test,y_pred))"
   ]
  },
  {
   "cell_type": "code",
   "execution_count": 60,
   "metadata": {},
   "outputs": [
    {
     "name": "stdout",
     "output_type": "stream",
     "text": [
      "0.6536722263538179\n"
     ]
    }
   ],
   "source": [
    "# storing the r2 score  \n",
    "r2 = r2_score(y_test,y_pred)\n",
    "print(r2)"
   ]
  },
  {
   "cell_type": "code",
   "execution_count": 55,
   "metadata": {},
   "outputs": [
    {
     "name": "stdout",
     "output_type": "stream",
     "text": [
      "RMSE 1.6121591977793015\n"
     ]
    }
   ],
   "source": [
    "# do direct function for RMSE so we use np.sqrt()\n",
    "# when u have the outlier it is a better metrics \n",
    "print(\"RMSE\",np.sqrt(mean_squared_error(y_test,y_pred)))"
   ]
  },
  {
   "cell_type": "markdown",
   "metadata": {},
   "source": [
    "# Model 2"
   ]
  },
  {
   "cell_type": "code",
   "execution_count": 61,
   "metadata": {},
   "outputs": [
    {
     "name": "stdout",
     "output_type": "stream",
     "text": [
      "Epoch 1/100\n",
      "3160/3160 [==============================] - 8s 3ms/step - loss: 0.6792 - accuracy: 0.0515 - val_loss: 0.6709 - val_accuracy: 0.0518\n",
      "Epoch 2/100\n",
      "3160/3160 [==============================] - 8s 3ms/step - loss: 0.6622 - accuracy: 0.0517 - val_loss: 0.5954 - val_accuracy: 0.0525\n",
      "Epoch 3/100\n",
      "3160/3160 [==============================] - 8s 3ms/step - loss: 0.6701 - accuracy: 0.0517 - val_loss: 0.7664 - val_accuracy: 0.0520\n",
      "Epoch 4/100\n",
      "3160/3160 [==============================] - 8s 3ms/step - loss: 0.6642 - accuracy: 0.0515 - val_loss: 0.6136 - val_accuracy: 0.0523\n",
      "Epoch 5/100\n",
      "3160/3160 [==============================] - 8s 3ms/step - loss: 0.6548 - accuracy: 0.0517 - val_loss: 1.3439 - val_accuracy: 0.0462\n",
      "Epoch 6/100\n",
      "3160/3160 [==============================] - 8s 3ms/step - loss: 0.6675 - accuracy: 0.0518 - val_loss: 0.5778 - val_accuracy: 0.0527\n",
      "Epoch 7/100\n",
      "3160/3160 [==============================] - 8s 3ms/step - loss: 0.6593 - accuracy: 0.0518 - val_loss: 0.7691 - val_accuracy: 0.0525\n",
      "Epoch 8/100\n",
      "3160/3160 [==============================] - 8s 3ms/step - loss: 0.6561 - accuracy: 0.0519 - val_loss: 0.8736 - val_accuracy: 0.0442\n",
      "Epoch 9/100\n",
      "3160/3160 [==============================] - 8s 3ms/step - loss: 0.6546 - accuracy: 0.0520 - val_loss: 0.5986 - val_accuracy: 0.0526\n",
      "Epoch 10/100\n",
      "3160/3160 [==============================] - 8s 3ms/step - loss: 0.6592 - accuracy: 0.0520 - val_loss: 0.5689 - val_accuracy: 0.0526\n",
      "Epoch 11/100\n",
      "3160/3160 [==============================] - 8s 3ms/step - loss: 0.6515 - accuracy: 0.0517 - val_loss: 0.5724 - val_accuracy: 0.0526\n",
      "Epoch 12/100\n",
      "3160/3160 [==============================] - 8s 3ms/step - loss: 0.6634 - accuracy: 0.0519 - val_loss: 0.7394 - val_accuracy: 0.0525\n",
      "Epoch 13/100\n",
      "3160/3160 [==============================] - 8s 3ms/step - loss: 0.6524 - accuracy: 0.0520 - val_loss: 0.6010 - val_accuracy: 0.0526\n",
      "Epoch 14/100\n",
      "3160/3160 [==============================] - 8s 3ms/step - loss: 0.6436 - accuracy: 0.0520 - val_loss: 0.6778 - val_accuracy: 0.0526\n",
      "Epoch 15/100\n",
      "3160/3160 [==============================] - 8s 3ms/step - loss: 0.6444 - accuracy: 0.0521 - val_loss: 0.6636 - val_accuracy: 0.0526\n",
      "Epoch 16/100\n",
      "3160/3160 [==============================] - 8s 3ms/step - loss: 0.6392 - accuracy: 0.0520 - val_loss: 0.9295 - val_accuracy: 0.0518\n",
      "Epoch 17/100\n",
      "3160/3160 [==============================] - 8s 3ms/step - loss: 0.6516 - accuracy: 0.0520 - val_loss: 0.5588 - val_accuracy: 0.0526\n",
      "Epoch 18/100\n",
      "3160/3160 [==============================] - 8s 3ms/step - loss: 0.6338 - accuracy: 0.0522 - val_loss: 0.5792 - val_accuracy: 0.0525\n",
      "Epoch 19/100\n",
      "3160/3160 [==============================] - 8s 3ms/step - loss: 0.6410 - accuracy: 0.0521 - val_loss: 0.8795 - val_accuracy: 0.0526\n",
      "Epoch 20/100\n",
      "3160/3160 [==============================] - 8s 3ms/step - loss: 0.6402 - accuracy: 0.0521 - val_loss: 0.7693 - val_accuracy: 0.0441\n",
      "Epoch 21/100\n",
      "3160/3160 [==============================] - 8s 3ms/step - loss: 0.6483 - accuracy: 0.0522 - val_loss: 0.6419 - val_accuracy: 0.0526\n",
      "Epoch 22/100\n",
      "3160/3160 [==============================] - 8s 3ms/step - loss: 0.6364 - accuracy: 0.0521 - val_loss: 0.8644 - val_accuracy: 0.0526\n",
      "Epoch 23/100\n",
      "3160/3160 [==============================] - 8s 2ms/step - loss: 0.6365 - accuracy: 0.0523 - val_loss: 0.6643 - val_accuracy: 0.0526\n",
      "Epoch 24/100\n",
      "3160/3160 [==============================] - 8s 3ms/step - loss: 0.6583 - accuracy: 0.0519 - val_loss: 0.7190 - val_accuracy: 0.0526\n",
      "Epoch 25/100\n",
      "3160/3160 [==============================] - 8s 3ms/step - loss: 0.6396 - accuracy: 0.0523 - val_loss: 0.7075 - val_accuracy: 0.0522\n",
      "Epoch 26/100\n",
      "3160/3160 [==============================] - 9s 3ms/step - loss: 0.6334 - accuracy: 0.0520 - val_loss: 0.5847 - val_accuracy: 0.0526\n",
      "Epoch 27/100\n",
      "3160/3160 [==============================] - 8s 3ms/step - loss: 0.6359 - accuracy: 0.0522 - val_loss: 0.5529 - val_accuracy: 0.0526\n",
      "Epoch 28/100\n",
      "3160/3160 [==============================] - 8s 2ms/step - loss: 0.6496 - accuracy: 0.0522 - val_loss: 0.6363 - val_accuracy: 0.0526\n",
      "Epoch 29/100\n",
      "3160/3160 [==============================] - 8s 3ms/step - loss: 0.6396 - accuracy: 0.0521 - val_loss: 1.3751 - val_accuracy: 0.0526\n",
      "Epoch 30/100\n",
      "3160/3160 [==============================] - 8s 3ms/step - loss: 0.6375 - accuracy: 0.0520 - val_loss: 0.6549 - val_accuracy: 0.0526\n",
      "Epoch 31/100\n",
      "3160/3160 [==============================] - 8s 3ms/step - loss: 0.6409 - accuracy: 0.0521 - val_loss: 0.7768 - val_accuracy: 0.0520\n",
      "Epoch 32/100\n",
      "3160/3160 [==============================] - 9s 3ms/step - loss: 0.6290 - accuracy: 0.0523 - val_loss: 0.6688 - val_accuracy: 0.0526\n",
      "Epoch 33/100\n",
      "3160/3160 [==============================] - 9s 3ms/step - loss: 0.6361 - accuracy: 0.0523 - val_loss: 1.0532 - val_accuracy: 0.0451\n",
      "Epoch 34/100\n",
      "3160/3160 [==============================] - 8s 3ms/step - loss: 0.6278 - accuracy: 0.0523 - val_loss: 1.1157 - val_accuracy: 0.0518\n",
      "Epoch 35/100\n",
      "3160/3160 [==============================] - 8s 3ms/step - loss: 0.6313 - accuracy: 0.0522 - val_loss: 0.5674 - val_accuracy: 0.0526\n",
      "Epoch 36/100\n",
      "3160/3160 [==============================] - 8s 3ms/step - loss: 0.6360 - accuracy: 0.0520 - val_loss: 1.0271 - val_accuracy: 0.0463\n",
      "Epoch 37/100\n",
      "3160/3160 [==============================] - 7s 2ms/step - loss: 0.6261 - accuracy: 0.0523 - val_loss: 0.5810 - val_accuracy: 0.0526\n",
      "Epoch 38/100\n",
      "3160/3160 [==============================] - 7s 2ms/step - loss: 0.6363 - accuracy: 0.0517 - val_loss: 0.8157 - val_accuracy: 0.0505\n",
      "Epoch 39/100\n",
      "3160/3160 [==============================] - 7s 2ms/step - loss: 0.6384 - accuracy: 0.0496 - val_loss: 0.7744 - val_accuracy: 0.0504\n",
      "Epoch 40/100\n",
      "3160/3160 [==============================] - 8s 3ms/step - loss: 0.6490 - accuracy: 0.0503 - val_loss: 0.6514 - val_accuracy: 0.0508\n",
      "Epoch 41/100\n",
      "3160/3160 [==============================] - 8s 3ms/step - loss: 0.6398 - accuracy: 0.0506 - val_loss: 0.7713 - val_accuracy: 0.0516\n",
      "Epoch 42/100\n",
      "3160/3160 [==============================] - 8s 3ms/step - loss: 0.6263 - accuracy: 0.0517 - val_loss: 1.0094 - val_accuracy: 0.0422\n",
      "Epoch 43/100\n",
      "3160/3160 [==============================] - 8s 2ms/step - loss: 0.6388 - accuracy: 0.0517 - val_loss: 0.6359 - val_accuracy: 0.0519\n",
      "Epoch 44/100\n",
      "3160/3160 [==============================] - 8s 2ms/step - loss: 0.6343 - accuracy: 0.0517 - val_loss: 0.5538 - val_accuracy: 0.0523\n",
      "Epoch 45/100\n",
      "3160/3160 [==============================] - 8s 2ms/step - loss: 0.6370 - accuracy: 0.0518 - val_loss: 0.5880 - val_accuracy: 0.0522\n",
      "Epoch 46/100\n",
      "3160/3160 [==============================] - 8s 3ms/step - loss: 0.6320 - accuracy: 0.0519 - val_loss: 0.6190 - val_accuracy: 0.0526\n",
      "Epoch 47/100\n",
      "3160/3160 [==============================] - 7s 2ms/step - loss: 0.6301 - accuracy: 0.0523 - val_loss: 0.6573 - val_accuracy: 0.0526\n",
      "Epoch 48/100\n",
      "3160/3160 [==============================] - 7s 2ms/step - loss: 0.6319 - accuracy: 0.0522 - val_loss: 1.9790 - val_accuracy: 0.0427\n",
      "Epoch 49/100\n",
      "3160/3160 [==============================] - 7s 2ms/step - loss: 0.6343 - accuracy: 0.0521 - val_loss: 0.6084 - val_accuracy: 0.0526\n",
      "Epoch 50/100\n",
      "3160/3160 [==============================] - 7s 2ms/step - loss: 0.6286 - accuracy: 0.0522 - val_loss: 1.2145 - val_accuracy: 0.0446\n",
      "Epoch 51/100\n",
      "3160/3160 [==============================] - 7s 2ms/step - loss: 0.6328 - accuracy: 0.0523 - val_loss: 1.5441 - val_accuracy: 0.0463\n",
      "Epoch 52/100\n",
      "3160/3160 [==============================] - 7s 2ms/step - loss: 0.6324 - accuracy: 0.0521 - val_loss: 0.5646 - val_accuracy: 0.0526\n",
      "Epoch 53/100\n",
      "3160/3160 [==============================] - 7s 2ms/step - loss: 0.6193 - accuracy: 0.0523 - val_loss: 0.7255 - val_accuracy: 0.0527\n",
      "Epoch 54/100\n",
      "3160/3160 [==============================] - 7s 2ms/step - loss: 0.6227 - accuracy: 0.0523 - val_loss: 0.5651 - val_accuracy: 0.0525\n",
      "Epoch 55/100\n",
      "3160/3160 [==============================] - 7s 2ms/step - loss: 0.6182 - accuracy: 0.0523 - val_loss: 0.9466 - val_accuracy: 0.0507\n",
      "Epoch 56/100\n",
      "3160/3160 [==============================] - 7s 2ms/step - loss: 0.6234 - accuracy: 0.0522 - val_loss: 0.5576 - val_accuracy: 0.0526\n",
      "Epoch 57/100\n"
     ]
    },
    {
     "name": "stdout",
     "output_type": "stream",
     "text": [
      "3160/3160 [==============================] - 7s 2ms/step - loss: 0.6225 - accuracy: 0.0523 - val_loss: 0.6090 - val_accuracy: 0.0523\n",
      "Epoch 58/100\n",
      "3160/3160 [==============================] - 7s 2ms/step - loss: 0.6252 - accuracy: 0.0523 - val_loss: 0.7081 - val_accuracy: 0.0526\n",
      "Epoch 59/100\n",
      "3160/3160 [==============================] - 7s 2ms/step - loss: 0.6262 - accuracy: 0.0523 - val_loss: 0.6713 - val_accuracy: 0.0523\n",
      "Epoch 60/100\n",
      "3160/3160 [==============================] - 8s 2ms/step - loss: 0.6255 - accuracy: 0.0523 - val_loss: 0.5516 - val_accuracy: 0.0525\n",
      "Epoch 61/100\n",
      "3160/3160 [==============================] - 8s 2ms/step - loss: 0.6205 - accuracy: 0.0523 - val_loss: 0.6396 - val_accuracy: 0.0526\n",
      "Epoch 62/100\n",
      "3160/3160 [==============================] - 8s 3ms/step - loss: 0.6208 - accuracy: 0.0524 - val_loss: 0.5707 - val_accuracy: 0.0526\n",
      "Epoch 63/100\n",
      "3160/3160 [==============================] - 8s 2ms/step - loss: 0.6151 - accuracy: 0.0523 - val_loss: 0.5686 - val_accuracy: 0.0527\n",
      "Epoch 64/100\n",
      "3160/3160 [==============================] - 8s 2ms/step - loss: 0.6194 - accuracy: 0.0523 - val_loss: 0.9592 - val_accuracy: 0.0526\n",
      "Epoch 65/100\n",
      "3160/3160 [==============================] - 8s 3ms/step - loss: 0.6285 - accuracy: 0.0523 - val_loss: 0.5614 - val_accuracy: 0.0520\n",
      "Epoch 66/100\n",
      "3160/3160 [==============================] - 7s 2ms/step - loss: 0.6185 - accuracy: 0.0524 - val_loss: 0.5736 - val_accuracy: 0.0526\n",
      "Epoch 67/100\n",
      "3160/3160 [==============================] - 8s 3ms/step - loss: 0.6201 - accuracy: 0.0521 - val_loss: 0.6107 - val_accuracy: 0.0526\n",
      "Epoch 68/100\n",
      "3160/3160 [==============================] - 9s 3ms/step - loss: 0.6297 - accuracy: 0.0522 - val_loss: 0.5771 - val_accuracy: 0.0522\n",
      "Epoch 69/100\n",
      "3160/3160 [==============================] - 9s 3ms/step - loss: 0.6208 - accuracy: 0.0523 - val_loss: 0.6168 - val_accuracy: 0.0527\n",
      "Epoch 70/100\n",
      "3160/3160 [==============================] - 8s 3ms/step - loss: 0.6194 - accuracy: 0.0523 - val_loss: 0.7582 - val_accuracy: 0.0523\n",
      "Epoch 71/100\n",
      "3160/3160 [==============================] - 8s 2ms/step - loss: 0.6148 - accuracy: 0.0523 - val_loss: 0.5465 - val_accuracy: 0.0526\n",
      "Epoch 72/100\n",
      "3160/3160 [==============================] - 8s 2ms/step - loss: 0.6219 - accuracy: 0.0522 - val_loss: 0.7180 - val_accuracy: 0.0513\n",
      "Epoch 73/100\n",
      "3160/3160 [==============================] - 8s 2ms/step - loss: 0.6134 - accuracy: 0.0520 - val_loss: 0.6804 - val_accuracy: 0.0525\n",
      "Epoch 74/100\n",
      "3160/3160 [==============================] - 8s 2ms/step - loss: 0.6130 - accuracy: 0.0521 - val_loss: 0.7472 - val_accuracy: 0.0525\n",
      "Epoch 75/100\n",
      "3160/3160 [==============================] - 8s 2ms/step - loss: 0.6164 - accuracy: 0.0524 - val_loss: 0.8965 - val_accuracy: 0.0464\n",
      "Epoch 76/100\n",
      "3160/3160 [==============================] - 8s 2ms/step - loss: 0.6146 - accuracy: 0.0521 - val_loss: 0.5458 - val_accuracy: 0.0524\n",
      "Epoch 77/100\n",
      "3160/3160 [==============================] - 8s 3ms/step - loss: 0.6217 - accuracy: 0.0522 - val_loss: 0.5571 - val_accuracy: 0.0526\n",
      "Epoch 78/100\n",
      "3160/3160 [==============================] - 8s 2ms/step - loss: 0.6198 - accuracy: 0.0523 - val_loss: 0.5776 - val_accuracy: 0.0526\n",
      "Epoch 79/100\n",
      "3160/3160 [==============================] - 8s 2ms/step - loss: 0.6135 - accuracy: 0.0523 - val_loss: 0.6559 - val_accuracy: 0.0526\n",
      "Epoch 80/100\n",
      "3160/3160 [==============================] - 8s 3ms/step - loss: 0.6145 - accuracy: 0.0522 - val_loss: 1.5701 - val_accuracy: 0.0522\n",
      "Epoch 81/100\n",
      "3160/3160 [==============================] - 8s 2ms/step - loss: 0.6133 - accuracy: 0.0522 - val_loss: 0.5690 - val_accuracy: 0.0526\n",
      "Epoch 82/100\n",
      "3160/3160 [==============================] - 8s 2ms/step - loss: 0.6213 - accuracy: 0.0522 - val_loss: 0.5993 - val_accuracy: 0.0525\n",
      "Epoch 83/100\n",
      "3160/3160 [==============================] - 8s 2ms/step - loss: 0.6158 - accuracy: 0.0522 - val_loss: 0.7453 - val_accuracy: 0.0522\n",
      "Epoch 84/100\n",
      "3160/3160 [==============================] - 8s 3ms/step - loss: 0.6196 - accuracy: 0.0522 - val_loss: 0.6335 - val_accuracy: 0.0525\n",
      "Epoch 85/100\n",
      "3160/3160 [==============================] - 8s 2ms/step - loss: 0.6098 - accuracy: 0.0524 - val_loss: 0.5867 - val_accuracy: 0.0526\n",
      "Epoch 86/100\n",
      "3160/3160 [==============================] - 8s 2ms/step - loss: 0.6140 - accuracy: 0.0522 - val_loss: 0.5594 - val_accuracy: 0.0524\n",
      "Epoch 87/100\n",
      "3160/3160 [==============================] - 8s 2ms/step - loss: 0.6083 - accuracy: 0.0523 - val_loss: 0.5766 - val_accuracy: 0.0525\n",
      "Epoch 88/100\n",
      "3160/3160 [==============================] - 8s 3ms/step - loss: 0.6221 - accuracy: 0.0523 - val_loss: 0.5718 - val_accuracy: 0.0525\n",
      "Epoch 89/100\n",
      "3160/3160 [==============================] - 8s 2ms/step - loss: 0.6056 - accuracy: 0.0522 - val_loss: 0.7725 - val_accuracy: 0.0520\n",
      "Epoch 90/100\n",
      "3160/3160 [==============================] - 8s 2ms/step - loss: 0.6127 - accuracy: 0.0523 - val_loss: 0.5662 - val_accuracy: 0.0525\n",
      "Epoch 91/100\n",
      "3160/3160 [==============================] - 8s 3ms/step - loss: 0.6174 - accuracy: 0.0522 - val_loss: 0.6769 - val_accuracy: 0.0526\n",
      "Epoch 92/100\n",
      "3160/3160 [==============================] - 8s 3ms/step - loss: 0.6117 - accuracy: 0.0524 - val_loss: 0.8331 - val_accuracy: 0.0526\n",
      "Epoch 93/100\n",
      "3160/3160 [==============================] - 8s 3ms/step - loss: 0.6097 - accuracy: 0.0524 - val_loss: 0.5624 - val_accuracy: 0.0525\n",
      "Epoch 94/100\n",
      "3160/3160 [==============================] - 8s 3ms/step - loss: 0.6117 - accuracy: 0.0522 - val_loss: 0.5670 - val_accuracy: 0.0526\n",
      "Epoch 95/100\n",
      "3160/3160 [==============================] - 8s 3ms/step - loss: 0.6116 - accuracy: 0.0525 - val_loss: 0.6290 - val_accuracy: 0.0520\n",
      "Epoch 96/100\n",
      "3160/3160 [==============================] - 8s 3ms/step - loss: 0.6125 - accuracy: 0.0523 - val_loss: 0.5918 - val_accuracy: 0.0526\n",
      "Epoch 97/100\n",
      "3160/3160 [==============================] - 8s 3ms/step - loss: 0.6145 - accuracy: 0.0524 - val_loss: 0.5687 - val_accuracy: 0.0523\n",
      "Epoch 98/100\n",
      "3160/3160 [==============================] - 8s 3ms/step - loss: 0.6053 - accuracy: 0.0523 - val_loss: 1.2098 - val_accuracy: 0.0526\n",
      "Epoch 99/100\n",
      "3160/3160 [==============================] - 8s 2ms/step - loss: 0.6103 - accuracy: 0.0523 - val_loss: 0.5524 - val_accuracy: 0.0527\n",
      "Epoch 100/100\n",
      "3160/3160 [==============================] - 8s 3ms/step - loss: 0.6043 - accuracy: 0.0522 - val_loss: 0.5468 - val_accuracy: 0.0525\n"
     ]
    }
   ],
   "source": [
    "# Fit the model to the data\n",
    "history2 =model.fit(X_train,  y_train, epochs=100, validation_split=0.2)"
   ]
  },
  {
   "cell_type": "code",
   "execution_count": 62,
   "metadata": {},
   "outputs": [
    {
     "name": "stdout",
     "output_type": "stream",
     "text": [
      "1693/1693 [==============================] - 2s 1ms/step\n"
     ]
    }
   ],
   "source": [
    "# Prediction\n",
    "y_pred2= model.predict(X_test)"
   ]
  },
  {
   "cell_type": "code",
   "execution_count": 71,
   "metadata": {},
   "outputs": [
    {
     "data": {
      "text/plain": [
       "[<matplotlib.lines.Line2D at 0x29685bad760>]"
      ]
     },
     "execution_count": 71,
     "metadata": {},
     "output_type": "execute_result"
    },
    {
     "data": {
      "image/png": "[encoded data removed]",
      "text/plain": [
       "<Figure size 432x288 with 1 Axes>"
      ]
     },
     "metadata": {
      "needs_background": "light"
     },
     "output_type": "display_data"
    }
   ],
   "source": [
    "plt.plot(history2.history['loss'])\n",
    "plt.plot(history2.history['val_loss'])"
   ]
  },
  {
   "cell_type": "code",
   "execution_count": 72,
   "metadata": {},
   "outputs": [
    {
     "data": {
      "text/plain": [
       "[<matplotlib.lines.Line2D at 0x29686ded580>]"
      ]
     },
     "execution_count": 72,
     "metadata": {},
     "output_type": "execute_result"
    },
    {
     "data": {
      "image/png": "[encoded data removed]",
      "text/plain": [
       "<Figure size 432x288 with 1 Axes>"
      ]
     },
     "metadata": {
      "needs_background": "light"
     },
     "output_type": "display_data"
    }
   ],
   "source": [
    "plt.plot(history2.history['accuracy'])\n",
    "plt.plot(history2.history['val_accuracy'])"
   ]
  },
  {
   "cell_type": "markdown",
   "metadata": {},
   "source": [
    "# Model Performance"
   ]
  },
  {
   "cell_type": "code",
   "execution_count": 63,
   "metadata": {},
   "outputs": [
    {
     "name": "stdout",
     "output_type": "stream",
     "text": [
      "MAE 0.545190334008011\n"
     ]
    }
   ],
   "source": [
    "# mean_absolute_error\n",
    "## There is no correct value for MSE. Simply put, the lower the value the better and 0 means the model is perfect\n",
    "print(\"MAE\",mean_absolute_error(y_test,y_pred2))"
   ]
  },
  {
   "cell_type": "code",
   "execution_count": 64,
   "metadata": {},
   "outputs": [
    {
     "name": "stdout",
     "output_type": "stream",
     "text": [
      "MSE 0.5509840654052717\n"
     ]
    }
   ],
   "source": [
    "# There is no correct value for MSE. Simply put, the lower the value the better and 0 means the model is perfect.\n",
    "print(\"MSE\",mean_squared_error(y_test,y_pred2))"
   ]
  },
  {
   "cell_type": "code",
   "execution_count": 65,
   "metadata": {},
   "outputs": [
    {
     "name": "stdout",
     "output_type": "stream",
     "text": [
      "0.7912137988987715\n"
     ]
    }
   ],
   "source": [
    "# storing the r2 score  \n",
    "r2 = r2_score(y_test,y_pred2)\n",
    "print(r2)"
   ]
  },
  {
   "cell_type": "code",
   "execution_count": 66,
   "metadata": {},
   "outputs": [
    {
     "name": "stdout",
     "output_type": "stream",
     "text": [
      "RMSE 0.7422830089698077\n"
     ]
    }
   ],
   "source": [
    "# do direct function for RMSE so we use np.sqrt()\n",
    "# when u have the outlier it is a better metrics \n",
    "print(\"RMSE\",np.sqrt(mean_squared_error(y_test,y_pred2)))"
   ]
  },
  {
   "cell_type": "markdown",
   "metadata": {},
   "source": [
    "# Model \n",
    "# Early Stopping \n",
    "For using Early stoppin in Keras there is a features called CallBack it has many function , by using CAllBack after each epoch you can do something, there after each epoch we use eraly stopping to check modle performance"
   ]
  },
  {
   "cell_type": "markdown",
   "metadata": {},
   "source": [
    "# callback"
   ]
  },
  {
   "cell_type": "code",
   "execution_count": 75,
   "metadata": {},
   "outputs": [],
   "source": [
    "from tensorflow.keras.callbacks import EarlyStopping"
   ]
  },
  {
   "cell_type": "code",
   "execution_count": 78,
   "metadata": {},
   "outputs": [],
   "source": [
    "callback = EarlyStopping(\n",
    "    monitor=\"val_loss\",\n",
    "    min_delta=0.00001, # how much improvement you consider (diffrecen from previos to next ) \n",
    "    patience=20,\n",
    "    verbose=1,\n",
    "    mode=\"auto\", # set it always auto . \n",
    "    baseline=None, # generaly we do not set it anythnng , None is the best \n",
    "    restore_best_weights=False\n",
    ")"
   ]
  },
  {
   "cell_type": "code",
   "execution_count": 79,
   "metadata": {},
   "outputs": [
    {
     "name": "stdout",
     "output_type": "stream",
     "text": [
      "Epoch 1/300\n",
      "3949/3949 [==============================] - 11s 3ms/step - loss: 0.6042 - accuracy: 0.0523 - val_loss: 0.5512 - val_accuracy: 0.0536\n",
      "Epoch 2/300\n",
      "3949/3949 [==============================] - 11s 3ms/step - loss: 0.6032 - accuracy: 0.0525 - val_loss: 0.6895 - val_accuracy: 0.0537\n",
      "Epoch 3/300\n",
      "3949/3949 [==============================] - 12s 3ms/step - loss: 0.6026 - accuracy: 0.0523 - val_loss: 0.5833 - val_accuracy: 0.0535\n",
      "Epoch 4/300\n",
      "3949/3949 [==============================] - 11s 3ms/step - loss: 0.6082 - accuracy: 0.0522 - val_loss: 0.5808 - val_accuracy: 0.0535\n",
      "Epoch 5/300\n",
      "3949/3949 [==============================] - 12s 3ms/step - loss: 0.5995 - accuracy: 0.0523 - val_loss: 0.6461 - val_accuracy: 0.0536\n",
      "Epoch 6/300\n",
      "3949/3949 [==============================] - 11s 3ms/step - loss: 0.5993 - accuracy: 0.0523 - val_loss: 0.6256 - val_accuracy: 0.0536\n",
      "Epoch 7/300\n",
      "3949/3949 [==============================] - 12s 3ms/step - loss: 0.6042 - accuracy: 0.0523 - val_loss: 0.5910 - val_accuracy: 0.0535\n",
      "Epoch 8/300\n",
      "3949/3949 [==============================] - 12s 3ms/step - loss: 0.5985 - accuracy: 0.0523 - val_loss: 0.5990 - val_accuracy: 0.0536\n",
      "Epoch 9/300\n",
      "3949/3949 [==============================] - 12s 3ms/step - loss: 0.5962 - accuracy: 0.0524 - val_loss: 0.5676 - val_accuracy: 0.0538\n",
      "Epoch 10/300\n",
      "3949/3949 [==============================] - 11s 3ms/step - loss: 0.5983 - accuracy: 0.0523 - val_loss: 0.6163 - val_accuracy: 0.0536\n",
      "Epoch 11/300\n",
      "3949/3949 [==============================] - 12s 3ms/step - loss: 0.6035 - accuracy: 0.0523 - val_loss: 0.7051 - val_accuracy: 0.0536\n",
      "Epoch 12/300\n",
      "3949/3949 [==============================] - 12s 3ms/step - loss: 0.6026 - accuracy: 0.0519 - val_loss: 0.5886 - val_accuracy: 0.0537\n",
      "Epoch 13/300\n",
      "3949/3949 [==============================] - 12s 3ms/step - loss: 0.6017 - accuracy: 0.0523 - val_loss: 0.5476 - val_accuracy: 0.0535\n",
      "Epoch 14/300\n",
      "3949/3949 [==============================] - 12s 3ms/step - loss: 0.5986 - accuracy: 0.0524 - val_loss: 0.5592 - val_accuracy: 0.0535\n",
      "Epoch 15/300\n",
      "3949/3949 [==============================] - 15s 4ms/step - loss: 0.6005 - accuracy: 0.0524 - val_loss: 0.5951 - val_accuracy: 0.0535\n",
      "Epoch 16/300\n",
      "3949/3949 [==============================] - 16s 4ms/step - loss: 0.5998 - accuracy: 0.0524 - val_loss: 0.5888 - val_accuracy: 0.0536\n",
      "Epoch 17/300\n",
      "3949/3949 [==============================] - 13s 3ms/step - loss: 0.5983 - accuracy: 0.0523 - val_loss: 0.8334 - val_accuracy: 0.0535\n",
      "Epoch 18/300\n",
      "3949/3949 [==============================] - 13s 3ms/step - loss: 0.5947 - accuracy: 0.0522 - val_loss: 0.6047 - val_accuracy: 0.0536\n",
      "Epoch 19/300\n",
      "3949/3949 [==============================] - 12s 3ms/step - loss: 0.6043 - accuracy: 0.0522 - val_loss: 0.7464 - val_accuracy: 0.0533\n",
      "Epoch 20/300\n",
      "3949/3949 [==============================] - 12s 3ms/step - loss: 0.6014 - accuracy: 0.0523 - val_loss: 0.5632 - val_accuracy: 0.0536\n",
      "Epoch 21/300\n",
      "3949/3949 [==============================] - 11s 3ms/step - loss: 0.5998 - accuracy: 0.0523 - val_loss: 0.5586 - val_accuracy: 0.0536\n",
      "Epoch 22/300\n",
      "3949/3949 [==============================] - 13s 3ms/step - loss: 0.6004 - accuracy: 0.0522 - val_loss: 0.6190 - val_accuracy: 0.0536\n",
      "Epoch 23/300\n",
      "3949/3949 [==============================] - 12s 3ms/step - loss: 0.5963 - accuracy: 0.0523 - val_loss: 0.5572 - val_accuracy: 0.0536\n",
      "Epoch 24/300\n",
      "3949/3949 [==============================] - 12s 3ms/step - loss: 0.5936 - accuracy: 0.0523 - val_loss: 0.6103 - val_accuracy: 0.0535\n",
      "Epoch 25/300\n",
      "3949/3949 [==============================] - 12s 3ms/step - loss: 0.5984 - accuracy: 0.0523 - val_loss: 0.5542 - val_accuracy: 0.0536\n",
      "Epoch 26/300\n",
      "3949/3949 [==============================] - 11s 3ms/step - loss: 0.5944 - accuracy: 0.0522 - val_loss: 0.5533 - val_accuracy: 0.0536\n",
      "Epoch 27/300\n",
      "3949/3949 [==============================] - 12s 3ms/step - loss: 0.5963 - accuracy: 0.0523 - val_loss: 0.5897 - val_accuracy: 0.0536\n",
      "Epoch 28/300\n",
      "3949/3949 [==============================] - 11s 3ms/step - loss: 0.6000 - accuracy: 0.0521 - val_loss: 0.6207 - val_accuracy: 0.0537\n",
      "Epoch 29/300\n",
      "3949/3949 [==============================] - 11s 3ms/step - loss: 0.5934 - accuracy: 0.0521 - val_loss: 0.5515 - val_accuracy: 0.0538\n",
      "Epoch 30/300\n",
      "3949/3949 [==============================] - 10s 3ms/step - loss: 0.5996 - accuracy: 0.0523 - val_loss: 0.5570 - val_accuracy: 0.0536\n",
      "Epoch 31/300\n",
      "3949/3949 [==============================] - 11s 3ms/step - loss: 0.5983 - accuracy: 0.0524 - val_loss: 0.7720 - val_accuracy: 0.0536\n",
      "Epoch 32/300\n",
      "3949/3949 [==============================] - 12s 3ms/step - loss: 0.5956 - accuracy: 0.0523 - val_loss: 0.5709 - val_accuracy: 0.0537\n",
      "Epoch 33/300\n",
      "3949/3949 [==============================] - 12s 3ms/step - loss: 0.5969 - accuracy: 0.0521 - val_loss: 0.6872 - val_accuracy: 0.0536\n",
      "Epoch 33: early stopping\n"
     ]
    }
   ],
   "source": [
    "# same as previous only in the end we addee callbacks=callback\n",
    "history3 = model.fit(X_train, y_train, validation_data=(X_test, y_test), epochs=300, callbacks=callback)"
   ]
  },
  {
   "cell_type": "code",
   "execution_count": 80,
   "metadata": {},
   "outputs": [
    {
     "name": "stdout",
     "output_type": "stream",
     "text": [
      "1693/1693 [==============================] - 3s 2ms/step\n"
     ]
    }
   ],
   "source": [
    "# Prediction\n",
    "y_pred3= model.predict(X_test)"
   ]
  },
  {
   "cell_type": "code",
   "execution_count": 81,
   "metadata": {},
   "outputs": [
    {
     "data": {
      "text/plain": [
       "[<matplotlib.lines.Line2D at 0x2968487f070>]"
      ]
     },
     "execution_count": 81,
     "metadata": {},
     "output_type": "execute_result"
    },
    {
     "data": {
      "image/png": "[encoded data removed]",
      "text/plain": [
       "<Figure size 432x288 with 1 Axes>"
      ]
     },
     "metadata": {
      "needs_background": "light"
     },
     "output_type": "display_data"
    }
   ],
   "source": [
    "plt.plot(history3.history['loss'])\n",
    "plt.plot(history3.history['val_loss'])"
   ]
  },
  {
   "cell_type": "code",
   "execution_count": 82,
   "metadata": {},
   "outputs": [
    {
     "data": {
      "text/plain": [
       "[<matplotlib.lines.Line2D at 0x29684384220>]"
      ]
     },
     "execution_count": 82,
     "metadata": {},
     "output_type": "execute_result"
    },
    {
     "data": {
      "image/png": "[encoded data removed]",
      "text/plain": [
       "<Figure size 432x288 with 1 Axes>"
      ]
     },
     "metadata": {
      "needs_background": "light"
     },
     "output_type": "display_data"
    }
   ],
   "source": [
    "plt.plot(history3.history['accuracy'])\n",
    "plt.plot(history3.history['val_accuracy'])"
   ]
  },
  {
   "cell_type": "code",
   "execution_count": null,
   "metadata": {},
   "outputs": [],
   "source": []
  },
  {
   "cell_type": "code",
   "execution_count": 83,
   "metadata": {},
   "outputs": [
    {
     "name": "stdout",
     "output_type": "stream",
     "text": [
      "MAE 0.5965462069810141\n",
      "MSE 0.6871646112058393\n",
      "0.7396104575195994\n",
      "RMSE 0.8289539258643024\n"
     ]
    }
   ],
   "source": [
    "# Model Performance\n",
    "\n",
    "# mean_absolute_error\n",
    "## There is no correct value for MSE. Simply put, the lower the value the better and 0 means the model is perfect\n",
    "print(\"MAE\",mean_absolute_error(y_test,y_pred3))\n",
    "\n",
    "# There is no correct value for MSE. Simply put, the lower the value the better and 0 means the model is perfect.\n",
    "print(\"MSE\",mean_squared_error(y_test,y_pred3))\n",
    "\n",
    "# storing the r2 score  \n",
    "r2 = r2_score(y_test,y_pred3)\n",
    "print(r2)\n",
    "\n",
    "# do direct function for RMSE so we use np.sqrt()\n",
    "# when u have the outlier it is a better metrics \n",
    "print(\"RMSE\",np.sqrt(mean_squared_error(y_test,y_pred3)))"
   ]
  },
  {
   "cell_type": "markdown",
   "metadata": {},
   "source": [
    "# Model 4"
   ]
  },
  {
   "cell_type": "code",
   "execution_count": 84,
   "metadata": {},
   "outputs": [],
   "source": [
    "# Define the model architecture\n",
    "model = Sequential()\n",
    "model.add(Dense(128, input_dim=24, activation='relu'))\n",
    "model.add(Dense(64, activation='relu'))\n",
    "model.add(Dense(32,activation='relu'))\n",
    "model.add(Dense(16,activation='relu'))\n",
    "model.add(Dense(8,activation='relu'))\n",
    "\n",
    "model.add(Dense(1, activation='linear'))# for  regression problem the output layer activation function in only 'linear''"
   ]
  },
  {
   "cell_type": "code",
   "execution_count": 85,
   "metadata": {},
   "outputs": [
    {
     "name": "stdout",
     "output_type": "stream",
     "text": [
      "Model: \"sequential_4\"\n",
      "_________________________________________________________________\n",
      " Layer (type)                Output Shape              Param #   \n",
      "=================================================================\n",
      " dense_11 (Dense)            (None, 128)               3200      \n",
      "                                                                 \n",
      " dense_12 (Dense)            (None, 64)                8256      \n",
      "                                                                 \n",
      " dense_13 (Dense)            (None, 32)                2080      \n",
      "                                                                 \n",
      " dense_14 (Dense)            (None, 16)                528       \n",
      "                                                                 \n",
      " dense_15 (Dense)            (None, 8)                 136       \n",
      "                                                                 \n",
      " dense_16 (Dense)            (None, 1)                 9         \n",
      "                                                                 \n",
      "=================================================================\n",
      "Total params: 14,209\n",
      "Trainable params: 14,209\n",
      "Non-trainable params: 0\n",
      "_________________________________________________________________\n"
     ]
    }
   ],
   "source": [
    "model.summary()"
   ]
  },
  {
   "cell_type": "code",
   "execution_count": 87,
   "metadata": {},
   "outputs": [],
   "source": [
    "# Compile the model\n",
    "model.compile(loss='mse', optimizer='adam', metrics=['accuracy'])"
   ]
  },
  {
   "cell_type": "code",
   "execution_count": 88,
   "metadata": {},
   "outputs": [
    {
     "name": "stdout",
     "output_type": "stream",
     "text": [
      "Epoch 1/300\n",
      "3949/3949 [==============================] - 13s 3ms/step - loss: 1559.5341 - accuracy: 0.0257 - val_loss: 2.6408 - val_accuracy: 0.0263\n",
      "Epoch 2/300\n",
      "3949/3949 [==============================] - 12s 3ms/step - loss: 2.6362 - accuracy: 0.0256 - val_loss: 2.6412 - val_accuracy: 0.0263\n",
      "Epoch 3/300\n",
      "3949/3949 [==============================] - 12s 3ms/step - loss: 2.6361 - accuracy: 0.0256 - val_loss: 2.6390 - val_accuracy: 0.0263\n",
      "Epoch 4/300\n",
      "3949/3949 [==============================] - 12s 3ms/step - loss: 3.3799 - accuracy: 0.0256 - val_loss: 2.6391 - val_accuracy: 0.0263\n",
      "Epoch 5/300\n",
      "3949/3949 [==============================] - 12s 3ms/step - loss: 2.6358 - accuracy: 0.0256 - val_loss: 2.6399 - val_accuracy: 0.0263\n",
      "Epoch 6/300\n",
      "3949/3949 [==============================] - 12s 3ms/step - loss: 2.6360 - accuracy: 0.0256 - val_loss: 2.6390 - val_accuracy: 0.0263\n",
      "Epoch 7/300\n",
      "3949/3949 [==============================] - 12s 3ms/step - loss: 2.6363 - accuracy: 0.0256 - val_loss: 2.6392 - val_accuracy: 0.0263\n",
      "Epoch 8/300\n",
      "3949/3949 [==============================] - 12s 3ms/step - loss: 2.6363 - accuracy: 0.0256 - val_loss: 2.6415 - val_accuracy: 0.0263\n",
      "Epoch 9/300\n",
      "3949/3949 [==============================] - 12s 3ms/step - loss: 2.6361 - accuracy: 0.0256 - val_loss: 2.6403 - val_accuracy: 0.0263\n",
      "Epoch 10/300\n",
      "3949/3949 [==============================] - 12s 3ms/step - loss: 2.6363 - accuracy: 0.0256 - val_loss: 2.6393 - val_accuracy: 0.0263\n",
      "Epoch 11/300\n",
      "3949/3949 [==============================] - 12s 3ms/step - loss: 2.6363 - accuracy: 0.0256 - val_loss: 2.6390 - val_accuracy: 0.0263\n",
      "Epoch 12/300\n",
      "3949/3949 [==============================] - 12s 3ms/step - loss: 2.6363 - accuracy: 0.0256 - val_loss: 2.6390 - val_accuracy: 0.0263\n",
      "Epoch 13/300\n",
      "3949/3949 [==============================] - 12s 3ms/step - loss: 2.6362 - accuracy: 0.0256 - val_loss: 2.6392 - val_accuracy: 0.0263\n",
      "Epoch 14/300\n",
      "3949/3949 [==============================] - 12s 3ms/step - loss: 2.6364 - accuracy: 0.0256 - val_loss: 2.6401 - val_accuracy: 0.0263\n",
      "Epoch 15/300\n",
      "3949/3949 [==============================] - 12s 3ms/step - loss: 2.6365 - accuracy: 0.0256 - val_loss: 2.6391 - val_accuracy: 0.0263\n",
      "Epoch 16/300\n",
      "3949/3949 [==============================] - 12s 3ms/step - loss: 2.6362 - accuracy: 0.0256 - val_loss: 2.6392 - val_accuracy: 0.0263\n",
      "Epoch 17/300\n",
      "3949/3949 [==============================] - 12s 3ms/step - loss: 2.6361 - accuracy: 0.0256 - val_loss: 2.6398 - val_accuracy: 0.0263\n",
      "Epoch 18/300\n",
      "3949/3949 [==============================] - 12s 3ms/step - loss: 2.6360 - accuracy: 0.0256 - val_loss: 2.6400 - val_accuracy: 0.0263\n",
      "Epoch 19/300\n",
      "3949/3949 [==============================] - 12s 3ms/step - loss: 2.6358 - accuracy: 0.0256 - val_loss: 2.6392 - val_accuracy: 0.0263\n",
      "Epoch 20/300\n",
      "3949/3949 [==============================] - 12s 3ms/step - loss: 2.6362 - accuracy: 0.0256 - val_loss: 2.6393 - val_accuracy: 0.0263\n",
      "Epoch 21/300\n",
      "3949/3949 [==============================] - 12s 3ms/step - loss: 2.6360 - accuracy: 0.0256 - val_loss: 2.6403 - val_accuracy: 0.0263\n",
      "Epoch 22/300\n",
      "3949/3949 [==============================] - 12s 3ms/step - loss: 2.6362 - accuracy: 0.0256 - val_loss: 2.6400 - val_accuracy: 0.0263\n",
      "Epoch 23/300\n",
      "3949/3949 [==============================] - 12s 3ms/step - loss: 2.6361 - accuracy: 0.0256 - val_loss: 2.6390 - val_accuracy: 0.0263\n",
      "Epoch 23: early stopping\n"
     ]
    }
   ],
   "source": [
    "# same as previous only in the end we addee callbacks=callback\n",
    "history4 = model.fit(X_train, y_train, validation_data=(X_test, y_test), epochs=300, callbacks=callback)"
   ]
  },
  {
   "cell_type": "code",
   "execution_count": 89,
   "metadata": {},
   "outputs": [
    {
     "name": "stdout",
     "output_type": "stream",
     "text": [
      "1693/1693 [==============================] - 3s 1ms/step\n"
     ]
    }
   ],
   "source": [
    "# Prediction\n",
    "y_pred4= model.predict(X_test)"
   ]
  },
  {
   "cell_type": "code",
   "execution_count": 90,
   "metadata": {},
   "outputs": [
    {
     "data": {
      "text/plain": [
       "[<matplotlib.lines.Line2D at 0x296845eef70>]"
      ]
     },
     "execution_count": 90,
     "metadata": {},
     "output_type": "execute_result"
    },
    {
     "data": {
      "image/png": "[encoded data removed]",
      "text/plain": [
       "<Figure size 432x288 with 1 Axes>"
      ]
     },
     "metadata": {
      "needs_background": "light"
     },
     "output_type": "display_data"
    }
   ],
   "source": [
    "plt.plot(history4.history['loss'])\n",
    "plt.plot(history4.history['val_loss'])"
   ]
  },
  {
   "cell_type": "code",
   "execution_count": 95,
   "metadata": {},
   "outputs": [
    {
     "data": {
      "text/plain": [
       "[<matplotlib.lines.Line2D at 0x29684770d60>]"
      ]
     },
     "execution_count": 95,
     "metadata": {},
     "output_type": "execute_result"
    },
    {
     "data": {
      "image/png": "[encoded data removed]",
      "text/plain": [
       "<Figure size 432x288 with 1 Axes>"
      ]
     },
     "metadata": {
      "needs_background": "light"
     },
     "output_type": "display_data"
    }
   ],
   "source": [
    "plt.plot(history4.history['accuracy'])\n",
    "plt.plot(history4.history['val_accuracy'])"
   ]
  },
  {
   "cell_type": "code",
   "execution_count": null,
   "metadata": {},
   "outputs": [],
   "source": []
  },
  {
   "cell_type": "code",
   "execution_count": 93,
   "metadata": {},
   "outputs": [
    {
     "name": "stdout",
     "output_type": "stream",
     "text": [
      "MAE 1.4243444098759916\n",
      "MSE 2.639018463027114\n",
      "R2 -1.1931608506987601e-05\n",
      "RMSE 1.6245056057235119\n"
     ]
    }
   ],
   "source": [
    "# Model Performance\n",
    "\n",
    "# mean_absolute_error\n",
    "## There is no correct value for MSE. Simply put, the lower the value the better and 0 means the model is perfect\n",
    "print(\"MAE\",mean_absolute_error(y_test,y_pred4))\n",
    "\n",
    "# There is no correct value for MSE. Simply put, the lower the value the better and 0 means the model is perfect.\n",
    "print(\"MSE\",mean_squared_error(y_test,y_pred4))\n",
    "\n",
    "# storing the r2 score  \n",
    "r2 = r2_score(y_test,y_pred4)\n",
    "print(\"R2\",r2)\n",
    "\n",
    "# do direct function for RMSE so we use np.sqrt()\n",
    "# when u have the outlier it is a better metrics \n",
    "print(\"RMSE\",np.sqrt(mean_squared_error(y_test,y_pred4)))"
   ]
  },
  {
   "cell_type": "markdown",
   "metadata": {},
   "source": [
    "# Model 5"
   ]
  },
  {
   "cell_type": "code",
   "execution_count": 96,
   "metadata": {},
   "outputs": [],
   "source": [
    "# Define the model architecture\n",
    "model = Sequential()\n",
    "model.add(Dense(128, input_dim=24, activation='relu'))\n",
    "model.add(Dense(64, activation='relu'))\n",
    "model.add(Dense(32,activation='relu'))\n",
    "model.add(Dense(16,activation='relu'))\n",
    "model.add(Dense(8,activation='relu'))\n",
    "\n",
    "model.add(Dense(1, activation='linear'))# for  regression problem the output layer activation function in only 'linear''"
   ]
  },
  {
   "cell_type": "code",
   "execution_count": 97,
   "metadata": {},
   "outputs": [
    {
     "name": "stdout",
     "output_type": "stream",
     "text": [
      "Model: \"sequential_5\"\n",
      "_________________________________________________________________\n",
      " Layer (type)                Output Shape              Param #   \n",
      "=================================================================\n",
      " dense_17 (Dense)            (None, 128)               3200      \n",
      "                                                                 \n",
      " dense_18 (Dense)            (None, 64)                8256      \n",
      "                                                                 \n",
      " dense_19 (Dense)            (None, 32)                2080      \n",
      "                                                                 \n",
      " dense_20 (Dense)            (None, 16)                528       \n",
      "                                                                 \n",
      " dense_21 (Dense)            (None, 8)                 136       \n",
      "                                                                 \n",
      " dense_22 (Dense)            (None, 1)                 9         \n",
      "                                                                 \n",
      "=================================================================\n",
      "Total params: 14,209\n",
      "Trainable params: 14,209\n",
      "Non-trainable params: 0\n",
      "_________________________________________________________________\n"
     ]
    }
   ],
   "source": [
    "model.summary()"
   ]
  },
  {
   "cell_type": "code",
   "execution_count": 98,
   "metadata": {},
   "outputs": [],
   "source": [
    "# Compile the model\n",
    "model.compile(loss='mse', optimizer='adam', metrics=['accuracy'])"
   ]
  },
  {
   "cell_type": "code",
   "execution_count": 99,
   "metadata": {},
   "outputs": [
    {
     "name": "stdout",
     "output_type": "stream",
     "text": [
      "Epoch 1/200\n",
      "3949/3949 [==============================] - 14s 3ms/step - loss: 558.4117 - accuracy: 0.0260 - val_loss: 3.6024 - val_accuracy: 0.0263\n",
      "Epoch 2/200\n",
      "3949/3949 [==============================] - 12s 3ms/step - loss: 6.2717 - accuracy: 0.0260 - val_loss: 3.3698 - val_accuracy: 0.0263\n",
      "Epoch 3/200\n",
      "3949/3949 [==============================] - 12s 3ms/step - loss: 3.6197 - accuracy: 0.0256 - val_loss: 2.8275 - val_accuracy: 0.0263\n",
      "Epoch 4/200\n",
      "3949/3949 [==============================] - 12s 3ms/step - loss: 6.5118 - accuracy: 0.0256 - val_loss: 2.7864 - val_accuracy: 0.0263\n",
      "Epoch 5/200\n",
      "3949/3949 [==============================] - 12s 3ms/step - loss: 4.3702 - accuracy: 0.0255 - val_loss: 2.6982 - val_accuracy: 0.0263\n",
      "Epoch 6/200\n",
      "3949/3949 [==============================] - 12s 3ms/step - loss: 2.7164 - accuracy: 0.0256 - val_loss: 2.6394 - val_accuracy: 0.0263\n",
      "Epoch 7/200\n",
      "3949/3949 [==============================] - 12s 3ms/step - loss: 2.6358 - accuracy: 0.0256 - val_loss: 2.6393 - val_accuracy: 0.0263\n",
      "Epoch 8/200\n",
      "3949/3949 [==============================] - 12s 3ms/step - loss: 2.6362 - accuracy: 0.0256 - val_loss: 2.6390 - val_accuracy: 0.0263\n",
      "Epoch 9/200\n",
      "3949/3949 [==============================] - 13s 3ms/step - loss: 2.6361 - accuracy: 0.0256 - val_loss: 2.6393 - val_accuracy: 0.0263\n",
      "Epoch 10/200\n",
      "3949/3949 [==============================] - 12s 3ms/step - loss: 2.6363 - accuracy: 0.0256 - val_loss: 2.6400 - val_accuracy: 0.0263\n",
      "Epoch 11/200\n",
      "3949/3949 [==============================] - 13s 3ms/step - loss: 2.6363 - accuracy: 0.0256 - val_loss: 2.6390 - val_accuracy: 0.0263\n",
      "Epoch 12/200\n",
      "3949/3949 [==============================] - 12s 3ms/step - loss: 2.6361 - accuracy: 0.0256 - val_loss: 2.6390 - val_accuracy: 0.0263\n",
      "Epoch 13/200\n",
      "3949/3949 [==============================] - 12s 3ms/step - loss: 2.6363 - accuracy: 0.0256 - val_loss: 2.6394 - val_accuracy: 0.0263\n",
      "Epoch 14/200\n",
      "3949/3949 [==============================] - 12s 3ms/step - loss: 2.6361 - accuracy: 0.0256 - val_loss: 2.6411 - val_accuracy: 0.0263\n",
      "Epoch 15/200\n",
      "3949/3949 [==============================] - 13s 3ms/step - loss: 2.6364 - accuracy: 0.0256 - val_loss: 2.6391 - val_accuracy: 0.0263\n",
      "Epoch 16/200\n",
      "3949/3949 [==============================] - 13s 3ms/step - loss: 2.6363 - accuracy: 0.0256 - val_loss: 2.6394 - val_accuracy: 0.0263\n",
      "Epoch 17/200\n",
      "3949/3949 [==============================] - 15s 4ms/step - loss: 2.6368 - accuracy: 0.0256 - val_loss: 2.6393 - val_accuracy: 0.0263\n",
      "Epoch 18/200\n",
      "3949/3949 [==============================] - 13s 3ms/step - loss: 2.6366 - accuracy: 0.0256 - val_loss: 2.6391 - val_accuracy: 0.0263\n",
      "Epoch 19/200\n",
      "3949/3949 [==============================] - 12s 3ms/step - loss: 2.6365 - accuracy: 0.0256 - val_loss: 2.6407 - val_accuracy: 0.0263\n",
      "Epoch 20/200\n",
      "3949/3949 [==============================] - 12s 3ms/step - loss: 2.6363 - accuracy: 0.0256 - val_loss: 2.6399 - val_accuracy: 0.0263\n",
      "Epoch 21/200\n",
      "3949/3949 [==============================] - 13s 3ms/step - loss: 2.6361 - accuracy: 0.0256 - val_loss: 2.6390 - val_accuracy: 0.0263\n",
      "Epoch 22/200\n",
      "3949/3949 [==============================] - 12s 3ms/step - loss: 2.6363 - accuracy: 0.0256 - val_loss: 2.6395 - val_accuracy: 0.0263\n",
      "Epoch 23/200\n",
      "3949/3949 [==============================] - 13s 3ms/step - loss: 2.6366 - accuracy: 0.0256 - val_loss: 2.6391 - val_accuracy: 0.0263\n",
      "Epoch 24/200\n",
      "3949/3949 [==============================] - 15s 4ms/step - loss: 2.6365 - accuracy: 0.0256 - val_loss: 2.6390 - val_accuracy: 0.0263\n",
      "Epoch 25/200\n",
      "3949/3949 [==============================] - 11s 3ms/step - loss: 2.6366 - accuracy: 0.0256 - val_loss: 2.6407 - val_accuracy: 0.0263\n",
      "Epoch 26/200\n",
      "3949/3949 [==============================] - 11s 3ms/step - loss: 2.6365 - accuracy: 0.0256 - val_loss: 2.6420 - val_accuracy: 0.0263\n",
      "Epoch 27/200\n",
      "3949/3949 [==============================] - 11s 3ms/step - loss: 2.6363 - accuracy: 0.0256 - val_loss: 2.6390 - val_accuracy: 0.0263\n",
      "Epoch 28/200\n",
      "3949/3949 [==============================] - 11s 3ms/step - loss: 2.6363 - accuracy: 0.0256 - val_loss: 2.6402 - val_accuracy: 0.0263\n",
      "Epoch 29/200\n",
      "3949/3949 [==============================] - 13s 3ms/step - loss: 2.6366 - accuracy: 0.0256 - val_loss: 2.6401 - val_accuracy: 0.0263\n",
      "Epoch 30/200\n",
      "3949/3949 [==============================] - 15s 4ms/step - loss: 2.6364 - accuracy: 0.0256 - val_loss: 2.6399 - val_accuracy: 0.0263\n",
      "Epoch 31/200\n",
      "3949/3949 [==============================] - 14s 4ms/step - loss: 2.6365 - accuracy: 0.0256 - val_loss: 2.6393 - val_accuracy: 0.0263\n",
      "Epoch 32/200\n",
      "3949/3949 [==============================] - 12s 3ms/step - loss: 2.6364 - accuracy: 0.0256 - val_loss: 2.6400 - val_accuracy: 0.0263\n",
      "Epoch 33/200\n",
      "3949/3949 [==============================] - 11s 3ms/step - loss: 2.6364 - accuracy: 0.0256 - val_loss: 2.6398 - val_accuracy: 0.0263\n",
      "Epoch 34/200\n",
      "3949/3949 [==============================] - 11s 3ms/step - loss: 2.6365 - accuracy: 0.0256 - val_loss: 2.6404 - val_accuracy: 0.0263\n",
      "Epoch 35/200\n",
      "3949/3949 [==============================] - 12s 3ms/step - loss: 2.6362 - accuracy: 0.0256 - val_loss: 2.6391 - val_accuracy: 0.0263\n",
      "Epoch 36/200\n",
      "3949/3949 [==============================] - 12s 3ms/step - loss: 2.6361 - accuracy: 0.0256 - val_loss: 2.6393 - val_accuracy: 0.0263\n",
      "Epoch 37/200\n",
      "3949/3949 [==============================] - 11s 3ms/step - loss: 2.6365 - accuracy: 0.0256 - val_loss: 2.6413 - val_accuracy: 0.0263\n",
      "Epoch 38/200\n",
      "3949/3949 [==============================] - 12s 3ms/step - loss: 2.6365 - accuracy: 0.0256 - val_loss: 2.6398 - val_accuracy: 0.0263\n",
      "Epoch 39/200\n",
      "3949/3949 [==============================] - 12s 3ms/step - loss: 2.6365 - accuracy: 0.0256 - val_loss: 2.6397 - val_accuracy: 0.0263\n",
      "Epoch 40/200\n",
      "3949/3949 [==============================] - 12s 3ms/step - loss: 2.6365 - accuracy: 0.0256 - val_loss: 2.6399 - val_accuracy: 0.0263\n",
      "Epoch 41/200\n",
      "3949/3949 [==============================] - 12s 3ms/step - loss: 2.6364 - accuracy: 0.0256 - val_loss: 2.6394 - val_accuracy: 0.0263\n",
      "Epoch 42/200\n",
      "3949/3949 [==============================] - 11s 3ms/step - loss: 2.6362 - accuracy: 0.0256 - val_loss: 2.6400 - val_accuracy: 0.0263\n",
      "Epoch 43/200\n",
      "3949/3949 [==============================] - 12s 3ms/step - loss: 2.6365 - accuracy: 0.0256 - val_loss: 2.6390 - val_accuracy: 0.0263\n",
      "Epoch 44/200\n",
      "3949/3949 [==============================] - 12s 3ms/step - loss: 2.6367 - accuracy: 0.0256 - val_loss: 2.6391 - val_accuracy: 0.0263\n",
      "Epoch 45/200\n",
      "3949/3949 [==============================] - 12s 3ms/step - loss: 2.6365 - accuracy: 0.0256 - val_loss: 2.6394 - val_accuracy: 0.0263\n",
      "Epoch 46/200\n",
      "3949/3949 [==============================] - 12s 3ms/step - loss: 2.6361 - accuracy: 0.0256 - val_loss: 2.6392 - val_accuracy: 0.0263\n",
      "Epoch 47/200\n",
      "3949/3949 [==============================] - 12s 3ms/step - loss: 2.6364 - accuracy: 0.0256 - val_loss: 2.6391 - val_accuracy: 0.0263\n",
      "Epoch 48/200\n",
      "3949/3949 [==============================] - 11s 3ms/step - loss: 2.6366 - accuracy: 0.0256 - val_loss: 2.6397 - val_accuracy: 0.0263\n",
      "Epoch 49/200\n",
      "3949/3949 [==============================] - 12s 3ms/step - loss: 2.6364 - accuracy: 0.0256 - val_loss: 2.6404 - val_accuracy: 0.0263\n",
      "Epoch 50/200\n",
      "3949/3949 [==============================] - 12s 3ms/step - loss: 2.6365 - accuracy: 0.0256 - val_loss: 2.6395 - val_accuracy: 0.0263\n",
      "Epoch 51/200\n",
      "3949/3949 [==============================] - 12s 3ms/step - loss: 2.6363 - accuracy: 0.0256 - val_loss: 2.6391 - val_accuracy: 0.0263\n",
      "Epoch 52/200\n",
      "3949/3949 [==============================] - 11s 3ms/step - loss: 2.6365 - accuracy: 0.0256 - val_loss: 2.6390 - val_accuracy: 0.0263\n",
      "Epoch 53/200\n",
      "3949/3949 [==============================] - 12s 3ms/step - loss: 2.6363 - accuracy: 0.0256 - val_loss: 2.6390 - val_accuracy: 0.0263\n",
      "Epoch 54/200\n",
      "3949/3949 [==============================] - 11s 3ms/step - loss: 2.6363 - accuracy: 0.0256 - val_loss: 2.6402 - val_accuracy: 0.0263\n",
      "Epoch 55/200\n",
      "3949/3949 [==============================] - 11s 3ms/step - loss: 2.6365 - accuracy: 0.0256 - val_loss: 2.6391 - val_accuracy: 0.0263\n",
      "Epoch 56/200\n",
      "3949/3949 [==============================] - 12s 3ms/step - loss: 2.6364 - accuracy: 0.0256 - val_loss: 2.6396 - val_accuracy: 0.0263\n"
     ]
    },
    {
     "name": "stdout",
     "output_type": "stream",
     "text": [
      "Epoch 57/200\n",
      "3949/3949 [==============================] - 12s 3ms/step - loss: 2.6364 - accuracy: 0.0256 - val_loss: 2.6410 - val_accuracy: 0.0263\n",
      "Epoch 58/200\n",
      "3949/3949 [==============================] - 13s 3ms/step - loss: 2.6364 - accuracy: 0.0256 - val_loss: 2.6393 - val_accuracy: 0.0263\n",
      "Epoch 59/200\n",
      "3949/3949 [==============================] - 12s 3ms/step - loss: 2.6364 - accuracy: 0.0256 - val_loss: 2.6412 - val_accuracy: 0.0263\n",
      "Epoch 60/200\n",
      "3949/3949 [==============================] - 11s 3ms/step - loss: 2.6363 - accuracy: 0.0256 - val_loss: 2.6390 - val_accuracy: 0.0263\n",
      "Epoch 61/200\n",
      "3949/3949 [==============================] - 12s 3ms/step - loss: 2.6365 - accuracy: 0.0256 - val_loss: 2.6395 - val_accuracy: 0.0263\n",
      "Epoch 62/200\n",
      "3949/3949 [==============================] - 11s 3ms/step - loss: 2.6362 - accuracy: 0.0256 - val_loss: 2.6407 - val_accuracy: 0.0263\n",
      "Epoch 63/200\n",
      "3949/3949 [==============================] - 11s 3ms/step - loss: 2.6364 - accuracy: 0.0256 - val_loss: 2.6394 - val_accuracy: 0.0263\n",
      "Epoch 64/200\n",
      "3949/3949 [==============================] - 12s 3ms/step - loss: 2.6364 - accuracy: 0.0256 - val_loss: 2.6405 - val_accuracy: 0.0263\n",
      "Epoch 65/200\n",
      "3949/3949 [==============================] - 12s 3ms/step - loss: 2.6363 - accuracy: 0.0256 - val_loss: 2.6391 - val_accuracy: 0.0263\n",
      "Epoch 66/200\n",
      "3949/3949 [==============================] - 12s 3ms/step - loss: 2.6365 - accuracy: 0.0256 - val_loss: 2.6393 - val_accuracy: 0.0263\n",
      "Epoch 67/200\n",
      "3949/3949 [==============================] - 11s 3ms/step - loss: 2.6359 - accuracy: 0.0256 - val_loss: 2.6390 - val_accuracy: 0.0263\n",
      "Epoch 68/200\n",
      "3949/3949 [==============================] - 11s 3ms/step - loss: 2.6362 - accuracy: 0.0256 - val_loss: 2.6395 - val_accuracy: 0.0263\n",
      "Epoch 69/200\n",
      "3949/3949 [==============================] - 11s 3ms/step - loss: 2.6364 - accuracy: 0.0256 - val_loss: 2.6390 - val_accuracy: 0.0263\n",
      "Epoch 70/200\n",
      "3949/3949 [==============================] - 12s 3ms/step - loss: 2.6363 - accuracy: 0.0256 - val_loss: 2.6397 - val_accuracy: 0.0263\n",
      "Epoch 71/200\n",
      "3949/3949 [==============================] - 12s 3ms/step - loss: 2.6362 - accuracy: 0.0256 - val_loss: 2.6406 - val_accuracy: 0.0263\n",
      "Epoch 72/200\n",
      "3949/3949 [==============================] - 12s 3ms/step - loss: 2.6361 - accuracy: 0.0256 - val_loss: 2.6408 - val_accuracy: 0.0263\n",
      "Epoch 73/200\n",
      "3949/3949 [==============================] - 12s 3ms/step - loss: 2.6364 - accuracy: 0.0256 - val_loss: 2.6397 - val_accuracy: 0.0263\n",
      "Epoch 74/200\n",
      "3949/3949 [==============================] - 11s 3ms/step - loss: 2.6363 - accuracy: 0.0256 - val_loss: 2.6395 - val_accuracy: 0.0263\n",
      "Epoch 75/200\n",
      "3949/3949 [==============================] - 12s 3ms/step - loss: 2.6363 - accuracy: 0.0256 - val_loss: 2.6390 - val_accuracy: 0.0263\n",
      "Epoch 76/200\n",
      "3949/3949 [==============================] - 11s 3ms/step - loss: 2.6364 - accuracy: 0.0256 - val_loss: 2.6395 - val_accuracy: 0.0263\n",
      "Epoch 77/200\n",
      "3949/3949 [==============================] - 12s 3ms/step - loss: 2.6362 - accuracy: 0.0256 - val_loss: 2.6407 - val_accuracy: 0.0263\n",
      "Epoch 78/200\n",
      "3949/3949 [==============================] - 11s 3ms/step - loss: 2.6362 - accuracy: 0.0256 - val_loss: 2.6400 - val_accuracy: 0.0263\n",
      "Epoch 79/200\n",
      "3949/3949 [==============================] - 12s 3ms/step - loss: 2.6364 - accuracy: 0.0256 - val_loss: 2.6405 - val_accuracy: 0.0263\n",
      "Epoch 80/200\n",
      "3949/3949 [==============================] - 12s 3ms/step - loss: 2.6364 - accuracy: 0.0256 - val_loss: 2.6403 - val_accuracy: 0.0263\n",
      "Epoch 81/200\n",
      "3949/3949 [==============================] - 12s 3ms/step - loss: 2.6363 - accuracy: 0.0256 - val_loss: 2.6390 - val_accuracy: 0.0263\n",
      "Epoch 82/200\n",
      "3949/3949 [==============================] - 12s 3ms/step - loss: 2.6363 - accuracy: 0.0256 - val_loss: 2.6390 - val_accuracy: 0.0263\n",
      "Epoch 83/200\n",
      "3949/3949 [==============================] - 11s 3ms/step - loss: 2.6363 - accuracy: 0.0256 - val_loss: 2.6408 - val_accuracy: 0.0263\n",
      "Epoch 84/200\n",
      "3949/3949 [==============================] - 13s 3ms/step - loss: 2.6363 - accuracy: 0.0256 - val_loss: 2.6390 - val_accuracy: 0.0263\n",
      "Epoch 85/200\n",
      "3949/3949 [==============================] - 13s 3ms/step - loss: 2.6363 - accuracy: 0.0256 - val_loss: 2.6390 - val_accuracy: 0.0263\n",
      "Epoch 86/200\n",
      "3949/3949 [==============================] - 13s 3ms/step - loss: 2.6362 - accuracy: 0.0256 - val_loss: 2.6404 - val_accuracy: 0.0263\n",
      "Epoch 87/200\n",
      "3949/3949 [==============================] - 12s 3ms/step - loss: 2.6360 - accuracy: 0.0256 - val_loss: 2.6392 - val_accuracy: 0.0263\n",
      "Epoch 88/200\n",
      "3949/3949 [==============================] - 11s 3ms/step - loss: 2.6362 - accuracy: 0.0256 - val_loss: 2.6394 - val_accuracy: 0.0263\n",
      "Epoch 89/200\n",
      "3949/3949 [==============================] - 11s 3ms/step - loss: 2.6362 - accuracy: 0.0256 - val_loss: 2.6419 - val_accuracy: 0.0263\n",
      "Epoch 90/200\n",
      "3949/3949 [==============================] - 13s 3ms/step - loss: 2.6364 - accuracy: 0.0256 - val_loss: 2.6390 - val_accuracy: 0.0263\n",
      "Epoch 91/200\n",
      "3949/3949 [==============================] - 12s 3ms/step - loss: 2.6363 - accuracy: 0.0256 - val_loss: 2.6394 - val_accuracy: 0.0263\n",
      "Epoch 92/200\n",
      "3949/3949 [==============================] - 12s 3ms/step - loss: 2.6361 - accuracy: 0.0256 - val_loss: 2.6390 - val_accuracy: 0.0263\n",
      "Epoch 93/200\n",
      "3949/3949 [==============================] - 12s 3ms/step - loss: 2.6363 - accuracy: 0.0256 - val_loss: 2.6395 - val_accuracy: 0.0263\n",
      "Epoch 94/200\n",
      "3949/3949 [==============================] - 13s 3ms/step - loss: 2.6363 - accuracy: 0.0256 - val_loss: 2.6423 - val_accuracy: 0.0263\n",
      "Epoch 95/200\n",
      "3949/3949 [==============================] - 13s 3ms/step - loss: 2.6362 - accuracy: 0.0256 - val_loss: 2.6390 - val_accuracy: 0.0263\n",
      "Epoch 96/200\n",
      "3949/3949 [==============================] - 11s 3ms/step - loss: 2.6364 - accuracy: 0.0256 - val_loss: 2.6391 - val_accuracy: 0.0263\n",
      "Epoch 97/200\n",
      "3949/3949 [==============================] - 13s 3ms/step - loss: 2.6363 - accuracy: 0.0256 - val_loss: 2.6415 - val_accuracy: 0.0263\n",
      "Epoch 98/200\n",
      "3949/3949 [==============================] - 14s 4ms/step - loss: 2.6362 - accuracy: 0.0256 - val_loss: 2.6397 - val_accuracy: 0.0263\n",
      "Epoch 99/200\n",
      "3949/3949 [==============================] - 13s 3ms/step - loss: 2.6362 - accuracy: 0.0256 - val_loss: 2.6398 - val_accuracy: 0.0263\n",
      "Epoch 100/200\n",
      "3949/3949 [==============================] - 12s 3ms/step - loss: 2.6364 - accuracy: 0.0256 - val_loss: 2.6413 - val_accuracy: 0.0263\n",
      "Epoch 101/200\n",
      "3949/3949 [==============================] - 12s 3ms/step - loss: 2.6361 - accuracy: 0.0256 - val_loss: 2.6391 - val_accuracy: 0.0263\n",
      "Epoch 102/200\n",
      "3949/3949 [==============================] - 12s 3ms/step - loss: 2.6362 - accuracy: 0.0256 - val_loss: 2.6402 - val_accuracy: 0.0263\n",
      "Epoch 103/200\n",
      "3949/3949 [==============================] - 12s 3ms/step - loss: 2.6363 - accuracy: 0.0256 - val_loss: 2.6394 - val_accuracy: 0.0263\n",
      "Epoch 104/200\n",
      "3949/3949 [==============================] - 12s 3ms/step - loss: 2.6363 - accuracy: 0.0256 - val_loss: 2.6390 - val_accuracy: 0.0263\n",
      "Epoch 105/200\n",
      "3949/3949 [==============================] - 12s 3ms/step - loss: 2.6363 - accuracy: 0.0256 - val_loss: 2.6398 - val_accuracy: 0.0263\n",
      "Epoch 106/200\n",
      "3949/3949 [==============================] - 12s 3ms/step - loss: 2.6361 - accuracy: 0.0256 - val_loss: 2.6404 - val_accuracy: 0.0263\n",
      "Epoch 107/200\n",
      "3949/3949 [==============================] - 12s 3ms/step - loss: 2.6363 - accuracy: 0.0256 - val_loss: 2.6390 - val_accuracy: 0.0263\n",
      "Epoch 108/200\n",
      "3949/3949 [==============================] - 12s 3ms/step - loss: 2.6359 - accuracy: 0.0256 - val_loss: 2.6404 - val_accuracy: 0.0263\n",
      "Epoch 109/200\n",
      "3949/3949 [==============================] - 12s 3ms/step - loss: 2.6364 - accuracy: 0.0256 - val_loss: 2.6396 - val_accuracy: 0.0263\n",
      "Epoch 110/200\n",
      "3949/3949 [==============================] - 12s 3ms/step - loss: 2.6364 - accuracy: 0.0256 - val_loss: 2.6391 - val_accuracy: 0.0263\n",
      "Epoch 111/200\n",
      "3949/3949 [==============================] - 12s 3ms/step - loss: 2.6363 - accuracy: 0.0256 - val_loss: 2.6390 - val_accuracy: 0.0263\n",
      "Epoch 112/200\n"
     ]
    },
    {
     "name": "stdout",
     "output_type": "stream",
     "text": [
      "3949/3949 [==============================] - 12s 3ms/step - loss: 2.6363 - accuracy: 0.0256 - val_loss: 2.6392 - val_accuracy: 0.0263\n",
      "Epoch 113/200\n",
      "3949/3949 [==============================] - 12s 3ms/step - loss: 2.6365 - accuracy: 0.0256 - val_loss: 2.6394 - val_accuracy: 0.0263\n",
      "Epoch 114/200\n",
      "3949/3949 [==============================] - 12s 3ms/step - loss: 2.6362 - accuracy: 0.0256 - val_loss: 2.6390 - val_accuracy: 0.0263\n",
      "Epoch 115/200\n",
      "3949/3949 [==============================] - 12s 3ms/step - loss: 2.6359 - accuracy: 0.0256 - val_loss: 2.6442 - val_accuracy: 0.0263\n",
      "Epoch 116/200\n",
      "3949/3949 [==============================] - 12s 3ms/step - loss: 2.6362 - accuracy: 0.0256 - val_loss: 2.6399 - val_accuracy: 0.0263\n",
      "Epoch 117/200\n",
      "3949/3949 [==============================] - 12s 3ms/step - loss: 2.6361 - accuracy: 0.0256 - val_loss: 2.6398 - val_accuracy: 0.0263\n",
      "Epoch 118/200\n",
      "3949/3949 [==============================] - 12s 3ms/step - loss: 2.6364 - accuracy: 0.0256 - val_loss: 2.6444 - val_accuracy: 0.0263\n",
      "Epoch 119/200\n",
      "3949/3949 [==============================] - 12s 3ms/step - loss: 2.6362 - accuracy: 0.0256 - val_loss: 2.6417 - val_accuracy: 0.0263\n",
      "Epoch 120/200\n",
      "3949/3949 [==============================] - 12s 3ms/step - loss: 2.6361 - accuracy: 0.0256 - val_loss: 2.6415 - val_accuracy: 0.0263\n",
      "Epoch 121/200\n",
      "3949/3949 [==============================] - 12s 3ms/step - loss: 2.6363 - accuracy: 0.0256 - val_loss: 2.6395 - val_accuracy: 0.0263\n",
      "Epoch 122/200\n",
      "3949/3949 [==============================] - 12s 3ms/step - loss: 2.6361 - accuracy: 0.0256 - val_loss: 2.6390 - val_accuracy: 0.0263\n",
      "Epoch 123/200\n",
      "3949/3949 [==============================] - 12s 3ms/step - loss: 2.6363 - accuracy: 0.0256 - val_loss: 2.6392 - val_accuracy: 0.0263\n",
      "Epoch 124/200\n",
      "3949/3949 [==============================] - 12s 3ms/step - loss: 2.6363 - accuracy: 0.0256 - val_loss: 2.6390 - val_accuracy: 0.0263\n",
      "Epoch 125/200\n",
      "3949/3949 [==============================] - 13s 3ms/step - loss: 2.6363 - accuracy: 0.0256 - val_loss: 2.6403 - val_accuracy: 0.0263\n",
      "Epoch 126/200\n",
      "3949/3949 [==============================] - 14s 3ms/step - loss: 2.6361 - accuracy: 0.0256 - val_loss: 2.6392 - val_accuracy: 0.0263\n",
      "Epoch 127/200\n",
      "3949/3949 [==============================] - 17s 4ms/step - loss: 2.6363 - accuracy: 0.0256 - val_loss: 2.6391 - val_accuracy: 0.0263\n",
      "Epoch 128/200\n",
      "3949/3949 [==============================] - 14s 4ms/step - loss: 2.6363 - accuracy: 0.0256 - val_loss: 2.6393 - val_accuracy: 0.0263\n",
      "Epoch 129/200\n",
      "3949/3949 [==============================] - 12s 3ms/step - loss: 2.6361 - accuracy: 0.0256 - val_loss: 2.6401 - val_accuracy: 0.0263\n",
      "Epoch 130/200\n",
      "3949/3949 [==============================] - 12s 3ms/step - loss: 2.6361 - accuracy: 0.0256 - val_loss: 2.6392 - val_accuracy: 0.0263\n",
      "Epoch 131/200\n",
      "3949/3949 [==============================] - 12s 3ms/step - loss: 2.6364 - accuracy: 0.0256 - val_loss: 2.6392 - val_accuracy: 0.0263\n",
      "Epoch 132/200\n",
      "3949/3949 [==============================] - 12s 3ms/step - loss: 2.6362 - accuracy: 0.0256 - val_loss: 2.6417 - val_accuracy: 0.0263\n",
      "Epoch 133/200\n",
      "3949/3949 [==============================] - 12s 3ms/step - loss: 2.6366 - accuracy: 0.0256 - val_loss: 2.6391 - val_accuracy: 0.0263\n",
      "Epoch 134/200\n",
      "3949/3949 [==============================] - 13s 3ms/step - loss: 2.6364 - accuracy: 0.0256 - val_loss: 2.6396 - val_accuracy: 0.0263\n",
      "Epoch 135/200\n",
      "3949/3949 [==============================] - 13s 3ms/step - loss: 2.6362 - accuracy: 0.0256 - val_loss: 2.6392 - val_accuracy: 0.0263\n",
      "Epoch 136/200\n",
      "3949/3949 [==============================] - 12s 3ms/step - loss: 2.6363 - accuracy: 0.0256 - val_loss: 2.6409 - val_accuracy: 0.0263\n",
      "Epoch 137/200\n",
      "3949/3949 [==============================] - 12s 3ms/step - loss: 2.6363 - accuracy: 0.0256 - val_loss: 2.6391 - val_accuracy: 0.0263\n",
      "Epoch 138/200\n",
      "3949/3949 [==============================] - 13s 3ms/step - loss: 2.6361 - accuracy: 0.0256 - val_loss: 2.6391 - val_accuracy: 0.0263\n",
      "Epoch 139/200\n",
      "3949/3949 [==============================] - 14s 4ms/step - loss: 2.6362 - accuracy: 0.0256 - val_loss: 2.6395 - val_accuracy: 0.0263\n",
      "Epoch 140/200\n",
      "3949/3949 [==============================] - 16s 4ms/step - loss: 2.6362 - accuracy: 0.0256 - val_loss: 2.6393 - val_accuracy: 0.0263\n",
      "Epoch 141/200\n",
      "3949/3949 [==============================] - 12s 3ms/step - loss: 2.6360 - accuracy: 0.0256 - val_loss: 2.6404 - val_accuracy: 0.0263\n",
      "Epoch 142/200\n",
      "3949/3949 [==============================] - 12s 3ms/step - loss: 2.6364 - accuracy: 0.0256 - val_loss: 2.6390 - val_accuracy: 0.0263\n",
      "Epoch 143/200\n",
      "3949/3949 [==============================] - 12s 3ms/step - loss: 2.6363 - accuracy: 0.0256 - val_loss: 2.6407 - val_accuracy: 0.0263\n",
      "Epoch 144/200\n",
      "3949/3949 [==============================] - 12s 3ms/step - loss: 2.6363 - accuracy: 0.0256 - val_loss: 2.6397 - val_accuracy: 0.0263\n",
      "Epoch 145/200\n",
      "3949/3949 [==============================] - 12s 3ms/step - loss: 2.6362 - accuracy: 0.0256 - val_loss: 2.6421 - val_accuracy: 0.0263\n",
      "Epoch 146/200\n",
      "3949/3949 [==============================] - 12s 3ms/step - loss: 2.6362 - accuracy: 0.0256 - val_loss: 2.6390 - val_accuracy: 0.0263\n",
      "Epoch 147/200\n",
      "3949/3949 [==============================] - 12s 3ms/step - loss: 2.6363 - accuracy: 0.0256 - val_loss: 2.6390 - val_accuracy: 0.0263\n",
      "Epoch 148/200\n",
      "3949/3949 [==============================] - 12s 3ms/step - loss: 2.6363 - accuracy: 0.0256 - val_loss: 2.6390 - val_accuracy: 0.0263\n",
      "Epoch 149/200\n",
      "3949/3949 [==============================] - 12s 3ms/step - loss: 2.6360 - accuracy: 0.0256 - val_loss: 2.6390 - val_accuracy: 0.0263\n",
      "Epoch 150/200\n",
      "3949/3949 [==============================] - 12s 3ms/step - loss: 2.6360 - accuracy: 0.0256 - val_loss: 2.6417 - val_accuracy: 0.0263\n",
      "Epoch 151/200\n",
      "3949/3949 [==============================] - 12s 3ms/step - loss: 2.6360 - accuracy: 0.0256 - val_loss: 2.6392 - val_accuracy: 0.0263\n",
      "Epoch 152/200\n",
      "3949/3949 [==============================] - 12s 3ms/step - loss: 2.6360 - accuracy: 0.0256 - val_loss: 2.6391 - val_accuracy: 0.0263\n",
      "Epoch 153/200\n",
      "3949/3949 [==============================] - 12s 3ms/step - loss: 2.6358 - accuracy: 0.0256 - val_loss: 2.6390 - val_accuracy: 0.0263\n",
      "Epoch 154/200\n",
      "3949/3949 [==============================] - 12s 3ms/step - loss: 2.6361 - accuracy: 0.0256 - val_loss: 2.6390 - val_accuracy: 0.0263\n",
      "Epoch 155/200\n",
      "3949/3949 [==============================] - 12s 3ms/step - loss: 2.6362 - accuracy: 0.0256 - val_loss: 2.6393 - val_accuracy: 0.0263\n",
      "Epoch 156/200\n",
      "3949/3949 [==============================] - 12s 3ms/step - loss: 2.6364 - accuracy: 0.0256 - val_loss: 2.6395 - val_accuracy: 0.0263\n",
      "Epoch 157/200\n",
      "3949/3949 [==============================] - 12s 3ms/step - loss: 2.6363 - accuracy: 0.0256 - val_loss: 2.6407 - val_accuracy: 0.0263\n",
      "Epoch 158/200\n",
      "3949/3949 [==============================] - 12s 3ms/step - loss: 2.6362 - accuracy: 0.0256 - val_loss: 2.6390 - val_accuracy: 0.0263\n",
      "Epoch 159/200\n",
      "3949/3949 [==============================] - 13s 3ms/step - loss: 2.6364 - accuracy: 0.0256 - val_loss: 2.6391 - val_accuracy: 0.0263\n",
      "Epoch 160/200\n",
      "3949/3949 [==============================] - 13s 3ms/step - loss: 2.6362 - accuracy: 0.0256 - val_loss: 2.6390 - val_accuracy: 0.0263\n",
      "Epoch 161/200\n",
      "3949/3949 [==============================] - 12s 3ms/step - loss: 2.6360 - accuracy: 0.0256 - val_loss: 2.6390 - val_accuracy: 0.0263\n",
      "Epoch 162/200\n",
      "3949/3949 [==============================] - 13s 3ms/step - loss: 2.6363 - accuracy: 0.0256 - val_loss: 2.6390 - val_accuracy: 0.0263\n",
      "Epoch 163/200\n",
      "3949/3949 [==============================] - 13s 3ms/step - loss: 2.6361 - accuracy: 0.0256 - val_loss: 2.6419 - val_accuracy: 0.0263\n",
      "Epoch 164/200\n",
      "3949/3949 [==============================] - 12s 3ms/step - loss: 2.6363 - accuracy: 0.0256 - val_loss: 2.6397 - val_accuracy: 0.0263\n",
      "Epoch 165/200\n",
      "3949/3949 [==============================] - 12s 3ms/step - loss: 2.6362 - accuracy: 0.0256 - val_loss: 2.6391 - val_accuracy: 0.0263\n",
      "Epoch 166/200\n",
      "3949/3949 [==============================] - 12s 3ms/step - loss: 2.6361 - accuracy: 0.0256 - val_loss: 2.6390 - val_accuracy: 0.0263\n",
      "Epoch 167/200\n"
     ]
    },
    {
     "name": "stdout",
     "output_type": "stream",
     "text": [
      "3949/3949 [==============================] - 12s 3ms/step - loss: 2.6362 - accuracy: 0.0256 - val_loss: 2.6390 - val_accuracy: 0.0263\n",
      "Epoch 168/200\n",
      "3949/3949 [==============================] - 12s 3ms/step - loss: 2.6363 - accuracy: 0.0256 - val_loss: 2.6403 - val_accuracy: 0.0263\n",
      "Epoch 169/200\n",
      "3949/3949 [==============================] - 12s 3ms/step - loss: 2.6362 - accuracy: 0.0256 - val_loss: 2.6392 - val_accuracy: 0.0263\n",
      "Epoch 170/200\n",
      "3949/3949 [==============================] - 12s 3ms/step - loss: 2.6360 - accuracy: 0.0256 - val_loss: 2.6401 - val_accuracy: 0.0263\n",
      "Epoch 171/200\n",
      "3949/3949 [==============================] - 12s 3ms/step - loss: 2.6361 - accuracy: 0.0256 - val_loss: 2.6394 - val_accuracy: 0.0263\n",
      "Epoch 172/200\n",
      "3949/3949 [==============================] - 12s 3ms/step - loss: 2.6360 - accuracy: 0.0256 - val_loss: 2.6390 - val_accuracy: 0.0263\n",
      "Epoch 173/200\n",
      "3949/3949 [==============================] - 12s 3ms/step - loss: 2.6362 - accuracy: 0.0256 - val_loss: 2.6390 - val_accuracy: 0.0263\n",
      "Epoch 174/200\n",
      "3949/3949 [==============================] - 12s 3ms/step - loss: 2.6362 - accuracy: 0.0256 - val_loss: 2.6394 - val_accuracy: 0.0263\n",
      "Epoch 175/200\n",
      "3949/3949 [==============================] - 12s 3ms/step - loss: 2.6363 - accuracy: 0.0256 - val_loss: 2.6400 - val_accuracy: 0.0263\n",
      "Epoch 176/200\n",
      "3949/3949 [==============================] - 12s 3ms/step - loss: 2.6361 - accuracy: 0.0256 - val_loss: 2.6390 - val_accuracy: 0.0263\n",
      "Epoch 177/200\n",
      "3949/3949 [==============================] - 12s 3ms/step - loss: 2.6364 - accuracy: 0.0256 - val_loss: 2.6398 - val_accuracy: 0.0263\n",
      "Epoch 178/200\n",
      "3949/3949 [==============================] - 12s 3ms/step - loss: 2.6358 - accuracy: 0.0256 - val_loss: 2.6402 - val_accuracy: 0.0263\n",
      "Epoch 179/200\n",
      "3949/3949 [==============================] - 12s 3ms/step - loss: 2.6363 - accuracy: 0.0256 - val_loss: 2.6390 - val_accuracy: 0.0263\n",
      "Epoch 180/200\n",
      "3949/3949 [==============================] - 12s 3ms/step - loss: 2.6363 - accuracy: 0.0256 - val_loss: 2.6391 - val_accuracy: 0.0263\n",
      "Epoch 181/200\n",
      "3949/3949 [==============================] - 12s 3ms/step - loss: 2.6360 - accuracy: 0.0256 - val_loss: 2.6394 - val_accuracy: 0.0263\n",
      "Epoch 182/200\n",
      "3949/3949 [==============================] - 12s 3ms/step - loss: 2.6361 - accuracy: 0.0256 - val_loss: 2.6391 - val_accuracy: 0.0263\n",
      "Epoch 183/200\n",
      "3949/3949 [==============================] - 12s 3ms/step - loss: 2.6362 - accuracy: 0.0256 - val_loss: 2.6418 - val_accuracy: 0.0263\n",
      "Epoch 184/200\n",
      "3949/3949 [==============================] - 12s 3ms/step - loss: 2.6362 - accuracy: 0.0256 - val_loss: 2.6393 - val_accuracy: 0.0263\n",
      "Epoch 185/200\n",
      "3949/3949 [==============================] - 12s 3ms/step - loss: 2.6362 - accuracy: 0.0256 - val_loss: 2.6393 - val_accuracy: 0.0263\n",
      "Epoch 186/200\n",
      "3949/3949 [==============================] - 12s 3ms/step - loss: 2.6360 - accuracy: 0.0256 - val_loss: 2.6398 - val_accuracy: 0.0263\n",
      "Epoch 187/200\n",
      "3949/3949 [==============================] - 12s 3ms/step - loss: 2.6363 - accuracy: 0.0256 - val_loss: 2.6391 - val_accuracy: 0.0263\n",
      "Epoch 188/200\n",
      "3949/3949 [==============================] - 13s 3ms/step - loss: 2.6360 - accuracy: 0.0256 - val_loss: 2.6413 - val_accuracy: 0.0263\n",
      "Epoch 189/200\n",
      "3949/3949 [==============================] - 12s 3ms/step - loss: 2.6362 - accuracy: 0.0256 - val_loss: 2.6393 - val_accuracy: 0.0263\n",
      "Epoch 190/200\n",
      "3949/3949 [==============================] - 12s 3ms/step - loss: 2.6364 - accuracy: 0.0256 - val_loss: 2.6399 - val_accuracy: 0.0263\n",
      "Epoch 191/200\n",
      "3949/3949 [==============================] - 12s 3ms/step - loss: 2.6362 - accuracy: 0.0256 - val_loss: 2.6390 - val_accuracy: 0.0263\n",
      "Epoch 192/200\n",
      "3949/3949 [==============================] - 12s 3ms/step - loss: 2.6362 - accuracy: 0.0256 - val_loss: 2.6391 - val_accuracy: 0.0263\n",
      "Epoch 193/200\n",
      "3949/3949 [==============================] - 12s 3ms/step - loss: 2.6361 - accuracy: 0.0256 - val_loss: 2.6390 - val_accuracy: 0.0263\n",
      "Epoch 194/200\n",
      "3949/3949 [==============================] - 12s 3ms/step - loss: 2.6361 - accuracy: 0.0256 - val_loss: 2.6399 - val_accuracy: 0.0263\n",
      "Epoch 195/200\n",
      "3949/3949 [==============================] - 12s 3ms/step - loss: 2.6359 - accuracy: 0.0256 - val_loss: 2.6392 - val_accuracy: 0.0263\n",
      "Epoch 196/200\n",
      "3949/3949 [==============================] - 12s 3ms/step - loss: 2.6362 - accuracy: 0.0256 - val_loss: 2.6398 - val_accuracy: 0.0263\n",
      "Epoch 197/200\n",
      "3949/3949 [==============================] - 12s 3ms/step - loss: 2.6361 - accuracy: 0.0256 - val_loss: 2.6394 - val_accuracy: 0.0263\n",
      "Epoch 198/200\n",
      "3949/3949 [==============================] - 12s 3ms/step - loss: 2.6360 - accuracy: 0.0256 - val_loss: 2.6390 - val_accuracy: 0.0263\n",
      "Epoch 199/200\n",
      "3949/3949 [==============================] - 12s 3ms/step - loss: 2.6362 - accuracy: 0.0256 - val_loss: 2.6390 - val_accuracy: 0.0263\n",
      "Epoch 200/200\n",
      "3949/3949 [==============================] - 12s 3ms/step - loss: 2.6360 - accuracy: 0.0256 - val_loss: 2.6395 - val_accuracy: 0.0263\n"
     ]
    }
   ],
   "source": [
    "# same as previous only in the end we addee callbacks=callback\n",
    "history5 = model.fit(X_train, y_train, validation_data=(X_test, y_test), epochs=200)"
   ]
  },
  {
   "cell_type": "code",
   "execution_count": 100,
   "metadata": {},
   "outputs": [
    {
     "data": {
      "text/plain": [
       "[<matplotlib.lines.Line2D at 0x29684ae9550>]"
      ]
     },
     "execution_count": 100,
     "metadata": {},
     "output_type": "execute_result"
    },
    {
     "data": {
      "image/png": "[encoded data removed]",
      "text/plain": [
       "<Figure size 432x288 with 1 Axes>"
      ]
     },
     "metadata": {
      "needs_background": "light"
     },
     "output_type": "display_data"
    }
   ],
   "source": [
    "plt.plot(history5.history['loss'])\n",
    "plt.plot(history5.history['val_loss'])"
   ]
  },
  {
   "cell_type": "code",
   "execution_count": 101,
   "metadata": {},
   "outputs": [
    {
     "data": {
      "text/plain": [
       "[<matplotlib.lines.Line2D at 0x29684b293a0>]"
      ]
     },
     "execution_count": 101,
     "metadata": {},
     "output_type": "execute_result"
    },
    {
     "data": {
      "image/png": "[encoded data removed]",
      "text/plain": [
       "<Figure size 432x288 with 1 Axes>"
      ]
     },
     "metadata": {
      "needs_background": "light"
     },
     "output_type": "display_data"
    }
   ],
   "source": [
    "plt.plot(history5.history['accuracy'])\n",
    "plt.plot(history5.history['val_accuracy'])"
   ]
  },
  {
   "cell_type": "code",
   "execution_count": 103,
   "metadata": {},
   "outputs": [
    {
     "name": "stdout",
     "output_type": "stream",
     "text": [
      "1693/1693 [==============================] - 3s 2ms/step\n"
     ]
    }
   ],
   "source": [
    "# Prediction\n",
    "y_pred5= model.predict(X_test)"
   ]
  },
  {
   "cell_type": "code",
   "execution_count": 104,
   "metadata": {},
   "outputs": [
    {
     "name": "stdout",
     "output_type": "stream",
     "text": [
      "MAE 1.4229267370983474\n",
      "MSE 2.639511775451963\n",
      "R2 -0.00019886410548308753\n",
      "RMSE 1.6246574332615362\n"
     ]
    }
   ],
   "source": [
    "# Model Performance\n",
    "\n",
    "# mean_absolute_error\n",
    "## There is no correct value for MSE. Simply put, the lower the value the better and 0 means the model is perfect\n",
    "print(\"MAE\",mean_absolute_error(y_test,y_pred5))\n",
    "\n",
    "# There is no correct value for MSE. Simply put, the lower the value the better and 0 means the model is perfect.\n",
    "print(\"MSE\",mean_squared_error(y_test,y_pred5))\n",
    "\n",
    "# storing the r2 score  \n",
    "r2 = r2_score(y_test,y_pred5)\n",
    "print(\"R2\",r2)\n",
    "\n",
    "# do direct function for RMSE so we use np.sqrt()\n",
    "# when u have the outlier it is a better metrics \n",
    "print(\"RMSE\",np.sqrt(mean_squared_error(y_test,y_pred5)))"
   ]
  },
  {
   "cell_type": "code",
   "execution_count": null,
   "metadata": {},
   "outputs": [],
   "source": []
  }
 ],
 "metadata": {
  "kernelspec": {
   "display_name": "Python 3",
   "language": "python",
   "name": "python3"
  },
  "language_info": {
   "codemirror_mode": {
    "name": "ipython",
    "version": 3
   },
   "file_extension": ".py",
   "mimetype": "text/x-python",
   "name": "python",
   "nbconvert_exporter": "python",
   "pygments_lexer": "ipython3",
   "version": "3.8.5"
  }
 },
 "nbformat": 4,
 "nbformat_minor": 4
}
