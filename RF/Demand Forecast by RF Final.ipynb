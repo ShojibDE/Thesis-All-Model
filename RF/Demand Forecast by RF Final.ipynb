{
 "cells": [
  {
   "cell_type": "code",
   "execution_count": 1,
   "metadata": {},
   "outputs": [],
   "source": [
    "# Import all necessary library\n",
    "import pandas as pd \n",
    "import numpy as np\n",
    "\n",
    "# visualization library\n",
    "import matplotlib.pyplot as plt"
   ]
  },
  {
   "cell_type": "code",
   "execution_count": 2,
   "metadata": {},
   "outputs": [],
   "source": [
    "# Loading the dataset\n",
    "\n",
    "df = pd.read_csv(r'E:\\Hochschule Ansbach\\Thesis\\DATA\\SCM_data.csv',date_parser=True )"
   ]
  },
  {
   "cell_type": "code",
   "execution_count": 3,
   "metadata": {},
   "outputs": [
    {
     "data": {
      "text/html": [
       "<div>\n",
       "<style scoped>\n",
       "    .dataframe tbody tr th:only-of-type {\n",
       "        vertical-align: middle;\n",
       "    }\n",
       "\n",
       "    .dataframe tbody tr th {\n",
       "        vertical-align: top;\n",
       "    }\n",
       "\n",
       "    .dataframe thead th {\n",
       "        text-align: right;\n",
       "    }\n",
       "</style>\n",
       "<table border=\"1\" class=\"dataframe\">\n",
       "  <thead>\n",
       "    <tr style=\"text-align: right;\">\n",
       "      <th></th>\n",
       "      <th>Unnamed: 0</th>\n",
       "      <th>Actual shipping days</th>\n",
       "      <th>Estimated shipping days</th>\n",
       "      <th>Delivery Status</th>\n",
       "      <th>Late_risk</th>\n",
       "      <th>Category</th>\n",
       "      <th>Customer City</th>\n",
       "      <th>Customer Segment</th>\n",
       "      <th>Department</th>\n",
       "      <th>Orders Date</th>\n",
       "      <th>Order Item Product Price</th>\n",
       "      <th>Quantity</th>\n",
       "      <th>Sales</th>\n",
       "      <th>Order Item Total</th>\n",
       "      <th>Order Status</th>\n",
       "      <th>Product Name</th>\n",
       "      <th>Product Price</th>\n",
       "      <th>Shipping date</th>\n",
       "      <th>Shipping Mode</th>\n",
       "    </tr>\n",
       "  </thead>\n",
       "  <tbody>\n",
       "    <tr>\n",
       "      <th>58178</th>\n",
       "      <td>58178</td>\n",
       "      <td>2</td>\n",
       "      <td>4</td>\n",
       "      <td>Advance shipping</td>\n",
       "      <td>0</td>\n",
       "      <td>Electronics</td>\n",
       "      <td>Caguas</td>\n",
       "      <td>Consumer</td>\n",
       "      <td>Outdoors</td>\n",
       "      <td>03-12-15 19:10</td>\n",
       "      <td>47.990002</td>\n",
       "      <td>5</td>\n",
       "      <td>239.949997</td>\n",
       "      <td>199.160004</td>\n",
       "      <td>COMPLETE</td>\n",
       "      <td>Titleist Pro V1x Golf Balls</td>\n",
       "      <td>47.990002</td>\n",
       "      <td>3/14/2015 19:10</td>\n",
       "      <td>Standard Class</td>\n",
       "    </tr>\n",
       "    <tr>\n",
       "      <th>8908</th>\n",
       "      <td>8908</td>\n",
       "      <td>6</td>\n",
       "      <td>4</td>\n",
       "      <td>Late delivery</td>\n",
       "      <td>1</td>\n",
       "      <td>Cleats</td>\n",
       "      <td>Virginia Beach</td>\n",
       "      <td>Corporate</td>\n",
       "      <td>Apparel</td>\n",
       "      <td>07-08-15 1:50</td>\n",
       "      <td>59.990002</td>\n",
       "      <td>2</td>\n",
       "      <td>119.980003</td>\n",
       "      <td>113.980003</td>\n",
       "      <td>ON_HOLD</td>\n",
       "      <td>Perfect Fitness Perfect Rip Deck</td>\n",
       "      <td>59.990002</td>\n",
       "      <td>7/14/2015 1:50</td>\n",
       "      <td>Standard Class</td>\n",
       "    </tr>\n",
       "    <tr>\n",
       "      <th>94645</th>\n",
       "      <td>94645</td>\n",
       "      <td>4</td>\n",
       "      <td>4</td>\n",
       "      <td>Shipping on time</td>\n",
       "      <td>0</td>\n",
       "      <td>Cardio Equipment</td>\n",
       "      <td>Henderson</td>\n",
       "      <td>Consumer</td>\n",
       "      <td>Footwear</td>\n",
       "      <td>6/25/2016 19:44</td>\n",
       "      <td>99.989998</td>\n",
       "      <td>1</td>\n",
       "      <td>99.989998</td>\n",
       "      <td>98.989998</td>\n",
       "      <td>COMPLETE</td>\n",
       "      <td>Nike Men's Free 5.0+ Running Shoe</td>\n",
       "      <td>99.989998</td>\n",
       "      <td>6/29/2016 19:44</td>\n",
       "      <td>Standard Class</td>\n",
       "    </tr>\n",
       "    <tr>\n",
       "      <th>51163</th>\n",
       "      <td>51163</td>\n",
       "      <td>2</td>\n",
       "      <td>1</td>\n",
       "      <td>Late delivery</td>\n",
       "      <td>1</td>\n",
       "      <td>Golf Shoes</td>\n",
       "      <td>North Las Vegas</td>\n",
       "      <td>Consumer</td>\n",
       "      <td>Outdoors</td>\n",
       "      <td>4/27/2017 12:39</td>\n",
       "      <td>108.000000</td>\n",
       "      <td>1</td>\n",
       "      <td>108.000000</td>\n",
       "      <td>100.440002</td>\n",
       "      <td>COMPLETE</td>\n",
       "      <td>LIJA Women's Button Golf Dress</td>\n",
       "      <td>108.000000</td>\n",
       "      <td>4/29/2017 12:39</td>\n",
       "      <td>First Class</td>\n",
       "    </tr>\n",
       "    <tr>\n",
       "      <th>108345</th>\n",
       "      <td>108345</td>\n",
       "      <td>5</td>\n",
       "      <td>4</td>\n",
       "      <td>Late delivery</td>\n",
       "      <td>1</td>\n",
       "      <td>Cleats</td>\n",
       "      <td>Saint Louis</td>\n",
       "      <td>Consumer</td>\n",
       "      <td>Apparel</td>\n",
       "      <td>7/20/2015 4:16</td>\n",
       "      <td>59.990002</td>\n",
       "      <td>4</td>\n",
       "      <td>239.960007</td>\n",
       "      <td>239.960007</td>\n",
       "      <td>PENDING_PAYMENT</td>\n",
       "      <td>Perfect Fitness Perfect Rip Deck</td>\n",
       "      <td>59.990002</td>\n",
       "      <td>7/25/2015 4:16</td>\n",
       "      <td>Standard Class</td>\n",
       "    </tr>\n",
       "    <tr>\n",
       "      <th>103700</th>\n",
       "      <td>103700</td>\n",
       "      <td>5</td>\n",
       "      <td>4</td>\n",
       "      <td>Late delivery</td>\n",
       "      <td>1</td>\n",
       "      <td>Water Sports</td>\n",
       "      <td>Caguas</td>\n",
       "      <td>Corporate</td>\n",
       "      <td>Fan Shop</td>\n",
       "      <td>8/25/2015 0:22</td>\n",
       "      <td>199.990005</td>\n",
       "      <td>1</td>\n",
       "      <td>199.990005</td>\n",
       "      <td>185.990005</td>\n",
       "      <td>COMPLETE</td>\n",
       "      <td>Pelican Sunstream 100 Kayak</td>\n",
       "      <td>199.990005</td>\n",
       "      <td>8/30/2015 0:22</td>\n",
       "      <td>Standard Class</td>\n",
       "    </tr>\n",
       "    <tr>\n",
       "      <th>110245</th>\n",
       "      <td>110245</td>\n",
       "      <td>2</td>\n",
       "      <td>1</td>\n",
       "      <td>Late delivery</td>\n",
       "      <td>1</td>\n",
       "      <td>Cleats</td>\n",
       "      <td>Hesperia</td>\n",
       "      <td>Consumer</td>\n",
       "      <td>Apparel</td>\n",
       "      <td>12/30/2015 6:40</td>\n",
       "      <td>59.990002</td>\n",
       "      <td>1</td>\n",
       "      <td>59.990002</td>\n",
       "      <td>56.689999</td>\n",
       "      <td>PENDING</td>\n",
       "      <td>Perfect Fitness Perfect Rip Deck</td>\n",
       "      <td>59.990002</td>\n",
       "      <td>01-01-16 6:40</td>\n",
       "      <td>First Class</td>\n",
       "    </tr>\n",
       "    <tr>\n",
       "      <th>121298</th>\n",
       "      <td>121298</td>\n",
       "      <td>5</td>\n",
       "      <td>4</td>\n",
       "      <td>Late delivery</td>\n",
       "      <td>1</td>\n",
       "      <td>Baseball &amp; Softball</td>\n",
       "      <td>Mission Viejo</td>\n",
       "      <td>Consumer</td>\n",
       "      <td>Fitness</td>\n",
       "      <td>05-01-17 5:38</td>\n",
       "      <td>159.990005</td>\n",
       "      <td>1</td>\n",
       "      <td>159.990005</td>\n",
       "      <td>148.789993</td>\n",
       "      <td>PENDING</td>\n",
       "      <td>adidas Brazuca 2014 Official Match Ball</td>\n",
       "      <td>159.990005</td>\n",
       "      <td>05-06-17 5:38</td>\n",
       "      <td>Standard Class</td>\n",
       "    </tr>\n",
       "    <tr>\n",
       "      <th>84797</th>\n",
       "      <td>84797</td>\n",
       "      <td>3</td>\n",
       "      <td>2</td>\n",
       "      <td>Late delivery</td>\n",
       "      <td>1</td>\n",
       "      <td>Cleats</td>\n",
       "      <td>Sacramento</td>\n",
       "      <td>Corporate</td>\n",
       "      <td>Apparel</td>\n",
       "      <td>01-08-17 14:01</td>\n",
       "      <td>59.990002</td>\n",
       "      <td>5</td>\n",
       "      <td>299.950012</td>\n",
       "      <td>263.959992</td>\n",
       "      <td>PROCESSING</td>\n",
       "      <td>Perfect Fitness Perfect Rip Deck</td>\n",
       "      <td>59.990002</td>\n",
       "      <td>01-11-17 14:01</td>\n",
       "      <td>Second Class</td>\n",
       "    </tr>\n",
       "    <tr>\n",
       "      <th>102200</th>\n",
       "      <td>102200</td>\n",
       "      <td>4</td>\n",
       "      <td>4</td>\n",
       "      <td>Shipping on time</td>\n",
       "      <td>0</td>\n",
       "      <td>Water Sports</td>\n",
       "      <td>Caguas</td>\n",
       "      <td>Consumer</td>\n",
       "      <td>Fan Shop</td>\n",
       "      <td>11/30/2015 21:04</td>\n",
       "      <td>199.990005</td>\n",
       "      <td>1</td>\n",
       "      <td>199.990005</td>\n",
       "      <td>197.990005</td>\n",
       "      <td>PENDING_PAYMENT</td>\n",
       "      <td>Pelican Sunstream 100 Kayak</td>\n",
       "      <td>199.990005</td>\n",
       "      <td>12-04-15 21:04</td>\n",
       "      <td>Standard Class</td>\n",
       "    </tr>\n",
       "  </tbody>\n",
       "</table>\n",
       "</div>"
      ],
      "text/plain": [
       "        Unnamed: 0  Actual shipping days  Estimated shipping days  \\\n",
       "58178        58178                     2                        4   \n",
       "8908          8908                     6                        4   \n",
       "94645        94645                     4                        4   \n",
       "51163        51163                     2                        1   \n",
       "108345      108345                     5                        4   \n",
       "103700      103700                     5                        4   \n",
       "110245      110245                     2                        1   \n",
       "121298      121298                     5                        4   \n",
       "84797        84797                     3                        2   \n",
       "102200      102200                     4                        4   \n",
       "\n",
       "         Delivery Status  Late_risk             Category    Customer City  \\\n",
       "58178   Advance shipping          0          Electronics           Caguas   \n",
       "8908       Late delivery          1               Cleats   Virginia Beach   \n",
       "94645   Shipping on time          0     Cardio Equipment        Henderson   \n",
       "51163      Late delivery          1           Golf Shoes  North Las Vegas   \n",
       "108345     Late delivery          1               Cleats      Saint Louis   \n",
       "103700     Late delivery          1         Water Sports           Caguas   \n",
       "110245     Late delivery          1               Cleats         Hesperia   \n",
       "121298     Late delivery          1  Baseball & Softball    Mission Viejo   \n",
       "84797      Late delivery          1               Cleats       Sacramento   \n",
       "102200  Shipping on time          0         Water Sports           Caguas   \n",
       "\n",
       "       Customer Segment Department       Orders Date  \\\n",
       "58178          Consumer   Outdoors    03-12-15 19:10   \n",
       "8908          Corporate    Apparel     07-08-15 1:50   \n",
       "94645          Consumer   Footwear   6/25/2016 19:44   \n",
       "51163          Consumer   Outdoors   4/27/2017 12:39   \n",
       "108345         Consumer    Apparel    7/20/2015 4:16   \n",
       "103700        Corporate   Fan Shop    8/25/2015 0:22   \n",
       "110245         Consumer    Apparel   12/30/2015 6:40   \n",
       "121298         Consumer    Fitness     05-01-17 5:38   \n",
       "84797         Corporate    Apparel    01-08-17 14:01   \n",
       "102200         Consumer   Fan Shop  11/30/2015 21:04   \n",
       "\n",
       "        Order Item Product Price  Quantity       Sales  Order Item Total  \\\n",
       "58178                  47.990002         5  239.949997        199.160004   \n",
       "8908                   59.990002         2  119.980003        113.980003   \n",
       "94645                  99.989998         1   99.989998         98.989998   \n",
       "51163                 108.000000         1  108.000000        100.440002   \n",
       "108345                 59.990002         4  239.960007        239.960007   \n",
       "103700                199.990005         1  199.990005        185.990005   \n",
       "110245                 59.990002         1   59.990002         56.689999   \n",
       "121298                159.990005         1  159.990005        148.789993   \n",
       "84797                  59.990002         5  299.950012        263.959992   \n",
       "102200                199.990005         1  199.990005        197.990005   \n",
       "\n",
       "           Order Status                             Product Name  \\\n",
       "58178          COMPLETE              Titleist Pro V1x Golf Balls   \n",
       "8908            ON_HOLD         Perfect Fitness Perfect Rip Deck   \n",
       "94645          COMPLETE        Nike Men's Free 5.0+ Running Shoe   \n",
       "51163          COMPLETE           LIJA Women's Button Golf Dress   \n",
       "108345  PENDING_PAYMENT         Perfect Fitness Perfect Rip Deck   \n",
       "103700         COMPLETE              Pelican Sunstream 100 Kayak   \n",
       "110245          PENDING         Perfect Fitness Perfect Rip Deck   \n",
       "121298          PENDING  adidas Brazuca 2014 Official Match Ball   \n",
       "84797        PROCESSING         Perfect Fitness Perfect Rip Deck   \n",
       "102200  PENDING_PAYMENT              Pelican Sunstream 100 Kayak   \n",
       "\n",
       "        Product Price    Shipping date   Shipping Mode  \n",
       "58178       47.990002  3/14/2015 19:10  Standard Class  \n",
       "8908        59.990002   7/14/2015 1:50  Standard Class  \n",
       "94645       99.989998  6/29/2016 19:44  Standard Class  \n",
       "51163      108.000000  4/29/2017 12:39     First Class  \n",
       "108345      59.990002   7/25/2015 4:16  Standard Class  \n",
       "103700     199.990005   8/30/2015 0:22  Standard Class  \n",
       "110245      59.990002    01-01-16 6:40     First Class  \n",
       "121298     159.990005    05-06-17 5:38  Standard Class  \n",
       "84797       59.990002   01-11-17 14:01    Second Class  \n",
       "102200     199.990005   12-04-15 21:04  Standard Class  "
      ]
     },
     "execution_count": 3,
     "metadata": {},
     "output_type": "execute_result"
    }
   ],
   "source": [
    "# see  randomly any 10 rows\n",
    "df.sample(10)"
   ]
  },
  {
   "cell_type": "code",
   "execution_count": 4,
   "metadata": {},
   "outputs": [],
   "source": [
    "# droping unwanted columns\n",
    "df=df.drop(columns='Unnamed: 0')"
   ]
  },
  {
   "cell_type": "code",
   "execution_count": 5,
   "metadata": {},
   "outputs": [
    {
     "data": {
      "text/html": [
       "<div>\n",
       "<style scoped>\n",
       "    .dataframe tbody tr th:only-of-type {\n",
       "        vertical-align: middle;\n",
       "    }\n",
       "\n",
       "    .dataframe tbody tr th {\n",
       "        vertical-align: top;\n",
       "    }\n",
       "\n",
       "    .dataframe thead th {\n",
       "        text-align: right;\n",
       "    }\n",
       "</style>\n",
       "<table border=\"1\" class=\"dataframe\">\n",
       "  <thead>\n",
       "    <tr style=\"text-align: right;\">\n",
       "      <th></th>\n",
       "      <th>Actual shipping days</th>\n",
       "      <th>Estimated shipping days</th>\n",
       "      <th>Delivery Status</th>\n",
       "      <th>Late_risk</th>\n",
       "      <th>Category</th>\n",
       "      <th>Customer City</th>\n",
       "      <th>Customer Segment</th>\n",
       "      <th>Department</th>\n",
       "      <th>Orders Date</th>\n",
       "      <th>Order Item Product Price</th>\n",
       "      <th>Quantity</th>\n",
       "      <th>Sales</th>\n",
       "      <th>Order Item Total</th>\n",
       "      <th>Order Status</th>\n",
       "      <th>Product Name</th>\n",
       "      <th>Product Price</th>\n",
       "      <th>Shipping date</th>\n",
       "      <th>Shipping Mode</th>\n",
       "    </tr>\n",
       "  </thead>\n",
       "  <tbody>\n",
       "    <tr>\n",
       "      <th>0</th>\n",
       "      <td>3</td>\n",
       "      <td>4</td>\n",
       "      <td>Advance shipping</td>\n",
       "      <td>0</td>\n",
       "      <td>Sporting Goods</td>\n",
       "      <td>Caguas</td>\n",
       "      <td>Consumer</td>\n",
       "      <td>Fitness</td>\n",
       "      <td>1/31/2018 22:56</td>\n",
       "      <td>327.75</td>\n",
       "      <td>1</td>\n",
       "      <td>327.75</td>\n",
       "      <td>314.640015</td>\n",
       "      <td>COMPLETE</td>\n",
       "      <td>Smart watch</td>\n",
       "      <td>327.75</td>\n",
       "      <td>02-03-18 22:56</td>\n",
       "      <td>Standard Class</td>\n",
       "    </tr>\n",
       "    <tr>\n",
       "      <th>1</th>\n",
       "      <td>5</td>\n",
       "      <td>4</td>\n",
       "      <td>Late delivery</td>\n",
       "      <td>1</td>\n",
       "      <td>Sporting Goods</td>\n",
       "      <td>Caguas</td>\n",
       "      <td>Consumer</td>\n",
       "      <td>Fitness</td>\n",
       "      <td>1/13/2018 12:27</td>\n",
       "      <td>327.75</td>\n",
       "      <td>1</td>\n",
       "      <td>327.75</td>\n",
       "      <td>311.359985</td>\n",
       "      <td>PENDING</td>\n",
       "      <td>Smart watch</td>\n",
       "      <td>327.75</td>\n",
       "      <td>1/18/2018 12:27</td>\n",
       "      <td>Standard Class</td>\n",
       "    </tr>\n",
       "    <tr>\n",
       "      <th>2</th>\n",
       "      <td>4</td>\n",
       "      <td>4</td>\n",
       "      <td>Shipping on time</td>\n",
       "      <td>0</td>\n",
       "      <td>Sporting Goods</td>\n",
       "      <td>San Jose</td>\n",
       "      <td>Consumer</td>\n",
       "      <td>Fitness</td>\n",
       "      <td>1/13/2018 12:06</td>\n",
       "      <td>327.75</td>\n",
       "      <td>1</td>\n",
       "      <td>327.75</td>\n",
       "      <td>309.720001</td>\n",
       "      <td>CLOSED</td>\n",
       "      <td>Smart watch</td>\n",
       "      <td>327.75</td>\n",
       "      <td>1/17/2018 12:06</td>\n",
       "      <td>Standard Class</td>\n",
       "    </tr>\n",
       "    <tr>\n",
       "      <th>3</th>\n",
       "      <td>3</td>\n",
       "      <td>4</td>\n",
       "      <td>Advance shipping</td>\n",
       "      <td>0</td>\n",
       "      <td>Sporting Goods</td>\n",
       "      <td>Los Angeles</td>\n",
       "      <td>Home Office</td>\n",
       "      <td>Fitness</td>\n",
       "      <td>1/13/2018 11:45</td>\n",
       "      <td>327.75</td>\n",
       "      <td>1</td>\n",
       "      <td>327.75</td>\n",
       "      <td>304.809998</td>\n",
       "      <td>COMPLETE</td>\n",
       "      <td>Smart watch</td>\n",
       "      <td>327.75</td>\n",
       "      <td>1/16/2018 11:45</td>\n",
       "      <td>Standard Class</td>\n",
       "    </tr>\n",
       "    <tr>\n",
       "      <th>4</th>\n",
       "      <td>2</td>\n",
       "      <td>4</td>\n",
       "      <td>Advance shipping</td>\n",
       "      <td>0</td>\n",
       "      <td>Sporting Goods</td>\n",
       "      <td>Caguas</td>\n",
       "      <td>Corporate</td>\n",
       "      <td>Fitness</td>\n",
       "      <td>1/13/2018 11:24</td>\n",
       "      <td>327.75</td>\n",
       "      <td>1</td>\n",
       "      <td>327.75</td>\n",
       "      <td>298.250000</td>\n",
       "      <td>PENDING_PAYMENT</td>\n",
       "      <td>Smart watch</td>\n",
       "      <td>327.75</td>\n",
       "      <td>1/15/2018 11:24</td>\n",
       "      <td>Standard Class</td>\n",
       "    </tr>\n",
       "  </tbody>\n",
       "</table>\n",
       "</div>"
      ],
      "text/plain": [
       "   Actual shipping days  Estimated shipping days   Delivery Status  Late_risk  \\\n",
       "0                     3                        4  Advance shipping          0   \n",
       "1                     5                        4     Late delivery          1   \n",
       "2                     4                        4  Shipping on time          0   \n",
       "3                     3                        4  Advance shipping          0   \n",
       "4                     2                        4  Advance shipping          0   \n",
       "\n",
       "         Category Customer City Customer Segment Department      Orders Date  \\\n",
       "0  Sporting Goods        Caguas         Consumer    Fitness  1/31/2018 22:56   \n",
       "1  Sporting Goods        Caguas         Consumer    Fitness  1/13/2018 12:27   \n",
       "2  Sporting Goods      San Jose         Consumer    Fitness  1/13/2018 12:06   \n",
       "3  Sporting Goods   Los Angeles      Home Office    Fitness  1/13/2018 11:45   \n",
       "4  Sporting Goods        Caguas        Corporate    Fitness  1/13/2018 11:24   \n",
       "\n",
       "   Order Item Product Price  Quantity   Sales  Order Item Total  \\\n",
       "0                    327.75         1  327.75        314.640015   \n",
       "1                    327.75         1  327.75        311.359985   \n",
       "2                    327.75         1  327.75        309.720001   \n",
       "3                    327.75         1  327.75        304.809998   \n",
       "4                    327.75         1  327.75        298.250000   \n",
       "\n",
       "      Order Status  Product Name  Product Price    Shipping date  \\\n",
       "0         COMPLETE  Smart watch          327.75   02-03-18 22:56   \n",
       "1          PENDING  Smart watch          327.75  1/18/2018 12:27   \n",
       "2           CLOSED  Smart watch          327.75  1/17/2018 12:06   \n",
       "3         COMPLETE  Smart watch          327.75  1/16/2018 11:45   \n",
       "4  PENDING_PAYMENT  Smart watch          327.75  1/15/2018 11:24   \n",
       "\n",
       "    Shipping Mode  \n",
       "0  Standard Class  \n",
       "1  Standard Class  \n",
       "2  Standard Class  \n",
       "3  Standard Class  \n",
       "4  Standard Class  "
      ]
     },
     "execution_count": 5,
     "metadata": {},
     "output_type": "execute_result"
    }
   ],
   "source": [
    "# printing 1st 5 rows\n",
    "df.head()"
   ]
  },
  {
   "cell_type": "code",
   "execution_count": null,
   "metadata": {},
   "outputs": [],
   "source": []
  },
  {
   "cell_type": "markdown",
   "metadata": {},
   "source": [
    "# EDA "
   ]
  },
  {
   "cell_type": "code",
   "execution_count": 6,
   "metadata": {},
   "outputs": [
    {
     "data": {
      "text/html": [
       "<div>\n",
       "<style scoped>\n",
       "    .dataframe tbody tr th:only-of-type {\n",
       "        vertical-align: middle;\n",
       "    }\n",
       "\n",
       "    .dataframe tbody tr th {\n",
       "        vertical-align: top;\n",
       "    }\n",
       "\n",
       "    .dataframe thead th {\n",
       "        text-align: right;\n",
       "    }\n",
       "</style>\n",
       "<table border=\"1\" class=\"dataframe\">\n",
       "  <thead>\n",
       "    <tr style=\"text-align: right;\">\n",
       "      <th></th>\n",
       "      <th>Actual shipping days</th>\n",
       "      <th>Estimated shipping days</th>\n",
       "      <th>Late_risk</th>\n",
       "      <th>Order Item Product Price</th>\n",
       "      <th>Quantity</th>\n",
       "      <th>Sales</th>\n",
       "      <th>Order Item Total</th>\n",
       "      <th>Product Price</th>\n",
       "    </tr>\n",
       "  </thead>\n",
       "  <tbody>\n",
       "    <tr>\n",
       "      <th>count</th>\n",
       "      <td>180519.000000</td>\n",
       "      <td>180519.000000</td>\n",
       "      <td>180519.000000</td>\n",
       "      <td>180519.000000</td>\n",
       "      <td>180519.000000</td>\n",
       "      <td>180519.000000</td>\n",
       "      <td>180519.000000</td>\n",
       "      <td>180519.000000</td>\n",
       "    </tr>\n",
       "    <tr>\n",
       "      <th>mean</th>\n",
       "      <td>3.497654</td>\n",
       "      <td>2.931847</td>\n",
       "      <td>0.548291</td>\n",
       "      <td>141.232550</td>\n",
       "      <td>2.127638</td>\n",
       "      <td>203.772096</td>\n",
       "      <td>183.107609</td>\n",
       "      <td>141.232550</td>\n",
       "    </tr>\n",
       "    <tr>\n",
       "      <th>std</th>\n",
       "      <td>1.623722</td>\n",
       "      <td>1.374449</td>\n",
       "      <td>0.497664</td>\n",
       "      <td>139.732492</td>\n",
       "      <td>1.453451</td>\n",
       "      <td>132.273077</td>\n",
       "      <td>120.043670</td>\n",
       "      <td>139.732492</td>\n",
       "    </tr>\n",
       "    <tr>\n",
       "      <th>min</th>\n",
       "      <td>0.000000</td>\n",
       "      <td>0.000000</td>\n",
       "      <td>0.000000</td>\n",
       "      <td>9.990000</td>\n",
       "      <td>1.000000</td>\n",
       "      <td>9.990000</td>\n",
       "      <td>7.490000</td>\n",
       "      <td>9.990000</td>\n",
       "    </tr>\n",
       "    <tr>\n",
       "      <th>25%</th>\n",
       "      <td>2.000000</td>\n",
       "      <td>2.000000</td>\n",
       "      <td>0.000000</td>\n",
       "      <td>50.000000</td>\n",
       "      <td>1.000000</td>\n",
       "      <td>119.980003</td>\n",
       "      <td>104.379997</td>\n",
       "      <td>50.000000</td>\n",
       "    </tr>\n",
       "    <tr>\n",
       "      <th>50%</th>\n",
       "      <td>3.000000</td>\n",
       "      <td>4.000000</td>\n",
       "      <td>1.000000</td>\n",
       "      <td>59.990002</td>\n",
       "      <td>1.000000</td>\n",
       "      <td>199.919998</td>\n",
       "      <td>163.990005</td>\n",
       "      <td>59.990002</td>\n",
       "    </tr>\n",
       "    <tr>\n",
       "      <th>75%</th>\n",
       "      <td>5.000000</td>\n",
       "      <td>4.000000</td>\n",
       "      <td>1.000000</td>\n",
       "      <td>199.990005</td>\n",
       "      <td>3.000000</td>\n",
       "      <td>299.950012</td>\n",
       "      <td>247.399994</td>\n",
       "      <td>199.990005</td>\n",
       "    </tr>\n",
       "    <tr>\n",
       "      <th>max</th>\n",
       "      <td>6.000000</td>\n",
       "      <td>4.000000</td>\n",
       "      <td>1.000000</td>\n",
       "      <td>1999.989990</td>\n",
       "      <td>5.000000</td>\n",
       "      <td>1999.989990</td>\n",
       "      <td>1939.989990</td>\n",
       "      <td>1999.989990</td>\n",
       "    </tr>\n",
       "  </tbody>\n",
       "</table>\n",
       "</div>"
      ],
      "text/plain": [
       "       Actual shipping days  Estimated shipping days      Late_risk  \\\n",
       "count         180519.000000            180519.000000  180519.000000   \n",
       "mean               3.497654                 2.931847       0.548291   \n",
       "std                1.623722                 1.374449       0.497664   \n",
       "min                0.000000                 0.000000       0.000000   \n",
       "25%                2.000000                 2.000000       0.000000   \n",
       "50%                3.000000                 4.000000       1.000000   \n",
       "75%                5.000000                 4.000000       1.000000   \n",
       "max                6.000000                 4.000000       1.000000   \n",
       "\n",
       "       Order Item Product Price       Quantity          Sales  \\\n",
       "count             180519.000000  180519.000000  180519.000000   \n",
       "mean                 141.232550       2.127638     203.772096   \n",
       "std                  139.732492       1.453451     132.273077   \n",
       "min                    9.990000       1.000000       9.990000   \n",
       "25%                   50.000000       1.000000     119.980003   \n",
       "50%                   59.990002       1.000000     199.919998   \n",
       "75%                  199.990005       3.000000     299.950012   \n",
       "max                 1999.989990       5.000000    1999.989990   \n",
       "\n",
       "       Order Item Total  Product Price  \n",
       "count     180519.000000  180519.000000  \n",
       "mean         183.107609     141.232550  \n",
       "std          120.043670     139.732492  \n",
       "min            7.490000       9.990000  \n",
       "25%          104.379997      50.000000  \n",
       "50%          163.990005      59.990002  \n",
       "75%          247.399994     199.990005  \n",
       "max         1939.989990    1999.989990  "
      ]
     },
     "execution_count": 6,
     "metadata": {},
     "output_type": "execute_result"
    }
   ],
   "source": [
    "# describe method for numeric columns\n",
    "df.describe()"
   ]
  },
  {
   "cell_type": "code",
   "execution_count": 7,
   "metadata": {},
   "outputs": [
    {
     "data": {
      "text/html": [
       "<div>\n",
       "<style scoped>\n",
       "    .dataframe tbody tr th:only-of-type {\n",
       "        vertical-align: middle;\n",
       "    }\n",
       "\n",
       "    .dataframe tbody tr th {\n",
       "        vertical-align: top;\n",
       "    }\n",
       "\n",
       "    .dataframe thead th {\n",
       "        text-align: right;\n",
       "    }\n",
       "</style>\n",
       "<table border=\"1\" class=\"dataframe\">\n",
       "  <thead>\n",
       "    <tr style=\"text-align: right;\">\n",
       "      <th></th>\n",
       "      <th>Delivery Status</th>\n",
       "      <th>Category</th>\n",
       "      <th>Customer City</th>\n",
       "      <th>Customer Segment</th>\n",
       "      <th>Department</th>\n",
       "      <th>Orders Date</th>\n",
       "      <th>Order Status</th>\n",
       "      <th>Product Name</th>\n",
       "      <th>Shipping date</th>\n",
       "      <th>Shipping Mode</th>\n",
       "    </tr>\n",
       "  </thead>\n",
       "  <tbody>\n",
       "    <tr>\n",
       "      <th>count</th>\n",
       "      <td>180519</td>\n",
       "      <td>180519</td>\n",
       "      <td>180519</td>\n",
       "      <td>180519</td>\n",
       "      <td>180519</td>\n",
       "      <td>180519</td>\n",
       "      <td>180519</td>\n",
       "      <td>180519</td>\n",
       "      <td>180519</td>\n",
       "      <td>180519</td>\n",
       "    </tr>\n",
       "    <tr>\n",
       "      <th>unique</th>\n",
       "      <td>4</td>\n",
       "      <td>50</td>\n",
       "      <td>563</td>\n",
       "      <td>3</td>\n",
       "      <td>11</td>\n",
       "      <td>65752</td>\n",
       "      <td>9</td>\n",
       "      <td>118</td>\n",
       "      <td>63701</td>\n",
       "      <td>4</td>\n",
       "    </tr>\n",
       "    <tr>\n",
       "      <th>top</th>\n",
       "      <td>Late delivery</td>\n",
       "      <td>Cleats</td>\n",
       "      <td>Caguas</td>\n",
       "      <td>Consumer</td>\n",
       "      <td>Fan Shop</td>\n",
       "      <td>9/17/2017 21:23</td>\n",
       "      <td>COMPLETE</td>\n",
       "      <td>Perfect Fitness Perfect Rip Deck</td>\n",
       "      <td>05-09-15 18:02</td>\n",
       "      <td>Standard Class</td>\n",
       "    </tr>\n",
       "    <tr>\n",
       "      <th>freq</th>\n",
       "      <td>98977</td>\n",
       "      <td>24551</td>\n",
       "      <td>66770</td>\n",
       "      <td>93504</td>\n",
       "      <td>66861</td>\n",
       "      <td>5</td>\n",
       "      <td>59491</td>\n",
       "      <td>24515</td>\n",
       "      <td>10</td>\n",
       "      <td>107752</td>\n",
       "    </tr>\n",
       "  </tbody>\n",
       "</table>\n",
       "</div>"
      ],
      "text/plain": [
       "       Delivery Status Category Customer City Customer Segment Department  \\\n",
       "count           180519   180519        180519           180519     180519   \n",
       "unique               4       50           563                3         11   \n",
       "top      Late delivery   Cleats        Caguas         Consumer   Fan Shop   \n",
       "freq             98977    24551         66770            93504      66861   \n",
       "\n",
       "            Orders Date Order Status                      Product Name  \\\n",
       "count            180519       180519                            180519   \n",
       "unique            65752            9                               118   \n",
       "top     9/17/2017 21:23     COMPLETE  Perfect Fitness Perfect Rip Deck   \n",
       "freq                  5        59491                             24515   \n",
       "\n",
       "         Shipping date   Shipping Mode  \n",
       "count           180519          180519  \n",
       "unique           63701               4  \n",
       "top     05-09-15 18:02  Standard Class  \n",
       "freq                10          107752  "
      ]
     },
     "execution_count": 7,
     "metadata": {},
     "output_type": "execute_result"
    }
   ],
   "source": [
    "# The describe method for non-numeric columns\n",
    "df.describe(exclude='number')"
   ]
  },
  {
   "cell_type": "code",
   "execution_count": 8,
   "metadata": {},
   "outputs": [
    {
     "name": "stdout",
     "output_type": "stream",
     "text": [
      "<class 'pandas.core.frame.DataFrame'>\n",
      "RangeIndex: 180519 entries, 0 to 180518\n",
      "Data columns (total 18 columns):\n",
      " #   Column                    Non-Null Count   Dtype  \n",
      "---  ------                    --------------   -----  \n",
      " 0   Actual shipping days      180519 non-null  int64  \n",
      " 1   Estimated shipping days   180519 non-null  int64  \n",
      " 2   Delivery Status           180519 non-null  object \n",
      " 3   Late_risk                 180519 non-null  int64  \n",
      " 4   Category                  180519 non-null  object \n",
      " 5   Customer City             180519 non-null  object \n",
      " 6   Customer Segment          180519 non-null  object \n",
      " 7   Department                180519 non-null  object \n",
      " 8   Orders Date               180519 non-null  object \n",
      " 9   Order Item Product Price  180519 non-null  float64\n",
      " 10  Quantity                  180519 non-null  int64  \n",
      " 11  Sales                     180519 non-null  float64\n",
      " 12  Order Item Total          180519 non-null  float64\n",
      " 13  Order Status              180519 non-null  object \n",
      " 14  Product Name              180519 non-null  object \n",
      " 15  Product Price             180519 non-null  float64\n",
      " 16  Shipping date             180519 non-null  object \n",
      " 17  Shipping Mode             180519 non-null  object \n",
      "dtypes: float64(4), int64(4), object(10)\n",
      "memory usage: 24.8+ MB\n"
     ]
    }
   ],
   "source": [
    "df.info()"
   ]
  },
  {
   "cell_type": "raw",
   "metadata": {},
   "source": [
    "# Visual EDA\n",
    "pd.plotting.scatter_matrix(df,  figsize = [20, 20],s=0.5, marker = 'D')\n",
    "\n",
    "plt.xticks(rotation=90)\n",
    "plt.show()"
   ]
  },
  {
   "cell_type": "markdown",
   "metadata": {},
   "source": [
    "# Preprocessing "
   ]
  },
  {
   "cell_type": "code",
   "execution_count": 9,
   "metadata": {},
   "outputs": [],
   "source": [
    "# Drop non relevant columns \n",
    "\n",
    "df.drop(columns=['Actual shipping days','Estimated shipping days','Product Name','Delivery Status','Shipping date', 'Order Status', 'Order Item Product Price', 'Product Price'] ,inplace=True)"
   ]
  },
  {
   "cell_type": "code",
   "execution_count": 10,
   "metadata": {},
   "outputs": [
    {
     "data": {
      "text/html": [
       "<div>\n",
       "<style scoped>\n",
       "    .dataframe tbody tr th:only-of-type {\n",
       "        vertical-align: middle;\n",
       "    }\n",
       "\n",
       "    .dataframe tbody tr th {\n",
       "        vertical-align: top;\n",
       "    }\n",
       "\n",
       "    .dataframe thead th {\n",
       "        text-align: right;\n",
       "    }\n",
       "</style>\n",
       "<table border=\"1\" class=\"dataframe\">\n",
       "  <thead>\n",
       "    <tr style=\"text-align: right;\">\n",
       "      <th></th>\n",
       "      <th>Late_risk</th>\n",
       "      <th>Category</th>\n",
       "      <th>Customer City</th>\n",
       "      <th>Customer Segment</th>\n",
       "      <th>Department</th>\n",
       "      <th>Orders Date</th>\n",
       "      <th>Quantity</th>\n",
       "      <th>Sales</th>\n",
       "      <th>Order Item Total</th>\n",
       "      <th>Shipping Mode</th>\n",
       "    </tr>\n",
       "  </thead>\n",
       "  <tbody>\n",
       "    <tr>\n",
       "      <th>0</th>\n",
       "      <td>0</td>\n",
       "      <td>Sporting Goods</td>\n",
       "      <td>Caguas</td>\n",
       "      <td>Consumer</td>\n",
       "      <td>Fitness</td>\n",
       "      <td>1/31/2018 22:56</td>\n",
       "      <td>1</td>\n",
       "      <td>327.75</td>\n",
       "      <td>314.640015</td>\n",
       "      <td>Standard Class</td>\n",
       "    </tr>\n",
       "    <tr>\n",
       "      <th>1</th>\n",
       "      <td>1</td>\n",
       "      <td>Sporting Goods</td>\n",
       "      <td>Caguas</td>\n",
       "      <td>Consumer</td>\n",
       "      <td>Fitness</td>\n",
       "      <td>1/13/2018 12:27</td>\n",
       "      <td>1</td>\n",
       "      <td>327.75</td>\n",
       "      <td>311.359985</td>\n",
       "      <td>Standard Class</td>\n",
       "    </tr>\n",
       "    <tr>\n",
       "      <th>2</th>\n",
       "      <td>0</td>\n",
       "      <td>Sporting Goods</td>\n",
       "      <td>San Jose</td>\n",
       "      <td>Consumer</td>\n",
       "      <td>Fitness</td>\n",
       "      <td>1/13/2018 12:06</td>\n",
       "      <td>1</td>\n",
       "      <td>327.75</td>\n",
       "      <td>309.720001</td>\n",
       "      <td>Standard Class</td>\n",
       "    </tr>\n",
       "    <tr>\n",
       "      <th>3</th>\n",
       "      <td>0</td>\n",
       "      <td>Sporting Goods</td>\n",
       "      <td>Los Angeles</td>\n",
       "      <td>Home Office</td>\n",
       "      <td>Fitness</td>\n",
       "      <td>1/13/2018 11:45</td>\n",
       "      <td>1</td>\n",
       "      <td>327.75</td>\n",
       "      <td>304.809998</td>\n",
       "      <td>Standard Class</td>\n",
       "    </tr>\n",
       "    <tr>\n",
       "      <th>4</th>\n",
       "      <td>0</td>\n",
       "      <td>Sporting Goods</td>\n",
       "      <td>Caguas</td>\n",
       "      <td>Corporate</td>\n",
       "      <td>Fitness</td>\n",
       "      <td>1/13/2018 11:24</td>\n",
       "      <td>1</td>\n",
       "      <td>327.75</td>\n",
       "      <td>298.250000</td>\n",
       "      <td>Standard Class</td>\n",
       "    </tr>\n",
       "  </tbody>\n",
       "</table>\n",
       "</div>"
      ],
      "text/plain": [
       "   Late_risk        Category Customer City Customer Segment Department  \\\n",
       "0          0  Sporting Goods        Caguas         Consumer    Fitness   \n",
       "1          1  Sporting Goods        Caguas         Consumer    Fitness   \n",
       "2          0  Sporting Goods      San Jose         Consumer    Fitness   \n",
       "3          0  Sporting Goods   Los Angeles      Home Office    Fitness   \n",
       "4          0  Sporting Goods        Caguas        Corporate    Fitness   \n",
       "\n",
       "       Orders Date  Quantity   Sales  Order Item Total   Shipping Mode  \n",
       "0  1/31/2018 22:56         1  327.75        314.640015  Standard Class  \n",
       "1  1/13/2018 12:27         1  327.75        311.359985  Standard Class  \n",
       "2  1/13/2018 12:06         1  327.75        309.720001  Standard Class  \n",
       "3  1/13/2018 11:45         1  327.75        304.809998  Standard Class  \n",
       "4  1/13/2018 11:24         1  327.75        298.250000  Standard Class  "
      ]
     },
     "execution_count": 10,
     "metadata": {},
     "output_type": "execute_result"
    }
   ],
   "source": [
    "# look 1st 5 rows\n",
    "df.head()"
   ]
  },
  {
   "cell_type": "markdown",
   "metadata": {},
   "source": [
    "### Limiting columns"
   ]
  },
  {
   "cell_type": "code",
   "execution_count": 11,
   "metadata": {},
   "outputs": [
    {
     "name": "stdout",
     "output_type": "stream",
     "text": [
      "Cleats                  24551\n",
      "Men's Footwear          22246\n",
      "Women's Apparel         21035\n",
      "Indoor/Outdoor Games    19298\n",
      "Fishing                 17325\n",
      "Water Sports            15540\n",
      "Camping & Hiking        13729\n",
      "Cardio Equipment        12487\n",
      "Shop By Sport           10984\n",
      "Electronics              3156\n",
      "Accessories              1780\n",
      "Golf Balls               1475\n",
      "Girls' Apparel           1201\n",
      "Golf Gloves              1070\n",
      "Trade-In                  974\n",
      "Video Games               838\n",
      "Children's Clothing       652\n",
      "Women's Clothing          650\n",
      "Baseball & Softball       632\n",
      "Hockey                    614\n",
      "Cameras                   592\n",
      "Toys                      529\n",
      "Golf Shoes                524\n",
      "Pet Supplies              492\n",
      "Garden                    484\n",
      "Crafts                    484\n",
      "DVDs                      483\n",
      "Computers                 442\n",
      "Golf Apparel              441\n",
      "Hunting & Shooting        440\n",
      "Music                     434\n",
      "Consumer Electronics      431\n",
      "Boxing & MMA              423\n",
      "Books                     405\n",
      "Kids' Golf Clubs          384\n",
      "Health and Beauty         362\n",
      "Sporting Goods            357\n",
      "Lacrosse                  343\n",
      "Tennis & Racquet          328\n",
      "Fitness Accessories       309\n",
      "Men's Golf Clubs          283\n",
      "CDs                       271\n",
      "Men's Clothing            208\n",
      "Baby                      207\n",
      "Women's Golf Clubs        181\n",
      "Soccer                    138\n",
      "Strength Training         111\n",
      "As Seen on  TV!            68\n",
      "Basketball                 67\n",
      "Golf Bags & Carts          61\n",
      "Name: Category, dtype: int64\n"
     ]
    }
   ],
   "source": [
    "# how many times each Category occure \n",
    "counts = df['Category'].value_counts()\n",
    "print(counts)"
   ]
  },
  {
   "cell_type": "code",
   "execution_count": 12,
   "metadata": {},
   "outputs": [],
   "source": [
    "# filtering and restricting the Category\n",
    "mask = df['Category'].isin(counts[counts >= 1070].index)\n",
    "df= df[mask]\n"
   ]
  },
  {
   "cell_type": "code",
   "execution_count": 13,
   "metadata": {},
   "outputs": [
    {
     "name": "stdout",
     "output_type": "stream",
     "text": [
      "Cleats                  24551\n",
      "Men's Footwear          22246\n",
      "Women's Apparel         21035\n",
      "Indoor/Outdoor Games    19298\n",
      "Fishing                 17325\n",
      "Water Sports            15540\n",
      "Camping & Hiking        13729\n",
      "Cardio Equipment        12487\n",
      "Shop By Sport           10984\n",
      "Electronics              3156\n",
      "Accessories              1780\n",
      "Golf Balls               1475\n",
      "Girls' Apparel           1201\n",
      "Golf Gloves              1070\n",
      "Name: Category, dtype: int64\n"
     ]
    }
   ],
   "source": [
    "#  how many times each Category occure  after masking\n",
    "print(df['Category'].value_counts())"
   ]
  },
  {
   "cell_type": "markdown",
   "metadata": {},
   "source": [
    "#### Encoding dummy variables"
   ]
  },
  {
   "cell_type": "raw",
   "metadata": {},
   "source": [
    "# Encoding dummy variables\n",
    "df= pd.get_dummies(df, columns=['Department','Shipping Mode'], drop_first=True)\n",
    "\n",
    "\n",
    "df.head()"
   ]
  },
  {
   "cell_type": "markdown",
   "metadata": {},
   "source": [
    "### Approach - Label Encoding on \"Customer Segment column\""
   ]
  },
  {
   "cell_type": "code",
   "execution_count": 14,
   "metadata": {},
   "outputs": [
    {
     "data": {
      "text/html": [
       "<div>\n",
       "<style scoped>\n",
       "    .dataframe tbody tr th:only-of-type {\n",
       "        vertical-align: middle;\n",
       "    }\n",
       "\n",
       "    .dataframe tbody tr th {\n",
       "        vertical-align: top;\n",
       "    }\n",
       "\n",
       "    .dataframe thead th {\n",
       "        text-align: right;\n",
       "    }\n",
       "</style>\n",
       "<table border=\"1\" class=\"dataframe\">\n",
       "  <thead>\n",
       "    <tr style=\"text-align: right;\">\n",
       "      <th></th>\n",
       "      <th>Late_risk</th>\n",
       "      <th>Category</th>\n",
       "      <th>Customer City</th>\n",
       "      <th>Department</th>\n",
       "      <th>Orders Date</th>\n",
       "      <th>Quantity</th>\n",
       "      <th>Sales</th>\n",
       "      <th>Order Item Total</th>\n",
       "      <th>Shipping Mode</th>\n",
       "    </tr>\n",
       "    <tr>\n",
       "      <th>Customer Segment</th>\n",
       "      <th></th>\n",
       "      <th></th>\n",
       "      <th></th>\n",
       "      <th></th>\n",
       "      <th></th>\n",
       "      <th></th>\n",
       "      <th></th>\n",
       "      <th></th>\n",
       "      <th></th>\n",
       "    </tr>\n",
       "  </thead>\n",
       "  <tbody>\n",
       "    <tr>\n",
       "      <th>Consumer</th>\n",
       "      <td>85968</td>\n",
       "      <td>85968</td>\n",
       "      <td>85968</td>\n",
       "      <td>85968</td>\n",
       "      <td>85968</td>\n",
       "      <td>85968</td>\n",
       "      <td>85968</td>\n",
       "      <td>85968</td>\n",
       "      <td>85968</td>\n",
       "    </tr>\n",
       "    <tr>\n",
       "      <th>Corporate</th>\n",
       "      <td>50341</td>\n",
       "      <td>50341</td>\n",
       "      <td>50341</td>\n",
       "      <td>50341</td>\n",
       "      <td>50341</td>\n",
       "      <td>50341</td>\n",
       "      <td>50341</td>\n",
       "      <td>50341</td>\n",
       "      <td>50341</td>\n",
       "    </tr>\n",
       "    <tr>\n",
       "      <th>Home Office</th>\n",
       "      <td>29568</td>\n",
       "      <td>29568</td>\n",
       "      <td>29568</td>\n",
       "      <td>29568</td>\n",
       "      <td>29568</td>\n",
       "      <td>29568</td>\n",
       "      <td>29568</td>\n",
       "      <td>29568</td>\n",
       "      <td>29568</td>\n",
       "    </tr>\n",
       "  </tbody>\n",
       "</table>\n",
       "</div>"
      ],
      "text/plain": [
       "                  Late_risk  Category  Customer City  Department  Orders Date  \\\n",
       "Customer Segment                                                                \n",
       "Consumer              85968     85968          85968       85968        85968   \n",
       "Corporate             50341     50341          50341       50341        50341   \n",
       "Home Office           29568     29568          29568       29568        29568   \n",
       "\n",
       "                  Quantity  Sales  Order Item Total  Shipping Mode  \n",
       "Customer Segment                                                    \n",
       "Consumer             85968  85968             85968          85968  \n",
       "Corporate            50341  50341             50341          50341  \n",
       "Home Office          29568  29568             29568          29568  "
      ]
     },
     "execution_count": 14,
     "metadata": {},
     "output_type": "execute_result"
    }
   ],
   "source": [
    "# Get value counts on DataFrame\n",
    "df.groupby('Customer Segment').count()"
   ]
  },
  {
   "cell_type": "code",
   "execution_count": 15,
   "metadata": {},
   "outputs": [
    {
     "data": {
      "text/plain": [
       "dtype('O')"
      ]
     },
     "execution_count": 15,
     "metadata": {},
     "output_type": "execute_result"
    }
   ],
   "source": [
    "# see the data type\n",
    "df['Customer Segment'].dtype"
   ]
  },
  {
   "cell_type": "code",
   "execution_count": 16,
   "metadata": {},
   "outputs": [
    {
     "name": "stdout",
     "output_type": "stream",
     "text": [
      "    Late_risk         Category Customer City Customer Segment Department  \\\n",
      "48          1           Cleats       Bayamon      Home Office    Apparel   \n",
      "49          0    Shop By Sport        Caguas      Home Office       Golf   \n",
      "50          1  Women's Apparel        Caguas      Home Office       Golf   \n",
      "51          0    Shop By Sport        Caguas      Home Office       Golf   \n",
      "52          1  Women's Apparel        Caguas      Home Office       Golf   \n",
      "\n",
      "         Orders Date  Quantity       Sales  Order Item Total Shipping Mode  \\\n",
      "48   2/24/2016 13:57         2  119.980003        115.180000  Second Class   \n",
      "49  10/25/2016 14:39         2   79.980003         79.180000  Second Class   \n",
      "50    3/30/2016 4:37         2  100.000000         96.000000  Second Class   \n",
      "51   10/30/2016 1:31         2   79.980003         75.980003  Second Class   \n",
      "52   11/28/2016 1:18         2  100.000000         91.000000  Second Class   \n",
      "\n",
      "    Customer Segment cat  \n",
      "48                     2  \n",
      "49                     2  \n",
      "50                     2  \n",
      "51                     2  \n",
      "52                     2  \n",
      "\n",
      " Unique values [2 0 1]\n"
     ]
    }
   ],
   "source": [
    "#Approach  - Label Encoding\n",
    "# One trick you can use in pandas is to convert a column to a category, then use those category values for your label encoding:\n",
    "# Then you can assign the encoded variable to a new column using the cat.codes accessor:\n",
    "# here categorized each of the variables into numbers by using\n",
    "#  casting to category data.\n",
    "\n",
    "df[\"Customer Segment\"] = df[\"Customer Segment\"].astype('category')\n",
    "\n",
    "\n",
    "# assign the encoded variable to a new column using the cat.codes accessor:\n",
    "# to access \".cat\" we have to convert the column intio 'categorical' datatype\n",
    "df['Customer Segment cat']=df['Customer Segment'].cat.codes\n",
    "\n",
    "print(df.head())\n",
    "\n",
    "print('\\n','Unique values' ,df['Customer Segment cat'].unique())"
   ]
  },
  {
   "cell_type": "code",
   "execution_count": 17,
   "metadata": {},
   "outputs": [
    {
     "data": {
      "text/plain": [
       "array([2, 0, 1], dtype=int8)"
      ]
     },
     "execution_count": 17,
     "metadata": {},
     "output_type": "execute_result"
    }
   ],
   "source": [
    "# After label encoding , what is the  cat code now.\n",
    "df['Customer Segment cat'].unique()"
   ]
  },
  {
   "cell_type": "code",
   "execution_count": 18,
   "metadata": {},
   "outputs": [
    {
     "name": "stdout",
     "output_type": "stream",
     "text": [
      "Consumer\n",
      "Corporate\n",
      "Home Office\n"
     ]
    }
   ],
   "source": [
    "#to know the labels assigned by astype('category').cat.codes?\n",
    "\n",
    "\n",
    "print(df['Customer Segment'].cat.categories[0])\n",
    "print(df['Customer Segment'].cat.categories[1])\n",
    "print(df['Customer Segment'].cat.categories[2])"
   ]
  },
  {
   "cell_type": "code",
   "execution_count": 19,
   "metadata": {},
   "outputs": [],
   "source": [
    "# droping  'Customer Segment' column\n",
    "\n",
    "df.drop(columns='Customer Segment', inplace=True)"
   ]
  },
  {
   "cell_type": "code",
   "execution_count": 20,
   "metadata": {},
   "outputs": [
    {
     "data": {
      "text/html": [
       "<div>\n",
       "<style scoped>\n",
       "    .dataframe tbody tr th:only-of-type {\n",
       "        vertical-align: middle;\n",
       "    }\n",
       "\n",
       "    .dataframe tbody tr th {\n",
       "        vertical-align: top;\n",
       "    }\n",
       "\n",
       "    .dataframe thead th {\n",
       "        text-align: right;\n",
       "    }\n",
       "</style>\n",
       "<table border=\"1\" class=\"dataframe\">\n",
       "  <thead>\n",
       "    <tr style=\"text-align: right;\">\n",
       "      <th></th>\n",
       "      <th>Late_risk</th>\n",
       "      <th>Category</th>\n",
       "      <th>Customer City</th>\n",
       "      <th>Department</th>\n",
       "      <th>Orders Date</th>\n",
       "      <th>Quantity</th>\n",
       "      <th>Sales</th>\n",
       "      <th>Order Item Total</th>\n",
       "      <th>Shipping Mode</th>\n",
       "      <th>Customer Segment cat</th>\n",
       "    </tr>\n",
       "  </thead>\n",
       "  <tbody>\n",
       "    <tr>\n",
       "      <th>48</th>\n",
       "      <td>1</td>\n",
       "      <td>Cleats</td>\n",
       "      <td>Bayamon</td>\n",
       "      <td>Apparel</td>\n",
       "      <td>2/24/2016 13:57</td>\n",
       "      <td>2</td>\n",
       "      <td>119.980003</td>\n",
       "      <td>115.180000</td>\n",
       "      <td>Second Class</td>\n",
       "      <td>2</td>\n",
       "    </tr>\n",
       "    <tr>\n",
       "      <th>49</th>\n",
       "      <td>0</td>\n",
       "      <td>Shop By Sport</td>\n",
       "      <td>Caguas</td>\n",
       "      <td>Golf</td>\n",
       "      <td>10/25/2016 14:39</td>\n",
       "      <td>2</td>\n",
       "      <td>79.980003</td>\n",
       "      <td>79.180000</td>\n",
       "      <td>Second Class</td>\n",
       "      <td>2</td>\n",
       "    </tr>\n",
       "    <tr>\n",
       "      <th>50</th>\n",
       "      <td>1</td>\n",
       "      <td>Women's Apparel</td>\n",
       "      <td>Caguas</td>\n",
       "      <td>Golf</td>\n",
       "      <td>3/30/2016 4:37</td>\n",
       "      <td>2</td>\n",
       "      <td>100.000000</td>\n",
       "      <td>96.000000</td>\n",
       "      <td>Second Class</td>\n",
       "      <td>2</td>\n",
       "    </tr>\n",
       "    <tr>\n",
       "      <th>51</th>\n",
       "      <td>0</td>\n",
       "      <td>Shop By Sport</td>\n",
       "      <td>Caguas</td>\n",
       "      <td>Golf</td>\n",
       "      <td>10/30/2016 1:31</td>\n",
       "      <td>2</td>\n",
       "      <td>79.980003</td>\n",
       "      <td>75.980003</td>\n",
       "      <td>Second Class</td>\n",
       "      <td>2</td>\n",
       "    </tr>\n",
       "    <tr>\n",
       "      <th>52</th>\n",
       "      <td>1</td>\n",
       "      <td>Women's Apparel</td>\n",
       "      <td>Caguas</td>\n",
       "      <td>Golf</td>\n",
       "      <td>11/28/2016 1:18</td>\n",
       "      <td>2</td>\n",
       "      <td>100.000000</td>\n",
       "      <td>91.000000</td>\n",
       "      <td>Second Class</td>\n",
       "      <td>2</td>\n",
       "    </tr>\n",
       "  </tbody>\n",
       "</table>\n",
       "</div>"
      ],
      "text/plain": [
       "    Late_risk         Category Customer City Department       Orders Date  \\\n",
       "48          1           Cleats       Bayamon    Apparel   2/24/2016 13:57   \n",
       "49          0    Shop By Sport        Caguas       Golf  10/25/2016 14:39   \n",
       "50          1  Women's Apparel        Caguas       Golf    3/30/2016 4:37   \n",
       "51          0    Shop By Sport        Caguas       Golf   10/30/2016 1:31   \n",
       "52          1  Women's Apparel        Caguas       Golf   11/28/2016 1:18   \n",
       "\n",
       "    Quantity       Sales  Order Item Total Shipping Mode  Customer Segment cat  \n",
       "48         2  119.980003        115.180000  Second Class                     2  \n",
       "49         2   79.980003         79.180000  Second Class                     2  \n",
       "50         2  100.000000         96.000000  Second Class                     2  \n",
       "51         2   79.980003         75.980003  Second Class                     2  \n",
       "52         2  100.000000         91.000000  Second Class                     2  "
      ]
     },
     "execution_count": 20,
     "metadata": {},
     "output_type": "execute_result"
    }
   ],
   "source": [
    "# first 5 rows\n",
    "df.head()"
   ]
  },
  {
   "cell_type": "code",
   "execution_count": 21,
   "metadata": {},
   "outputs": [
    {
     "data": {
      "text/html": [
       "<div>\n",
       "<style scoped>\n",
       "    .dataframe tbody tr th:only-of-type {\n",
       "        vertical-align: middle;\n",
       "    }\n",
       "\n",
       "    .dataframe tbody tr th {\n",
       "        vertical-align: top;\n",
       "    }\n",
       "\n",
       "    .dataframe thead th {\n",
       "        text-align: right;\n",
       "    }\n",
       "</style>\n",
       "<table border=\"1\" class=\"dataframe\">\n",
       "  <thead>\n",
       "    <tr style=\"text-align: right;\">\n",
       "      <th></th>\n",
       "      <th>Late_risk</th>\n",
       "      <th>Category</th>\n",
       "      <th>Customer City</th>\n",
       "      <th>Department</th>\n",
       "      <th>Orders Date</th>\n",
       "      <th>Quantity</th>\n",
       "      <th>Sales</th>\n",
       "      <th>Order Item Total</th>\n",
       "      <th>Shipping Mode</th>\n",
       "      <th>Customer Segment cat</th>\n",
       "    </tr>\n",
       "  </thead>\n",
       "  <tbody>\n",
       "    <tr>\n",
       "      <th>179656</th>\n",
       "      <td>1</td>\n",
       "      <td>Fishing</td>\n",
       "      <td>Brooklyn</td>\n",
       "      <td>Fan Shop</td>\n",
       "      <td>03-04-16 14:06</td>\n",
       "      <td>1</td>\n",
       "      <td>399.980011</td>\n",
       "      <td>377.980011</td>\n",
       "      <td>First Class</td>\n",
       "      <td>0</td>\n",
       "    </tr>\n",
       "    <tr>\n",
       "      <th>96377</th>\n",
       "      <td>1</td>\n",
       "      <td>Cardio Equipment</td>\n",
       "      <td>Clovis</td>\n",
       "      <td>Footwear</td>\n",
       "      <td>1/21/2015 18:32</td>\n",
       "      <td>1</td>\n",
       "      <td>99.989998</td>\n",
       "      <td>86.989998</td>\n",
       "      <td>First Class</td>\n",
       "      <td>2</td>\n",
       "    </tr>\n",
       "    <tr>\n",
       "      <th>140030</th>\n",
       "      <td>0</td>\n",
       "      <td>Cleats</td>\n",
       "      <td>Caguas</td>\n",
       "      <td>Apparel</td>\n",
       "      <td>4/19/2015 4:45</td>\n",
       "      <td>5</td>\n",
       "      <td>299.950012</td>\n",
       "      <td>293.950012</td>\n",
       "      <td>Standard Class</td>\n",
       "      <td>1</td>\n",
       "    </tr>\n",
       "    <tr>\n",
       "      <th>61230</th>\n",
       "      <td>1</td>\n",
       "      <td>Water Sports</td>\n",
       "      <td>Brooklyn</td>\n",
       "      <td>Fan Shop</td>\n",
       "      <td>6/17/2015 18:51</td>\n",
       "      <td>1</td>\n",
       "      <td>199.990005</td>\n",
       "      <td>179.990005</td>\n",
       "      <td>Standard Class</td>\n",
       "      <td>0</td>\n",
       "    </tr>\n",
       "    <tr>\n",
       "      <th>115306</th>\n",
       "      <td>1</td>\n",
       "      <td>Fishing</td>\n",
       "      <td>Caguas</td>\n",
       "      <td>Fan Shop</td>\n",
       "      <td>09-12-17 6:09</td>\n",
       "      <td>1</td>\n",
       "      <td>399.980011</td>\n",
       "      <td>395.980011</td>\n",
       "      <td>Standard Class</td>\n",
       "      <td>2</td>\n",
       "    </tr>\n",
       "    <tr>\n",
       "      <th>99528</th>\n",
       "      <td>0</td>\n",
       "      <td>Indoor/Outdoor Games</td>\n",
       "      <td>Caguas</td>\n",
       "      <td>Fan Shop</td>\n",
       "      <td>08-05-16 2:41</td>\n",
       "      <td>3</td>\n",
       "      <td>149.940002</td>\n",
       "      <td>125.949997</td>\n",
       "      <td>Standard Class</td>\n",
       "      <td>0</td>\n",
       "    </tr>\n",
       "    <tr>\n",
       "      <th>127993</th>\n",
       "      <td>1</td>\n",
       "      <td>Women's Apparel</td>\n",
       "      <td>Fresno</td>\n",
       "      <td>Golf</td>\n",
       "      <td>03-01-16 6:56</td>\n",
       "      <td>2</td>\n",
       "      <td>100.000000</td>\n",
       "      <td>99.000000</td>\n",
       "      <td>Standard Class</td>\n",
       "      <td>0</td>\n",
       "    </tr>\n",
       "    <tr>\n",
       "      <th>37544</th>\n",
       "      <td>1</td>\n",
       "      <td>Cardio Equipment</td>\n",
       "      <td>Aurora</td>\n",
       "      <td>Footwear</td>\n",
       "      <td>8/31/2016 16:18</td>\n",
       "      <td>3</td>\n",
       "      <td>299.970001</td>\n",
       "      <td>284.970001</td>\n",
       "      <td>Second Class</td>\n",
       "      <td>0</td>\n",
       "    </tr>\n",
       "    <tr>\n",
       "      <th>63762</th>\n",
       "      <td>0</td>\n",
       "      <td>Accessories</td>\n",
       "      <td>Dallas</td>\n",
       "      <td>Outdoors</td>\n",
       "      <td>03-06-17 7:28</td>\n",
       "      <td>2</td>\n",
       "      <td>49.980000</td>\n",
       "      <td>44.980000</td>\n",
       "      <td>Standard Class</td>\n",
       "      <td>2</td>\n",
       "    </tr>\n",
       "    <tr>\n",
       "      <th>77462</th>\n",
       "      <td>0</td>\n",
       "      <td>Indoor/Outdoor Games</td>\n",
       "      <td>Caguas</td>\n",
       "      <td>Fan Shop</td>\n",
       "      <td>09-10-17 5:06</td>\n",
       "      <td>1</td>\n",
       "      <td>49.980000</td>\n",
       "      <td>47.980000</td>\n",
       "      <td>First Class</td>\n",
       "      <td>1</td>\n",
       "    </tr>\n",
       "  </tbody>\n",
       "</table>\n",
       "</div>"
      ],
      "text/plain": [
       "        Late_risk              Category Customer City Department  \\\n",
       "179656          1               Fishing      Brooklyn   Fan Shop   \n",
       "96377           1      Cardio Equipment        Clovis   Footwear   \n",
       "140030          0                Cleats        Caguas    Apparel   \n",
       "61230           1          Water Sports      Brooklyn   Fan Shop   \n",
       "115306          1               Fishing        Caguas   Fan Shop   \n",
       "99528           0  Indoor/Outdoor Games        Caguas   Fan Shop   \n",
       "127993          1       Women's Apparel        Fresno       Golf   \n",
       "37544           1      Cardio Equipment        Aurora   Footwear   \n",
       "63762           0           Accessories        Dallas   Outdoors   \n",
       "77462           0  Indoor/Outdoor Games        Caguas   Fan Shop   \n",
       "\n",
       "            Orders Date  Quantity       Sales  Order Item Total  \\\n",
       "179656   03-04-16 14:06         1  399.980011        377.980011   \n",
       "96377   1/21/2015 18:32         1   99.989998         86.989998   \n",
       "140030   4/19/2015 4:45         5  299.950012        293.950012   \n",
       "61230   6/17/2015 18:51         1  199.990005        179.990005   \n",
       "115306    09-12-17 6:09         1  399.980011        395.980011   \n",
       "99528     08-05-16 2:41         3  149.940002        125.949997   \n",
       "127993    03-01-16 6:56         2  100.000000         99.000000   \n",
       "37544   8/31/2016 16:18         3  299.970001        284.970001   \n",
       "63762     03-06-17 7:28         2   49.980000         44.980000   \n",
       "77462     09-10-17 5:06         1   49.980000         47.980000   \n",
       "\n",
       "         Shipping Mode  Customer Segment cat  \n",
       "179656     First Class                     0  \n",
       "96377      First Class                     2  \n",
       "140030  Standard Class                     1  \n",
       "61230   Standard Class                     0  \n",
       "115306  Standard Class                     2  \n",
       "99528   Standard Class                     0  \n",
       "127993  Standard Class                     0  \n",
       "37544     Second Class                     0  \n",
       "63762   Standard Class                     2  \n",
       "77462      First Class                     1  "
      ]
     },
     "execution_count": 21,
     "metadata": {},
     "output_type": "execute_result"
    }
   ],
   "source": [
    "# Randomly any 1o rows\n",
    "df.sample(10)"
   ]
  },
  {
   "cell_type": "markdown",
   "metadata": {},
   "source": [
    "#### Feature  Engineering"
   ]
  },
  {
   "cell_type": "code",
   "execution_count": 22,
   "metadata": {},
   "outputs": [],
   "source": [
    "# Converting the 'Orders Date'  column to date time\n",
    "df[\"date_time\"]=  pd.to_datetime(df['Orders Date'])\n"
   ]
  },
  {
   "cell_type": "code",
   "execution_count": 23,
   "metadata": {},
   "outputs": [],
   "source": [
    "# drop  'Orders Date' columns \n",
    "df.drop(columns='Orders Date', inplace=True)"
   ]
  },
  {
   "cell_type": "code",
   "execution_count": 24,
   "metadata": {},
   "outputs": [],
   "source": [
    "# extracting month\n",
    "df['Month'] = df[\"date_time\"].dt.month"
   ]
  },
  {
   "cell_type": "code",
   "execution_count": 25,
   "metadata": {},
   "outputs": [],
   "source": [
    "# drop  'date_time' columns as we extracted month from it.now it is not needed \n",
    "df.drop(columns='date_time', inplace=True)"
   ]
  },
  {
   "cell_type": "markdown",
   "metadata": {},
   "source": [
    "#### knowing the Month names"
   ]
  },
  {
   "cell_type": "code",
   "execution_count": 26,
   "metadata": {},
   "outputs": [
    {
     "name": "stdout",
     "output_type": "stream",
     "text": [
      "[ 1  2  3  4  5  6  7  8  9 10 11 12]\n"
     ]
    }
   ],
   "source": [
    "# sanity check\n",
    "uniq_month=np.sort(df.Month.unique())\n",
    "\n",
    "\n",
    "\n",
    "print(uniq_month)\n",
    "\n"
   ]
  },
  {
   "cell_type": "code",
   "execution_count": 27,
   "metadata": {},
   "outputs": [
    {
     "name": "stdout",
     "output_type": "stream",
     "text": [
      "1 = January\n",
      "2 = February\n",
      "3 = March\n",
      "4 = April\n",
      "5 = May\n",
      "6 = June\n",
      "7 = July\n",
      "8 = August\n",
      "9 = September\n",
      "10 = October\n",
      "11 = November\n",
      "12 = December\n"
     ]
    }
   ],
   "source": [
    "# which integer means which month name \n",
    "import calendar\n",
    "for var in uniq_month :\n",
    "    print(str(var) + \" = \" + str(calendar.month_name[var]))\n",
    "    \n",
    "\n"
   ]
  },
  {
   "cell_type": "code",
   "execution_count": 28,
   "metadata": {},
   "outputs": [
    {
     "data": {
      "text/html": [
       "<div>\n",
       "<style scoped>\n",
       "    .dataframe tbody tr th:only-of-type {\n",
       "        vertical-align: middle;\n",
       "    }\n",
       "\n",
       "    .dataframe tbody tr th {\n",
       "        vertical-align: top;\n",
       "    }\n",
       "\n",
       "    .dataframe thead th {\n",
       "        text-align: right;\n",
       "    }\n",
       "</style>\n",
       "<table border=\"1\" class=\"dataframe\">\n",
       "  <thead>\n",
       "    <tr style=\"text-align: right;\">\n",
       "      <th></th>\n",
       "      <th>Late_risk</th>\n",
       "      <th>Category</th>\n",
       "      <th>Customer City</th>\n",
       "      <th>Department</th>\n",
       "      <th>Quantity</th>\n",
       "      <th>Sales</th>\n",
       "      <th>Order Item Total</th>\n",
       "      <th>Shipping Mode</th>\n",
       "      <th>Customer Segment cat</th>\n",
       "      <th>Month</th>\n",
       "    </tr>\n",
       "  </thead>\n",
       "  <tbody>\n",
       "    <tr>\n",
       "      <th>48</th>\n",
       "      <td>1</td>\n",
       "      <td>Cleats</td>\n",
       "      <td>Bayamon</td>\n",
       "      <td>Apparel</td>\n",
       "      <td>2</td>\n",
       "      <td>119.980003</td>\n",
       "      <td>115.180000</td>\n",
       "      <td>Second Class</td>\n",
       "      <td>2</td>\n",
       "      <td>2</td>\n",
       "    </tr>\n",
       "    <tr>\n",
       "      <th>49</th>\n",
       "      <td>0</td>\n",
       "      <td>Shop By Sport</td>\n",
       "      <td>Caguas</td>\n",
       "      <td>Golf</td>\n",
       "      <td>2</td>\n",
       "      <td>79.980003</td>\n",
       "      <td>79.180000</td>\n",
       "      <td>Second Class</td>\n",
       "      <td>2</td>\n",
       "      <td>10</td>\n",
       "    </tr>\n",
       "    <tr>\n",
       "      <th>50</th>\n",
       "      <td>1</td>\n",
       "      <td>Women's Apparel</td>\n",
       "      <td>Caguas</td>\n",
       "      <td>Golf</td>\n",
       "      <td>2</td>\n",
       "      <td>100.000000</td>\n",
       "      <td>96.000000</td>\n",
       "      <td>Second Class</td>\n",
       "      <td>2</td>\n",
       "      <td>3</td>\n",
       "    </tr>\n",
       "    <tr>\n",
       "      <th>51</th>\n",
       "      <td>0</td>\n",
       "      <td>Shop By Sport</td>\n",
       "      <td>Caguas</td>\n",
       "      <td>Golf</td>\n",
       "      <td>2</td>\n",
       "      <td>79.980003</td>\n",
       "      <td>75.980003</td>\n",
       "      <td>Second Class</td>\n",
       "      <td>2</td>\n",
       "      <td>10</td>\n",
       "    </tr>\n",
       "    <tr>\n",
       "      <th>52</th>\n",
       "      <td>1</td>\n",
       "      <td>Women's Apparel</td>\n",
       "      <td>Caguas</td>\n",
       "      <td>Golf</td>\n",
       "      <td>2</td>\n",
       "      <td>100.000000</td>\n",
       "      <td>91.000000</td>\n",
       "      <td>Second Class</td>\n",
       "      <td>2</td>\n",
       "      <td>11</td>\n",
       "    </tr>\n",
       "  </tbody>\n",
       "</table>\n",
       "</div>"
      ],
      "text/plain": [
       "    Late_risk         Category Customer City Department  Quantity       Sales  \\\n",
       "48          1           Cleats       Bayamon    Apparel         2  119.980003   \n",
       "49          0    Shop By Sport        Caguas       Golf         2   79.980003   \n",
       "50          1  Women's Apparel        Caguas       Golf         2  100.000000   \n",
       "51          0    Shop By Sport        Caguas       Golf         2   79.980003   \n",
       "52          1  Women's Apparel        Caguas       Golf         2  100.000000   \n",
       "\n",
       "    Order Item Total Shipping Mode  Customer Segment cat  Month  \n",
       "48        115.180000  Second Class                     2      2  \n",
       "49         79.180000  Second Class                     2     10  \n",
       "50         96.000000  Second Class                     2      3  \n",
       "51         75.980003  Second Class                     2     10  \n",
       "52         91.000000  Second Class                     2     11  "
      ]
     },
     "execution_count": 28,
     "metadata": {},
     "output_type": "execute_result"
    }
   ],
   "source": [
    "# print 1st 5 rows\n",
    "df.head()"
   ]
  },
  {
   "cell_type": "markdown",
   "metadata": {},
   "source": [
    "#### Approach - Count/Frequency Encoding on \"Customer City \" Column"
   ]
  },
  {
   "cell_type": "code",
   "execution_count": 29,
   "metadata": {},
   "outputs": [
    {
     "data": {
      "text/plain": [
       "Caguas           61337\n",
       "Chicago           3570\n",
       "Brooklyn          3139\n",
       "Los Angeles       3137\n",
       "New York          1687\n",
       "                 ...  \n",
       "Bartlett            25\n",
       "National City       24\n",
       "Ponce               20\n",
       "Malden              18\n",
       "Freehold            13\n",
       "Name: Customer City, Length: 562, dtype: int64"
      ]
     },
     "execution_count": 29,
     "metadata": {},
     "output_type": "execute_result"
    }
   ],
   "source": [
    "# value counts  on column\n",
    "df['Customer City'].value_counts()"
   ]
  },
  {
   "cell_type": "code",
   "execution_count": 30,
   "metadata": {},
   "outputs": [
    {
     "data": {
      "text/plain": [
       "array(['Bayamon', 'Caguas', 'Guayama', 'Juana Diaz', 'Freeport',\n",
       "       'Fort Washington', 'Bakersfield', 'Corona', 'Cincinnati',\n",
       "       'Germantown', 'Carrollton', 'Houston', 'Carlisle', 'Los Angeles',\n",
       "       'Ewa Beach', 'Rome', 'Vista', 'Fort Worth', 'Fond Du Lac',\n",
       "       'Philadelphia', 'Ontario', 'Oviedo', 'Buffalo', 'Honolulu',\n",
       "       'Oceanside', 'North Tonawanda', 'Clovis', 'Jamaica',\n",
       "       'Granite City', 'Medford', 'Pomona', 'Tempe', 'Santa Ana', 'York',\n",
       "       'Aurora', 'Simi Valley', 'Silver Spring', 'Saint Paul',\n",
       "       'San Antonio', 'Bronx', 'Greenville', 'Morristown', 'San Diego',\n",
       "       'Oxnard', 'Miami', 'Albuquerque', 'Lutz', 'Bend', 'East Brunswick',\n",
       "       'Lancaster', 'Hampton', 'Porterville', 'Portland', 'Strongsville',\n",
       "       'El Paso', 'Del Rio', 'Bountiful', 'Kent', 'Chicago', 'Plymouth',\n",
       "       'Far Rockaway', 'Detroit', 'Santa Clara', 'Union', 'Long Beach',\n",
       "       'Westminster', 'Azusa', 'Fort Lauderdale', 'Princeton',\n",
       "       'Perth Amboy', 'Loveland', 'Virginia Beach', 'Louisville',\n",
       "       'Lockport', 'Staten Island', 'Tucson', 'Cleveland', 'Webster',\n",
       "       'Martinsburg', 'Tallahassee', 'Jacksonville', 'Woonsocket',\n",
       "       'Stockton', 'Lithonia', 'Alhambra', 'New Haven', 'Phoenix',\n",
       "       'Kenner', 'Washington', 'Holland', 'Morrisville', 'Memphis',\n",
       "       'Federal Way', 'West Covina', 'Ventura', 'Valrico', 'Kaneohe',\n",
       "       'Brooklyn', 'Lodi', 'San Jose', 'Murfreesboro', 'Carlsbad',\n",
       "       'Hamilton', 'New York', 'Hayward', 'Bridgeton', 'Bay Shore',\n",
       "       'Palatine', 'Smyrna', 'Van Nuys', 'Opa Locka', 'Edison', 'Baytown',\n",
       "       'Sylmar', 'Burnsville', 'Huntington Station', 'San Juan',\n",
       "       'Vega Baja', 'Mayaguez', 'Humacao', 'Arecibo', 'San Sebastian',\n",
       "       'Eugene', 'Algonquin', 'Indianapolis', 'Buena Park', 'Catonsville',\n",
       "       'Marietta', 'Jersey City', 'New Bedford', 'Newburgh', 'Lansdale',\n",
       "       'Baltimore', 'Fullerton', 'Sacramento', 'Greensboro', 'Lakewood',\n",
       "       'Roseburg', 'Modesto', 'Watsonville', 'Meridian', 'Endicott',\n",
       "       'Katy', 'Visalia', 'Lompoc', 'Ogden', 'Raleigh',\n",
       "       'Hacienda Heights', 'Union City', 'Hollywood', 'Bolingbrook',\n",
       "       'West Lafayette', 'Astoria', 'Newark', 'Woodbridge', 'Weslaco',\n",
       "       'Dallas', 'Bell Gardens', 'La Mirada', 'Billings', 'Mission Viejo',\n",
       "       'Atlanta', 'Madison', 'South San Francisco', 'Methuen',\n",
       "       'Costa Mesa', 'Glen Burnie', 'Peoria', 'Winnetka', 'Mcallen',\n",
       "       'Joliet', 'Brownsville', 'Pawtucket', 'Columbia',\n",
       "       'Colorado Springs', 'Quincy', 'Pittsfield', 'Chino', 'Marion',\n",
       "       'North Hills', 'Salina', 'Hyattsville', 'North Richland Hills',\n",
       "       'Lawrence', 'Fremont', 'Columbus', 'Pompano Beach',\n",
       "       'Rowland Heights', 'Gardena', 'Cicero', 'Riverside', 'Asheboro',\n",
       "       'La Crosse', 'Florissant', 'Encinitas', 'Canyon Country', 'Ithaca',\n",
       "       'Allentown', 'Escondido', 'Martinez', 'Troy', 'North Las Vegas',\n",
       "       'Arlington', 'Tonawanda', 'Davis', 'Chandler', 'Elgin', 'Palmdale',\n",
       "       'Massapequa', 'Pittsburg', 'West New York', 'Clementon', 'Orlando',\n",
       "       'Hanover', 'Glendale', 'Enfield', 'Baldwin Park', 'Elyria',\n",
       "       'Chino Hills', 'Wheaton', 'Amarillo', 'Toms River', 'Wyandotte',\n",
       "       'Mililani', 'Harvey', 'Mechanicsburg', 'Opelousas', 'Kailua',\n",
       "       'Norfolk', 'Elmhurst', 'Sugar Land', 'Chillicothe', 'Canoga Park',\n",
       "       'Jackson', 'Moreno Valley', 'New Orleans', 'San Benito',\n",
       "       'New Castle', 'Bloomfield', 'Cypress', 'Marrero', 'Grand Prairie',\n",
       "       'Greeley', 'Littleton', 'Longmont', 'Chesapeake', 'Englewood',\n",
       "       'Arlington Heights', 'Aguadilla', 'Carolina', 'Yauco',\n",
       "       'Saint Peters', 'Augusta', 'Waipahu', 'Chapel Hill', 'Ypsilanti',\n",
       "       'East Lansing', 'Milwaukee', 'West Orange', 'Manchester',\n",
       "       'La Puente', 'Victorville', 'Richmond', 'Cupertino', 'Eagle Pass',\n",
       "       'Fontana', 'Ballwin', 'New Braunfels', 'Saint Charles',\n",
       "       'Spring Valley', 'Las Vegas', 'Goose Creek', 'Tampa', 'Irvington',\n",
       "       'Pharr', 'Yonkers', 'El Monte', 'Reynoldsburg', 'Hamtramck',\n",
       "       'Medina', 'Highland', 'Roseville', 'Jonesboro', 'Elk Grove',\n",
       "       'Montebello', 'San Francisco', 'Glenview', 'Rock Hill', 'Austin',\n",
       "       'Scottsdale', 'Santa Cruz', 'Oregon City', 'Annandale', 'Plano',\n",
       "       'Piscataway', 'Bismarck', 'Pekin', 'El Cajon', 'Hilliard',\n",
       "       'Orange Park', 'Tustin', 'Decatur', 'San Pablo', 'Hialeah',\n",
       "       'Anaheim', 'Douglasville', 'Oak Lawn', 'Henderson', 'Cumberland',\n",
       "       'College Station', 'Round Rock', 'Mesquite', 'Broken Arrow',\n",
       "       'Milpitas', 'Lombard', 'Redmond', 'Findlay', 'La Habra', 'Albany',\n",
       "       'Laguna Hills', 'Panorama City', 'Mesa', 'Rancho Cordova',\n",
       "       'San Bernardino', 'Apex', 'South El Monte', 'Denver', 'Irving',\n",
       "       'Blacksburg', 'Dorchester Center', 'Potomac', 'Carmichael',\n",
       "       'Stone Mountain', 'Goleta', 'Winter Park', 'Hagerstown', 'Alameda',\n",
       "       'Saint Louis', 'Pico Rivera', 'Chula Vista', 'Canton',\n",
       "       'Lawrenceville', 'Salt Lake City', 'Hollister', 'Beloit',\n",
       "       'North Hollywood', 'Salinas', 'Lenoir', 'New Brunswick',\n",
       "       'Beaverton', 'Chicago Heights', 'Hesperia', 'Cary', 'Sanford',\n",
       "       'Laredo', 'Westland', 'Stockbridge', 'Garden Grove',\n",
       "       'Carol Stream', 'Paramount', 'Lynwood', 'Revere', 'Westerville',\n",
       "       'Cordova', 'Taylor', 'Hanford', 'Rialto', 'Mchenry', 'Mission',\n",
       "       'Salem', 'Duluth', 'Danbury', 'Frankfort', 'Upland', 'Rosemead',\n",
       "       'Mount Pleasant', 'Roswell', 'Provo', 'Lake Forest',\n",
       "       'West Chester', 'Lindenhurst', 'Stamford', 'Woodside', 'Norcross',\n",
       "       'Fresno', 'North Bergen', 'Zanesville', 'Middletown',\n",
       "       'Diamond Bar', 'Painesville', 'Manati', 'Canovanas', 'Rio Grande',\n",
       "       'Ponce', 'Toa Alta', 'Irwin', 'South Ozone Park', 'Ridgewood',\n",
       "       'Bowling Green', 'Richardson', 'Rochester', 'Carson', 'Sun Valley',\n",
       "       'South Richmond Hill', 'Lewisville', 'Gilroy', 'Bellflower',\n",
       "       'Santee', 'Harlingen', 'Alpharetta', 'Sunnyvale', 'New Albany',\n",
       "       'Annapolis', 'Walnut', 'Denton', 'Temecula', 'Tinley Park',\n",
       "       'Dearborn', 'Fargo', 'Dundalk', 'Rio Rancho', 'Yuma',\n",
       "       'Forest Hills', 'Crown Point', 'Lawton', 'Fayetteville', 'Milford',\n",
       "       'Bartlett', 'Moline', 'Reno', 'Passaic', 'Reseda', 'Springfield',\n",
       "       'Lynnwood', 'Levittown', 'Wayne', 'Metairie', 'Rego Park',\n",
       "       'Campbell', 'Wheeling', 'Ann Arbor', 'Wichita', 'Hawthorne',\n",
       "       'Napa', 'Berwyn', 'Hickory', 'Sheboygan', 'Fountain Valley',\n",
       "       'Las Cruces', 'Gaithersburg', 'Apopka', 'Folsom', 'El Centro',\n",
       "       'Jackson Heights', 'Pacoima', 'Mount Prospect', 'Stafford',\n",
       "       'Hendersonville', 'Highland Park', 'Clearfield', 'Daly City',\n",
       "       'Seattle', 'La Mesa', 'Antioch', 'Saginaw', 'Placentia', 'Conway',\n",
       "       'West Jordan', 'Sandusky', 'San Marcos', 'San Pedro', 'Knoxville',\n",
       "       'Huntington Park', 'Greensburg', 'Cerritos', 'Poway', 'Garland',\n",
       "       'O Fallon', 'Chambersburg', 'Normal', 'Lynn', 'Mentor', 'Bensalem',\n",
       "       'Laguna Niguel', 'Bristol', 'Williamsport', 'Summerville',\n",
       "       'Merced', 'Brockton', 'Olathe', 'Michigan City', 'Norwalk',\n",
       "       'Brighton', 'Wyoming', 'Howell', 'Lilburn', 'Fairfield', 'Vallejo',\n",
       "       'West Haven', 'Dayton', 'Pasadena', 'Trujillo Alto', 'San Ramon',\n",
       "       'Compton', 'South Gate', 'Warren', 'Clarksville', 'Muskegon',\n",
       "       'Brandon', 'Rancho Cucamonga', 'Longview', 'Hempstead',\n",
       "       'Santa Maria', 'Doylestown', 'Parkville', 'Colton',\n",
       "       'Huntington Beach', 'Charlotte', 'Indio', 'Plainfield',\n",
       "       'Bellingham', 'Flushing', 'Bayonne', 'Grove City', 'Spring',\n",
       "       'Livermore', 'National City', 'Santa Fe', 'Edinburg', 'Palo Alto',\n",
       "       'Henrico', 'Des Plaines', 'Massillon', 'Birmingham', 'Broomfield',\n",
       "       'Tracy', 'Nashville', 'Guaynabo', 'Cayey', 'Waukegan', 'Tulare',\n",
       "       'Oakland', 'Crystal Lake', 'Citrus Heights', 'Peabody', 'Spokane',\n",
       "       'Dubuque', 'Granada Hills', 'Everett', 'Brentwood', 'Morganton',\n",
       "       'Vacaville', 'Madera', 'Wilkes Barre', 'Malden', 'Powder Springs',\n",
       "       'Gwynn Oak', 'Taunton', 'Freehold', 'Sumner', 'Toa Baja',\n",
       "       'Wilmington'], dtype=object)"
      ]
     },
     "execution_count": 30,
     "metadata": {},
     "output_type": "execute_result"
    }
   ],
   "source": [
    "# look for unique values in columns\n",
    "df['Customer City'].unique()"
   ]
  },
  {
   "cell_type": "code",
   "execution_count": 31,
   "metadata": {},
   "outputs": [
    {
     "data": {
      "text/plain": [
       "562"
      ]
     },
     "execution_count": 31,
     "metadata": {},
     "output_type": "execute_result"
    }
   ],
   "source": [
    "# how many unique values in column\n",
    "len(df['Customer City'].unique())"
   ]
  },
  {
   "cell_type": "code",
   "execution_count": 32,
   "metadata": {},
   "outputs": [
    {
     "data": {
      "text/plain": [
       "Caguas           61337\n",
       "Chicago           3570\n",
       "Brooklyn          3139\n",
       "Los Angeles       3137\n",
       "New York          1687\n",
       "                 ...  \n",
       "Bartlett            25\n",
       "National City       24\n",
       "Ponce               20\n",
       "Malden              18\n",
       "Freehold            13\n",
       "Name: Customer City, Length: 562, dtype: int64"
      ]
     },
     "execution_count": 32,
     "metadata": {},
     "output_type": "execute_result"
    }
   ],
   "source": [
    "# Let's obtain the counts (with sorted   descending order) of each of the labels in variable/column 'Category'\n",
    "\n",
    "df['Customer City'].value_counts(sort=True)"
   ]
  },
  {
   "cell_type": "code",
   "execution_count": 33,
   "metadata": {},
   "outputs": [
    {
     "name": "stdout",
     "output_type": "stream",
     "text": [
      "<class 'numpy.ndarray'>\n"
     ]
    },
    {
     "data": {
      "text/plain": [
       "Counter({61337: 1,\n",
       "         3570: 1,\n",
       "         3139: 1,\n",
       "         3137: 1,\n",
       "         1687: 1,\n",
       "         1466: 1,\n",
       "         1388: 1,\n",
       "         1325: 1,\n",
       "         1213: 1,\n",
       "         1186: 1,\n",
       "         1063: 1,\n",
       "         938: 1,\n",
       "         918: 1,\n",
       "         890: 1,\n",
       "         873: 1,\n",
       "         858: 1,\n",
       "         729: 1,\n",
       "         704: 1,\n",
       "         664: 1,\n",
       "         655: 1,\n",
       "         643: 1,\n",
       "         597: 1,\n",
       "         594: 1,\n",
       "         583: 1,\n",
       "         576: 1,\n",
       "         560: 1,\n",
       "         531: 1,\n",
       "         530: 1,\n",
       "         520: 1,\n",
       "         517: 1,\n",
       "         504: 1,\n",
       "         499: 1,\n",
       "         495: 1,\n",
       "         489: 1,\n",
       "         478: 1,\n",
       "         452: 1,\n",
       "         430: 1,\n",
       "         424: 1,\n",
       "         418: 1,\n",
       "         417: 1,\n",
       "         398: 1,\n",
       "         389: 1,\n",
       "         383: 1,\n",
       "         381: 1,\n",
       "         377: 1,\n",
       "         373: 1,\n",
       "         369: 1,\n",
       "         363: 1,\n",
       "         362: 1,\n",
       "         353: 1,\n",
       "         352: 1,\n",
       "         332: 1,\n",
       "         327: 1,\n",
       "         319: 1,\n",
       "         317: 1,\n",
       "         316: 1,\n",
       "         311: 1,\n",
       "         310: 1,\n",
       "         309: 1,\n",
       "         305: 1,\n",
       "         304: 1,\n",
       "         296: 1,\n",
       "         295: 1,\n",
       "         292: 1,\n",
       "         291: 1,\n",
       "         283: 1,\n",
       "         282: 1,\n",
       "         279: 1,\n",
       "         272: 1,\n",
       "         269: 1,\n",
       "         267: 1,\n",
       "         266: 1,\n",
       "         265: 1,\n",
       "         261: 1,\n",
       "         260: 1,\n",
       "         258: 1,\n",
       "         256: 1,\n",
       "         255: 1,\n",
       "         252: 1,\n",
       "         249: 1,\n",
       "         246: 1,\n",
       "         243: 1,\n",
       "         240: 1,\n",
       "         239: 1,\n",
       "         238: 1,\n",
       "         232: 1,\n",
       "         230: 1,\n",
       "         228: 1,\n",
       "         226: 1,\n",
       "         225: 1,\n",
       "         224: 1,\n",
       "         223: 1,\n",
       "         221: 1,\n",
       "         220: 1,\n",
       "         219: 1,\n",
       "         218: 1,\n",
       "         217: 1,\n",
       "         214: 1,\n",
       "         213: 1,\n",
       "         208: 1,\n",
       "         207: 1,\n",
       "         206: 1,\n",
       "         205: 1,\n",
       "         203: 1,\n",
       "         202: 1,\n",
       "         201: 1,\n",
       "         200: 1,\n",
       "         199: 1,\n",
       "         198: 1,\n",
       "         196: 1,\n",
       "         195: 1,\n",
       "         193: 1,\n",
       "         191: 1,\n",
       "         190: 1,\n",
       "         189: 1,\n",
       "         184: 1,\n",
       "         183: 1,\n",
       "         182: 1,\n",
       "         181: 1,\n",
       "         180: 1,\n",
       "         179: 1,\n",
       "         177: 1,\n",
       "         176: 1,\n",
       "         175: 1,\n",
       "         174: 1,\n",
       "         172: 1,\n",
       "         171: 1,\n",
       "         170: 1,\n",
       "         169: 1,\n",
       "         167: 1,\n",
       "         165: 1,\n",
       "         164: 1,\n",
       "         163: 1,\n",
       "         162: 1,\n",
       "         160: 1,\n",
       "         159: 1,\n",
       "         157: 1,\n",
       "         156: 1,\n",
       "         155: 1,\n",
       "         154: 1,\n",
       "         153: 1,\n",
       "         152: 1,\n",
       "         151: 1,\n",
       "         150: 1,\n",
       "         149: 1,\n",
       "         148: 1,\n",
       "         146: 1,\n",
       "         145: 1,\n",
       "         144: 1,\n",
       "         143: 1,\n",
       "         142: 1,\n",
       "         141: 1,\n",
       "         140: 1,\n",
       "         139: 1,\n",
       "         138: 1,\n",
       "         136: 1,\n",
       "         135: 1,\n",
       "         133: 1,\n",
       "         132: 1,\n",
       "         131: 1,\n",
       "         130: 1,\n",
       "         129: 1,\n",
       "         128: 1,\n",
       "         127: 1,\n",
       "         126: 1,\n",
       "         125: 1,\n",
       "         124: 1,\n",
       "         123: 1,\n",
       "         122: 1,\n",
       "         121: 1,\n",
       "         120: 1,\n",
       "         119: 1,\n",
       "         118: 1,\n",
       "         117: 1,\n",
       "         116: 1,\n",
       "         115: 1,\n",
       "         114: 1,\n",
       "         113: 1,\n",
       "         112: 1,\n",
       "         111: 1,\n",
       "         110: 1,\n",
       "         109: 1,\n",
       "         108: 1,\n",
       "         107: 1,\n",
       "         106: 1,\n",
       "         105: 1,\n",
       "         104: 1,\n",
       "         103: 1,\n",
       "         102: 1,\n",
       "         101: 1,\n",
       "         100: 1,\n",
       "         99: 1,\n",
       "         98: 1,\n",
       "         97: 1,\n",
       "         96: 1,\n",
       "         95: 1,\n",
       "         94: 1,\n",
       "         93: 1,\n",
       "         92: 1,\n",
       "         91: 1,\n",
       "         90: 1,\n",
       "         89: 1,\n",
       "         88: 1,\n",
       "         87: 1,\n",
       "         86: 1,\n",
       "         85: 1,\n",
       "         84: 1,\n",
       "         83: 1,\n",
       "         82: 1,\n",
       "         81: 1,\n",
       "         80: 1,\n",
       "         79: 1,\n",
       "         78: 1,\n",
       "         77: 1,\n",
       "         76: 1,\n",
       "         75: 1,\n",
       "         74: 1,\n",
       "         72: 1,\n",
       "         71: 1,\n",
       "         70: 1,\n",
       "         69: 1,\n",
       "         68: 1,\n",
       "         67: 1,\n",
       "         66: 1,\n",
       "         65: 1,\n",
       "         64: 1,\n",
       "         63: 1,\n",
       "         62: 1,\n",
       "         61: 1,\n",
       "         60: 1,\n",
       "         59: 1,\n",
       "         58: 1,\n",
       "         57: 1,\n",
       "         56: 1,\n",
       "         55: 1,\n",
       "         54: 1,\n",
       "         52: 1,\n",
       "         50: 1,\n",
       "         49: 1,\n",
       "         48: 1,\n",
       "         47: 1,\n",
       "         45: 1,\n",
       "         44: 1,\n",
       "         43: 1,\n",
       "         42: 1,\n",
       "         41: 1,\n",
       "         40: 1,\n",
       "         38: 1,\n",
       "         37: 1,\n",
       "         35: 1,\n",
       "         34: 1,\n",
       "         33: 1,\n",
       "         32: 1,\n",
       "         26: 1,\n",
       "         25: 1,\n",
       "         24: 1,\n",
       "         20: 1,\n",
       "         18: 1,\n",
       "         13: 1})"
      ]
     },
     "execution_count": 33,
     "metadata": {},
     "output_type": "execute_result"
    }
   ],
   "source": [
    "# checking is there any of labels has same count or not\n",
    "from collections import Counter\n",
    "A=df['Customer City'].value_counts(sort=True).unique()\n",
    "\n",
    "\n",
    "print(type(A))\n",
    "\n",
    "Counter(A)"
   ]
  },
  {
   "cell_type": "code",
   "execution_count": 34,
   "metadata": {},
   "outputs": [
    {
     "name": "stdout",
     "output_type": "stream",
     "text": [
      "{'Caguas': 61337, 'Chicago': 3570, 'Brooklyn': 3139, 'Los Angeles': 3137, 'New York': 1687, 'Philadelphia': 1466, 'Bronx': 1388, 'San Diego': 1325, 'Miami': 1213, 'Houston': 1186, 'Las Vegas': 1063, 'Dallas': 938, 'Aurora': 918, 'Detroit': 890, 'San Jose': 873, 'Phoenix': 858, 'Cleveland': 729, 'Lancaster': 704, 'San Antonio': 664, 'Memphis': 655, 'Virginia Beach': 643, 'Fort Lauderdale': 597, 'El Paso': 594, 'Columbus': 583, 'Washington': 576, 'Honolulu': 560, 'Tucson': 531, 'Bakersfield': 530, 'Baltimore': 520, 'Albuquerque': 517, 'Long Beach': 504, 'Pompano Beach': 499, 'Newark': 495, 'Saint Paul': 489, 'Santa Ana': 478, 'New Orleans': 452, 'Tempe': 430, 'Hialeah': 424, 'Riverside': 418, 'Orlando': 417, 'San Francisco': 398, 'Fresno': 389, 'Corona': 383, 'Saint Louis': 381, 'Escondido': 377, 'Portland': 373, 'Atlanta': 369, 'Fort Worth': 363, 'Sacramento': 362, 'Ontario': 353, 'Tampa': 352, 'Laredo': 332, 'Florissant': 327, 'Elmhurst': 319, 'Antioch': 317, 'Richmond': 316, 'San Juan': 311, 'Salt Lake City': 310, 'Anaheim': 309, 'Buffalo': 305, 'West Chester': 304, 'Moreno Valley': 296, 'Marietta': 295, 'Elgin': 292, 'Oceanside': 292, 'Hayward': 291, 'Bayamon': 283, 'Mission Viejo': 282, 'Lakewood': 279, 'Austin': 272, 'Eugene': 269, 'Amarillo': 267, 'Columbia': 266, 'Jacksonville': 265, 'Simi Valley': 261, 'Jersey City': 260, 'Modesto': 258, 'Garden Grove': 256, 'Hollywood': 256, 'Sugar Land': 255, 'Fremont': 252, 'Oxnard': 249, 'Troy': 249, 'Jamaica': 246, 'Glendale': 243, 'Encinitas': 240, 'Roswell': 239, 'Bend': 238, 'Colorado Springs': 232, 'Pomona': 230, 'Middletown': 228, 'Spring Valley': 228, 'Strongsville': 228, 'West Covina': 226, 'Staten Island': 226, 'Irving': 226, 'Apex': 225, 'Hamilton': 224, 'Stockton': 224, 'San Marcos': 223, 'San Bernardino': 223, 'Salem': 221, 'Van Nuys': 220, 'Winnetka': 220, 'Brownsville': 220, 'Hyattsville': 219, 'Fullerton': 218, 'York': 218, 'Greensboro': 217, 'San Benito': 214, 'Denver': 213, 'Chandler': 208, 'Costa Mesa': 208, 'Chula Vista': 207, 'Dearborn': 206, 'Newburgh': 205, 'Union City': 205, 'Lockport': 203, 'Greeley': 203, 'Carlisle': 202, 'Plano': 201, 'Rowland Heights': 200, 'Greenville': 200, 'Milford': 199, 'Compton': 199, 'Humacao': 199, 'Princeton': 198, 'Quincy': 196, 'Tustin': 195, 'Mesa': 193, 'Tallahassee': 193, 'Endicott': 193, 'Freeport': 191, 'Jackson': 191, 'Raleigh': 190, 'El Cajon': 189, 'Daly City': 184, 'North Hollywood': 184, 'Ventura': 183, 'Augusta': 182, 'Wichita': 181, 'Milwaukee': 181, 'Carlsbad': 180, 'Elyria': 180, 'Loveland': 180, 'Huntington Beach': 179, 'Highland': 179, 'Cumberland': 177, 'Oregon City': 177, 'Indianapolis': 176, 'Lake Forest': 176, 'Gardena': 175, 'Rome': 174, 'Vista': 174, 'Santa Cruz': 174, 'Moline': 174, 'Mililani': 172, 'Silver Spring': 171, 'Longmont': 171, 'Carol Stream': 170, 'Ann Arbor': 169, 'Mount Pleasant': 169, 'Carrollton': 167, 'Seattle': 167, 'Fairfield': 167, 'Sunnyvale': 165, 'Hamtramck': 165, 'Plymouth': 164, 'Louisville': 164, 'Manati': 163, 'Fontana': 163, 'Bridgeton': 163, 'Brighton': 163, 'La Crosse': 162, 'La Mesa': 162, 'Catonsville': 160, 'Opelousas': 159, 'Chesapeake': 159, 'Meridian': 157, 'North Richland Hills': 157, 'Walnut': 157, 'Rochester': 156, 'Woodbridge': 155, 'Mission': 154, 'Pekin': 154, 'Irwin': 153, 'Del Rio': 153, 'Canton': 152, 'New Bedford': 152, 'Fayetteville': 151, 'Wayne': 150, 'Piscataway': 150, 'Weslaco': 150, 'College Station': 149, 'Granada Hills': 149, 'Panorama City': 149, 'Murfreesboro': 148, 'Stockbridge': 146, 'Pharr': 146, 'North Las Vegas': 146, 'Ballwin': 145, 'Lawrence': 144, 'Harlingen': 144, 'Hanford': 144, 'Lenoir': 143, 'Carolina': 143, 'Carson': 143, 'Brandon': 143, 'Kent': 143, 'Ogden': 143, 'Porterville': 143, 'Tonawanda': 142, 'Mount Prospect': 142, 'La Mirada': 142, 'Bell Gardens': 141, 'Potomac': 140, 'Webster': 140, 'East Lansing': 140, 'Waipahu': 140, 'Opa Locka': 140, 'Orange Park': 139, 'Davis': 138, 'Dorchester Center': 136, 'Wyoming': 135, 'Broken Arrow': 135, 'Diamond Bar': 135, 'Cerritos': 133, 'Martinsburg': 133, 'Campbell': 132, 'Mechanicsburg': 132, 'Salinas': 132, 'Santa Clara': 132, 'North Hills': 131, 'Pawtucket': 131, 'Mayaguez': 130, 'Beloit': 130, 'Hickory': 130, 'Littleton': 130, 'Ypsilanti': 130, 'Toms River': 129, 'Stamford': 129, 'Azusa': 128, 'South Richmond Hill': 128, 'Yonkers': 128, 'Morristown': 128, 'New Haven': 127, 'Enfield': 127, 'Burnsville': 127, 'Frankfort': 127, 'Marrero': 126, 'Cordova': 126, 'Bellflower': 126, 'New Brunswick': 126, 'West Orange': 126, 'Bismarck': 126, 'Vega Baja': 126, 'Powder Springs': 126, 'Palatine': 125, 'Saint Charles': 124, 'Hampton': 124, 'Norfolk': 124, 'Livermore': 124, 'Wyandotte': 123, 'Plainfield': 123, 'Olathe': 122, 'Clearfield': 122, 'Hagerstown': 121, 'West Jordan': 121, 'Las Cruces': 121, 'Westland': 121, 'Milpitas': 121, 'Scottsdale': 120, 'Bowling Green': 120, 'San Sebastian': 120, 'South El Monte': 120, 'Salina': 120, 'Lawrenceville': 119, 'Napa': 119, 'Waukegan': 118, 'San Ramon': 118, 'Reynoldsburg': 118, 'El Monte': 118, 'El Centro': 117, 'Rio Grande': 117, 'Apopka': 116, 'Rego Park': 116, 'Warren': 115, 'Germantown': 115, 'Valrico': 115, 'Algonquin': 115, 'Roseville': 115, 'Hanover': 114, 'Saginaw': 114, 'Findlay': 113, 'Flushing': 113, 'Hendersonville': 113, 'Alameda': 113, 'South Ozone Park': 113, 'Montebello': 113, 'Joliet': 112, 'Zanesville': 111, 'Pittsfield': 111, 'Arecibo': 111, 'Methuen': 111, 'Far Rockaway': 110, 'Visalia': 110, 'Chapel Hill': 110, 'Madison': 110, 'Beaverton': 110, 'Winter Park': 110, 'Ewa Beach': 110, 'Levittown': 109, 'Pasadena': 109, 'Yauco': 109, 'Crystal Lake': 108, 'San Pablo': 108, 'Ridgewood': 107, 'Katy': 107, 'Lutz': 107, 'Round Rock': 107, 'Knoxville': 106, 'Redmond': 106, 'Guayama': 106, 'Dundalk': 106, 'Duluth': 105, 'Clovis': 105, 'Norcross': 105, 'Hilliard': 105, 'Goose Creek': 105, 'Westerville': 104, 'Chino': 104, 'Baldwin Park': 104, 'Elk Grove': 104, 'Cypress': 104, 'Hesperia': 103, 'Alhambra': 103, 'Fond Du Lac': 103, 'North Tonawanda': 103, 'Perth Amboy': 103, 'Watsonville': 103, 'Arlington': 102, 'Tulare': 102, 'Holland': 102, 'Carmichael': 101, 'Paramount': 101, 'Chillicothe': 101, 'Summerville': 101, 'Sanford': 101, 'New Albany': 101, 'Martinez': 101, 'Lombard': 101, 'Harvey': 100, 'Mesquite': 100, 'East Brunswick': 100, 'Metairie': 99, 'Oak Lawn': 98, 'Jonesboro': 98, 'Union': 98, 'Trujillo Alto': 98, 'Folsom': 98, 'Alpharetta': 97, 'Cary': 97, 'Kaneohe': 96, 'Provo': 96, 'West New York': 96, 'Wheaton': 96, 'Stone Mountain': 95, 'Annandale': 94, 'La Habra': 94, 'Baytown': 94, 'Richardson': 94, 'Cupertino': 94, 'Gilroy': 93, 'Fort Washington': 93, 'Wheeling': 93, 'Federal Way': 93, 'Pico Rivera': 92, 'Glenview': 92, 'Victorville': 92, 'Everett': 92, 'Lansdale': 91, 'Highland Park': 91, 'Pacoima': 91, 'Woonsocket': 91, 'Eagle Pass': 90, 'Granite City': 90, 'Guaynabo': 90, 'Bountiful': 89, 'Smyrna': 89, 'Rock Hill': 89, 'Massillon': 89, 'Fountain Valley': 89, 'Huntington Station': 88, 'Clarksville': 88, 'Peoria': 87, 'Charlotte': 87, 'Laguna Niguel': 87, 'Lompoc': 87, 'Denton': 87, 'Decatur': 86, 'Sheboygan': 86, 'Canoga Park': 86, 'O Fallon': 86, 'Cincinnati': 85, 'Canyon Country': 85, 'Annapolis': 85, 'North Bergen': 85, 'Bloomfield': 85, 'Hawthorne': 85, 'Howell': 85, 'Roseburg': 84, 'Manchester': 84, 'Doylestown': 83, 'Passaic': 83, 'Sylmar': 83, 'Brockton': 82, 'Palmdale': 82, 'Lynwood': 82, 'Muskegon': 82, 'Yuma': 81, 'Bristol': 81, 'Wilkes Barre': 81, 'Billings': 80, 'Woodside': 80, 'Rosemead': 80, 'Juana Diaz': 80, 'New Braunfels': 79, 'Vallejo': 79, 'Crown Point': 79, 'Medford': 79, 'Astoria': 78, 'South San Francisco': 78, 'Rancho Cordova': 78, 'Bensalem': 78, 'Morrisville': 78, 'Cicero': 78, 'Indio': 78, 'Sandusky': 77, 'Lynn': 77, 'Michigan City': 76, 'Irvington': 76, 'Englewood': 75, 'Placentia': 75, 'Clementon': 75, 'Garland': 75, 'Lynnwood': 75, 'West Haven': 75, 'Henrico': 75, 'Rancho Cucamonga': 74, 'Fargo': 74, 'Sun Valley': 74, 'Lawton': 74, 'Mentor': 72, 'Reseda': 72, 'Lilburn': 72, 'Massapequa': 72, 'West Lafayette': 71, 'Vacaville': 71, 'Bolingbrook': 71, 'Tinley Park': 71, 'Temecula': 71, 'Hollister': 70, 'Chino Hills': 70, 'Citrus Heights': 70, 'Painesville': 70, 'Kailua': 70, 'Westminster': 69, 'Henderson': 69, 'Greensburg': 69, 'Medina': 69, 'Rio Rancho': 68, 'Des Plaines': 68, 'Hacienda Heights': 68, 'Stafford': 67, 'South Gate': 67, 'Saint Peters': 67, 'Huntington Park': 67, 'Springfield': 67, 'Normal': 66, 'Danbury': 66, 'Broomfield': 66, 'Ithaca': 66, 'Mchenry': 65, 'Lewisville': 65, 'Parkville': 64, 'Albany': 64, 'Arlington Heights': 63, 'Berwyn': 63, 'Edison': 63, 'Forest Hills': 63, 'San Pedro': 62, 'Buena Park': 62, 'Santee': 62, 'Williamsport': 62, 'Laguna Hills': 62, 'Merced': 62, 'Bayonne': 61, 'New Castle': 61, 'Peabody': 60, 'Blacksburg': 60, 'Santa Fe': 59, 'Douglasville': 59, 'Revere': 59, 'Lindenhurst': 59, 'Longview': 59, 'Dayton': 59, 'Grove City': 59, 'Jackson Heights': 59, 'Gaithersburg': 59, 'Morganton': 59, 'Lithonia': 58, 'Asheboro': 58, 'Goleta': 57, 'Dubuque': 57, 'Colton': 56, 'Upland': 56, 'Oakland': 55, 'Madera': 54, 'Glen Burnie': 54, 'Pittsburg': 54, 'Mcallen': 52, 'Conway': 52, 'Taylor': 50, 'Cayey': 49, 'Nashville': 49, 'Kenner': 49, 'Bay Shore': 48, 'Grand Prairie': 48, 'Chicago Heights': 48, 'Aguadilla': 48, 'Spring': 48, 'La Puente': 48, 'Lodi': 47, 'Poway': 47, 'Bellingham': 47, 'Toa Baja': 45, 'Santa Maria': 44, 'Tracy': 44, 'Allentown': 44, 'Canovanas': 44, 'Chambersburg': 43, 'Wilmington': 43, 'Oviedo': 42, 'Norwalk': 42, 'Rialto': 41, 'Spokane': 41, 'Edinburg': 40, 'Palo Alto': 38, 'Toa Alta': 37, 'Brentwood': 35, 'Gwynn Oak': 34, 'Marion': 33, 'Reno': 32, 'Birmingham': 32, 'Hempstead': 32, 'Taunton': 32, 'Sumner': 26, 'Bartlett': 25, 'National City': 24, 'Ponce': 20, 'Malden': 18, 'Freehold': 13}\n"
     ]
    }
   ],
   "source": [
    "# convert to dict, that is help for mapping later on.\n",
    "# that will capture  in a dictonary  that we  can use to re-mapthe label\n",
    "\n",
    "frequency_map= df['Customer City'].value_counts().to_dict()\n",
    "print(frequency_map)"
   ]
  },
  {
   "cell_type": "code",
   "execution_count": 35,
   "metadata": {},
   "outputs": [],
   "source": [
    "df['Customer City_map']= df['Customer City'].map(frequency_map)\n",
    "# this code somple map for example 'Cleats' label into it's cint wich is '24551"
   ]
  },
  {
   "cell_type": "code",
   "execution_count": 36,
   "metadata": {},
   "outputs": [],
   "source": [
    "df.drop(columns='Customer City', inplace=True)"
   ]
  },
  {
   "cell_type": "code",
   "execution_count": 37,
   "metadata": {},
   "outputs": [
    {
     "data": {
      "text/html": [
       "<div>\n",
       "<style scoped>\n",
       "    .dataframe tbody tr th:only-of-type {\n",
       "        vertical-align: middle;\n",
       "    }\n",
       "\n",
       "    .dataframe tbody tr th {\n",
       "        vertical-align: top;\n",
       "    }\n",
       "\n",
       "    .dataframe thead th {\n",
       "        text-align: right;\n",
       "    }\n",
       "</style>\n",
       "<table border=\"1\" class=\"dataframe\">\n",
       "  <thead>\n",
       "    <tr style=\"text-align: right;\">\n",
       "      <th></th>\n",
       "      <th>Late_risk</th>\n",
       "      <th>Category</th>\n",
       "      <th>Department</th>\n",
       "      <th>Quantity</th>\n",
       "      <th>Sales</th>\n",
       "      <th>Order Item Total</th>\n",
       "      <th>Shipping Mode</th>\n",
       "      <th>Customer Segment cat</th>\n",
       "      <th>Month</th>\n",
       "      <th>Customer City_map</th>\n",
       "    </tr>\n",
       "  </thead>\n",
       "  <tbody>\n",
       "    <tr>\n",
       "      <th>48</th>\n",
       "      <td>1</td>\n",
       "      <td>Cleats</td>\n",
       "      <td>Apparel</td>\n",
       "      <td>2</td>\n",
       "      <td>119.980003</td>\n",
       "      <td>115.180000</td>\n",
       "      <td>Second Class</td>\n",
       "      <td>2</td>\n",
       "      <td>2</td>\n",
       "      <td>283</td>\n",
       "    </tr>\n",
       "    <tr>\n",
       "      <th>49</th>\n",
       "      <td>0</td>\n",
       "      <td>Shop By Sport</td>\n",
       "      <td>Golf</td>\n",
       "      <td>2</td>\n",
       "      <td>79.980003</td>\n",
       "      <td>79.180000</td>\n",
       "      <td>Second Class</td>\n",
       "      <td>2</td>\n",
       "      <td>10</td>\n",
       "      <td>61337</td>\n",
       "    </tr>\n",
       "    <tr>\n",
       "      <th>50</th>\n",
       "      <td>1</td>\n",
       "      <td>Women's Apparel</td>\n",
       "      <td>Golf</td>\n",
       "      <td>2</td>\n",
       "      <td>100.000000</td>\n",
       "      <td>96.000000</td>\n",
       "      <td>Second Class</td>\n",
       "      <td>2</td>\n",
       "      <td>3</td>\n",
       "      <td>61337</td>\n",
       "    </tr>\n",
       "    <tr>\n",
       "      <th>51</th>\n",
       "      <td>0</td>\n",
       "      <td>Shop By Sport</td>\n",
       "      <td>Golf</td>\n",
       "      <td>2</td>\n",
       "      <td>79.980003</td>\n",
       "      <td>75.980003</td>\n",
       "      <td>Second Class</td>\n",
       "      <td>2</td>\n",
       "      <td>10</td>\n",
       "      <td>61337</td>\n",
       "    </tr>\n",
       "    <tr>\n",
       "      <th>52</th>\n",
       "      <td>1</td>\n",
       "      <td>Women's Apparel</td>\n",
       "      <td>Golf</td>\n",
       "      <td>2</td>\n",
       "      <td>100.000000</td>\n",
       "      <td>91.000000</td>\n",
       "      <td>Second Class</td>\n",
       "      <td>2</td>\n",
       "      <td>11</td>\n",
       "      <td>61337</td>\n",
       "    </tr>\n",
       "  </tbody>\n",
       "</table>\n",
       "</div>"
      ],
      "text/plain": [
       "    Late_risk         Category Department  Quantity       Sales  \\\n",
       "48          1           Cleats    Apparel         2  119.980003   \n",
       "49          0    Shop By Sport       Golf         2   79.980003   \n",
       "50          1  Women's Apparel       Golf         2  100.000000   \n",
       "51          0    Shop By Sport       Golf         2   79.980003   \n",
       "52          1  Women's Apparel       Golf         2  100.000000   \n",
       "\n",
       "    Order Item Total Shipping Mode  Customer Segment cat  Month  \\\n",
       "48        115.180000  Second Class                     2      2   \n",
       "49         79.180000  Second Class                     2     10   \n",
       "50         96.000000  Second Class                     2      3   \n",
       "51         75.980003  Second Class                     2     10   \n",
       "52         91.000000  Second Class                     2     11   \n",
       "\n",
       "    Customer City_map  \n",
       "48                283  \n",
       "49              61337  \n",
       "50              61337  \n",
       "51              61337  \n",
       "52              61337  "
      ]
     },
     "execution_count": 37,
     "metadata": {},
     "output_type": "execute_result"
    }
   ],
   "source": [
    "# print 1st 5 rows\n",
    "df.head()"
   ]
  },
  {
   "cell_type": "code",
   "execution_count": null,
   "metadata": {},
   "outputs": [],
   "source": []
  },
  {
   "cell_type": "markdown",
   "metadata": {},
   "source": [
    "# Train/test split"
   ]
  },
  {
   "cell_type": "code",
   "execution_count": 38,
   "metadata": {},
   "outputs": [],
   "source": [
    "# Import necessary Library\n",
    "\n",
    "from sklearn.ensemble import RandomForestRegressor\n",
    "from sklearn.model_selection import train_test_split\n",
    "from sklearn.metrics import mean_squared_error as MSE\n",
    "from sklearn.model_selection import cross_val_score\n",
    "\n"
   ]
  },
  {
   "cell_type": "code",
   "execution_count": 39,
   "metadata": {},
   "outputs": [
    {
     "name": "stdout",
     "output_type": "stream",
     "text": [
      "[2 3 5 1 4]\n",
      "int64\n"
     ]
    }
   ],
   "source": [
    "# \"Quantity\" is  target/preductive  column here\n",
    "\n",
    "# https://datascience.stackexchange.com/questions/70272/discrete-values-as-target-variable\n",
    "# https://www.springboard.com/blog/data-science/regression-vs-classification/\n",
    "\n",
    "print(df[\"Quantity\"].unique()) # it has 7 discreat valuues are that valeus are integer \n",
    "\n",
    "print(df[\"Quantity\"].dtypes)\n",
    "\n",
    "# So it is a regression problem"
   ]
  },
  {
   "cell_type": "code",
   "execution_count": 40,
   "metadata": {},
   "outputs": [],
   "source": [
    "X=df.drop(\"Quantity\", axis=1)\n",
    "\n",
    "y=df[\"Quantity\"]"
   ]
  },
  {
   "cell_type": "code",
   "execution_count": 41,
   "metadata": {},
   "outputs": [
    {
     "name": "stdout",
     "output_type": "stream",
     "text": [
      "(165877, 9)\n",
      "(165877,)\n"
     ]
    }
   ],
   "source": [
    "print(X.shape)\n",
    "\n",
    "print(y.shape)"
   ]
  },
  {
   "cell_type": "code",
   "execution_count": 42,
   "metadata": {},
   "outputs": [],
   "source": [
    "SEED=0\n",
    "# Split dataset into 70% train and 30% test\n",
    "X_train, X_test, y_train, y_test = train_test_split(X, y,\n",
    "test_size=0.2,\n",
    "random_state=SEED)"
   ]
  },
  {
   "cell_type": "code",
   "execution_count": 43,
   "metadata": {},
   "outputs": [
    {
     "data": {
      "text/html": [
       "<div>\n",
       "<style scoped>\n",
       "    .dataframe tbody tr th:only-of-type {\n",
       "        vertical-align: middle;\n",
       "    }\n",
       "\n",
       "    .dataframe tbody tr th {\n",
       "        vertical-align: top;\n",
       "    }\n",
       "\n",
       "    .dataframe thead th {\n",
       "        text-align: right;\n",
       "    }\n",
       "</style>\n",
       "<table border=\"1\" class=\"dataframe\">\n",
       "  <thead>\n",
       "    <tr style=\"text-align: right;\">\n",
       "      <th></th>\n",
       "      <th>Late_risk</th>\n",
       "      <th>Category</th>\n",
       "      <th>Department</th>\n",
       "      <th>Sales</th>\n",
       "      <th>Order Item Total</th>\n",
       "      <th>Shipping Mode</th>\n",
       "      <th>Customer Segment cat</th>\n",
       "      <th>Month</th>\n",
       "      <th>Customer City_map</th>\n",
       "    </tr>\n",
       "  </thead>\n",
       "  <tbody>\n",
       "    <tr>\n",
       "      <th>64275</th>\n",
       "      <td>1</td>\n",
       "      <td>Camping &amp; Hiking</td>\n",
       "      <td>Fan Shop</td>\n",
       "      <td>299.980011</td>\n",
       "      <td>272.980011</td>\n",
       "      <td>Second Class</td>\n",
       "      <td>0</td>\n",
       "      <td>9</td>\n",
       "      <td>169</td>\n",
       "    </tr>\n",
       "    <tr>\n",
       "      <th>178500</th>\n",
       "      <td>1</td>\n",
       "      <td>Indoor/Outdoor Games</td>\n",
       "      <td>Fan Shop</td>\n",
       "      <td>199.919998</td>\n",
       "      <td>175.929993</td>\n",
       "      <td>First Class</td>\n",
       "      <td>0</td>\n",
       "      <td>4</td>\n",
       "      <td>149</td>\n",
       "    </tr>\n",
       "    <tr>\n",
       "      <th>120630</th>\n",
       "      <td>1</td>\n",
       "      <td>Camping &amp; Hiking</td>\n",
       "      <td>Fan Shop</td>\n",
       "      <td>299.980011</td>\n",
       "      <td>251.979996</td>\n",
       "      <td>Standard Class</td>\n",
       "      <td>0</td>\n",
       "      <td>8</td>\n",
       "      <td>180</td>\n",
       "    </tr>\n",
       "    <tr>\n",
       "      <th>4503</th>\n",
       "      <td>0</td>\n",
       "      <td>Cleats</td>\n",
       "      <td>Apparel</td>\n",
       "      <td>299.950012</td>\n",
       "      <td>287.950012</td>\n",
       "      <td>Standard Class</td>\n",
       "      <td>0</td>\n",
       "      <td>5</td>\n",
       "      <td>499</td>\n",
       "    </tr>\n",
       "    <tr>\n",
       "      <th>101622</th>\n",
       "      <td>0</td>\n",
       "      <td>Indoor/Outdoor Games</td>\n",
       "      <td>Fan Shop</td>\n",
       "      <td>99.959999</td>\n",
       "      <td>92.959999</td>\n",
       "      <td>Standard Class</td>\n",
       "      <td>0</td>\n",
       "      <td>4</td>\n",
       "      <td>179</td>\n",
       "    </tr>\n",
       "    <tr>\n",
       "      <th>...</th>\n",
       "      <td>...</td>\n",
       "      <td>...</td>\n",
       "      <td>...</td>\n",
       "      <td>...</td>\n",
       "      <td>...</td>\n",
       "      <td>...</td>\n",
       "      <td>...</td>\n",
       "      <td>...</td>\n",
       "      <td>...</td>\n",
       "    </tr>\n",
       "    <tr>\n",
       "      <th>107994</th>\n",
       "      <td>0</td>\n",
       "      <td>Golf Balls</td>\n",
       "      <td>Outdoors</td>\n",
       "      <td>59.970001</td>\n",
       "      <td>55.770000</td>\n",
       "      <td>Standard Class</td>\n",
       "      <td>0</td>\n",
       "      <td>4</td>\n",
       "      <td>100</td>\n",
       "    </tr>\n",
       "    <tr>\n",
       "      <th>106278</th>\n",
       "      <td>0</td>\n",
       "      <td>Indoor/Outdoor Games</td>\n",
       "      <td>Fan Shop</td>\n",
       "      <td>49.980000</td>\n",
       "      <td>39.980000</td>\n",
       "      <td>Standard Class</td>\n",
       "      <td>1</td>\n",
       "      <td>4</td>\n",
       "      <td>61337</td>\n",
       "    </tr>\n",
       "    <tr>\n",
       "      <th>165918</th>\n",
       "      <td>1</td>\n",
       "      <td>Men's Footwear</td>\n",
       "      <td>Apparel</td>\n",
       "      <td>129.990005</td>\n",
       "      <td>123.489998</td>\n",
       "      <td>Second Class</td>\n",
       "      <td>2</td>\n",
       "      <td>9</td>\n",
       "      <td>655</td>\n",
       "    </tr>\n",
       "    <tr>\n",
       "      <th>129685</th>\n",
       "      <td>0</td>\n",
       "      <td>Cleats</td>\n",
       "      <td>Apparel</td>\n",
       "      <td>239.960007</td>\n",
       "      <td>208.770004</td>\n",
       "      <td>Standard Class</td>\n",
       "      <td>0</td>\n",
       "      <td>10</td>\n",
       "      <td>208</td>\n",
       "    </tr>\n",
       "    <tr>\n",
       "      <th>48645</th>\n",
       "      <td>0</td>\n",
       "      <td>Men's Footwear</td>\n",
       "      <td>Apparel</td>\n",
       "      <td>129.990005</td>\n",
       "      <td>113.089996</td>\n",
       "      <td>Second Class</td>\n",
       "      <td>1</td>\n",
       "      <td>4</td>\n",
       "      <td>424</td>\n",
       "    </tr>\n",
       "  </tbody>\n",
       "</table>\n",
       "<p>132701 rows × 9 columns</p>\n",
       "</div>"
      ],
      "text/plain": [
       "        Late_risk              Category Department       Sales  \\\n",
       "64275           1      Camping & Hiking   Fan Shop  299.980011   \n",
       "178500          1  Indoor/Outdoor Games   Fan Shop  199.919998   \n",
       "120630          1      Camping & Hiking   Fan Shop  299.980011   \n",
       "4503            0                Cleats    Apparel  299.950012   \n",
       "101622          0  Indoor/Outdoor Games   Fan Shop   99.959999   \n",
       "...           ...                   ...        ...         ...   \n",
       "107994          0            Golf Balls   Outdoors   59.970001   \n",
       "106278          0  Indoor/Outdoor Games   Fan Shop   49.980000   \n",
       "165918          1        Men's Footwear    Apparel  129.990005   \n",
       "129685          0                Cleats    Apparel  239.960007   \n",
       "48645           0        Men's Footwear    Apparel  129.990005   \n",
       "\n",
       "        Order Item Total   Shipping Mode  Customer Segment cat  Month  \\\n",
       "64275         272.980011    Second Class                     0      9   \n",
       "178500        175.929993     First Class                     0      4   \n",
       "120630        251.979996  Standard Class                     0      8   \n",
       "4503          287.950012  Standard Class                     0      5   \n",
       "101622         92.959999  Standard Class                     0      4   \n",
       "...                  ...             ...                   ...    ...   \n",
       "107994         55.770000  Standard Class                     0      4   \n",
       "106278         39.980000  Standard Class                     1      4   \n",
       "165918        123.489998    Second Class                     2      9   \n",
       "129685        208.770004  Standard Class                     0     10   \n",
       "48645         113.089996    Second Class                     1      4   \n",
       "\n",
       "        Customer City_map  \n",
       "64275                 169  \n",
       "178500                149  \n",
       "120630                180  \n",
       "4503                  499  \n",
       "101622                179  \n",
       "...                   ...  \n",
       "107994                100  \n",
       "106278              61337  \n",
       "165918                655  \n",
       "129685                208  \n",
       "48645                 424  \n",
       "\n",
       "[132701 rows x 9 columns]"
      ]
     },
     "execution_count": 43,
     "metadata": {},
     "output_type": "execute_result"
    }
   ],
   "source": [
    "X_train"
   ]
  },
  {
   "cell_type": "code",
   "execution_count": 44,
   "metadata": {},
   "outputs": [
    {
     "data": {
      "text/plain": [
       "array(['Fan Shop', 'Apparel', 'Golf', 'Outdoors', 'Footwear'],\n",
       "      dtype=object)"
      ]
     },
     "execution_count": 44,
     "metadata": {},
     "output_type": "execute_result"
    }
   ],
   "source": [
    "X_train['Department'].unique()"
   ]
  },
  {
   "cell_type": "code",
   "execution_count": 45,
   "metadata": {},
   "outputs": [
    {
     "data": {
      "text/plain": [
       "64275     1\n",
       "178500    4\n",
       "120630    1\n",
       "4503      5\n",
       "101622    2\n",
       "         ..\n",
       "107994    3\n",
       "106278    1\n",
       "165918    1\n",
       "129685    4\n",
       "48645     1\n",
       "Name: Quantity, Length: 132701, dtype: int64"
      ]
     },
     "execution_count": 45,
     "metadata": {},
     "output_type": "execute_result"
    }
   ],
   "source": [
    "y_train"
   ]
  },
  {
   "cell_type": "code",
   "execution_count": 46,
   "metadata": {},
   "outputs": [
    {
     "data": {
      "text/html": [
       "<div>\n",
       "<style scoped>\n",
       "    .dataframe tbody tr th:only-of-type {\n",
       "        vertical-align: middle;\n",
       "    }\n",
       "\n",
       "    .dataframe tbody tr th {\n",
       "        vertical-align: top;\n",
       "    }\n",
       "\n",
       "    .dataframe thead th {\n",
       "        text-align: right;\n",
       "    }\n",
       "</style>\n",
       "<table border=\"1\" class=\"dataframe\">\n",
       "  <thead>\n",
       "    <tr style=\"text-align: right;\">\n",
       "      <th></th>\n",
       "      <th>Late_risk</th>\n",
       "      <th>Category</th>\n",
       "      <th>Department</th>\n",
       "      <th>Sales</th>\n",
       "      <th>Order Item Total</th>\n",
       "      <th>Shipping Mode</th>\n",
       "      <th>Customer Segment cat</th>\n",
       "      <th>Month</th>\n",
       "      <th>Customer City_map</th>\n",
       "    </tr>\n",
       "  </thead>\n",
       "  <tbody>\n",
       "    <tr>\n",
       "      <th>131756</th>\n",
       "      <td>1</td>\n",
       "      <td>Indoor/Outdoor Games</td>\n",
       "      <td>Fan Shop</td>\n",
       "      <td>99.959999</td>\n",
       "      <td>82.970001</td>\n",
       "      <td>Same Day</td>\n",
       "      <td>0</td>\n",
       "      <td>2</td>\n",
       "      <td>61337</td>\n",
       "    </tr>\n",
       "    <tr>\n",
       "      <th>104200</th>\n",
       "      <td>0</td>\n",
       "      <td>Water Sports</td>\n",
       "      <td>Fan Shop</td>\n",
       "      <td>199.990005</td>\n",
       "      <td>193.990005</td>\n",
       "      <td>Standard Class</td>\n",
       "      <td>2</td>\n",
       "      <td>7</td>\n",
       "      <td>1186</td>\n",
       "    </tr>\n",
       "    <tr>\n",
       "      <th>3059</th>\n",
       "      <td>1</td>\n",
       "      <td>Men's Footwear</td>\n",
       "      <td>Apparel</td>\n",
       "      <td>129.990005</td>\n",
       "      <td>124.790001</td>\n",
       "      <td>Standard Class</td>\n",
       "      <td>2</td>\n",
       "      <td>5</td>\n",
       "      <td>61337</td>\n",
       "    </tr>\n",
       "    <tr>\n",
       "      <th>99709</th>\n",
       "      <td>0</td>\n",
       "      <td>Indoor/Outdoor Games</td>\n",
       "      <td>Fan Shop</td>\n",
       "      <td>99.959999</td>\n",
       "      <td>83.970001</td>\n",
       "      <td>Standard Class</td>\n",
       "      <td>1</td>\n",
       "      <td>7</td>\n",
       "      <td>3139</td>\n",
       "    </tr>\n",
       "    <tr>\n",
       "      <th>124974</th>\n",
       "      <td>0</td>\n",
       "      <td>Women's Apparel</td>\n",
       "      <td>Golf</td>\n",
       "      <td>100.000000</td>\n",
       "      <td>88.000000</td>\n",
       "      <td>Same Day</td>\n",
       "      <td>0</td>\n",
       "      <td>8</td>\n",
       "      <td>61337</td>\n",
       "    </tr>\n",
       "    <tr>\n",
       "      <th>...</th>\n",
       "      <td>...</td>\n",
       "      <td>...</td>\n",
       "      <td>...</td>\n",
       "      <td>...</td>\n",
       "      <td>...</td>\n",
       "      <td>...</td>\n",
       "      <td>...</td>\n",
       "      <td>...</td>\n",
       "      <td>...</td>\n",
       "    </tr>\n",
       "    <tr>\n",
       "      <th>68988</th>\n",
       "      <td>1</td>\n",
       "      <td>Women's Apparel</td>\n",
       "      <td>Golf</td>\n",
       "      <td>250.000000</td>\n",
       "      <td>227.500000</td>\n",
       "      <td>First Class</td>\n",
       "      <td>1</td>\n",
       "      <td>1</td>\n",
       "      <td>61337</td>\n",
       "    </tr>\n",
       "    <tr>\n",
       "      <th>84528</th>\n",
       "      <td>1</td>\n",
       "      <td>Women's Apparel</td>\n",
       "      <td>Golf</td>\n",
       "      <td>200.000000</td>\n",
       "      <td>196.000000</td>\n",
       "      <td>Second Class</td>\n",
       "      <td>1</td>\n",
       "      <td>8</td>\n",
       "      <td>59</td>\n",
       "    </tr>\n",
       "    <tr>\n",
       "      <th>130490</th>\n",
       "      <td>1</td>\n",
       "      <td>Cardio Equipment</td>\n",
       "      <td>Footwear</td>\n",
       "      <td>399.959992</td>\n",
       "      <td>383.959992</td>\n",
       "      <td>Standard Class</td>\n",
       "      <td>0</td>\n",
       "      <td>4</td>\n",
       "      <td>377</td>\n",
       "    </tr>\n",
       "    <tr>\n",
       "      <th>147780</th>\n",
       "      <td>0</td>\n",
       "      <td>Fishing</td>\n",
       "      <td>Fan Shop</td>\n",
       "      <td>399.980011</td>\n",
       "      <td>331.980011</td>\n",
       "      <td>Same Day</td>\n",
       "      <td>2</td>\n",
       "      <td>9</td>\n",
       "      <td>61337</td>\n",
       "    </tr>\n",
       "    <tr>\n",
       "      <th>111167</th>\n",
       "      <td>1</td>\n",
       "      <td>Indoor/Outdoor Games</td>\n",
       "      <td>Fan Shop</td>\n",
       "      <td>49.980000</td>\n",
       "      <td>41.980000</td>\n",
       "      <td>Standard Class</td>\n",
       "      <td>1</td>\n",
       "      <td>1</td>\n",
       "      <td>61337</td>\n",
       "    </tr>\n",
       "  </tbody>\n",
       "</table>\n",
       "<p>33176 rows × 9 columns</p>\n",
       "</div>"
      ],
      "text/plain": [
       "        Late_risk              Category Department       Sales  \\\n",
       "131756          1  Indoor/Outdoor Games   Fan Shop   99.959999   \n",
       "104200          0          Water Sports   Fan Shop  199.990005   \n",
       "3059            1        Men's Footwear    Apparel  129.990005   \n",
       "99709           0  Indoor/Outdoor Games   Fan Shop   99.959999   \n",
       "124974          0       Women's Apparel       Golf  100.000000   \n",
       "...           ...                   ...        ...         ...   \n",
       "68988           1       Women's Apparel       Golf  250.000000   \n",
       "84528           1       Women's Apparel       Golf  200.000000   \n",
       "130490          1      Cardio Equipment   Footwear  399.959992   \n",
       "147780          0               Fishing   Fan Shop  399.980011   \n",
       "111167          1  Indoor/Outdoor Games   Fan Shop   49.980000   \n",
       "\n",
       "        Order Item Total   Shipping Mode  Customer Segment cat  Month  \\\n",
       "131756         82.970001        Same Day                     0      2   \n",
       "104200        193.990005  Standard Class                     2      7   \n",
       "3059          124.790001  Standard Class                     2      5   \n",
       "99709          83.970001  Standard Class                     1      7   \n",
       "124974         88.000000        Same Day                     0      8   \n",
       "...                  ...             ...                   ...    ...   \n",
       "68988         227.500000     First Class                     1      1   \n",
       "84528         196.000000    Second Class                     1      8   \n",
       "130490        383.959992  Standard Class                     0      4   \n",
       "147780        331.980011        Same Day                     2      9   \n",
       "111167         41.980000  Standard Class                     1      1   \n",
       "\n",
       "        Customer City_map  \n",
       "131756              61337  \n",
       "104200               1186  \n",
       "3059                61337  \n",
       "99709                3139  \n",
       "124974              61337  \n",
       "...                   ...  \n",
       "68988               61337  \n",
       "84528                  59  \n",
       "130490                377  \n",
       "147780              61337  \n",
       "111167              61337  \n",
       "\n",
       "[33176 rows x 9 columns]"
      ]
     },
     "execution_count": 46,
     "metadata": {},
     "output_type": "execute_result"
    }
   ],
   "source": [
    "X_test\n"
   ]
  },
  {
   "cell_type": "code",
   "execution_count": null,
   "metadata": {},
   "outputs": [],
   "source": []
  },
  {
   "cell_type": "code",
   "execution_count": 47,
   "metadata": {},
   "outputs": [
    {
     "data": {
      "text/plain": [
       "131756    2\n",
       "104200    1\n",
       "3059      1\n",
       "99709     2\n",
       "124974    2\n",
       "         ..\n",
       "68988     5\n",
       "84528     4\n",
       "130490    4\n",
       "147780    1\n",
       "111167    1\n",
       "Name: Quantity, Length: 33176, dtype: int64"
      ]
     },
     "execution_count": 47,
     "metadata": {},
     "output_type": "execute_result"
    }
   ],
   "source": [
    "y_test"
   ]
  },
  {
   "cell_type": "markdown",
   "metadata": {},
   "source": [
    "#### one Hot Encoding / Encoding dummy variables"
   ]
  },
  {
   "cell_type": "code",
   "execution_count": 48,
   "metadata": {},
   "outputs": [],
   "source": [
    "from sklearn.preprocessing import OneHotEncoder"
   ]
  },
  {
   "cell_type": "code",
   "execution_count": 49,
   "metadata": {},
   "outputs": [
    {
     "data": {
      "text/html": [
       "<div>\n",
       "<style scoped>\n",
       "    .dataframe tbody tr th:only-of-type {\n",
       "        vertical-align: middle;\n",
       "    }\n",
       "\n",
       "    .dataframe tbody tr th {\n",
       "        vertical-align: top;\n",
       "    }\n",
       "\n",
       "    .dataframe thead th {\n",
       "        text-align: right;\n",
       "    }\n",
       "</style>\n",
       "<table border=\"1\" class=\"dataframe\">\n",
       "  <thead>\n",
       "    <tr style=\"text-align: right;\">\n",
       "      <th></th>\n",
       "      <th>Late_risk</th>\n",
       "      <th>Category</th>\n",
       "      <th>Department</th>\n",
       "      <th>Sales</th>\n",
       "      <th>Order Item Total</th>\n",
       "      <th>Shipping Mode</th>\n",
       "      <th>Customer Segment cat</th>\n",
       "      <th>Month</th>\n",
       "      <th>Customer City_map</th>\n",
       "    </tr>\n",
       "  </thead>\n",
       "  <tbody>\n",
       "    <tr>\n",
       "      <th>64275</th>\n",
       "      <td>1</td>\n",
       "      <td>Camping &amp; Hiking</td>\n",
       "      <td>Fan Shop</td>\n",
       "      <td>299.980011</td>\n",
       "      <td>272.980011</td>\n",
       "      <td>Second Class</td>\n",
       "      <td>0</td>\n",
       "      <td>9</td>\n",
       "      <td>169</td>\n",
       "    </tr>\n",
       "    <tr>\n",
       "      <th>178500</th>\n",
       "      <td>1</td>\n",
       "      <td>Indoor/Outdoor Games</td>\n",
       "      <td>Fan Shop</td>\n",
       "      <td>199.919998</td>\n",
       "      <td>175.929993</td>\n",
       "      <td>First Class</td>\n",
       "      <td>0</td>\n",
       "      <td>4</td>\n",
       "      <td>149</td>\n",
       "    </tr>\n",
       "    <tr>\n",
       "      <th>120630</th>\n",
       "      <td>1</td>\n",
       "      <td>Camping &amp; Hiking</td>\n",
       "      <td>Fan Shop</td>\n",
       "      <td>299.980011</td>\n",
       "      <td>251.979996</td>\n",
       "      <td>Standard Class</td>\n",
       "      <td>0</td>\n",
       "      <td>8</td>\n",
       "      <td>180</td>\n",
       "    </tr>\n",
       "    <tr>\n",
       "      <th>4503</th>\n",
       "      <td>0</td>\n",
       "      <td>Cleats</td>\n",
       "      <td>Apparel</td>\n",
       "      <td>299.950012</td>\n",
       "      <td>287.950012</td>\n",
       "      <td>Standard Class</td>\n",
       "      <td>0</td>\n",
       "      <td>5</td>\n",
       "      <td>499</td>\n",
       "    </tr>\n",
       "    <tr>\n",
       "      <th>101622</th>\n",
       "      <td>0</td>\n",
       "      <td>Indoor/Outdoor Games</td>\n",
       "      <td>Fan Shop</td>\n",
       "      <td>99.959999</td>\n",
       "      <td>92.959999</td>\n",
       "      <td>Standard Class</td>\n",
       "      <td>0</td>\n",
       "      <td>4</td>\n",
       "      <td>179</td>\n",
       "    </tr>\n",
       "    <tr>\n",
       "      <th>...</th>\n",
       "      <td>...</td>\n",
       "      <td>...</td>\n",
       "      <td>...</td>\n",
       "      <td>...</td>\n",
       "      <td>...</td>\n",
       "      <td>...</td>\n",
       "      <td>...</td>\n",
       "      <td>...</td>\n",
       "      <td>...</td>\n",
       "    </tr>\n",
       "    <tr>\n",
       "      <th>107994</th>\n",
       "      <td>0</td>\n",
       "      <td>Golf Balls</td>\n",
       "      <td>Outdoors</td>\n",
       "      <td>59.970001</td>\n",
       "      <td>55.770000</td>\n",
       "      <td>Standard Class</td>\n",
       "      <td>0</td>\n",
       "      <td>4</td>\n",
       "      <td>100</td>\n",
       "    </tr>\n",
       "    <tr>\n",
       "      <th>106278</th>\n",
       "      <td>0</td>\n",
       "      <td>Indoor/Outdoor Games</td>\n",
       "      <td>Fan Shop</td>\n",
       "      <td>49.980000</td>\n",
       "      <td>39.980000</td>\n",
       "      <td>Standard Class</td>\n",
       "      <td>1</td>\n",
       "      <td>4</td>\n",
       "      <td>61337</td>\n",
       "    </tr>\n",
       "    <tr>\n",
       "      <th>165918</th>\n",
       "      <td>1</td>\n",
       "      <td>Men's Footwear</td>\n",
       "      <td>Apparel</td>\n",
       "      <td>129.990005</td>\n",
       "      <td>123.489998</td>\n",
       "      <td>Second Class</td>\n",
       "      <td>2</td>\n",
       "      <td>9</td>\n",
       "      <td>655</td>\n",
       "    </tr>\n",
       "    <tr>\n",
       "      <th>129685</th>\n",
       "      <td>0</td>\n",
       "      <td>Cleats</td>\n",
       "      <td>Apparel</td>\n",
       "      <td>239.960007</td>\n",
       "      <td>208.770004</td>\n",
       "      <td>Standard Class</td>\n",
       "      <td>0</td>\n",
       "      <td>10</td>\n",
       "      <td>208</td>\n",
       "    </tr>\n",
       "    <tr>\n",
       "      <th>48645</th>\n",
       "      <td>0</td>\n",
       "      <td>Men's Footwear</td>\n",
       "      <td>Apparel</td>\n",
       "      <td>129.990005</td>\n",
       "      <td>113.089996</td>\n",
       "      <td>Second Class</td>\n",
       "      <td>1</td>\n",
       "      <td>4</td>\n",
       "      <td>424</td>\n",
       "    </tr>\n",
       "  </tbody>\n",
       "</table>\n",
       "<p>132701 rows × 9 columns</p>\n",
       "</div>"
      ],
      "text/plain": [
       "        Late_risk              Category Department       Sales  \\\n",
       "64275           1      Camping & Hiking   Fan Shop  299.980011   \n",
       "178500          1  Indoor/Outdoor Games   Fan Shop  199.919998   \n",
       "120630          1      Camping & Hiking   Fan Shop  299.980011   \n",
       "4503            0                Cleats    Apparel  299.950012   \n",
       "101622          0  Indoor/Outdoor Games   Fan Shop   99.959999   \n",
       "...           ...                   ...        ...         ...   \n",
       "107994          0            Golf Balls   Outdoors   59.970001   \n",
       "106278          0  Indoor/Outdoor Games   Fan Shop   49.980000   \n",
       "165918          1        Men's Footwear    Apparel  129.990005   \n",
       "129685          0                Cleats    Apparel  239.960007   \n",
       "48645           0        Men's Footwear    Apparel  129.990005   \n",
       "\n",
       "        Order Item Total   Shipping Mode  Customer Segment cat  Month  \\\n",
       "64275         272.980011    Second Class                     0      9   \n",
       "178500        175.929993     First Class                     0      4   \n",
       "120630        251.979996  Standard Class                     0      8   \n",
       "4503          287.950012  Standard Class                     0      5   \n",
       "101622         92.959999  Standard Class                     0      4   \n",
       "...                  ...             ...                   ...    ...   \n",
       "107994         55.770000  Standard Class                     0      4   \n",
       "106278         39.980000  Standard Class                     1      4   \n",
       "165918        123.489998    Second Class                     2      9   \n",
       "129685        208.770004  Standard Class                     0     10   \n",
       "48645         113.089996    Second Class                     1      4   \n",
       "\n",
       "        Customer City_map  \n",
       "64275                 169  \n",
       "178500                149  \n",
       "120630                180  \n",
       "4503                  499  \n",
       "101622                179  \n",
       "...                   ...  \n",
       "107994                100  \n",
       "106278              61337  \n",
       "165918                655  \n",
       "129685                208  \n",
       "48645                 424  \n",
       "\n",
       "[132701 rows x 9 columns]"
      ]
     },
     "execution_count": 49,
     "metadata": {},
     "output_type": "execute_result"
    }
   ],
   "source": [
    "X_train"
   ]
  },
  {
   "cell_type": "code",
   "execution_count": 50,
   "metadata": {},
   "outputs": [
    {
     "data": {
      "text/plain": [
       "array(['Second Class', 'First Class', 'Standard Class', 'Same Day'],\n",
       "      dtype=object)"
      ]
     },
     "execution_count": 50,
     "metadata": {},
     "output_type": "execute_result"
    }
   ],
   "source": [
    "# how many unique values is there \n",
    "X_train['Shipping Mode'].unique()"
   ]
  },
  {
   "cell_type": "code",
   "execution_count": 51,
   "metadata": {},
   "outputs": [],
   "source": [
    "# drop 1st dummy variable to avoid dummny variable trap\n",
    "ohe = OneHotEncoder(drop='first',sparse=False,dtype=np.int32) # then u do not need to use 'to_array()'\n",
    "X_train_new= ohe.fit_transform(X_train[['Shipping Mode','Department','Category']])\n",
    "\n",
    "X_test_new= ohe.fit_transform(X_test[['Shipping Mode','Department','Category']])"
   ]
  },
  {
   "cell_type": "code",
   "execution_count": 52,
   "metadata": {},
   "outputs": [
    {
     "data": {
      "text/plain": [
       "array([[0, 1, 0, ..., 0, 0, 0],\n",
       "       [0, 0, 0, ..., 0, 0, 0],\n",
       "       [0, 0, 1, ..., 0, 0, 0],\n",
       "       ...,\n",
       "       [0, 1, 0, ..., 0, 0, 0],\n",
       "       [0, 0, 1, ..., 0, 0, 0],\n",
       "       [0, 1, 0, ..., 0, 0, 0]])"
      ]
     },
     "execution_count": 52,
     "metadata": {},
     "output_type": "execute_result"
    }
   ],
   "source": [
    "X_train_new"
   ]
  },
  {
   "cell_type": "markdown",
   "metadata": {},
   "source": [
    "# Joining "
   ]
  },
  {
   "cell_type": "code",
   "execution_count": 53,
   "metadata": {},
   "outputs": [
    {
     "data": {
      "text/plain": [
       "Index(['Late_risk', 'Category', 'Department', 'Sales', 'Order Item Total',\n",
       "       'Shipping Mode', 'Customer Segment cat', 'Month', 'Customer City_map'],\n",
       "      dtype='object')"
      ]
     },
     "execution_count": 53,
     "metadata": {},
     "output_type": "execute_result"
    }
   ],
   "source": [
    "X_train.columns"
   ]
  },
  {
   "cell_type": "code",
   "execution_count": 54,
   "metadata": {},
   "outputs": [],
   "source": [
    "# join with others columns and One hot encoded columns\n",
    "X_train=np.hstack((X_train[['Late_risk',  'Sales', 'Order Item Total','Customer Segment cat', 'Month', 'Customer City_map']].values,X_train_new))"
   ]
  },
  {
   "cell_type": "code",
   "execution_count": 55,
   "metadata": {},
   "outputs": [
    {
     "data": {
      "text/plain": [
       "(132701, 26)"
      ]
     },
     "execution_count": 55,
     "metadata": {},
     "output_type": "execute_result"
    }
   ],
   "source": [
    "# dimension of X_train\n",
    "X_train.shape"
   ]
  },
  {
   "cell_type": "code",
   "execution_count": 56,
   "metadata": {},
   "outputs": [
    {
     "data": {
      "text/plain": [
       "array([[  1.       , 299.980011 , 272.980011 , ...,   0.       ,\n",
       "          0.       ,   0.       ],\n",
       "       [  1.       , 199.9199982, 175.9299927, ...,   0.       ,\n",
       "          0.       ,   0.       ],\n",
       "       [  1.       , 299.980011 , 251.9799957, ...,   0.       ,\n",
       "          0.       ,   0.       ],\n",
       "       ...,\n",
       "       [  1.       , 129.9900055, 123.4899979, ...,   0.       ,\n",
       "          0.       ,   0.       ],\n",
       "       [  0.       , 239.9600067, 208.7700043, ...,   0.       ,\n",
       "          0.       ,   0.       ],\n",
       "       [  0.       , 129.9900055, 113.0899963, ...,   0.       ,\n",
       "          0.       ,   0.       ]])"
      ]
     },
     "execution_count": 56,
     "metadata": {},
     "output_type": "execute_result"
    }
   ],
   "source": [
    "X_train"
   ]
  },
  {
   "cell_type": "code",
   "execution_count": 57,
   "metadata": {},
   "outputs": [],
   "source": [
    "# did not join 'Shipping Mode'\n",
    "X_test=np.hstack((X_test[['Late_risk',  'Sales', 'Order Item Total','Customer Segment cat', 'Month', 'Customer City_map']].values,X_test_new))"
   ]
  },
  {
   "cell_type": "code",
   "execution_count": 58,
   "metadata": {},
   "outputs": [
    {
     "data": {
      "text/plain": [
       "(33176, 26)"
      ]
     },
     "execution_count": 58,
     "metadata": {},
     "output_type": "execute_result"
    }
   ],
   "source": [
    "X_test.shape"
   ]
  },
  {
   "cell_type": "code",
   "execution_count": 59,
   "metadata": {},
   "outputs": [
    {
     "data": {
      "text/plain": [
       "array([[  1.        ,  99.95999908,  82.97000122, ...,   0.        ,\n",
       "          0.        ,   0.        ],\n",
       "       [  0.        , 199.9900055 , 193.9900055 , ...,   0.        ,\n",
       "          1.        ,   0.        ],\n",
       "       [  1.        , 129.9900055 , 124.7900009 , ...,   0.        ,\n",
       "          0.        ,   0.        ],\n",
       "       ...,\n",
       "       [  1.        , 399.9599915 , 383.9599915 , ...,   0.        ,\n",
       "          0.        ,   0.        ],\n",
       "       [  0.        , 399.980011  , 331.980011  , ...,   0.        ,\n",
       "          0.        ,   0.        ],\n",
       "       [  1.        ,  49.97999954,  41.97999954, ...,   0.        ,\n",
       "          0.        ,   0.        ]])"
      ]
     },
     "execution_count": 59,
     "metadata": {},
     "output_type": "execute_result"
    }
   ],
   "source": [
    "X_test"
   ]
  },
  {
   "cell_type": "code",
   "execution_count": null,
   "metadata": {},
   "outputs": [],
   "source": []
  },
  {
   "cell_type": "markdown",
   "metadata": {},
   "source": [
    "# Building Model \n",
    "\n",
    "## Model without hyper parameter tuning"
   ]
  },
  {
   "cell_type": "code",
   "execution_count": 60,
   "metadata": {},
   "outputs": [],
   "source": [
    "# Set seed for reproducibility\n",
    "\n",
    "SEED = 0\n",
    "# Instantiate a random forests regressor with vanilla setting\n",
    "rf = RandomForestRegressor( random_state=SEED,oob_score=True, min_samples_leaf= 0.1)"
   ]
  },
  {
   "cell_type": "code",
   "execution_count": 112,
   "metadata": {},
   "outputs": [],
   "source": [
    "model_1=rf.fit(X_train,y_train)"
   ]
  },
  {
   "cell_type": "code",
   "execution_count": 61,
   "metadata": {},
   "outputs": [
    {
     "data": {
      "text/html": [
       "<style>#sk-container-id-1 {color: black;background-color: white;}#sk-container-id-1 pre{padding: 0;}#sk-container-id-1 div.sk-toggleable {background-color: white;}#sk-container-id-1 label.sk-toggleable__label {cursor: pointer;display: block;width: 100%;margin-bottom: 0;padding: 0.3em;box-sizing: border-box;text-align: center;}#sk-container-id-1 label.sk-toggleable__label-arrow:before {content: \"▸\";float: left;margin-right: 0.25em;color: #696969;}#sk-container-id-1 label.sk-toggleable__label-arrow:hover:before {color: black;}#sk-container-id-1 div.sk-estimator:hover label.sk-toggleable__label-arrow:before {color: black;}#sk-container-id-1 div.sk-toggleable__content {max-height: 0;max-width: 0;overflow: hidden;text-align: left;background-color: #f0f8ff;}#sk-container-id-1 div.sk-toggleable__content pre {margin: 0.2em;color: black;border-radius: 0.25em;background-color: #f0f8ff;}#sk-container-id-1 input.sk-toggleable__control:checked~div.sk-toggleable__content {max-height: 200px;max-width: 100%;overflow: auto;}#sk-container-id-1 input.sk-toggleable__control:checked~label.sk-toggleable__label-arrow:before {content: \"▾\";}#sk-container-id-1 div.sk-estimator input.sk-toggleable__control:checked~label.sk-toggleable__label {background-color: #d4ebff;}#sk-container-id-1 div.sk-label input.sk-toggleable__control:checked~label.sk-toggleable__label {background-color: #d4ebff;}#sk-container-id-1 input.sk-hidden--visually {border: 0;clip: rect(1px 1px 1px 1px);clip: rect(1px, 1px, 1px, 1px);height: 1px;margin: -1px;overflow: hidden;padding: 0;position: absolute;width: 1px;}#sk-container-id-1 div.sk-estimator {font-family: monospace;background-color: #f0f8ff;border: 1px dotted black;border-radius: 0.25em;box-sizing: border-box;margin-bottom: 0.5em;}#sk-container-id-1 div.sk-estimator:hover {background-color: #d4ebff;}#sk-container-id-1 div.sk-parallel-item::after {content: \"\";width: 100%;border-bottom: 1px solid gray;flex-grow: 1;}#sk-container-id-1 div.sk-label:hover label.sk-toggleable__label {background-color: #d4ebff;}#sk-container-id-1 div.sk-serial::before {content: \"\";position: absolute;border-left: 1px solid gray;box-sizing: border-box;top: 0;bottom: 0;left: 50%;z-index: 0;}#sk-container-id-1 div.sk-serial {display: flex;flex-direction: column;align-items: center;background-color: white;padding-right: 0.2em;padding-left: 0.2em;position: relative;}#sk-container-id-1 div.sk-item {position: relative;z-index: 1;}#sk-container-id-1 div.sk-parallel {display: flex;align-items: stretch;justify-content: center;background-color: white;position: relative;}#sk-container-id-1 div.sk-item::before, #sk-container-id-1 div.sk-parallel-item::before {content: \"\";position: absolute;border-left: 1px solid gray;box-sizing: border-box;top: 0;bottom: 0;left: 50%;z-index: -1;}#sk-container-id-1 div.sk-parallel-item {display: flex;flex-direction: column;z-index: 1;position: relative;background-color: white;}#sk-container-id-1 div.sk-parallel-item:first-child::after {align-self: flex-end;width: 50%;}#sk-container-id-1 div.sk-parallel-item:last-child::after {align-self: flex-start;width: 50%;}#sk-container-id-1 div.sk-parallel-item:only-child::after {width: 0;}#sk-container-id-1 div.sk-dashed-wrapped {border: 1px dashed gray;margin: 0 0.4em 0.5em 0.4em;box-sizing: border-box;padding-bottom: 0.4em;background-color: white;}#sk-container-id-1 div.sk-label label {font-family: monospace;font-weight: bold;display: inline-block;line-height: 1.2em;}#sk-container-id-1 div.sk-label-container {text-align: center;}#sk-container-id-1 div.sk-container {/* jupyter's `normalize.less` sets `[hidden] { display: none; }` but bootstrap.min.css set `[hidden] { display: none !important; }` so we also need the `!important` here to be able to override the default hidden behavior on the sphinx rendered scikit-learn.org. See: https://github.com/scikit-learn/scikit-learn/issues/21755 */display: inline-block !important;position: relative;}#sk-container-id-1 div.sk-text-repr-fallback {display: none;}</style><div id=\"sk-container-id-1\" class=\"sk-top-container\"><div class=\"sk-text-repr-fallback\"><pre>RandomForestRegressor(min_samples_leaf=0.1, oob_score=True, random_state=0)</pre><b>In a Jupyter environment, please rerun this cell to show the HTML representation or trust the notebook. <br />On GitHub, the HTML representation is unable to render, please try loading this page with nbviewer.org.</b></div><div class=\"sk-container\" hidden><div class=\"sk-item\"><div class=\"sk-estimator sk-toggleable\"><input class=\"sk-toggleable__control sk-hidden--visually\" id=\"sk-estimator-id-1\" type=\"checkbox\" checked><label for=\"sk-estimator-id-1\" class=\"sk-toggleable__label sk-toggleable__label-arrow\">RandomForestRegressor</label><div class=\"sk-toggleable__content\"><pre>RandomForestRegressor(min_samples_leaf=0.1, oob_score=True, random_state=0)</pre></div></div></div></div></div>"
      ],
      "text/plain": [
       "RandomForestRegressor(min_samples_leaf=0.1, oob_score=True, random_state=0)"
      ]
     },
     "execution_count": 61,
     "metadata": {},
     "output_type": "execute_result"
    }
   ],
   "source": [
    "rf.fit(X_train,y_train)"
   ]
  },
  {
   "cell_type": "code",
   "execution_count": 62,
   "metadata": {},
   "outputs": [],
   "source": [
    "# Model Prediction\n",
    "y_pred = rf.predict(X_test)"
   ]
  },
  {
   "cell_type": "markdown",
   "metadata": {},
   "source": [
    "# Model Performance"
   ]
  },
  {
   "cell_type": "code",
   "execution_count": 63,
   "metadata": {},
   "outputs": [],
   "source": [
    "# importing performance metrics\n",
    "from sklearn.metrics import mean_absolute_error,mean_squared_error,r2_score"
   ]
  },
  {
   "cell_type": "markdown",
   "metadata": {},
   "source": [
    "#### Mean Absolute Error\n",
    "the problem is this MAE equation is not differenttialbel to in the optimization problem I cant not use "
   ]
  },
  {
   "cell_type": "code",
   "execution_count": 64,
   "metadata": {},
   "outputs": [
    {
     "name": "stdout",
     "output_type": "stream",
     "text": [
      "MAE 0.6711676573013402\n"
     ]
    }
   ],
   "source": [
    "print(\"MAE\",mean_absolute_error(y_test,y_pred))"
   ]
  },
  {
   "cell_type": "markdown",
   "metadata": {},
   "source": [
    "#### Mean Square Error \n",
    "There is no correct value for MSE. Simply put, the lower the value the better and 0 means the model is perfect.\n",
    "\n",
    "the problem of MAE is solve by MSE\n",
    "\n",
    "it will give a number our goal is to minimize thsi number as lower as possible\n",
    "\n",
    "Advantage:\n",
    "\n",
    "as this equation is difentialable. so we can use it as 'loss function'\n"
   ]
  },
  {
   "cell_type": "code",
   "execution_count": 65,
   "metadata": {},
   "outputs": [
    {
     "name": "stdout",
     "output_type": "stream",
     "text": [
      "MSE 0.8770177439083893\n"
     ]
    }
   ],
   "source": [
    "# There is no correct value for MSE. Simply put, the lower the value the better and 0 means the model is perfect.\n",
    "print(\"MSE\",mean_squared_error(y_test,y_pred))"
   ]
  },
  {
   "cell_type": "markdown",
   "metadata": {},
   "source": [
    "#### R2 ( Coefficient of ditermination)\n",
    "it is independent of contex , like MAE, MSE,RMSE these are dependent on context, like for forecastiong 1.5 % error ok but for a self driving car it is nit ok\n",
    "\n",
    "But R2 it is completly not depeddent on contex it it give u an absolute results\n",
    "\n",
    "it compare how much the best fit line or regression line is better then the mean line\n",
    "\n",
    "R2= 0 worst\n",
    "R2 = 1 best\n",
    "R2= negative , mean it is worse than mean line , it mean the whole forecast is bullshit. like non linaer data te linear regression algorithm diye dilam"
   ]
  },
  {
   "cell_type": "code",
   "execution_count": 66,
   "metadata": {},
   "outputs": [
    {
     "name": "stdout",
     "output_type": "stream",
     "text": [
      "0.5912143382934041\n"
     ]
    }
   ],
   "source": [
    "# storing the r2( Coefficient of ditermination) score in s \n",
    "r2 = r2_score(y_test,y_pred)\n",
    "print(r2)"
   ]
  },
  {
   "cell_type": "markdown",
   "metadata": {},
   "source": [
    "#### Root Mean square Error\n",
    "In deep learing we use it a lot sometimes if u use all then it is not feassible cause some errom minimize one where other error increase another metrics, Better to use all and have a close look\n",
    "\n",
    "\n",
    "Based on a rule of thumb, it can be said that RMSE values between 0.2 and 0.5 shows that the model can relatively predict the data accurately. In addition, Adjusted R-squared more than 0.75 is a very good value for showing the accuracy.\n",
    "\n",
    "\n",
    "https://www.researchgate.net/post/Whats-the-acceptable-value-of-Root-Mean-Square-Error-RMSE-Sum-of-Squares-due-to-error-SSE-and-Adjusted-R-square#:~:text=Based%20on%20a%20rule%20of,value%20for%20showing%20the%20accuracy."
   ]
  },
  {
   "cell_type": "code",
   "execution_count": 67,
   "metadata": {},
   "outputs": [
    {
     "name": "stdout",
     "output_type": "stream",
     "text": [
      "RMSE 0.9364922551246162\n"
     ]
    }
   ],
   "source": [
    "# do direct function for RMSE so we use np.sqrt()\n",
    "# when u have the outlier it is a better metrics \n",
    "print(\"RMSE\",np.sqrt(mean_squared_error(y_test,y_pred)))"
   ]
  },
  {
   "cell_type": "markdown",
   "metadata": {},
   "source": [
    "###  Model Performance using Cross Validation\n"
   ]
  },
  {
   "cell_type": "markdown",
   "metadata": {},
   "source": [
    "CV score metris for \"scoring\"\n",
    "https://scikit-learn.org/stable/modules/model_evaluation.html#scoring-parameter"
   ]
  },
  {
   "cell_type": "code",
   "execution_count": 68,
   "metadata": {},
   "outputs": [
    {
     "name": "stdout",
     "output_type": "stream",
     "text": [
      "MSE_CV_train =  0.8751983786667484\n"
     ]
    }
   ],
   "source": [
    "# MSE for train dataset\n",
    "MSE_CV_train = - cross_val_score(rf, X_train, y_train, cv= 5, scoring='neg_mean_squared_error', n_jobs = -1)\n",
    "print(\"MSE_CV_train = \", np.mean(MSE_CV_train))"
   ]
  },
  {
   "cell_type": "code",
   "execution_count": 69,
   "metadata": {},
   "outputs": [
    {
     "name": "stdout",
     "output_type": "stream",
     "text": [
      "r2_train =  0.590918375366051\n"
     ]
    }
   ],
   "source": [
    "# r2 for train dataset\n",
    "r2_train =  cross_val_score(rf, X_train, y_train, cv= 5, scoring='r2', n_jobs = -1)\n",
    "print(\"r2_train = \", np.mean(r2_train))"
   ]
  },
  {
   "cell_type": "code",
   "execution_count": 70,
   "metadata": {},
   "outputs": [
    {
     "name": "stdout",
     "output_type": "stream",
     "text": [
      "RMSE_train =  0.9355136138198954\n"
     ]
    }
   ],
   "source": [
    "# RMSE for train dataset\n",
    "RMSE_train = - cross_val_score(rf, X_train, y_train, cv= 5, scoring='neg_root_mean_squared_error', n_jobs = -1)\n",
    "print(\"RMSE_train = \", np.mean(RMSE_train))"
   ]
  },
  {
   "cell_type": "markdown",
   "metadata": {},
   "source": [
    "### for test data set "
   ]
  },
  {
   "cell_type": "code",
   "execution_count": 71,
   "metadata": {},
   "outputs": [
    {
     "name": "stdout",
     "output_type": "stream",
     "text": [
      "MSE_CV_test =  0.8772389515692799\n"
     ]
    }
   ],
   "source": [
    "# MSE for train dataset\n",
    "MSE_CV_test = - cross_val_score(rf, X_test, y_test, cv= 5, scoring='neg_mean_squared_error', n_jobs = -1)\n",
    "print(\"MSE_CV_test = \", np.mean(MSE_CV_test))"
   ]
  },
  {
   "cell_type": "code",
   "execution_count": null,
   "metadata": {},
   "outputs": [],
   "source": []
  },
  {
   "cell_type": "code",
   "execution_count": 72,
   "metadata": {},
   "outputs": [
    {
     "name": "stdout",
     "output_type": "stream",
     "text": [
      "r2_train =  0.591072689521537\n"
     ]
    }
   ],
   "source": [
    "# r2 for train dataset\n",
    "r2_test =  cross_val_score(rf, X_test, y_test, cv= 5, scoring='r2', n_jobs = -1)\n",
    "print(\"r2_train = \", np.mean(r2_test))"
   ]
  },
  {
   "cell_type": "code",
   "execution_count": null,
   "metadata": {},
   "outputs": [],
   "source": []
  },
  {
   "cell_type": "code",
   "execution_count": 73,
   "metadata": {},
   "outputs": [
    {
     "name": "stdout",
     "output_type": "stream",
     "text": [
      "RMSE_train =  0.9365815921315942\n"
     ]
    }
   ],
   "source": [
    "# RMSE for train dataset\n",
    "RMSE_test = - cross_val_score(rf, X_test, y_test, cv= 5, scoring='neg_root_mean_squared_error', n_jobs = -1)\n",
    "print(\"RMSE_train = \", np.mean(RMSE_test))"
   ]
  },
  {
   "cell_type": "code",
   "execution_count": null,
   "metadata": {},
   "outputs": [],
   "source": []
  },
  {
   "cell_type": "markdown",
   "metadata": {},
   "source": [
    "# Hyper parameter Tuning \n",
    "\n",
    "## GridSearchCV"
   ]
  },
  {
   "cell_type": "code",
   "execution_count": 75,
   "metadata": {},
   "outputs": [],
   "source": [
    "# importing GridSearchCV For HyperParameter Tuning\n",
    "from sklearn.model_selection import GridSearchCV\n",
    "\n",
    "\n",
    "# for measuring the run time \n",
    "import time\n"
   ]
  },
  {
   "cell_type": "code",
   "execution_count": 76,
   "metadata": {},
   "outputs": [],
   "source": [
    "# Number of trees in random forest\n",
    "n_estimators = [200, 300,400]\n",
    "\n",
    "# Number of features to consider at every split\n",
    "max_features = [0.2,0.6,0.8,1]\n",
    "\n",
    "# Maximum number of levels in tree\n",
    "max_depth = [2,8, None]\n",
    "\n",
    "# Number of samples\n",
    "max_samples = [0.5,0.6,0.75]\n",
    "\n",
    "# minimum number of samples required to be at a leaf node.\n",
    "min_samples_leaf=[0.10,0.15, 0.20]\n",
    "\n",
    "# Minimum number of samples required to split a node\n",
    "min_samples_split = [2, 3, 5]\n",
    "\n",
    "# for one combination one model \n",
    "#  729 different random forest model train"
   ]
  },
  {
   "cell_type": "code",
   "execution_count": 77,
   "metadata": {},
   "outputs": [
    {
     "name": "stdout",
     "output_type": "stream",
     "text": [
      "{'n_estimators': [200, 300, 400], 'max_features': [0.2, 0.6, 0.8, 1], 'max_depth': [2, 8, None], 'max_samples': [0.5, 0.6, 0.75], 'min_samples_leaf': [0.1, 0.15, 0.2], 'min_samples_split': [2, 3, 5]}\n"
     ]
    }
   ],
   "source": [
    "param_grid = {'n_estimators': n_estimators,\n",
    "               'max_features': max_features,\n",
    "               'max_depth': max_depth,\n",
    "              'max_samples':max_samples,\n",
    "              'min_samples_leaf':min_samples_leaf,\n",
    "              'min_samples_split':min_samples_split\n",
    "             }\n",
    "print(param_grid)"
   ]
  },
  {
   "cell_type": "code",
   "execution_count": 78,
   "metadata": {},
   "outputs": [],
   "source": [
    "# Set seed for reproducibility\n",
    "SEED_T=1111\n",
    "# Instantiate a random forests regressor \n",
    "rf_tune = RandomForestRegressor( random_state=SEED_T)"
   ]
  },
  {
   "cell_type": "code",
   "execution_count": 79,
   "metadata": {},
   "outputs": [],
   "source": [
    "# Instantiate GridSearchCV\n",
    "rf_grid = GridSearchCV(estimator = rf_tune, \n",
    "                       param_grid= param_grid, \n",
    "                       cv = 5, \n",
    "                       verbose=2, \n",
    "                       n_jobs = -1)"
   ]
  },
  {
   "cell_type": "code",
   "execution_count": 80,
   "metadata": {},
   "outputs": [
    {
     "name": "stdout",
     "output_type": "stream",
     "text": [
      "Fitting 5 folds for each of 972 candidates, totalling 4860 fits\n",
      "11281.931797027588\n"
     ]
    }
   ],
   "source": [
    "\n",
    "\n",
    "# measure starting time \n",
    "start = time.time()\n",
    "\n",
    "# train  GridSearchCV\n",
    "rf_grid.fit(X_train,y_train)\n",
    "\n",
    "# measure end time \n",
    "end = time.time()\n",
    "\n",
    "# measure elapse time \n",
    "print(end - start)"
   ]
  },
  {
   "cell_type": "code",
   "execution_count": 85,
   "metadata": {},
   "outputs": [
    {
     "data": {
      "text/plain": [
       "{'max_depth': 8,\n",
       " 'max_features': 0.8,\n",
       " 'max_samples': 0.75,\n",
       " 'min_samples_leaf': 0.1,\n",
       " 'min_samples_split': 2,\n",
       " 'n_estimators': 200}"
      ]
     },
     "execution_count": 85,
     "metadata": {},
     "output_type": "execute_result"
    }
   ],
   "source": [
    "# Getting best model's Parameter \n",
    "rf_grid.best_params_"
   ]
  },
  {
   "cell_type": "code",
   "execution_count": 86,
   "metadata": {},
   "outputs": [
    {
     "data": {
      "text/plain": [
       "0.5454720875017728"
      ]
     },
     "execution_count": 86,
     "metadata": {},
     "output_type": "execute_result"
    }
   ],
   "source": [
    "# Best model score\n",
    "rf_grid.best_score_"
   ]
  },
  {
   "cell_type": "markdown",
   "metadata": {},
   "source": [
    "### Work with best model"
   ]
  },
  {
   "cell_type": "code",
   "execution_count": 87,
   "metadata": {},
   "outputs": [],
   "source": [
    " # Set seed for reproducibility\n",
    "SEED_TT=2222\n",
    "# Instantiate a random forests regressor \n",
    "rf_best_g = RandomForestRegressor( random_state=SEED_TT, oob_score=True,max_depth= 8,max_features= 0.8,max_samples= 0.75,min_samples_leaf= 0.1,min_samples_split= 2,n_estimators=  200)\n",
    " \n",
    " \n",
    " \n",
    " \n",
    " "
   ]
  },
  {
   "cell_type": "markdown",
   "metadata": {},
   "source": [
    "# Performance of the  best mode on train data "
   ]
  },
  {
   "cell_type": "code",
   "execution_count": 88,
   "metadata": {},
   "outputs": [
    {
     "name": "stdout",
     "output_type": "stream",
     "text": [
      "MSE_CV_train =  0.9772778600997121\n"
     ]
    }
   ],
   "source": [
    "# MSE for train dataset\n",
    "MSE_CV_train = - cross_val_score(rf_best_g, X_train, y_train, cv= 5, scoring='neg_mean_squared_error', n_jobs = -1)\n",
    "print(\"MSE_CV_train = \", np.mean(MSE_CV_train))"
   ]
  },
  {
   "cell_type": "code",
   "execution_count": 89,
   "metadata": {},
   "outputs": [
    {
     "name": "stdout",
     "output_type": "stream",
     "text": [
      "r2_train =  0.5432064700300577\n"
     ]
    }
   ],
   "source": [
    "# r2 for train dataset\n",
    "r2_train =  cross_val_score(rf_best_g, X_train, y_train, cv= 5, scoring='r2', n_jobs = -1)\n",
    "print(\"r2_train = \", np.mean(r2_train))"
   ]
  },
  {
   "cell_type": "markdown",
   "metadata": {},
   "source": [
    "https://medium.com/analytics-vidhya/how-to-judge-a-machine-learning-model-part-1-ca5074a12c69#:~:text=RMSE%20gives%20you%20the%20error,0.9%20of%20a%20good%20model.\n",
    "\n",
    "\n",
    "\n",
    "RMSE could be more that 1. that's just mean that your model couldn't find a solution or (optimized very well). It means that the squared root of squared differences between your predictions and observed values is 11. Naturally lower values indicate a better fit of your model.\n",
    "\n",
    "\n",
    "Lower values of RMSE indicate better fit. RMSE is a good measure of how accurately the model predicts the response. It's the most important criterion for fit if the main purpose of the model is prediction. The best measure of model fit depends on the researcher's objectives, and more than one are often useful."
   ]
  },
  {
   "cell_type": "code",
   "execution_count": 90,
   "metadata": {},
   "outputs": [
    {
     "name": "stdout",
     "output_type": "stream",
     "text": [
      "RMSE_train =  0.9885626265522056\n"
     ]
    }
   ],
   "source": [
    "# RMSE for train dataset\n",
    "RMSE_train = - cross_val_score(rf_best_g, X_train, y_train, cv= 5, scoring='neg_root_mean_squared_error', n_jobs = -1)\n",
    "print(\"RMSE_train = \", np.mean(RMSE_train))"
   ]
  },
  {
   "cell_type": "code",
   "execution_count": null,
   "metadata": {},
   "outputs": [],
   "source": []
  },
  {
   "cell_type": "code",
   "execution_count": null,
   "metadata": {},
   "outputs": [],
   "source": []
  },
  {
   "cell_type": "code",
   "execution_count": null,
   "metadata": {},
   "outputs": [],
   "source": []
  },
  {
   "cell_type": "markdown",
   "metadata": {},
   "source": [
    "# Performance of the  best mode on test data "
   ]
  },
  {
   "cell_type": "code",
   "execution_count": 91,
   "metadata": {},
   "outputs": [
    {
     "name": "stdout",
     "output_type": "stream",
     "text": [
      "MSE_CV_test =  0.9749936535022308\n"
     ]
    }
   ],
   "source": [
    "# MSE for test dataset\n",
    "MSE_CV_test = - cross_val_score(rf_best_g, X_test, y_test, cv= 5, scoring='neg_mean_squared_error', n_jobs = -1)\n",
    "print(\"MSE_CV_test = \", np.mean(MSE_CV_test))"
   ]
  },
  {
   "cell_type": "code",
   "execution_count": 92,
   "metadata": {},
   "outputs": [
    {
     "name": "stdout",
     "output_type": "stream",
     "text": [
      "r2_test =  0.545521459077993\n"
     ]
    }
   ],
   "source": [
    "# r2 for test dataset\n",
    "r2_test =  cross_val_score(rf_best_g, X_test, y_test, cv= 5, scoring='r2', n_jobs = -1)\n",
    "print(\"r2_test = \", np.mean(r2_test))"
   ]
  },
  {
   "cell_type": "code",
   "execution_count": 93,
   "metadata": {},
   "outputs": [
    {
     "name": "stdout",
     "output_type": "stream",
     "text": [
      "RMSE_test =  0.9873745858010322\n"
     ]
    }
   ],
   "source": [
    "# RMSE for test dataset\n",
    "RMSE_test = - cross_val_score(rf_best_g, X_test, y_test, cv= 5, scoring='neg_root_mean_squared_error', n_jobs = -1)\n",
    "print(\"RMSE_test = \", np.mean(RMSE_test))"
   ]
  },
  {
   "cell_type": "code",
   "execution_count": null,
   "metadata": {},
   "outputs": [],
   "source": []
  },
  {
   "cell_type": "markdown",
   "metadata": {},
   "source": [
    "## RandomSearchCV"
   ]
  },
  {
   "cell_type": "code",
   "execution_count": 97,
   "metadata": {},
   "outputs": [],
   "source": [
    "# importing RandomizedSearchCV For HyperParameter Tuning\n",
    "from sklearn.model_selection import RandomizedSearchCV"
   ]
  },
  {
   "cell_type": "code",
   "execution_count": 98,
   "metadata": {},
   "outputs": [],
   "source": [
    "# Set seed for reproducibility\n",
    "SEED_TTT=33\n",
    "# Instantiate a random forests regressor \n",
    "rf_tune = RandomForestRegressor( random_state=SEED_TTT)"
   ]
  },
  {
   "cell_type": "code",
   "execution_count": 99,
   "metadata": {
    "scrolled": true
   },
   "outputs": [],
   "source": [
    "rf_R_grid = RandomizedSearchCV(estimator = rf_tune, \n",
    "                       param_distributions= param_grid, \n",
    "                       cv = 10, \n",
    "                       verbose=2, \n",
    "                       n_jobs = -1)"
   ]
  },
  {
   "cell_type": "code",
   "execution_count": 100,
   "metadata": {},
   "outputs": [
    {
     "name": "stdout",
     "output_type": "stream",
     "text": [
      "Fitting 10 folds for each of 10 candidates, totalling 100 fits\n",
      "337.3639442920685\n"
     ]
    }
   ],
   "source": [
    "# measuring starting time \n",
    "start = time.time()\n",
    "\n",
    "# fitting the model\n",
    "rf_R_grid.fit(X_train,y_train)\n",
    "\n",
    "# measuring end time \n",
    "\n",
    "end = time.time()\n",
    "\n",
    "# printing laps time \n",
    "print(end - start)\n"
   ]
  },
  {
   "cell_type": "code",
   "execution_count": 101,
   "metadata": {},
   "outputs": [
    {
     "data": {
      "text/plain": [
       "{'n_estimators': 200,\n",
       " 'min_samples_split': 2,\n",
       " 'min_samples_leaf': 0.1,\n",
       " 'max_samples': 0.6,\n",
       " 'max_features': 0.8,\n",
       " 'max_depth': 2}"
      ]
     },
     "execution_count": 101,
     "metadata": {},
     "output_type": "execute_result"
    }
   ],
   "source": [
    "# Getting best model's Parameter \n",
    "rf_R_grid.best_params_"
   ]
  },
  {
   "cell_type": "code",
   "execution_count": 102,
   "metadata": {},
   "outputs": [
    {
     "data": {
      "text/plain": [
       "0.5280148070007218"
      ]
     },
     "execution_count": 102,
     "metadata": {},
     "output_type": "execute_result"
    }
   ],
   "source": [
    "# Best model score\n",
    "rf_R_grid.best_score_"
   ]
  },
  {
   "cell_type": "markdown",
   "metadata": {},
   "source": [
    "# working with best model   from Random Search"
   ]
  },
  {
   "cell_type": "code",
   "execution_count": 103,
   "metadata": {},
   "outputs": [],
   "source": [
    "# Set seed for reproducibility\n",
    "SEED_TTTT=4444\n",
    "# Instantiate a random forests regressor \n",
    "rf_best_r_g = RandomForestRegressor( random_state=SEED_TTTT,oob_score=True,\n",
    "                                 n_estimators= 200,\n",
    "                                 min_samples_split= 2,\n",
    "                                 min_samples_leaf= 0.1,\n",
    "                                 max_samples= 0.6,\n",
    "                                 max_features= 0.8,\n",
    "                                 max_depth= 2)\n",
    " "
   ]
  },
  {
   "cell_type": "markdown",
   "metadata": {},
   "source": [
    "# Performance on train data "
   ]
  },
  {
   "cell_type": "code",
   "execution_count": 104,
   "metadata": {},
   "outputs": [
    {
     "name": "stdout",
     "output_type": "stream",
     "text": [
      "MSE_CV_train =  0.9955043420663928\n"
     ]
    }
   ],
   "source": [
    "# MSE for train dataset\n",
    "MSE_CV_train = - cross_val_score(rf_best_r_g, X_train, y_train, cv= 5, scoring='neg_mean_squared_error', n_jobs = -1)\n",
    "print(\"MSE_CV_train = \", np.mean(MSE_CV_train))"
   ]
  },
  {
   "cell_type": "code",
   "execution_count": 105,
   "metadata": {},
   "outputs": [
    {
     "name": "stdout",
     "output_type": "stream",
     "text": [
      "r2_train =  0.534687293205215\n"
     ]
    }
   ],
   "source": [
    "# r2 for train dataset\n",
    "r2_train =  cross_val_score(rf_best_r_g, X_train, y_train, cv= 5, scoring='r2', n_jobs = -1)\n",
    "print(\"r2_train = \", np.mean(r2_train))"
   ]
  },
  {
   "cell_type": "code",
   "execution_count": 106,
   "metadata": {},
   "outputs": [
    {
     "name": "stdout",
     "output_type": "stream",
     "text": [
      "RMSE_train =  0.9977368882789552\n"
     ]
    }
   ],
   "source": [
    "# RMSE for train dataset\n",
    "RMSE_train = - cross_val_score(rf_best_r_g, X_train, y_train, cv= 5, scoring='neg_root_mean_squared_error', n_jobs = -1)\n",
    "print(\"RMSE_train = \", np.mean(RMSE_train))"
   ]
  },
  {
   "cell_type": "markdown",
   "metadata": {},
   "source": [
    "# Performance on test Data "
   ]
  },
  {
   "cell_type": "code",
   "execution_count": 107,
   "metadata": {},
   "outputs": [
    {
     "name": "stdout",
     "output_type": "stream",
     "text": [
      "MSE_CV_test =  0.9997770764456888\n"
     ]
    }
   ],
   "source": [
    "# MSE for test dataset\n",
    "MSE_CV_test = - cross_val_score(rf_best_r_g, X_test, y_test, cv= 5, scoring='neg_mean_squared_error', n_jobs = -1)\n",
    "print(\"MSE_CV_test = \", np.mean(MSE_CV_test))"
   ]
  },
  {
   "cell_type": "code",
   "execution_count": 108,
   "metadata": {},
   "outputs": [
    {
     "name": "stdout",
     "output_type": "stream",
     "text": [
      "r2_test =  0.5339513526751863\n"
     ]
    }
   ],
   "source": [
    "# r2 for test dataset\n",
    "r2_test =  cross_val_score(rf_best_r_g, X_test, y_test, cv= 5, scoring='r2', n_jobs = -1)\n",
    "print(\"r2_test = \", np.mean(r2_test))"
   ]
  },
  {
   "cell_type": "code",
   "execution_count": 109,
   "metadata": {},
   "outputs": [
    {
     "name": "stdout",
     "output_type": "stream",
     "text": [
      "RMSE_test =  0.9998571771528642\n"
     ]
    }
   ],
   "source": [
    "# RMSE for test dataset\n",
    "RMSE_test = - cross_val_score(rf_best_r_g, X_test, y_test, cv= 5, scoring='neg_root_mean_squared_error', n_jobs = -1)\n",
    "print(\"RMSE_test = \", np.mean(RMSE_test))"
   ]
  },
  {
   "cell_type": "code",
   "execution_count": null,
   "metadata": {},
   "outputs": [],
   "source": []
  },
  {
   "cell_type": "markdown",
   "metadata": {},
   "source": [
    "# OBB score "
   ]
  },
  {
   "cell_type": "code",
   "execution_count": 113,
   "metadata": {},
   "outputs": [
    {
     "name": "stdout",
     "output_type": "stream",
     "text": [
      "OBB score of vanilla setting model   0.5909240750909164\n",
      "OBB score of GridseachCV   0.5430205265930661\n",
      "OBB score of Random seachCV   0.5343924822448015\n"
     ]
    }
   ],
   "source": [
    "# OBB score of vanilla setting model\n",
    "\n",
    "print(\"OBB score of vanilla setting model  \" ,model_1.oob_score_)\n",
    "\n",
    "\n",
    "# OBB score of GridseachCV  best hyperparameter model\n",
    "\n",
    "model_2 =rf_best_g.fit(X_train, y_train)\n",
    "\n",
    "print(\"OBB score of GridseachCV  \" , model_2.oob_score_)\n",
    "\n",
    "\n",
    "# OBB score of Random seachCV  best hyperparameter model\n",
    "\n",
    "model_3=rf_best_r_g.fit(X_train, y_train)\n",
    "\n",
    "print(\"OBB score of Random seachCV  \" , model_3.oob_score_)\n"
   ]
  },
  {
   "cell_type": "markdown",
   "metadata": {},
   "source": [
    "# Save Model\n",
    "https://machinelearningmastery.com/save-load-machine-learning-models-python-scikit-learn/"
   ]
  },
  {
   "cell_type": "code",
   "execution_count": 115,
   "metadata": {},
   "outputs": [],
   "source": [
    "import pickle\n"
   ]
  },
  {
   "cell_type": "code",
   "execution_count": 116,
   "metadata": {},
   "outputs": [],
   "source": [
    "# save the  vanilla model to disk\n",
    "filename1 = 'vanilla_RF_model.sav'\n",
    "pickle.dump(model_1, open(filename1, 'wb'))"
   ]
  },
  {
   "cell_type": "code",
   "execution_count": 117,
   "metadata": {},
   "outputs": [],
   "source": [
    "# save the  GridSearch CV best parameter  model to disk\n",
    "filename2 = 'GridSearch_RF_model.sav'\n",
    "pickle.dump(model_2, open(filename2, 'wb'))"
   ]
  },
  {
   "cell_type": "code",
   "execution_count": 118,
   "metadata": {},
   "outputs": [],
   "source": [
    "# save the   RandomSearch CV best parameter to disk\n",
    "filename3 = 'Random_Search_RF_model.sav'\n",
    "pickle.dump(model_3, open(filename3, 'wb'))"
   ]
  },
  {
   "cell_type": "code",
   "execution_count": null,
   "metadata": {},
   "outputs": [],
   "source": []
  },
  {
   "cell_type": "code",
   "execution_count": null,
   "metadata": {},
   "outputs": [],
   "source": []
  },
  {
   "cell_type": "markdown",
   "metadata": {},
   "source": [
    "# Feature Selection "
   ]
  },
  {
   "cell_type": "code",
   "execution_count": null,
   "metadata": {},
   "outputs": [],
   "source": []
  },
  {
   "cell_type": "code",
   "execution_count": null,
   "metadata": {},
   "outputs": [],
   "source": []
  },
  {
   "cell_type": "code",
   "execution_count": null,
   "metadata": {},
   "outputs": [],
   "source": []
  }
 ],
 "metadata": {
  "kernelspec": {
   "display_name": "Python 3",
   "language": "python",
   "name": "python3"
  },
  "language_info": {
   "codemirror_mode": {
    "name": "ipython",
    "version": 3
   },
   "file_extension": ".py",
   "mimetype": "text/x-python",
   "name": "python",
   "nbconvert_exporter": "python",
   "pygments_lexer": "ipython3",
   "version": "3.8.5"
  }
 },
 "nbformat": 4,
 "nbformat_minor": 4
}
