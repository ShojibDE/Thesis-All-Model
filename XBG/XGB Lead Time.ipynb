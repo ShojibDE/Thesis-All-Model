{
 "cells": [
  {
   "cell_type": "code",
   "execution_count": 1,
   "metadata": {},
   "outputs": [],
   "source": [
    "# Import all necessary library\n",
    "import pandas as pd \n",
    "import numpy as np\n",
    "\n",
    "# visualization library\n",
    "import matplotlib.pyplot as plt"
   ]
  },
  {
   "cell_type": "code",
   "execution_count": 2,
   "metadata": {},
   "outputs": [],
   "source": [
    "# Loading the dataset\n",
    "\n",
    "df = pd.read_csv(r'E:\\Hochschule Ansbach\\Thesis\\DATA\\df_LeadTime.csv')"
   ]
  },
  {
   "cell_type": "code",
   "execution_count": 3,
   "metadata": {},
   "outputs": [
    {
     "data": {
      "text/html": [
       "<div>\n",
       "<style scoped>\n",
       "    .dataframe tbody tr th:only-of-type {\n",
       "        vertical-align: middle;\n",
       "    }\n",
       "\n",
       "    .dataframe tbody tr th {\n",
       "        vertical-align: top;\n",
       "    }\n",
       "\n",
       "    .dataframe thead th {\n",
       "        text-align: right;\n",
       "    }\n",
       "</style>\n",
       "<table border=\"1\" class=\"dataframe\">\n",
       "  <thead>\n",
       "    <tr style=\"text-align: right;\">\n",
       "      <th></th>\n",
       "      <th>Actual shipping days</th>\n",
       "      <th>Estimated shipping days</th>\n",
       "      <th>Late_risk</th>\n",
       "      <th>Order Item Product Price</th>\n",
       "      <th>Quantity</th>\n",
       "      <th>Sales</th>\n",
       "      <th>Order Item Total</th>\n",
       "      <th>Product Price</th>\n",
       "      <th>Department</th>\n",
       "      <th>Shipping Mode</th>\n",
       "      <th>Orders Date_datetype</th>\n",
       "      <th>Shipping date_datetype</th>\n",
       "      <th>Customer Segment cat</th>\n",
       "      <th>Category_map</th>\n",
       "      <th>Order Region_map</th>\n",
       "      <th>Delivery Status_code</th>\n",
       "    </tr>\n",
       "  </thead>\n",
       "  <tbody>\n",
       "    <tr>\n",
       "      <th>0</th>\n",
       "      <td>3</td>\n",
       "      <td>4</td>\n",
       "      <td>0</td>\n",
       "      <td>327.75</td>\n",
       "      <td>1</td>\n",
       "      <td>327.75</td>\n",
       "      <td>314.640015</td>\n",
       "      <td>327.75</td>\n",
       "      <td>Fitness</td>\n",
       "      <td>Standard Class</td>\n",
       "      <td>2018-01-31 22:56:00</td>\n",
       "      <td>2018-02-03 22:56:00</td>\n",
       "      <td>0</td>\n",
       "      <td>357</td>\n",
       "      <td>9539</td>\n",
       "      <td>1</td>\n",
       "    </tr>\n",
       "    <tr>\n",
       "      <th>1</th>\n",
       "      <td>5</td>\n",
       "      <td>4</td>\n",
       "      <td>1</td>\n",
       "      <td>327.75</td>\n",
       "      <td>1</td>\n",
       "      <td>327.75</td>\n",
       "      <td>311.359985</td>\n",
       "      <td>327.75</td>\n",
       "      <td>Fitness</td>\n",
       "      <td>Standard Class</td>\n",
       "      <td>2018-01-13 12:27:00</td>\n",
       "      <td>2018-01-18 12:27:00</td>\n",
       "      <td>0</td>\n",
       "      <td>357</td>\n",
       "      <td>7731</td>\n",
       "      <td>1</td>\n",
       "    </tr>\n",
       "    <tr>\n",
       "      <th>2</th>\n",
       "      <td>4</td>\n",
       "      <td>4</td>\n",
       "      <td>0</td>\n",
       "      <td>327.75</td>\n",
       "      <td>1</td>\n",
       "      <td>327.75</td>\n",
       "      <td>309.720001</td>\n",
       "      <td>327.75</td>\n",
       "      <td>Fitness</td>\n",
       "      <td>Standard Class</td>\n",
       "      <td>2018-01-13 12:06:00</td>\n",
       "      <td>2018-01-17 12:06:00</td>\n",
       "      <td>0</td>\n",
       "      <td>357</td>\n",
       "      <td>7731</td>\n",
       "      <td>1</td>\n",
       "    </tr>\n",
       "    <tr>\n",
       "      <th>3</th>\n",
       "      <td>3</td>\n",
       "      <td>4</td>\n",
       "      <td>0</td>\n",
       "      <td>327.75</td>\n",
       "      <td>1</td>\n",
       "      <td>327.75</td>\n",
       "      <td>304.809998</td>\n",
       "      <td>327.75</td>\n",
       "      <td>Fitness</td>\n",
       "      <td>Standard Class</td>\n",
       "      <td>2018-01-13 11:45:00</td>\n",
       "      <td>2018-01-16 11:45:00</td>\n",
       "      <td>2</td>\n",
       "      <td>357</td>\n",
       "      <td>10148</td>\n",
       "      <td>1</td>\n",
       "    </tr>\n",
       "    <tr>\n",
       "      <th>4</th>\n",
       "      <td>2</td>\n",
       "      <td>4</td>\n",
       "      <td>0</td>\n",
       "      <td>327.75</td>\n",
       "      <td>1</td>\n",
       "      <td>327.75</td>\n",
       "      <td>298.250000</td>\n",
       "      <td>327.75</td>\n",
       "      <td>Fitness</td>\n",
       "      <td>Standard Class</td>\n",
       "      <td>2018-01-13 11:24:00</td>\n",
       "      <td>2018-01-15 11:24:00</td>\n",
       "      <td>1</td>\n",
       "      <td>357</td>\n",
       "      <td>10148</td>\n",
       "      <td>1</td>\n",
       "    </tr>\n",
       "  </tbody>\n",
       "</table>\n",
       "</div>"
      ],
      "text/plain": [
       "   Actual shipping days  Estimated shipping days  Late_risk  \\\n",
       "0                     3                        4          0   \n",
       "1                     5                        4          1   \n",
       "2                     4                        4          0   \n",
       "3                     3                        4          0   \n",
       "4                     2                        4          0   \n",
       "\n",
       "   Order Item Product Price  Quantity   Sales  Order Item Total  \\\n",
       "0                    327.75         1  327.75        314.640015   \n",
       "1                    327.75         1  327.75        311.359985   \n",
       "2                    327.75         1  327.75        309.720001   \n",
       "3                    327.75         1  327.75        304.809998   \n",
       "4                    327.75         1  327.75        298.250000   \n",
       "\n",
       "   Product Price Department   Shipping Mode Orders Date_datetype  \\\n",
       "0         327.75    Fitness  Standard Class  2018-01-31 22:56:00   \n",
       "1         327.75    Fitness  Standard Class  2018-01-13 12:27:00   \n",
       "2         327.75    Fitness  Standard Class  2018-01-13 12:06:00   \n",
       "3         327.75    Fitness  Standard Class  2018-01-13 11:45:00   \n",
       "4         327.75    Fitness  Standard Class  2018-01-13 11:24:00   \n",
       "\n",
       "  Shipping date_datetype  Customer Segment cat  Category_map  \\\n",
       "0    2018-02-03 22:56:00                     0           357   \n",
       "1    2018-01-18 12:27:00                     0           357   \n",
       "2    2018-01-17 12:06:00                     0           357   \n",
       "3    2018-01-16 11:45:00                     2           357   \n",
       "4    2018-01-15 11:24:00                     1           357   \n",
       "\n",
       "   Order Region_map  Delivery Status_code  \n",
       "0              9539                     1  \n",
       "1              7731                     1  \n",
       "2              7731                     1  \n",
       "3             10148                     1  \n",
       "4             10148                     1  "
      ]
     },
     "execution_count": 3,
     "metadata": {},
     "output_type": "execute_result"
    }
   ],
   "source": [
    "# printing 1st 5 rows\n",
    "df.head()"
   ]
  },
  {
   "cell_type": "markdown",
   "metadata": {},
   "source": [
    "# EDA"
   ]
  },
  {
   "cell_type": "code",
   "execution_count": 4,
   "metadata": {},
   "outputs": [
    {
     "data": {
      "text/html": [
       "<div>\n",
       "<style scoped>\n",
       "    .dataframe tbody tr th:only-of-type {\n",
       "        vertical-align: middle;\n",
       "    }\n",
       "\n",
       "    .dataframe tbody tr th {\n",
       "        vertical-align: top;\n",
       "    }\n",
       "\n",
       "    .dataframe thead th {\n",
       "        text-align: right;\n",
       "    }\n",
       "</style>\n",
       "<table border=\"1\" class=\"dataframe\">\n",
       "  <thead>\n",
       "    <tr style=\"text-align: right;\">\n",
       "      <th></th>\n",
       "      <th>Actual shipping days</th>\n",
       "      <th>Estimated shipping days</th>\n",
       "      <th>Late_risk</th>\n",
       "      <th>Order Item Product Price</th>\n",
       "      <th>Quantity</th>\n",
       "      <th>Sales</th>\n",
       "      <th>Order Item Total</th>\n",
       "      <th>Product Price</th>\n",
       "      <th>Customer Segment cat</th>\n",
       "      <th>Category_map</th>\n",
       "      <th>Order Region_map</th>\n",
       "      <th>Delivery Status_code</th>\n",
       "    </tr>\n",
       "  </thead>\n",
       "  <tbody>\n",
       "    <tr>\n",
       "      <th>count</th>\n",
       "      <td>180519.000000</td>\n",
       "      <td>180519.000000</td>\n",
       "      <td>180519.000000</td>\n",
       "      <td>180519.000000</td>\n",
       "      <td>180519.000000</td>\n",
       "      <td>180519.000000</td>\n",
       "      <td>180519.000000</td>\n",
       "      <td>180519.000000</td>\n",
       "      <td>180519.000000</td>\n",
       "      <td>180519.000000</td>\n",
       "      <td>180519.000000</td>\n",
       "      <td>180519.000000</td>\n",
       "    </tr>\n",
       "    <tr>\n",
       "      <th>mean</th>\n",
       "      <td>3.497654</td>\n",
       "      <td>2.931847</td>\n",
       "      <td>0.548291</td>\n",
       "      <td>141.232550</td>\n",
       "      <td>2.127638</td>\n",
       "      <td>203.772096</td>\n",
       "      <td>183.107609</td>\n",
       "      <td>141.232550</td>\n",
       "      <td>0.660545</td>\n",
       "      <td>16311.775331</td>\n",
       "      <td>14231.371119</td>\n",
       "      <td>0.957046</td>\n",
       "    </tr>\n",
       "    <tr>\n",
       "      <th>std</th>\n",
       "      <td>1.623722</td>\n",
       "      <td>1.374449</td>\n",
       "      <td>0.497664</td>\n",
       "      <td>139.732492</td>\n",
       "      <td>1.453451</td>\n",
       "      <td>132.273077</td>\n",
       "      <td>120.043670</td>\n",
       "      <td>139.732492</td>\n",
       "      <td>0.762408</td>\n",
       "      <td>7112.004248</td>\n",
       "      <td>9431.443100</td>\n",
       "      <td>0.202754</td>\n",
       "    </tr>\n",
       "    <tr>\n",
       "      <th>min</th>\n",
       "      <td>0.000000</td>\n",
       "      <td>0.000000</td>\n",
       "      <td>0.000000</td>\n",
       "      <td>9.990000</td>\n",
       "      <td>1.000000</td>\n",
       "      <td>9.990000</td>\n",
       "      <td>7.490000</td>\n",
       "      <td>9.990000</td>\n",
       "      <td>0.000000</td>\n",
       "      <td>61.000000</td>\n",
       "      <td>553.000000</td>\n",
       "      <td>0.000000</td>\n",
       "    </tr>\n",
       "    <tr>\n",
       "      <th>25%</th>\n",
       "      <td>2.000000</td>\n",
       "      <td>2.000000</td>\n",
       "      <td>0.000000</td>\n",
       "      <td>50.000000</td>\n",
       "      <td>1.000000</td>\n",
       "      <td>119.980003</td>\n",
       "      <td>104.379997</td>\n",
       "      <td>50.000000</td>\n",
       "      <td>0.000000</td>\n",
       "      <td>12487.000000</td>\n",
       "      <td>7280.000000</td>\n",
       "      <td>1.000000</td>\n",
       "    </tr>\n",
       "    <tr>\n",
       "      <th>50%</th>\n",
       "      <td>3.000000</td>\n",
       "      <td>4.000000</td>\n",
       "      <td>1.000000</td>\n",
       "      <td>59.990002</td>\n",
       "      <td>1.000000</td>\n",
       "      <td>199.919998</td>\n",
       "      <td>163.990005</td>\n",
       "      <td>59.990002</td>\n",
       "      <td>0.000000</td>\n",
       "      <td>17325.000000</td>\n",
       "      <td>9792.000000</td>\n",
       "      <td>1.000000</td>\n",
       "    </tr>\n",
       "    <tr>\n",
       "      <th>75%</th>\n",
       "      <td>5.000000</td>\n",
       "      <td>4.000000</td>\n",
       "      <td>1.000000</td>\n",
       "      <td>199.990005</td>\n",
       "      <td>3.000000</td>\n",
       "      <td>299.950012</td>\n",
       "      <td>247.399994</td>\n",
       "      <td>199.990005</td>\n",
       "      <td>1.000000</td>\n",
       "      <td>22246.000000</td>\n",
       "      <td>27109.000000</td>\n",
       "      <td>1.000000</td>\n",
       "    </tr>\n",
       "    <tr>\n",
       "      <th>max</th>\n",
       "      <td>6.000000</td>\n",
       "      <td>4.000000</td>\n",
       "      <td>1.000000</td>\n",
       "      <td>1999.989990</td>\n",
       "      <td>5.000000</td>\n",
       "      <td>1999.989990</td>\n",
       "      <td>1939.989990</td>\n",
       "      <td>1999.989990</td>\n",
       "      <td>2.000000</td>\n",
       "      <td>24551.000000</td>\n",
       "      <td>28341.000000</td>\n",
       "      <td>1.000000</td>\n",
       "    </tr>\n",
       "  </tbody>\n",
       "</table>\n",
       "</div>"
      ],
      "text/plain": [
       "       Actual shipping days  Estimated shipping days      Late_risk  \\\n",
       "count         180519.000000            180519.000000  180519.000000   \n",
       "mean               3.497654                 2.931847       0.548291   \n",
       "std                1.623722                 1.374449       0.497664   \n",
       "min                0.000000                 0.000000       0.000000   \n",
       "25%                2.000000                 2.000000       0.000000   \n",
       "50%                3.000000                 4.000000       1.000000   \n",
       "75%                5.000000                 4.000000       1.000000   \n",
       "max                6.000000                 4.000000       1.000000   \n",
       "\n",
       "       Order Item Product Price       Quantity          Sales  \\\n",
       "count             180519.000000  180519.000000  180519.000000   \n",
       "mean                 141.232550       2.127638     203.772096   \n",
       "std                  139.732492       1.453451     132.273077   \n",
       "min                    9.990000       1.000000       9.990000   \n",
       "25%                   50.000000       1.000000     119.980003   \n",
       "50%                   59.990002       1.000000     199.919998   \n",
       "75%                  199.990005       3.000000     299.950012   \n",
       "max                 1999.989990       5.000000    1999.989990   \n",
       "\n",
       "       Order Item Total  Product Price  Customer Segment cat   Category_map  \\\n",
       "count     180519.000000  180519.000000         180519.000000  180519.000000   \n",
       "mean         183.107609     141.232550              0.660545   16311.775331   \n",
       "std          120.043670     139.732492              0.762408    7112.004248   \n",
       "min            7.490000       9.990000              0.000000      61.000000   \n",
       "25%          104.379997      50.000000              0.000000   12487.000000   \n",
       "50%          163.990005      59.990002              0.000000   17325.000000   \n",
       "75%          247.399994     199.990005              1.000000   22246.000000   \n",
       "max         1939.989990    1999.989990              2.000000   24551.000000   \n",
       "\n",
       "       Order Region_map  Delivery Status_code  \n",
       "count     180519.000000         180519.000000  \n",
       "mean       14231.371119              0.957046  \n",
       "std         9431.443100              0.202754  \n",
       "min          553.000000              0.000000  \n",
       "25%         7280.000000              1.000000  \n",
       "50%         9792.000000              1.000000  \n",
       "75%        27109.000000              1.000000  \n",
       "max        28341.000000              1.000000  "
      ]
     },
     "execution_count": 4,
     "metadata": {},
     "output_type": "execute_result"
    }
   ],
   "source": [
    "# describe method for numeric columns\n",
    "df.describe()"
   ]
  },
  {
   "cell_type": "code",
   "execution_count": 5,
   "metadata": {},
   "outputs": [
    {
     "data": {
      "text/html": [
       "<div>\n",
       "<style scoped>\n",
       "    .dataframe tbody tr th:only-of-type {\n",
       "        vertical-align: middle;\n",
       "    }\n",
       "\n",
       "    .dataframe tbody tr th {\n",
       "        vertical-align: top;\n",
       "    }\n",
       "\n",
       "    .dataframe thead th {\n",
       "        text-align: right;\n",
       "    }\n",
       "</style>\n",
       "<table border=\"1\" class=\"dataframe\">\n",
       "  <thead>\n",
       "    <tr style=\"text-align: right;\">\n",
       "      <th></th>\n",
       "      <th>Department</th>\n",
       "      <th>Shipping Mode</th>\n",
       "      <th>Orders Date_datetype</th>\n",
       "      <th>Shipping date_datetype</th>\n",
       "    </tr>\n",
       "  </thead>\n",
       "  <tbody>\n",
       "    <tr>\n",
       "      <th>count</th>\n",
       "      <td>180519</td>\n",
       "      <td>180519</td>\n",
       "      <td>180519</td>\n",
       "      <td>180519</td>\n",
       "    </tr>\n",
       "    <tr>\n",
       "      <th>unique</th>\n",
       "      <td>11</td>\n",
       "      <td>4</td>\n",
       "      <td>65752</td>\n",
       "      <td>63701</td>\n",
       "    </tr>\n",
       "    <tr>\n",
       "      <th>top</th>\n",
       "      <td>Fan Shop</td>\n",
       "      <td>Standard Class</td>\n",
       "      <td>2016-07-18 23:02:00</td>\n",
       "      <td>2016-02-23 00:28:00</td>\n",
       "    </tr>\n",
       "    <tr>\n",
       "      <th>freq</th>\n",
       "      <td>66861</td>\n",
       "      <td>107752</td>\n",
       "      <td>5</td>\n",
       "      <td>10</td>\n",
       "    </tr>\n",
       "  </tbody>\n",
       "</table>\n",
       "</div>"
      ],
      "text/plain": [
       "       Department   Shipping Mode Orders Date_datetype Shipping date_datetype\n",
       "count      180519          180519               180519                 180519\n",
       "unique         11               4                65752                  63701\n",
       "top      Fan Shop  Standard Class  2016-07-18 23:02:00    2016-02-23 00:28:00\n",
       "freq        66861          107752                    5                     10"
      ]
     },
     "execution_count": 5,
     "metadata": {},
     "output_type": "execute_result"
    }
   ],
   "source": [
    "# describe for non numeric columns \n",
    "df.describe(exclude='number')"
   ]
  },
  {
   "cell_type": "code",
   "execution_count": 6,
   "metadata": {},
   "outputs": [
    {
     "name": "stdout",
     "output_type": "stream",
     "text": [
      "<class 'pandas.core.frame.DataFrame'>\n",
      "RangeIndex: 180519 entries, 0 to 180518\n",
      "Data columns (total 16 columns):\n",
      " #   Column                    Non-Null Count   Dtype  \n",
      "---  ------                    --------------   -----  \n",
      " 0   Actual shipping days      180519 non-null  int64  \n",
      " 1   Estimated shipping days   180519 non-null  int64  \n",
      " 2   Late_risk                 180519 non-null  int64  \n",
      " 3   Order Item Product Price  180519 non-null  float64\n",
      " 4   Quantity                  180519 non-null  int64  \n",
      " 5   Sales                     180519 non-null  float64\n",
      " 6   Order Item Total          180519 non-null  float64\n",
      " 7   Product Price             180519 non-null  float64\n",
      " 8   Department                180519 non-null  object \n",
      " 9   Shipping Mode             180519 non-null  object \n",
      " 10  Orders Date_datetype      180519 non-null  object \n",
      " 11  Shipping date_datetype    180519 non-null  object \n",
      " 12  Customer Segment cat      180519 non-null  int64  \n",
      " 13  Category_map              180519 non-null  int64  \n",
      " 14  Order Region_map          180519 non-null  int64  \n",
      " 15  Delivery Status_code      180519 non-null  int64  \n",
      "dtypes: float64(4), int64(8), object(4)\n",
      "memory usage: 22.0+ MB\n"
     ]
    }
   ],
   "source": [
    "# info method \n",
    "df.info()"
   ]
  },
  {
   "cell_type": "code",
   "execution_count": null,
   "metadata": {},
   "outputs": [],
   "source": []
  },
  {
   "cell_type": "markdown",
   "metadata": {},
   "source": [
    "# Preprocessing "
   ]
  },
  {
   "cell_type": "code",
   "execution_count": 7,
   "metadata": {},
   "outputs": [],
   "source": [
    "# Dropping irrevant columns\n",
    "df.drop(['Orders Date_datetype', 'Shipping date_datetype'], axis=1, inplace= True)"
   ]
  },
  {
   "cell_type": "code",
   "execution_count": 8,
   "metadata": {},
   "outputs": [
    {
     "data": {
      "text/html": [
       "<div>\n",
       "<style scoped>\n",
       "    .dataframe tbody tr th:only-of-type {\n",
       "        vertical-align: middle;\n",
       "    }\n",
       "\n",
       "    .dataframe tbody tr th {\n",
       "        vertical-align: top;\n",
       "    }\n",
       "\n",
       "    .dataframe thead th {\n",
       "        text-align: right;\n",
       "    }\n",
       "</style>\n",
       "<table border=\"1\" class=\"dataframe\">\n",
       "  <thead>\n",
       "    <tr style=\"text-align: right;\">\n",
       "      <th></th>\n",
       "      <th>Actual shipping days</th>\n",
       "      <th>Estimated shipping days</th>\n",
       "      <th>Late_risk</th>\n",
       "      <th>Order Item Product Price</th>\n",
       "      <th>Quantity</th>\n",
       "      <th>Sales</th>\n",
       "      <th>Order Item Total</th>\n",
       "      <th>Product Price</th>\n",
       "      <th>Department</th>\n",
       "      <th>Shipping Mode</th>\n",
       "      <th>Customer Segment cat</th>\n",
       "      <th>Category_map</th>\n",
       "      <th>Order Region_map</th>\n",
       "      <th>Delivery Status_code</th>\n",
       "    </tr>\n",
       "  </thead>\n",
       "  <tbody>\n",
       "    <tr>\n",
       "      <th>0</th>\n",
       "      <td>3</td>\n",
       "      <td>4</td>\n",
       "      <td>0</td>\n",
       "      <td>327.75</td>\n",
       "      <td>1</td>\n",
       "      <td>327.75</td>\n",
       "      <td>314.640015</td>\n",
       "      <td>327.75</td>\n",
       "      <td>Fitness</td>\n",
       "      <td>Standard Class</td>\n",
       "      <td>0</td>\n",
       "      <td>357</td>\n",
       "      <td>9539</td>\n",
       "      <td>1</td>\n",
       "    </tr>\n",
       "    <tr>\n",
       "      <th>1</th>\n",
       "      <td>5</td>\n",
       "      <td>4</td>\n",
       "      <td>1</td>\n",
       "      <td>327.75</td>\n",
       "      <td>1</td>\n",
       "      <td>327.75</td>\n",
       "      <td>311.359985</td>\n",
       "      <td>327.75</td>\n",
       "      <td>Fitness</td>\n",
       "      <td>Standard Class</td>\n",
       "      <td>0</td>\n",
       "      <td>357</td>\n",
       "      <td>7731</td>\n",
       "      <td>1</td>\n",
       "    </tr>\n",
       "    <tr>\n",
       "      <th>2</th>\n",
       "      <td>4</td>\n",
       "      <td>4</td>\n",
       "      <td>0</td>\n",
       "      <td>327.75</td>\n",
       "      <td>1</td>\n",
       "      <td>327.75</td>\n",
       "      <td>309.720001</td>\n",
       "      <td>327.75</td>\n",
       "      <td>Fitness</td>\n",
       "      <td>Standard Class</td>\n",
       "      <td>0</td>\n",
       "      <td>357</td>\n",
       "      <td>7731</td>\n",
       "      <td>1</td>\n",
       "    </tr>\n",
       "    <tr>\n",
       "      <th>3</th>\n",
       "      <td>3</td>\n",
       "      <td>4</td>\n",
       "      <td>0</td>\n",
       "      <td>327.75</td>\n",
       "      <td>1</td>\n",
       "      <td>327.75</td>\n",
       "      <td>304.809998</td>\n",
       "      <td>327.75</td>\n",
       "      <td>Fitness</td>\n",
       "      <td>Standard Class</td>\n",
       "      <td>2</td>\n",
       "      <td>357</td>\n",
       "      <td>10148</td>\n",
       "      <td>1</td>\n",
       "    </tr>\n",
       "    <tr>\n",
       "      <th>4</th>\n",
       "      <td>2</td>\n",
       "      <td>4</td>\n",
       "      <td>0</td>\n",
       "      <td>327.75</td>\n",
       "      <td>1</td>\n",
       "      <td>327.75</td>\n",
       "      <td>298.250000</td>\n",
       "      <td>327.75</td>\n",
       "      <td>Fitness</td>\n",
       "      <td>Standard Class</td>\n",
       "      <td>1</td>\n",
       "      <td>357</td>\n",
       "      <td>10148</td>\n",
       "      <td>1</td>\n",
       "    </tr>\n",
       "  </tbody>\n",
       "</table>\n",
       "</div>"
      ],
      "text/plain": [
       "   Actual shipping days  Estimated shipping days  Late_risk  \\\n",
       "0                     3                        4          0   \n",
       "1                     5                        4          1   \n",
       "2                     4                        4          0   \n",
       "3                     3                        4          0   \n",
       "4                     2                        4          0   \n",
       "\n",
       "   Order Item Product Price  Quantity   Sales  Order Item Total  \\\n",
       "0                    327.75         1  327.75        314.640015   \n",
       "1                    327.75         1  327.75        311.359985   \n",
       "2                    327.75         1  327.75        309.720001   \n",
       "3                    327.75         1  327.75        304.809998   \n",
       "4                    327.75         1  327.75        298.250000   \n",
       "\n",
       "   Product Price Department   Shipping Mode  Customer Segment cat  \\\n",
       "0         327.75    Fitness  Standard Class                     0   \n",
       "1         327.75    Fitness  Standard Class                     0   \n",
       "2         327.75    Fitness  Standard Class                     0   \n",
       "3         327.75    Fitness  Standard Class                     2   \n",
       "4         327.75    Fitness  Standard Class                     1   \n",
       "\n",
       "   Category_map  Order Region_map  Delivery Status_code  \n",
       "0           357              9539                     1  \n",
       "1           357              7731                     1  \n",
       "2           357              7731                     1  \n",
       "3           357             10148                     1  \n",
       "4           357             10148                     1  "
      ]
     },
     "execution_count": 8,
     "metadata": {},
     "output_type": "execute_result"
    }
   ],
   "source": [
    "df.head()"
   ]
  },
  {
   "cell_type": "code",
   "execution_count": 9,
   "metadata": {},
   "outputs": [
    {
     "name": "stdout",
     "output_type": "stream",
     "text": [
      "<class 'pandas.core.frame.DataFrame'>\n",
      "RangeIndex: 180519 entries, 0 to 180518\n",
      "Data columns (total 14 columns):\n",
      " #   Column                    Non-Null Count   Dtype  \n",
      "---  ------                    --------------   -----  \n",
      " 0   Actual shipping days      180519 non-null  int64  \n",
      " 1   Estimated shipping days   180519 non-null  int64  \n",
      " 2   Late_risk                 180519 non-null  int64  \n",
      " 3   Order Item Product Price  180519 non-null  float64\n",
      " 4   Quantity                  180519 non-null  int64  \n",
      " 5   Sales                     180519 non-null  float64\n",
      " 6   Order Item Total          180519 non-null  float64\n",
      " 7   Product Price             180519 non-null  float64\n",
      " 8   Department                180519 non-null  object \n",
      " 9   Shipping Mode             180519 non-null  object \n",
      " 10  Customer Segment cat      180519 non-null  int64  \n",
      " 11  Category_map              180519 non-null  int64  \n",
      " 12  Order Region_map          180519 non-null  int64  \n",
      " 13  Delivery Status_code      180519 non-null  int64  \n",
      "dtypes: float64(4), int64(8), object(2)\n",
      "memory usage: 19.3+ MB\n"
     ]
    }
   ],
   "source": [
    "df.info()"
   ]
  },
  {
   "cell_type": "markdown",
   "metadata": {},
   "source": [
    "# Input and Target Columns"
   ]
  },
  {
   "cell_type": "markdown",
   "metadata": {},
   "source": [
    "df.columns"
   ]
  },
  {
   "cell_type": "raw",
   "metadata": {},
   "source": [
    "input_cols = [ 'Estimated shipping days', 'Late_risk',\n",
    "       'Order Item Product Price', 'Quantity', 'Sales', 'Order Item Total',\n",
    "       'Product Price', 'Department', 'Shipping Mode', 'Customer Segment cat',\n",
    "       'Category_map', 'Order Region_map', 'Delivery Status_code']\n",
    "\n",
    "\n",
    "target_col = 'Actual shipping days'"
   ]
  },
  {
   "cell_type": "raw",
   "metadata": {},
   "source": [
    "inputs = df[input_cols]\n",
    "targets =df[target_col]"
   ]
  },
  {
   "cell_type": "code",
   "execution_count": null,
   "metadata": {},
   "outputs": [],
   "source": []
  },
  {
   "cell_type": "code",
   "execution_count": null,
   "metadata": {},
   "outputs": [],
   "source": []
  },
  {
   "cell_type": "code",
   "execution_count": null,
   "metadata": {},
   "outputs": [],
   "source": []
  },
  {
   "cell_type": "code",
   "execution_count": null,
   "metadata": {},
   "outputs": [],
   "source": []
  },
  {
   "cell_type": "code",
   "execution_count": null,
   "metadata": {},
   "outputs": [],
   "source": []
  },
  {
   "cell_type": "code",
   "execution_count": null,
   "metadata": {},
   "outputs": [],
   "source": []
  },
  {
   "cell_type": "code",
   "execution_count": null,
   "metadata": {},
   "outputs": [],
   "source": []
  },
  {
   "cell_type": "code",
   "execution_count": null,
   "metadata": {},
   "outputs": [],
   "source": []
  },
  {
   "cell_type": "code",
   "execution_count": null,
   "metadata": {},
   "outputs": [],
   "source": []
  },
  {
   "cell_type": "code",
   "execution_count": null,
   "metadata": {},
   "outputs": [],
   "source": []
  },
  {
   "cell_type": "code",
   "execution_count": null,
   "metadata": {},
   "outputs": [],
   "source": []
  },
  {
   "cell_type": "code",
   "execution_count": null,
   "metadata": {},
   "outputs": [],
   "source": []
  },
  {
   "cell_type": "code",
   "execution_count": null,
   "metadata": {},
   "outputs": [],
   "source": []
  },
  {
   "cell_type": "code",
   "execution_count": null,
   "metadata": {},
   "outputs": [],
   "source": []
  },
  {
   "cell_type": "markdown",
   "metadata": {},
   "source": [
    "# Dealing with categorical columns"
   ]
  },
  {
   "cell_type": "code",
   "execution_count": 10,
   "metadata": {},
   "outputs": [
    {
     "data": {
      "text/plain": [
       "array(['Fitness', 'Apparel', 'Golf', 'Footwear', 'Outdoors', 'Fan Shop',\n",
       "       'Technology', 'Book Shop', 'Discs Shop', 'Pet Shop',\n",
       "       'Health and Beauty '], dtype=object)"
      ]
     },
     "execution_count": 10,
     "metadata": {},
     "output_type": "execute_result"
    }
   ],
   "source": [
    "# unique values in 'Department' column\n",
    "df.Department.unique()"
   ]
  },
  {
   "cell_type": "code",
   "execution_count": 11,
   "metadata": {},
   "outputs": [
    {
     "data": {
      "text/plain": [
       "array(['Standard Class', 'First Class', 'Second Class', 'Same Day'],\n",
       "      dtype=object)"
      ]
     },
     "execution_count": 11,
     "metadata": {},
     "output_type": "execute_result"
    }
   ],
   "source": [
    "# unique values in 'Shipping Mode' column\n",
    "df['Shipping Mode'].unique()"
   ]
  },
  {
   "cell_type": "code",
   "execution_count": 12,
   "metadata": {},
   "outputs": [
    {
     "name": "stdout",
     "output_type": "stream",
     "text": [
      "Total unique values in \"Department\" :  11\n",
      "Total unique values in \"Shipping Mode\":  4\n"
     ]
    }
   ],
   "source": [
    "# Counting how many unique values in these two  columns \n",
    "\n",
    "from collections import  Counter\n",
    "\n",
    "d=Counter(df.Department.unique()) # this give us a dictonary .so  extract the values of dict nad make a sum.\n",
    "\n",
    "\n",
    "print('Total unique values in \"Department\" : ', sum(d.values()))\n",
    "\n",
    "\n",
    "\n",
    "e=Counter(df['Shipping Mode'].unique()) # this give us a dictonary .so  extract the values of dict nad make a sum.\n",
    "\n",
    "\n",
    "print('Total unique values in \"Shipping Mode\": ',sum(e.values()))\n",
    "\n",
    "# as we make dummy variable so we add 11+4= 15 columns ad we drop 1st to net 13 cloumns we  added\n",
    "\n",
    "#print('\\nOriginal df shape: ', df.shape)\n",
    "\n",
    "#print('Dummy var df shape: ',df_dum.shape)\n",
    "# get_dummy() also drop by default 'Department','Shipping Mode' columns which we made dummy variavle"
   ]
  },
  {
   "cell_type": "code",
   "execution_count": 13,
   "metadata": {},
   "outputs": [
    {
     "data": {
      "text/plain": [
       "Actual shipping days          int64\n",
       "Estimated shipping days       int64\n",
       "Late_risk                     int64\n",
       "Order Item Product Price    float64\n",
       "Quantity                      int64\n",
       "Sales                       float64\n",
       "Order Item Total            float64\n",
       "Product Price               float64\n",
       "Department                   object\n",
       "Shipping Mode                object\n",
       "Customer Segment cat          int64\n",
       "Category_map                  int64\n",
       "Order Region_map              int64\n",
       "Delivery Status_code          int64\n",
       "dtype: object"
      ]
     },
     "execution_count": 13,
     "metadata": {},
     "output_type": "execute_result"
    }
   ],
   "source": [
    "# Checking data types\n",
    "df.dtypes"
   ]
  },
  {
   "cell_type": "markdown",
   "metadata": {},
   "source": [
    "# Train/test split"
   ]
  },
  {
   "cell_type": "code",
   "execution_count": 14,
   "metadata": {},
   "outputs": [],
   "source": [
    "# Import necessary Library\n",
    "\n",
    "from sklearn.ensemble import RandomForestRegressor\n",
    "from sklearn.model_selection import train_test_split\n",
    "from sklearn.metrics import mean_squared_error as MSE\n",
    "from sklearn.model_selection import cross_val_score\n",
    "# For HyperParameter Tuning\n",
    "from sklearn.model_selection import GridSearchCV"
   ]
  },
  {
   "cell_type": "code",
   "execution_count": 15,
   "metadata": {},
   "outputs": [
    {
     "name": "stdout",
     "output_type": "stream",
     "text": [
      "[3 5 4 2 6 0 1]\n",
      "int64\n"
     ]
    }
   ],
   "source": [
    "# \"Actual shipping days\" is target/Predic column/ variable here\n",
    "\n",
    "\n",
    "# https://datascience.stackexchange.com/questions/70272/discrete-values-as-target-variable\n",
    "# https://www.springboard.com/blog/data-science/regression-vs-classification/\n",
    "\n",
    " \n",
    "\n",
    "print(df[\"Actual shipping days\"].unique()) # it has 7 discreat valuues are that valeus are integer \n",
    "\n",
    "print(df[\"Actual shipping days\"].dtypes)\n",
    "\n",
    "# it is a regression problem"
   ]
  },
  {
   "cell_type": "code",
   "execution_count": 16,
   "metadata": {},
   "outputs": [],
   "source": [
    "# separating the feature variable\n",
    "X=df.drop(\"Actual shipping days\", axis=1)\n",
    "\n",
    "# separating the target variable\n",
    "\n",
    "y=df[\"Actual shipping days\"]"
   ]
  },
  {
   "cell_type": "code",
   "execution_count": 17,
   "metadata": {},
   "outputs": [
    {
     "name": "stdout",
     "output_type": "stream",
     "text": [
      "(180519, 13)\n",
      "(180519,)\n"
     ]
    }
   ],
   "source": [
    "# printing the dimension of feature space\n",
    "print(X.shape)\n",
    "\n",
    "# printing the dimension of target space\n",
    "print(y.shape)"
   ]
  },
  {
   "cell_type": "code",
   "execution_count": 18,
   "metadata": {},
   "outputs": [],
   "source": [
    "# Set seed for reproducibility\n",
    "\n",
    "SEED = 1\n",
    "\n",
    "# Split dataset into 70% train and 30% test\n",
    "X_train, X_test, y_train, y_test = train_test_split(X, y,\n",
    "                                                    \n",
    "                                                    test_size=0.3,\n",
    "                                                    \n",
    "                                                    random_state=SEED)"
   ]
  },
  {
   "cell_type": "code",
   "execution_count": 19,
   "metadata": {},
   "outputs": [
    {
     "name": "stdout",
     "output_type": "stream",
     "text": [
      " X_train dimension :  (126363, 13)\n",
      "\n",
      " X_test dimension :  (54156, 13)\n",
      "\n",
      " y_train dimension :  (126363,)\n",
      " \n",
      " y_test dimension :  (54156,)\n"
     ]
    }
   ],
   "source": [
    "# printing dimension\n",
    "\n",
    "print(' X_train dimension : ', X_train.shape)\n",
    "print('\\n X_test dimension : ',X_test.shape )\n",
    "\n",
    "\n",
    "print('\\n y_train dimension : ',y_train.shape )\n",
    "print(' \\n y_test dimension : ',   y_test.shape)"
   ]
  },
  {
   "cell_type": "code",
   "execution_count": 20,
   "metadata": {},
   "outputs": [
    {
     "data": {
      "text/html": [
       "<div>\n",
       "<style scoped>\n",
       "    .dataframe tbody tr th:only-of-type {\n",
       "        vertical-align: middle;\n",
       "    }\n",
       "\n",
       "    .dataframe tbody tr th {\n",
       "        vertical-align: top;\n",
       "    }\n",
       "\n",
       "    .dataframe thead th {\n",
       "        text-align: right;\n",
       "    }\n",
       "</style>\n",
       "<table border=\"1\" class=\"dataframe\">\n",
       "  <thead>\n",
       "    <tr style=\"text-align: right;\">\n",
       "      <th></th>\n",
       "      <th>Estimated shipping days</th>\n",
       "      <th>Late_risk</th>\n",
       "      <th>Order Item Product Price</th>\n",
       "      <th>Quantity</th>\n",
       "      <th>Sales</th>\n",
       "      <th>Order Item Total</th>\n",
       "      <th>Product Price</th>\n",
       "      <th>Department</th>\n",
       "      <th>Shipping Mode</th>\n",
       "      <th>Customer Segment cat</th>\n",
       "      <th>Category_map</th>\n",
       "      <th>Order Region_map</th>\n",
       "      <th>Delivery Status_code</th>\n",
       "    </tr>\n",
       "  </thead>\n",
       "  <tbody>\n",
       "    <tr>\n",
       "      <th>174722</th>\n",
       "      <td>4</td>\n",
       "      <td>1</td>\n",
       "      <td>24.990000</td>\n",
       "      <td>4</td>\n",
       "      <td>99.959999</td>\n",
       "      <td>92.959999</td>\n",
       "      <td>24.990000</td>\n",
       "      <td>Fitness</td>\n",
       "      <td>Standard Class</td>\n",
       "      <td>0</td>\n",
       "      <td>343</td>\n",
       "      <td>28341</td>\n",
       "      <td>1</td>\n",
       "    </tr>\n",
       "    <tr>\n",
       "      <th>172881</th>\n",
       "      <td>2</td>\n",
       "      <td>0</td>\n",
       "      <td>129.990005</td>\n",
       "      <td>1</td>\n",
       "      <td>129.990005</td>\n",
       "      <td>122.839996</td>\n",
       "      <td>129.990005</td>\n",
       "      <td>Apparel</td>\n",
       "      <td>Second Class</td>\n",
       "      <td>0</td>\n",
       "      <td>22246</td>\n",
       "      <td>27109</td>\n",
       "      <td>1</td>\n",
       "    </tr>\n",
       "    <tr>\n",
       "      <th>93616</th>\n",
       "      <td>4</td>\n",
       "      <td>1</td>\n",
       "      <td>129.990005</td>\n",
       "      <td>1</td>\n",
       "      <td>129.990005</td>\n",
       "      <td>123.489998</td>\n",
       "      <td>129.990005</td>\n",
       "      <td>Apparel</td>\n",
       "      <td>Standard Class</td>\n",
       "      <td>0</td>\n",
       "      <td>22246</td>\n",
       "      <td>7731</td>\n",
       "      <td>1</td>\n",
       "    </tr>\n",
       "    <tr>\n",
       "      <th>165190</th>\n",
       "      <td>4</td>\n",
       "      <td>0</td>\n",
       "      <td>39.990002</td>\n",
       "      <td>5</td>\n",
       "      <td>199.949997</td>\n",
       "      <td>185.949997</td>\n",
       "      <td>39.990002</td>\n",
       "      <td>Golf</td>\n",
       "      <td>Standard Class</td>\n",
       "      <td>2</td>\n",
       "      <td>10984</td>\n",
       "      <td>959</td>\n",
       "      <td>1</td>\n",
       "    </tr>\n",
       "    <tr>\n",
       "      <th>168879</th>\n",
       "      <td>1</td>\n",
       "      <td>1</td>\n",
       "      <td>99.989998</td>\n",
       "      <td>5</td>\n",
       "      <td>499.950012</td>\n",
       "      <td>494.950012</td>\n",
       "      <td>99.989998</td>\n",
       "      <td>Footwear</td>\n",
       "      <td>First Class</td>\n",
       "      <td>2</td>\n",
       "      <td>12487</td>\n",
       "      <td>1677</td>\n",
       "      <td>1</td>\n",
       "    </tr>\n",
       "    <tr>\n",
       "      <th>...</th>\n",
       "      <td>...</td>\n",
       "      <td>...</td>\n",
       "      <td>...</td>\n",
       "      <td>...</td>\n",
       "      <td>...</td>\n",
       "      <td>...</td>\n",
       "      <td>...</td>\n",
       "      <td>...</td>\n",
       "      <td>...</td>\n",
       "      <td>...</td>\n",
       "      <td>...</td>\n",
       "      <td>...</td>\n",
       "      <td>...</td>\n",
       "    </tr>\n",
       "    <tr>\n",
       "      <th>73349</th>\n",
       "      <td>1</td>\n",
       "      <td>1</td>\n",
       "      <td>199.990005</td>\n",
       "      <td>1</td>\n",
       "      <td>199.990005</td>\n",
       "      <td>169.990005</td>\n",
       "      <td>199.990005</td>\n",
       "      <td>Fan Shop</td>\n",
       "      <td>First Class</td>\n",
       "      <td>0</td>\n",
       "      <td>15540</td>\n",
       "      <td>3232</td>\n",
       "      <td>1</td>\n",
       "    </tr>\n",
       "    <tr>\n",
       "      <th>109259</th>\n",
       "      <td>4</td>\n",
       "      <td>0</td>\n",
       "      <td>59.990002</td>\n",
       "      <td>5</td>\n",
       "      <td>299.950012</td>\n",
       "      <td>269.959992</td>\n",
       "      <td>59.990002</td>\n",
       "      <td>Apparel</td>\n",
       "      <td>Standard Class</td>\n",
       "      <td>0</td>\n",
       "      <td>24551</td>\n",
       "      <td>28341</td>\n",
       "      <td>1</td>\n",
       "    </tr>\n",
       "    <tr>\n",
       "      <th>50057</th>\n",
       "      <td>2</td>\n",
       "      <td>0</td>\n",
       "      <td>59.990002</td>\n",
       "      <td>5</td>\n",
       "      <td>299.950012</td>\n",
       "      <td>290.950012</td>\n",
       "      <td>59.990002</td>\n",
       "      <td>Apparel</td>\n",
       "      <td>Second Class</td>\n",
       "      <td>1</td>\n",
       "      <td>24551</td>\n",
       "      <td>6915</td>\n",
       "      <td>1</td>\n",
       "    </tr>\n",
       "    <tr>\n",
       "      <th>5192</th>\n",
       "      <td>4</td>\n",
       "      <td>0</td>\n",
       "      <td>59.990002</td>\n",
       "      <td>3</td>\n",
       "      <td>179.970001</td>\n",
       "      <td>167.369995</td>\n",
       "      <td>59.990002</td>\n",
       "      <td>Apparel</td>\n",
       "      <td>Standard Class</td>\n",
       "      <td>1</td>\n",
       "      <td>24551</td>\n",
       "      <td>14935</td>\n",
       "      <td>1</td>\n",
       "    </tr>\n",
       "    <tr>\n",
       "      <th>128037</th>\n",
       "      <td>4</td>\n",
       "      <td>0</td>\n",
       "      <td>50.000000</td>\n",
       "      <td>2</td>\n",
       "      <td>100.000000</td>\n",
       "      <td>87.000000</td>\n",
       "      <td>50.000000</td>\n",
       "      <td>Golf</td>\n",
       "      <td>Standard Class</td>\n",
       "      <td>0</td>\n",
       "      <td>21035</td>\n",
       "      <td>10148</td>\n",
       "      <td>1</td>\n",
       "    </tr>\n",
       "  </tbody>\n",
       "</table>\n",
       "<p>126363 rows × 13 columns</p>\n",
       "</div>"
      ],
      "text/plain": [
       "        Estimated shipping days  Late_risk  Order Item Product Price  \\\n",
       "174722                        4          1                 24.990000   \n",
       "172881                        2          0                129.990005   \n",
       "93616                         4          1                129.990005   \n",
       "165190                        4          0                 39.990002   \n",
       "168879                        1          1                 99.989998   \n",
       "...                         ...        ...                       ...   \n",
       "73349                         1          1                199.990005   \n",
       "109259                        4          0                 59.990002   \n",
       "50057                         2          0                 59.990002   \n",
       "5192                          4          0                 59.990002   \n",
       "128037                        4          0                 50.000000   \n",
       "\n",
       "        Quantity       Sales  Order Item Total  Product Price Department  \\\n",
       "174722         4   99.959999         92.959999      24.990000    Fitness   \n",
       "172881         1  129.990005        122.839996     129.990005    Apparel   \n",
       "93616          1  129.990005        123.489998     129.990005    Apparel   \n",
       "165190         5  199.949997        185.949997      39.990002       Golf   \n",
       "168879         5  499.950012        494.950012      99.989998   Footwear   \n",
       "...          ...         ...               ...            ...        ...   \n",
       "73349          1  199.990005        169.990005     199.990005   Fan Shop   \n",
       "109259         5  299.950012        269.959992      59.990002    Apparel   \n",
       "50057          5  299.950012        290.950012      59.990002    Apparel   \n",
       "5192           3  179.970001        167.369995      59.990002    Apparel   \n",
       "128037         2  100.000000         87.000000      50.000000       Golf   \n",
       "\n",
       "         Shipping Mode  Customer Segment cat  Category_map  Order Region_map  \\\n",
       "174722  Standard Class                     0           343             28341   \n",
       "172881    Second Class                     0         22246             27109   \n",
       "93616   Standard Class                     0         22246              7731   \n",
       "165190  Standard Class                     2         10984               959   \n",
       "168879     First Class                     2         12487              1677   \n",
       "...                ...                   ...           ...               ...   \n",
       "73349      First Class                     0         15540              3232   \n",
       "109259  Standard Class                     0         24551             28341   \n",
       "50057     Second Class                     1         24551              6915   \n",
       "5192    Standard Class                     1         24551             14935   \n",
       "128037  Standard Class                     0         21035             10148   \n",
       "\n",
       "        Delivery Status_code  \n",
       "174722                     1  \n",
       "172881                     1  \n",
       "93616                      1  \n",
       "165190                     1  \n",
       "168879                     1  \n",
       "...                      ...  \n",
       "73349                      1  \n",
       "109259                     1  \n",
       "50057                      1  \n",
       "5192                       1  \n",
       "128037                     1  \n",
       "\n",
       "[126363 rows x 13 columns]"
      ]
     },
     "execution_count": 20,
     "metadata": {},
     "output_type": "execute_result"
    }
   ],
   "source": [
    "# printing X_train\n",
    "X_train"
   ]
  },
  {
   "cell_type": "code",
   "execution_count": 21,
   "metadata": {},
   "outputs": [
    {
     "data": {
      "text/html": [
       "<div>\n",
       "<style scoped>\n",
       "    .dataframe tbody tr th:only-of-type {\n",
       "        vertical-align: middle;\n",
       "    }\n",
       "\n",
       "    .dataframe tbody tr th {\n",
       "        vertical-align: top;\n",
       "    }\n",
       "\n",
       "    .dataframe thead th {\n",
       "        text-align: right;\n",
       "    }\n",
       "</style>\n",
       "<table border=\"1\" class=\"dataframe\">\n",
       "  <thead>\n",
       "    <tr style=\"text-align: right;\">\n",
       "      <th></th>\n",
       "      <th>Estimated shipping days</th>\n",
       "      <th>Late_risk</th>\n",
       "      <th>Order Item Product Price</th>\n",
       "      <th>Quantity</th>\n",
       "      <th>Sales</th>\n",
       "      <th>Order Item Total</th>\n",
       "      <th>Product Price</th>\n",
       "      <th>Department</th>\n",
       "      <th>Shipping Mode</th>\n",
       "      <th>Customer Segment cat</th>\n",
       "      <th>Category_map</th>\n",
       "      <th>Order Region_map</th>\n",
       "      <th>Delivery Status_code</th>\n",
       "    </tr>\n",
       "  </thead>\n",
       "  <tbody>\n",
       "    <tr>\n",
       "      <th>101369</th>\n",
       "      <td>4</td>\n",
       "      <td>0</td>\n",
       "      <td>49.980000</td>\n",
       "      <td>4</td>\n",
       "      <td>199.919998</td>\n",
       "      <td>197.919998</td>\n",
       "      <td>49.980000</td>\n",
       "      <td>Fan Shop</td>\n",
       "      <td>Standard Class</td>\n",
       "      <td>0</td>\n",
       "      <td>19298</td>\n",
       "      <td>4045</td>\n",
       "      <td>1</td>\n",
       "    </tr>\n",
       "    <tr>\n",
       "      <th>3026</th>\n",
       "      <td>4</td>\n",
       "      <td>1</td>\n",
       "      <td>164.380005</td>\n",
       "      <td>1</td>\n",
       "      <td>164.380005</td>\n",
       "      <td>164.380005</td>\n",
       "      <td>164.380005</td>\n",
       "      <td>Discs Shop</td>\n",
       "      <td>Standard Class</td>\n",
       "      <td>2</td>\n",
       "      <td>483</td>\n",
       "      <td>27109</td>\n",
       "      <td>1</td>\n",
       "    </tr>\n",
       "    <tr>\n",
       "      <th>57549</th>\n",
       "      <td>4</td>\n",
       "      <td>1</td>\n",
       "      <td>59.990002</td>\n",
       "      <td>4</td>\n",
       "      <td>239.960007</td>\n",
       "      <td>226.759994</td>\n",
       "      <td>59.990002</td>\n",
       "      <td>Apparel</td>\n",
       "      <td>Standard Class</td>\n",
       "      <td>0</td>\n",
       "      <td>24551</td>\n",
       "      <td>6009</td>\n",
       "      <td>1</td>\n",
       "    </tr>\n",
       "    <tr>\n",
       "      <th>127144</th>\n",
       "      <td>4</td>\n",
       "      <td>1</td>\n",
       "      <td>129.990005</td>\n",
       "      <td>1</td>\n",
       "      <td>129.990005</td>\n",
       "      <td>103.989998</td>\n",
       "      <td>129.990005</td>\n",
       "      <td>Apparel</td>\n",
       "      <td>Standard Class</td>\n",
       "      <td>0</td>\n",
       "      <td>22246</td>\n",
       "      <td>14935</td>\n",
       "      <td>1</td>\n",
       "    </tr>\n",
       "    <tr>\n",
       "      <th>160375</th>\n",
       "      <td>4</td>\n",
       "      <td>0</td>\n",
       "      <td>39.750000</td>\n",
       "      <td>1</td>\n",
       "      <td>39.750000</td>\n",
       "      <td>37.560001</td>\n",
       "      <td>39.750000</td>\n",
       "      <td>Discs Shop</td>\n",
       "      <td>Standard Class</td>\n",
       "      <td>0</td>\n",
       "      <td>838</td>\n",
       "      <td>7280</td>\n",
       "      <td>1</td>\n",
       "    </tr>\n",
       "    <tr>\n",
       "      <th>...</th>\n",
       "      <td>...</td>\n",
       "      <td>...</td>\n",
       "      <td>...</td>\n",
       "      <td>...</td>\n",
       "      <td>...</td>\n",
       "      <td>...</td>\n",
       "      <td>...</td>\n",
       "      <td>...</td>\n",
       "      <td>...</td>\n",
       "      <td>...</td>\n",
       "      <td>...</td>\n",
       "      <td>...</td>\n",
       "      <td>...</td>\n",
       "    </tr>\n",
       "    <tr>\n",
       "      <th>151386</th>\n",
       "      <td>4</td>\n",
       "      <td>0</td>\n",
       "      <td>399.980011</td>\n",
       "      <td>1</td>\n",
       "      <td>399.980011</td>\n",
       "      <td>379.980011</td>\n",
       "      <td>399.980011</td>\n",
       "      <td>Fan Shop</td>\n",
       "      <td>Standard Class</td>\n",
       "      <td>1</td>\n",
       "      <td>17325</td>\n",
       "      <td>6915</td>\n",
       "      <td>1</td>\n",
       "    </tr>\n",
       "    <tr>\n",
       "      <th>9189</th>\n",
       "      <td>4</td>\n",
       "      <td>0</td>\n",
       "      <td>59.990002</td>\n",
       "      <td>5</td>\n",
       "      <td>299.950012</td>\n",
       "      <td>278.950012</td>\n",
       "      <td>59.990002</td>\n",
       "      <td>Apparel</td>\n",
       "      <td>Standard Class</td>\n",
       "      <td>0</td>\n",
       "      <td>24551</td>\n",
       "      <td>9539</td>\n",
       "      <td>1</td>\n",
       "    </tr>\n",
       "    <tr>\n",
       "      <th>83970</th>\n",
       "      <td>4</td>\n",
       "      <td>0</td>\n",
       "      <td>59.990002</td>\n",
       "      <td>1</td>\n",
       "      <td>59.990002</td>\n",
       "      <td>47.990002</td>\n",
       "      <td>59.990002</td>\n",
       "      <td>Apparel</td>\n",
       "      <td>Standard Class</td>\n",
       "      <td>0</td>\n",
       "      <td>24551</td>\n",
       "      <td>8318</td>\n",
       "      <td>1</td>\n",
       "    </tr>\n",
       "    <tr>\n",
       "      <th>122909</th>\n",
       "      <td>2</td>\n",
       "      <td>1</td>\n",
       "      <td>99.989998</td>\n",
       "      <td>3</td>\n",
       "      <td>299.970001</td>\n",
       "      <td>269.970001</td>\n",
       "      <td>99.989998</td>\n",
       "      <td>Footwear</td>\n",
       "      <td>Second Class</td>\n",
       "      <td>1</td>\n",
       "      <td>12487</td>\n",
       "      <td>27109</td>\n",
       "      <td>1</td>\n",
       "    </tr>\n",
       "    <tr>\n",
       "      <th>168108</th>\n",
       "      <td>4</td>\n",
       "      <td>0</td>\n",
       "      <td>50.000000</td>\n",
       "      <td>4</td>\n",
       "      <td>200.000000</td>\n",
       "      <td>186.000000</td>\n",
       "      <td>50.000000</td>\n",
       "      <td>Golf</td>\n",
       "      <td>Standard Class</td>\n",
       "      <td>2</td>\n",
       "      <td>21035</td>\n",
       "      <td>7280</td>\n",
       "      <td>1</td>\n",
       "    </tr>\n",
       "  </tbody>\n",
       "</table>\n",
       "<p>54156 rows × 13 columns</p>\n",
       "</div>"
      ],
      "text/plain": [
       "        Estimated shipping days  Late_risk  Order Item Product Price  \\\n",
       "101369                        4          0                 49.980000   \n",
       "3026                          4          1                164.380005   \n",
       "57549                         4          1                 59.990002   \n",
       "127144                        4          1                129.990005   \n",
       "160375                        4          0                 39.750000   \n",
       "...                         ...        ...                       ...   \n",
       "151386                        4          0                399.980011   \n",
       "9189                          4          0                 59.990002   \n",
       "83970                         4          0                 59.990002   \n",
       "122909                        2          1                 99.989998   \n",
       "168108                        4          0                 50.000000   \n",
       "\n",
       "        Quantity       Sales  Order Item Total  Product Price  Department  \\\n",
       "101369         4  199.919998        197.919998      49.980000    Fan Shop   \n",
       "3026           1  164.380005        164.380005     164.380005  Discs Shop   \n",
       "57549          4  239.960007        226.759994      59.990002     Apparel   \n",
       "127144         1  129.990005        103.989998     129.990005     Apparel   \n",
       "160375         1   39.750000         37.560001      39.750000  Discs Shop   \n",
       "...          ...         ...               ...            ...         ...   \n",
       "151386         1  399.980011        379.980011     399.980011    Fan Shop   \n",
       "9189           5  299.950012        278.950012      59.990002     Apparel   \n",
       "83970          1   59.990002         47.990002      59.990002     Apparel   \n",
       "122909         3  299.970001        269.970001      99.989998    Footwear   \n",
       "168108         4  200.000000        186.000000      50.000000        Golf   \n",
       "\n",
       "         Shipping Mode  Customer Segment cat  Category_map  Order Region_map  \\\n",
       "101369  Standard Class                     0         19298              4045   \n",
       "3026    Standard Class                     2           483             27109   \n",
       "57549   Standard Class                     0         24551              6009   \n",
       "127144  Standard Class                     0         22246             14935   \n",
       "160375  Standard Class                     0           838              7280   \n",
       "...                ...                   ...           ...               ...   \n",
       "151386  Standard Class                     1         17325              6915   \n",
       "9189    Standard Class                     0         24551              9539   \n",
       "83970   Standard Class                     0         24551              8318   \n",
       "122909    Second Class                     1         12487             27109   \n",
       "168108  Standard Class                     2         21035              7280   \n",
       "\n",
       "        Delivery Status_code  \n",
       "101369                     1  \n",
       "3026                       1  \n",
       "57549                      1  \n",
       "127144                     1  \n",
       "160375                     1  \n",
       "...                      ...  \n",
       "151386                     1  \n",
       "9189                       1  \n",
       "83970                      1  \n",
       "122909                     1  \n",
       "168108                     1  \n",
       "\n",
       "[54156 rows x 13 columns]"
      ]
     },
     "execution_count": 21,
     "metadata": {},
     "output_type": "execute_result"
    }
   ],
   "source": [
    "# printing X_test\n",
    "X_test"
   ]
  },
  {
   "cell_type": "code",
   "execution_count": null,
   "metadata": {},
   "outputs": [],
   "source": []
  },
  {
   "cell_type": "code",
   "execution_count": null,
   "metadata": {},
   "outputs": [],
   "source": []
  },
  {
   "cell_type": "code",
   "execution_count": null,
   "metadata": {},
   "outputs": [],
   "source": []
  },
  {
   "cell_type": "markdown",
   "metadata": {},
   "source": [
    "# Scale Numeric Values"
   ]
  },
  {
   "cell_type": "code",
   "execution_count": 22,
   "metadata": {},
   "outputs": [],
   "source": [
    "numeric_cols = ['Estimated shipping days', 'Late_risk',\n",
    "       'Order Item Product Price', 'Quantity', 'Sales', 'Order Item Total',\n",
    "       'Product Price', 'Customer Segment cat',\n",
    "       'Category_map', 'Order Region_map', 'Delivery Status_code']\n",
    "\n",
    "\n",
    "\n",
    "categorical_cols = [ 'Department', 'Shipping Mode']"
   ]
  },
  {
   "cell_type": "code",
   "execution_count": 23,
   "metadata": {},
   "outputs": [],
   "source": [
    "X_trainN= X_train [numeric_cols]"
   ]
  },
  {
   "cell_type": "code",
   "execution_count": 24,
   "metadata": {},
   "outputs": [
    {
     "data": {
      "text/html": [
       "<div>\n",
       "<style scoped>\n",
       "    .dataframe tbody tr th:only-of-type {\n",
       "        vertical-align: middle;\n",
       "    }\n",
       "\n",
       "    .dataframe tbody tr th {\n",
       "        vertical-align: top;\n",
       "    }\n",
       "\n",
       "    .dataframe thead th {\n",
       "        text-align: right;\n",
       "    }\n",
       "</style>\n",
       "<table border=\"1\" class=\"dataframe\">\n",
       "  <thead>\n",
       "    <tr style=\"text-align: right;\">\n",
       "      <th></th>\n",
       "      <th>Estimated shipping days</th>\n",
       "      <th>Late_risk</th>\n",
       "      <th>Order Item Product Price</th>\n",
       "      <th>Quantity</th>\n",
       "      <th>Sales</th>\n",
       "      <th>Order Item Total</th>\n",
       "      <th>Product Price</th>\n",
       "      <th>Customer Segment cat</th>\n",
       "      <th>Category_map</th>\n",
       "      <th>Order Region_map</th>\n",
       "      <th>Delivery Status_code</th>\n",
       "    </tr>\n",
       "  </thead>\n",
       "  <tbody>\n",
       "    <tr>\n",
       "      <th>174722</th>\n",
       "      <td>4</td>\n",
       "      <td>1</td>\n",
       "      <td>24.990000</td>\n",
       "      <td>4</td>\n",
       "      <td>99.959999</td>\n",
       "      <td>92.959999</td>\n",
       "      <td>24.990000</td>\n",
       "      <td>0</td>\n",
       "      <td>343</td>\n",
       "      <td>28341</td>\n",
       "      <td>1</td>\n",
       "    </tr>\n",
       "    <tr>\n",
       "      <th>172881</th>\n",
       "      <td>2</td>\n",
       "      <td>0</td>\n",
       "      <td>129.990005</td>\n",
       "      <td>1</td>\n",
       "      <td>129.990005</td>\n",
       "      <td>122.839996</td>\n",
       "      <td>129.990005</td>\n",
       "      <td>0</td>\n",
       "      <td>22246</td>\n",
       "      <td>27109</td>\n",
       "      <td>1</td>\n",
       "    </tr>\n",
       "    <tr>\n",
       "      <th>93616</th>\n",
       "      <td>4</td>\n",
       "      <td>1</td>\n",
       "      <td>129.990005</td>\n",
       "      <td>1</td>\n",
       "      <td>129.990005</td>\n",
       "      <td>123.489998</td>\n",
       "      <td>129.990005</td>\n",
       "      <td>0</td>\n",
       "      <td>22246</td>\n",
       "      <td>7731</td>\n",
       "      <td>1</td>\n",
       "    </tr>\n",
       "    <tr>\n",
       "      <th>165190</th>\n",
       "      <td>4</td>\n",
       "      <td>0</td>\n",
       "      <td>39.990002</td>\n",
       "      <td>5</td>\n",
       "      <td>199.949997</td>\n",
       "      <td>185.949997</td>\n",
       "      <td>39.990002</td>\n",
       "      <td>2</td>\n",
       "      <td>10984</td>\n",
       "      <td>959</td>\n",
       "      <td>1</td>\n",
       "    </tr>\n",
       "    <tr>\n",
       "      <th>168879</th>\n",
       "      <td>1</td>\n",
       "      <td>1</td>\n",
       "      <td>99.989998</td>\n",
       "      <td>5</td>\n",
       "      <td>499.950012</td>\n",
       "      <td>494.950012</td>\n",
       "      <td>99.989998</td>\n",
       "      <td>2</td>\n",
       "      <td>12487</td>\n",
       "      <td>1677</td>\n",
       "      <td>1</td>\n",
       "    </tr>\n",
       "  </tbody>\n",
       "</table>\n",
       "</div>"
      ],
      "text/plain": [
       "        Estimated shipping days  Late_risk  Order Item Product Price  \\\n",
       "174722                        4          1                 24.990000   \n",
       "172881                        2          0                129.990005   \n",
       "93616                         4          1                129.990005   \n",
       "165190                        4          0                 39.990002   \n",
       "168879                        1          1                 99.989998   \n",
       "\n",
       "        Quantity       Sales  Order Item Total  Product Price  \\\n",
       "174722         4   99.959999         92.959999      24.990000   \n",
       "172881         1  129.990005        122.839996     129.990005   \n",
       "93616          1  129.990005        123.489998     129.990005   \n",
       "165190         5  199.949997        185.949997      39.990002   \n",
       "168879         5  499.950012        494.950012      99.989998   \n",
       "\n",
       "        Customer Segment cat  Category_map  Order Region_map  \\\n",
       "174722                     0           343             28341   \n",
       "172881                     0         22246             27109   \n",
       "93616                      0         22246              7731   \n",
       "165190                     2         10984               959   \n",
       "168879                     2         12487              1677   \n",
       "\n",
       "        Delivery Status_code  \n",
       "174722                     1  \n",
       "172881                     1  \n",
       "93616                      1  \n",
       "165190                     1  \n",
       "168879                     1  "
      ]
     },
     "execution_count": 24,
     "metadata": {},
     "output_type": "execute_result"
    }
   ],
   "source": [
    "X_trainN.head()"
   ]
  },
  {
   "cell_type": "code",
   "execution_count": 25,
   "metadata": {},
   "outputs": [],
   "source": [
    "X_testN= X_test [numeric_cols]"
   ]
  },
  {
   "cell_type": "code",
   "execution_count": 26,
   "metadata": {},
   "outputs": [
    {
     "data": {
      "text/html": [
       "<div>\n",
       "<style scoped>\n",
       "    .dataframe tbody tr th:only-of-type {\n",
       "        vertical-align: middle;\n",
       "    }\n",
       "\n",
       "    .dataframe tbody tr th {\n",
       "        vertical-align: top;\n",
       "    }\n",
       "\n",
       "    .dataframe thead th {\n",
       "        text-align: right;\n",
       "    }\n",
       "</style>\n",
       "<table border=\"1\" class=\"dataframe\">\n",
       "  <thead>\n",
       "    <tr style=\"text-align: right;\">\n",
       "      <th></th>\n",
       "      <th>Estimated shipping days</th>\n",
       "      <th>Late_risk</th>\n",
       "      <th>Order Item Product Price</th>\n",
       "      <th>Quantity</th>\n",
       "      <th>Sales</th>\n",
       "      <th>Order Item Total</th>\n",
       "      <th>Product Price</th>\n",
       "      <th>Customer Segment cat</th>\n",
       "      <th>Category_map</th>\n",
       "      <th>Order Region_map</th>\n",
       "      <th>Delivery Status_code</th>\n",
       "    </tr>\n",
       "  </thead>\n",
       "  <tbody>\n",
       "    <tr>\n",
       "      <th>101369</th>\n",
       "      <td>4</td>\n",
       "      <td>0</td>\n",
       "      <td>49.980000</td>\n",
       "      <td>4</td>\n",
       "      <td>199.919998</td>\n",
       "      <td>197.919998</td>\n",
       "      <td>49.980000</td>\n",
       "      <td>0</td>\n",
       "      <td>19298</td>\n",
       "      <td>4045</td>\n",
       "      <td>1</td>\n",
       "    </tr>\n",
       "    <tr>\n",
       "      <th>3026</th>\n",
       "      <td>4</td>\n",
       "      <td>1</td>\n",
       "      <td>164.380005</td>\n",
       "      <td>1</td>\n",
       "      <td>164.380005</td>\n",
       "      <td>164.380005</td>\n",
       "      <td>164.380005</td>\n",
       "      <td>2</td>\n",
       "      <td>483</td>\n",
       "      <td>27109</td>\n",
       "      <td>1</td>\n",
       "    </tr>\n",
       "    <tr>\n",
       "      <th>57549</th>\n",
       "      <td>4</td>\n",
       "      <td>1</td>\n",
       "      <td>59.990002</td>\n",
       "      <td>4</td>\n",
       "      <td>239.960007</td>\n",
       "      <td>226.759994</td>\n",
       "      <td>59.990002</td>\n",
       "      <td>0</td>\n",
       "      <td>24551</td>\n",
       "      <td>6009</td>\n",
       "      <td>1</td>\n",
       "    </tr>\n",
       "    <tr>\n",
       "      <th>127144</th>\n",
       "      <td>4</td>\n",
       "      <td>1</td>\n",
       "      <td>129.990005</td>\n",
       "      <td>1</td>\n",
       "      <td>129.990005</td>\n",
       "      <td>103.989998</td>\n",
       "      <td>129.990005</td>\n",
       "      <td>0</td>\n",
       "      <td>22246</td>\n",
       "      <td>14935</td>\n",
       "      <td>1</td>\n",
       "    </tr>\n",
       "    <tr>\n",
       "      <th>160375</th>\n",
       "      <td>4</td>\n",
       "      <td>0</td>\n",
       "      <td>39.750000</td>\n",
       "      <td>1</td>\n",
       "      <td>39.750000</td>\n",
       "      <td>37.560001</td>\n",
       "      <td>39.750000</td>\n",
       "      <td>0</td>\n",
       "      <td>838</td>\n",
       "      <td>7280</td>\n",
       "      <td>1</td>\n",
       "    </tr>\n",
       "  </tbody>\n",
       "</table>\n",
       "</div>"
      ],
      "text/plain": [
       "        Estimated shipping days  Late_risk  Order Item Product Price  \\\n",
       "101369                        4          0                 49.980000   \n",
       "3026                          4          1                164.380005   \n",
       "57549                         4          1                 59.990002   \n",
       "127144                        4          1                129.990005   \n",
       "160375                        4          0                 39.750000   \n",
       "\n",
       "        Quantity       Sales  Order Item Total  Product Price  \\\n",
       "101369         4  199.919998        197.919998      49.980000   \n",
       "3026           1  164.380005        164.380005     164.380005   \n",
       "57549          4  239.960007        226.759994      59.990002   \n",
       "127144         1  129.990005        103.989998     129.990005   \n",
       "160375         1   39.750000         37.560001      39.750000   \n",
       "\n",
       "        Customer Segment cat  Category_map  Order Region_map  \\\n",
       "101369                     0         19298              4045   \n",
       "3026                       2           483             27109   \n",
       "57549                      0         24551              6009   \n",
       "127144                     0         22246             14935   \n",
       "160375                     0           838              7280   \n",
       "\n",
       "        Delivery Status_code  \n",
       "101369                     1  \n",
       "3026                       1  \n",
       "57549                      1  \n",
       "127144                     1  \n",
       "160375                     1  "
      ]
     },
     "execution_count": 26,
     "metadata": {},
     "output_type": "execute_result"
    }
   ],
   "source": [
    "X_testN.head()"
   ]
  },
  {
   "cell_type": "code",
   "execution_count": 27,
   "metadata": {},
   "outputs": [],
   "source": [
    "from sklearn.preprocessing import MinMaxScaler"
   ]
  },
  {
   "cell_type": "code",
   "execution_count": 28,
   "metadata": {},
   "outputs": [],
   "source": [
    "scaler_Train = MinMaxScaler().fit_transform(X_trainN)"
   ]
  },
  {
   "cell_type": "code",
   "execution_count": 29,
   "metadata": {},
   "outputs": [],
   "source": [
    "scaler_Test = MinMaxScaler().fit_transform(X_testN)"
   ]
  },
  {
   "cell_type": "code",
   "execution_count": null,
   "metadata": {},
   "outputs": [],
   "source": []
  },
  {
   "cell_type": "markdown",
   "metadata": {},
   "source": [
    "# One Hot Encoding "
   ]
  },
  {
   "cell_type": "code",
   "execution_count": 30,
   "metadata": {},
   "outputs": [],
   "source": [
    "from sklearn.preprocessing import OneHotEncoder"
   ]
  },
  {
   "cell_type": "code",
   "execution_count": 31,
   "metadata": {},
   "outputs": [],
   "source": [
    "# drop 1st dummy variable to avoid dummny variable trap\n",
    "\n",
    "ohe = OneHotEncoder(drop='first',sparse=False,dtype=np.int32) # then u do not need to use 'to_array()'\n",
    "\n",
    "X_train_new= ohe.fit_transform(X_train[['Shipping Mode','Department']])\n",
    "\n",
    "X_test_new= ohe.fit_transform(X_test[['Shipping Mode','Department']])"
   ]
  },
  {
   "cell_type": "code",
   "execution_count": 32,
   "metadata": {},
   "outputs": [
    {
     "data": {
      "text/plain": [
       "array([[0, 0, 1, ..., 0, 0, 0],\n",
       "       [0, 1, 0, ..., 0, 0, 0],\n",
       "       [0, 0, 1, ..., 0, 0, 0],\n",
       "       ...,\n",
       "       [0, 1, 0, ..., 0, 0, 0],\n",
       "       [0, 0, 1, ..., 0, 0, 0],\n",
       "       [0, 0, 1, ..., 0, 0, 0]])"
      ]
     },
     "execution_count": 32,
     "metadata": {},
     "output_type": "execute_result"
    }
   ],
   "source": [
    "# have a look on X_train_new\n",
    "X_train_new"
   ]
  },
  {
   "cell_type": "code",
   "execution_count": 33,
   "metadata": {},
   "outputs": [
    {
     "data": {
      "text/plain": [
       "array([[0, 0, 1, ..., 0, 0, 0],\n",
       "       [0, 0, 1, ..., 0, 0, 0],\n",
       "       [0, 0, 1, ..., 0, 0, 0],\n",
       "       ...,\n",
       "       [0, 0, 1, ..., 0, 0, 0],\n",
       "       [0, 1, 0, ..., 0, 0, 0],\n",
       "       [0, 0, 1, ..., 0, 0, 0]])"
      ]
     },
     "execution_count": 33,
     "metadata": {},
     "output_type": "execute_result"
    }
   ],
   "source": [
    "# have a look on X_train_new\n",
    "X_test_new"
   ]
  },
  {
   "cell_type": "code",
   "execution_count": 34,
   "metadata": {},
   "outputs": [
    {
     "name": "stdout",
     "output_type": "stream",
     "text": [
      " X_train_new dimension :  (126363, 13)\n",
      "\n",
      " X_test_new dimension :  (54156, 13)\n"
     ]
    }
   ],
   "source": [
    "# dimension of X_train_new and X_test_new\n",
    "print(' X_train_new dimension : ', X_train_new.shape)\n",
    "print('\\n X_test_new dimension : ',X_test_new.shape )"
   ]
  },
  {
   "cell_type": "markdown",
   "metadata": {},
   "source": [
    "# Joining "
   ]
  },
  {
   "cell_type": "code",
   "execution_count": 35,
   "metadata": {},
   "outputs": [],
   "source": [
    "# join with others columns and One hot encoded columns\n",
    "X_train=np.hstack((scaler_Train,X_train_new))"
   ]
  },
  {
   "cell_type": "code",
   "execution_count": 36,
   "metadata": {},
   "outputs": [
    {
     "data": {
      "text/plain": [
       "(126363, 24)"
      ]
     },
     "execution_count": 36,
     "metadata": {},
     "output_type": "execute_result"
    }
   ],
   "source": [
    "# Dimension of  X_train after joining \n",
    "X_train.shape"
   ]
  },
  {
   "cell_type": "code",
   "execution_count": 37,
   "metadata": {},
   "outputs": [],
   "source": [
    "# join with others columns and One hot encoded columns\n",
    "X_test=np.hstack((scaler_Test,X_test_new))"
   ]
  },
  {
   "cell_type": "code",
   "execution_count": 38,
   "metadata": {},
   "outputs": [
    {
     "data": {
      "text/plain": [
       "(54156, 24)"
      ]
     },
     "execution_count": 38,
     "metadata": {},
     "output_type": "execute_result"
    }
   ],
   "source": [
    "# Dimension of  X_test after joining \n",
    "X_test.shape"
   ]
  },
  {
   "cell_type": "code",
   "execution_count": null,
   "metadata": {},
   "outputs": [],
   "source": []
  },
  {
   "cell_type": "markdown",
   "metadata": {},
   "source": [
    "# Build Model "
   ]
  },
  {
   "cell_type": "code",
   "execution_count": 39,
   "metadata": {},
   "outputs": [],
   "source": [
    "from xgboost import XGBRegressor\n"
   ]
  },
  {
   "cell_type": "code",
   "execution_count": 40,
   "metadata": {},
   "outputs": [],
   "source": [
    "?XGBRegressor"
   ]
  },
  {
   "cell_type": "raw",
   "metadata": {},
   "source": [
    "random_state=42, n_jobs=-1, n_estimators=20, max_depth=4)"
   ]
  },
  {
   "cell_type": "code",
   "execution_count": 41,
   "metadata": {},
   "outputs": [],
   "source": [
    "Seed=1\n",
    "xgbr = XGBRegressor(random_state=1)"
   ]
  },
  {
   "cell_type": "code",
   "execution_count": 42,
   "metadata": {},
   "outputs": [
    {
     "name": "stdout",
     "output_type": "stream",
     "text": [
      "Wall time: 9.01 s\n"
     ]
    }
   ],
   "source": [
    "%%time\n",
    "\n",
    "# train model\n",
    "\n",
    "model_1= xgbr.fit(X_train, y_train)\n",
    "\n",
    "\n",
    " \n"
   ]
  },
  {
   "cell_type": "code",
   "execution_count": 43,
   "metadata": {},
   "outputs": [],
   "source": [
    "y_pred = model_1.predict(X_test)"
   ]
  },
  {
   "cell_type": "code",
   "execution_count": null,
   "metadata": {},
   "outputs": [],
   "source": []
  },
  {
   "cell_type": "markdown",
   "metadata": {},
   "source": [
    "# Model(vanilla setting) Performance"
   ]
  },
  {
   "cell_type": "code",
   "execution_count": 44,
   "metadata": {},
   "outputs": [],
   "source": [
    "# importing performance metrics\n",
    "from sklearn.metrics import mean_absolute_error,mean_squared_error,r2_score"
   ]
  },
  {
   "cell_type": "code",
   "execution_count": 45,
   "metadata": {},
   "outputs": [
    {
     "name": "stdout",
     "output_type": "stream",
     "text": [
      "MAE 0.5494762266250179\n"
     ]
    }
   ],
   "source": [
    "# mean_absolute_error\n",
    "## There is no correct value for MSE. Simply put, the lower the value the better and 0 means the model is perfect\n",
    "print(\"MAE\",mean_absolute_error(y_test,y_pred))"
   ]
  },
  {
   "cell_type": "code",
   "execution_count": 46,
   "metadata": {},
   "outputs": [
    {
     "name": "stdout",
     "output_type": "stream",
     "text": [
      "MSE 0.5469304625844694\n"
     ]
    }
   ],
   "source": [
    "# There is no correct value for MSE. Simply put, the lower the value the better and 0 means the model is perfect.\n",
    "print(\"MSE\",mean_squared_error(y_test,y_pred))"
   ]
  },
  {
   "cell_type": "code",
   "execution_count": 47,
   "metadata": {},
   "outputs": [
    {
     "name": "stdout",
     "output_type": "stream",
     "text": [
      "0.7927498439259649\n"
     ]
    }
   ],
   "source": [
    "# storing the r2 score in s \n",
    "r2 = r2_score(y_test,y_pred)\n",
    "print(r2)"
   ]
  },
  {
   "cell_type": "code",
   "execution_count": 48,
   "metadata": {},
   "outputs": [
    {
     "name": "stdout",
     "output_type": "stream",
     "text": [
      "RMSE 0.7395474714881185\n"
     ]
    }
   ],
   "source": [
    "# do direct function for RMSE so we use np.sqrt()\n",
    "# when u have the outlier it is a better metrics \n",
    "print(\"RMSE\",np.sqrt(mean_squared_error(y_test,y_pred)))"
   ]
  },
  {
   "cell_type": "code",
   "execution_count": null,
   "metadata": {},
   "outputs": [],
   "source": []
  },
  {
   "cell_type": "markdown",
   "metadata": {},
   "source": [
    "# Cross validation  score  on Train data (vanilla Model)"
   ]
  },
  {
   "cell_type": "code",
   "execution_count": 49,
   "metadata": {},
   "outputs": [
    {
     "name": "stdout",
     "output_type": "stream",
     "text": [
      "MSE_CV: 0.55\n"
     ]
    }
   ],
   "source": [
    "# CV score for MSE\n",
    "MSE_CV = - cross_val_score(model_1, X_train, y_train, cv= 5, scoring='neg_mean_squared_error', n_jobs = -1)\n",
    "# CV MSE\n",
    "print('MSE_CV: {:.2f}'.format(MSE_CV.mean()))"
   ]
  },
  {
   "cell_type": "code",
   "execution_count": 50,
   "metadata": {},
   "outputs": [
    {
     "name": "stdout",
     "output_type": "stream",
     "text": [
      "RMSE_CV: 0.74\n"
     ]
    }
   ],
   "source": [
    "# RMSE CV score \n",
    "\n",
    "RMSE_CV = - cross_val_score(model_1, X_train, y_train, cv= 5, scoring='neg_root_mean_squared_error', n_jobs = -1)\n",
    "# CV RMSE\n",
    "print('RMSE_CV: {:.2f}'.format(RMSE_CV.mean()))"
   ]
  },
  {
   "cell_type": "code",
   "execution_count": 51,
   "metadata": {},
   "outputs": [
    {
     "name": "stdout",
     "output_type": "stream",
     "text": [
      "r2_CV: 0.79\n"
     ]
    }
   ],
   "source": [
    "#  storing the R2( Coefficient of ditermination) score \n",
    "\n",
    "\n",
    "r2_CV =  cross_val_score(model_1, X_train, y_train, cv= 5, scoring='r2', n_jobs = -1)\n",
    "# CV R2\n",
    "print('r2_CV: {:.2f}'.format(r2_CV.mean()))"
   ]
  },
  {
   "cell_type": "code",
   "execution_count": null,
   "metadata": {},
   "outputs": [],
   "source": []
  },
  {
   "cell_type": "markdown",
   "metadata": {},
   "source": [
    "# Cross validation score on Test data (vanilla Model)"
   ]
  },
  {
   "cell_type": "code",
   "execution_count": 52,
   "metadata": {},
   "outputs": [
    {
     "name": "stdout",
     "output_type": "stream",
     "text": [
      "MSE_CV_T: 0.56\n"
     ]
    }
   ],
   "source": [
    "# CV score for MSE\n",
    "MSE_CV_T = - cross_val_score(model_1, X_test, y_test, cv= 5, scoring='neg_mean_squared_error', n_jobs = -1)\n",
    "\n",
    "# CV MSE\n",
    "print('MSE_CV_T: {:.2f}'.format(MSE_CV_T.mean()))"
   ]
  },
  {
   "cell_type": "code",
   "execution_count": 53,
   "metadata": {},
   "outputs": [
    {
     "name": "stdout",
     "output_type": "stream",
     "text": [
      "RMSE_CV_T: 0.74\n"
     ]
    }
   ],
   "source": [
    "# RMSE CV score \n",
    "\n",
    "RMSE_CV_T= - cross_val_score(model_1, X_test, y_test, cv= 5, scoring='neg_root_mean_squared_error', n_jobs = -1)\n",
    "\n",
    "# CV RMSE\n",
    "print('RMSE_CV_T: {:.2f}'.format(RMSE_CV.mean()))"
   ]
  },
  {
   "cell_type": "code",
   "execution_count": 54,
   "metadata": {},
   "outputs": [
    {
     "name": "stdout",
     "output_type": "stream",
     "text": [
      "r2_CV_T: 0.79\n"
     ]
    }
   ],
   "source": [
    "#  storing the R2( Coefficient of ditermination) score \n",
    "\n",
    "\n",
    "r2_CV_T =  cross_val_score(model_1, X_test, y_test, cv= 5, scoring='r2', n_jobs = -1)\n",
    "\n",
    "# CV R2\n",
    "print('r2_CV_T: {:.2f}'.format(r2_CV_T.mean()))"
   ]
  },
  {
   "cell_type": "code",
   "execution_count": null,
   "metadata": {},
   "outputs": [],
   "source": []
  },
  {
   "cell_type": "markdown",
   "metadata": {},
   "source": [
    "# Hyperparamter tuning via RandomSearchCV"
   ]
  },
  {
   "cell_type": "code",
   "execution_count": 55,
   "metadata": {},
   "outputs": [],
   "source": [
    "# importing RandomizedSearchCV For HyperParameter Tuning\n",
    "from sklearn.model_selection import RandomizedSearchCV"
   ]
  },
  {
   "cell_type": "code",
   "execution_count": 56,
   "metadata": {},
   "outputs": [],
   "source": [
    "# Set seed for reproducibility\n",
    "SEED_TTT=3\n",
    "# Instantiate a random forests regressor \n",
    "rf_tune = RandomForestRegressor( random_state=SEED_TTT)"
   ]
  },
  {
   "cell_type": "code",
   "execution_count": 57,
   "metadata": {},
   "outputs": [],
   "source": [
    "# https://towardsdatascience.com/xgboost-fine-tune-and-optimize-your-model-23d996fab663\n",
    "\n",
    "max_depth = [3, 5, 6, 10, 15, 20]\n",
    "    \n",
    "learning_rate = [0.01, 0.1, 0.2, 0.3]\n",
    "    \n",
    "    \n",
    "subsample = np.arange(0.5, 1.0, 0.1)\n",
    "    \n",
    "    \n",
    "    \n",
    "colsample_bytree =  np.arange(0.4, 1.0, 0.1)\n",
    "\n",
    "colsample_bylevel= np.arange(0.4, 1.0, 0.1) \n",
    "\n",
    "n_estimators=  [ 200, 300, 400]"
   ]
  },
  {
   "cell_type": "code",
   "execution_count": 58,
   "metadata": {},
   "outputs": [],
   "source": [
    "param_grid = { 'max_depth': [3, 5, 6, 10, 15, 20],\n",
    "           'learning_rate': [0.01, 0.1, 0.2, 0.3],\n",
    "           'subsample': np.arange(0.5, 1.0, 0.1),\n",
    "           'colsample_bytree': np.arange(0.4, 1.0, 0.1),\n",
    "           'colsample_bylevel': np.arange(0.4, 1.0, 0.1),\n",
    "           'n_estimators': [ 200, 300, 400]}"
   ]
  },
  {
   "cell_type": "code",
   "execution_count": null,
   "metadata": {},
   "outputs": [],
   "source": []
  },
  {
   "cell_type": "raw",
   "metadata": {},
   "source": [
    "# Number of trees in random forest\n",
    "n_estimators = [200, 300,400]\n",
    "\n",
    "# Number of features to consider at every split\n",
    "max_features = [0.2,0.6,0.8,1]\n",
    "\n",
    "# Maximum number of levels in tree\n",
    "max_depth = [2,8, None]\n",
    "\n",
    "# Number of samples\n",
    "max_samples = [0.5,0.6,0.75]\n",
    "\n",
    "# minimum number of samples required to be at a leaf node.\n",
    "min_samples_leaf=[0.10,0.15, 0.20]\n",
    "\n",
    "# Minimum number of samples required to split a node\n",
    "min_samples_split = [2, 3, 5]\n",
    "\n",
    "# for one combination one model \n",
    "#  729 different random forest model train"
   ]
  },
  {
   "cell_type": "raw",
   "metadata": {},
   "source": [
    "param_grid = {'n_estimators': n_estimators,\n",
    "               'max_features': max_features,\n",
    "               'max_depth': max_depth,\n",
    "              'max_samples':max_samples,\n",
    "              'min_samples_leaf':min_samples_leaf,\n",
    "              'min_samples_split':min_samples_split\n",
    "             }\n",
    "print(param_grid)"
   ]
  },
  {
   "cell_type": "code",
   "execution_count": 59,
   "metadata": {},
   "outputs": [],
   "source": [
    "# Set seed for reproducibility\n",
    "SEED_T=2\n",
    "\n",
    "# Instantiate a random forests regressor \n",
    "\n",
    "\n",
    "xgbr_tune = XGBRegressor(seed = SEED_T)"
   ]
  },
  {
   "cell_type": "code",
   "execution_count": 60,
   "metadata": {},
   "outputs": [],
   "source": [
    "rf_R_grid = RandomizedSearchCV(estimator =xgbr_tune, \n",
    "                       param_distributions= param_grid, \n",
    "                       cv = 5, \n",
    "                       verbose=2, \n",
    "                       n_jobs = -1)"
   ]
  },
  {
   "cell_type": "code",
   "execution_count": 61,
   "metadata": {},
   "outputs": [
    {
     "name": "stdout",
     "output_type": "stream",
     "text": [
      "Fitting 5 folds for each of 10 candidates, totalling 50 fits\n",
      "1059.7477011680603\n"
     ]
    }
   ],
   "source": [
    "# for measuring the run time \n",
    "import time\n",
    "# measure starting time \n",
    "start = time.time()\n",
    "\n",
    "# train  GridSearchCV\n",
    "model_2=rf_R_grid.fit(X_train,y_train)\n",
    "\n",
    "# measure end time \n",
    "end = time.time()\n",
    "\n",
    "# measure elapse time \n",
    "print(end - start)"
   ]
  },
  {
   "cell_type": "code",
   "execution_count": 62,
   "metadata": {},
   "outputs": [
    {
     "data": {
      "text/plain": [
       "{'subsample': 0.5,\n",
       " 'n_estimators': 400,\n",
       " 'max_depth': 3,\n",
       " 'learning_rate': 0.2,\n",
       " 'colsample_bytree': 0.4,\n",
       " 'colsample_bylevel': 0.7999999999999999}"
      ]
     },
     "execution_count": 62,
     "metadata": {},
     "output_type": "execute_result"
    }
   ],
   "source": [
    "# Getting best model's Parameter \n",
    "model_2.best_params_"
   ]
  },
  {
   "cell_type": "code",
   "execution_count": 63,
   "metadata": {},
   "outputs": [
    {
     "data": {
      "text/plain": [
       "0.7946886713116145"
      ]
     },
     "execution_count": 63,
     "metadata": {},
     "output_type": "execute_result"
    }
   ],
   "source": [
    "# Best model score\n",
    "model_2.best_score_"
   ]
  },
  {
   "cell_type": "markdown",
   "metadata": {},
   "source": [
    "# Work with best model from RandomCV"
   ]
  },
  {
   "cell_type": "code",
   "execution_count": 64,
   "metadata": {},
   "outputs": [],
   "source": [
    "# Set seed for reproducibility\n",
    "\n",
    "SEED_TT=3\n",
    "\n",
    "# Instantiate a random forests regressor \n",
    "\n",
    "xgbr_best_r_g = XGBRegressor( random_state=SEED_TT,          subsample= 0.6,\n",
    "                                                             n_estimators= 400,\n",
    "                                                             max_depth= 3,\n",
    "                                                             learning_rate= 0.3,\n",
    "                                                             colsample_bytree= 0.8999999999999999,\n",
    "                                                             colsample_bylevel= 0.8999999999999999)\n",
    " "
   ]
  },
  {
   "cell_type": "markdown",
   "metadata": {},
   "source": []
  },
  {
   "cell_type": "markdown",
   "metadata": {},
   "source": [
    "# Cross validation  score  on Train data (RandomCV Model)"
   ]
  },
  {
   "cell_type": "code",
   "execution_count": 65,
   "metadata": {},
   "outputs": [
    {
     "name": "stdout",
     "output_type": "stream",
     "text": [
      "MSE_CV: 0.54\n"
     ]
    }
   ],
   "source": [
    "# CV score for MSE\n",
    "MSE_CV = - cross_val_score(xgbr_best_r_g, X_train, y_train, cv= 5, scoring='neg_mean_squared_error', n_jobs = -1)\n",
    "# CV MSE\n",
    "print('MSE_CV: {:.2f}'.format(MSE_CV.mean()))"
   ]
  },
  {
   "cell_type": "code",
   "execution_count": 66,
   "metadata": {},
   "outputs": [
    {
     "name": "stdout",
     "output_type": "stream",
     "text": [
      "RMSE_CV: 0.74\n"
     ]
    }
   ],
   "source": [
    "# RMSE CV score \n",
    "\n",
    "RMSE_CV = - cross_val_score(xgbr_best_r_g, X_train, y_train, cv= 5, scoring='neg_root_mean_squared_error', n_jobs = -1)\n",
    "# CV RMSE\n",
    "print('RMSE_CV: {:.2f}'.format(RMSE_CV.mean()))"
   ]
  },
  {
   "cell_type": "code",
   "execution_count": 67,
   "metadata": {},
   "outputs": [
    {
     "name": "stdout",
     "output_type": "stream",
     "text": [
      "r2_CV: 0.79\n"
     ]
    }
   ],
   "source": [
    "#  storing the R2( Coefficient of ditermination) score \n",
    "\n",
    "\n",
    "r2_CV =  cross_val_score(xgbr_best_r_g, X_train, y_train, cv= 5, scoring='r2', n_jobs = -1)\n",
    "# CV R2\n",
    "print('r2_CV: {:.2f}'.format(r2_CV.mean()))"
   ]
  },
  {
   "cell_type": "markdown",
   "metadata": {},
   "source": [
    "# Cross validation score on Test data ((RandomCV Model))"
   ]
  },
  {
   "cell_type": "code",
   "execution_count": 68,
   "metadata": {},
   "outputs": [
    {
     "name": "stdout",
     "output_type": "stream",
     "text": [
      "MSE_CV_T: 0.55\n"
     ]
    }
   ],
   "source": [
    "# CV score for MSE\n",
    "MSE_CV_T = - cross_val_score(xgbr_best_r_g, X_test, y_test, cv= 5, scoring='neg_mean_squared_error', n_jobs = -1)\n",
    "\n",
    "# CV MSE\n",
    "print('MSE_CV_T: {:.2f}'.format(MSE_CV_T.mean()))"
   ]
  },
  {
   "cell_type": "code",
   "execution_count": 69,
   "metadata": {},
   "outputs": [
    {
     "name": "stdout",
     "output_type": "stream",
     "text": [
      "RMSE_CV_T: 0.74\n"
     ]
    }
   ],
   "source": [
    "# RMSE CV score \n",
    "\n",
    "RMSE_CV_T= - cross_val_score(xgbr_best_r_g, X_test, y_test, cv= 5, scoring='neg_root_mean_squared_error', n_jobs = -1)\n",
    "\n",
    "# CV RMSE\n",
    "print('RMSE_CV_T: {:.2f}'.format(RMSE_CV.mean()))"
   ]
  },
  {
   "cell_type": "code",
   "execution_count": 70,
   "metadata": {},
   "outputs": [
    {
     "name": "stdout",
     "output_type": "stream",
     "text": [
      "r2_CV_T: 0.79\n"
     ]
    }
   ],
   "source": [
    "#  storing the R2( Coefficient of ditermination) score \n",
    "\n",
    "\n",
    "r2_CV_T =  cross_val_score(xgbr_best_r_g, X_test, y_test, cv= 5, scoring='r2', n_jobs = -1)\n",
    "\n",
    "# CV R2\n",
    "print('r2_CV_T: {:.2f}'.format(r2_CV_T.mean()))"
   ]
  },
  {
   "cell_type": "markdown",
   "metadata": {},
   "source": [
    "# Hyperparamter tuning via GridSearchCV"
   ]
  },
  {
   "cell_type": "code",
   "execution_count": 71,
   "metadata": {},
   "outputs": [],
   "source": [
    "# importing GridSearchCV For HyperParameter Tuning\n",
    "from sklearn.model_selection import GridSearchCV"
   ]
  },
  {
   "cell_type": "code",
   "execution_count": 72,
   "metadata": {},
   "outputs": [],
   "source": [
    "# Set seed for reproducibility\n",
    "SEED_T=4\n",
    "# Instantiate a random forests regressor \n",
    "xgbr_tune = XGBRegressor( random_state=SEED_T)"
   ]
  },
  {
   "cell_type": "code",
   "execution_count": 73,
   "metadata": {},
   "outputs": [],
   "source": [
    "param_grid = { 'max_depth': [3, 5, 6, 10, 15, 20],\n",
    "           'learning_rate': [0.01, 0.1, 0.2, 0.3],\n",
    "           'subsample': np.arange(0.5, 1.0, 0.1),\n",
    "           'colsample_bytree': np.arange(0.4, 1.0, 0.1),\n",
    "           'colsample_bylevel': np.arange(0.4, 1.0, 0.1),\n",
    "           'n_estimators': [ 200, 300, 400]}"
   ]
  },
  {
   "cell_type": "code",
   "execution_count": 74,
   "metadata": {},
   "outputs": [],
   "source": [
    "# Instantiate GridSearchCV\n",
    "xgbr_grid = GridSearchCV(estimator = xgbr_tune, \n",
    "                       param_grid= param_grid, \n",
    "                       cv = 5, \n",
    "                       verbose=2, \n",
    "                       n_jobs = -1)"
   ]
  },
  {
   "cell_type": "code",
   "execution_count": null,
   "metadata": {},
   "outputs": [],
   "source": [
    "\n",
    "\n",
    "# measure starting time \n",
    "start = time.time()\n",
    "\n",
    "# train  GridSearchCV\n",
    "#xgbr_grid .fit(X_train,y_train)\n",
    "\n",
    "# measure end time \n",
    "end = time.time()\n",
    "\n",
    "# measure elapse time \n",
    "print(end - start)"
   ]
  },
  {
   "cell_type": "code",
   "execution_count": 96,
   "metadata": {},
   "outputs": [
    {
     "data": {
      "text/plain": [
       "{'max_depth': 8,\n",
       " 'max_features': 0.8,\n",
       " 'max_samples': 0.75,\n",
       " 'min_samples_leaf': 0.1,\n",
       " 'min_samples_split': 2,\n",
       " 'n_estimators': 300}"
      ]
     },
     "execution_count": 96,
     "metadata": {},
     "output_type": "execute_result"
    }
   ],
   "source": [
    "# Getting best model's Parameter \n",
    "xgbr_grid.best_params_"
   ]
  },
  {
   "cell_type": "code",
   "execution_count": 97,
   "metadata": {},
   "outputs": [
    {
     "data": {
      "text/plain": [
       "0.7067721621321789"
      ]
     },
     "execution_count": 97,
     "metadata": {},
     "output_type": "execute_result"
    }
   ],
   "source": [
    "# Best model score\n",
    "xgbr_grid.best_score_"
   ]
  },
  {
   "cell_type": "markdown",
   "metadata": {},
   "source": [
    "### Work with best model from GridSearchCV\n"
   ]
  },
  {
   "cell_type": "code",
   "execution_count": 100,
   "metadata": {},
   "outputs": [],
   "source": [
    "# Set seed for reproducibility\n",
    "SEED_TT=5\n",
    "# Instantiate a random forests regressor \n",
    "xgbr_best_g = XGBRegressor( random_state=SEED_TT, oob_score=True,max_depth= 8,max_features= 0.8,max_samples= 0.75,\n",
    "                                  min_samples_leaf= 0.1,\n",
    "                                  min_samples_split= 2,\n",
    "                                  n_estimators= 300)"
   ]
  },
  {
   "cell_type": "markdown",
   "metadata": {},
   "source": [
    "# Cross validation  score  on Train data (GridSearchCV Model)"
   ]
  },
  {
   "cell_type": "code",
   "execution_count": 101,
   "metadata": {},
   "outputs": [
    {
     "name": "stdout",
     "output_type": "stream",
     "text": [
      "MSE_CV: 0.77\n"
     ]
    }
   ],
   "source": [
    "# CV score for MSE\n",
    "MSE_CV = - cross_val_score(xgbr_best_g, X_train, y_train, cv= 5, scoring='neg_mean_squared_error', n_jobs = -1)\n",
    "# CV MSE\n",
    "print('MSE_CV: {:.2f}'.format(MSE_CV.mean()))"
   ]
  },
  {
   "cell_type": "code",
   "execution_count": 102,
   "metadata": {},
   "outputs": [
    {
     "name": "stdout",
     "output_type": "stream",
     "text": [
      "RMSE_CV: 0.88\n"
     ]
    }
   ],
   "source": [
    "# RMSE CV score \n",
    "\n",
    "RMSE_CV = - cross_val_score(xgbr_best_g, X_train, y_train, cv= 5, scoring='neg_root_mean_squared_error', n_jobs = -1)\n",
    "# CV RMSE\n",
    "print('RMSE_CV: {:.2f}'.format(RMSE_CV.mean()))"
   ]
  },
  {
   "cell_type": "code",
   "execution_count": 103,
   "metadata": {},
   "outputs": [
    {
     "name": "stdout",
     "output_type": "stream",
     "text": [
      "r2_CV: 0.71\n"
     ]
    }
   ],
   "source": [
    "#  storing the R2( Coefficient of ditermination) score \n",
    "\n",
    "\n",
    "r2_CV =  cross_val_score(xgbr_best_g, X_train, y_train, cv= 5, scoring='r2', n_jobs = -1)\n",
    "# CV R2\n",
    "print('r2_CV: {:.2f}'.format(r2_CV.mean()))"
   ]
  },
  {
   "cell_type": "markdown",
   "metadata": {},
   "source": [
    "# Cross validation score on Test data (GridSearchCV Model)"
   ]
  },
  {
   "cell_type": "code",
   "execution_count": 104,
   "metadata": {},
   "outputs": [
    {
     "name": "stdout",
     "output_type": "stream",
     "text": [
      "MSE_CV_T: 0.77\n"
     ]
    }
   ],
   "source": [
    "# CV score for MSE\n",
    "MSE_CV_T = - cross_val_score(xgbr_best_g, X_test, y_test, cv= 5, scoring='neg_mean_squared_error', n_jobs = -1)\n",
    "\n",
    "# CV MSE\n",
    "print('MSE_CV_T: {:.2f}'.format(MSE_CV_T.mean()))"
   ]
  },
  {
   "cell_type": "code",
   "execution_count": 105,
   "metadata": {},
   "outputs": [
    {
     "name": "stdout",
     "output_type": "stream",
     "text": [
      "RMSE_CV_T: 0.88\n"
     ]
    }
   ],
   "source": [
    "# RMSE CV score \n",
    "\n",
    "RMSE_CV_T= - cross_val_score(xgbr_best_g, X_test, y_test, cv= 5, scoring='neg_root_mean_squared_error', n_jobs = -1)\n",
    "\n",
    "# CV RMSE\n",
    "print('RMSE_CV_T: {:.2f}'.format(RMSE_CV.mean()))"
   ]
  },
  {
   "cell_type": "code",
   "execution_count": 106,
   "metadata": {},
   "outputs": [
    {
     "name": "stdout",
     "output_type": "stream",
     "text": [
      "r2_CV_T: 0.71\n"
     ]
    }
   ],
   "source": [
    "#  storing the R2( Coefficient of ditermination) score \n",
    "\n",
    "\n",
    "r2_CV_T =  cross_val_score(xgbr_best_g, X_test, y_test, cv= 5, scoring='r2', n_jobs = -1)\n",
    "\n",
    "# CV R2\n",
    "print('r2_CV_T: {:.2f}'.format(r2_CV_T.mean()))"
   ]
  },
  {
   "cell_type": "code",
   "execution_count": null,
   "metadata": {},
   "outputs": [],
   "source": []
  },
  {
   "cell_type": "raw",
   "metadata": {},
   "source": [
    "# Out of Bagging(OBB) score "
   ]
  },
  {
   "cell_type": "raw",
   "metadata": {},
   "source": [
    "# OBB score of vanilla setting model\n",
    "\n",
    "print(\"OBB score of vanilla setting model  \" ,model_1.oob_score_)\n",
    "\n",
    "\n",
    "\n",
    "\n",
    "\n",
    "# OBB score of Random seachCV  best hyperparameter model\n",
    "\n",
    "model_22 = rf_best_g.fit(X_train, y_train)\n",
    "\n",
    "print(\"OBB score of Random seachCV  \" , model_22.oob_score_)\n",
    "\n",
    "\n",
    "# OBB score of GridseachCV  best hyperparameter model\n",
    "\n",
    "model_3 = rf_best_g.fit(X_train, y_train)\n",
    "\n",
    "print(\"OBB score of GridseachCV  \" ,  model_3.oob_score_)"
   ]
  },
  {
   "cell_type": "markdown",
   "metadata": {},
   "source": [
    "# Model Save"
   ]
  },
  {
   "cell_type": "code",
   "execution_count": null,
   "metadata": {},
   "outputs": [],
   "source": [
    "# Fitting of Random seachCV  best hyperparameter model\n",
    "\n",
    "model_22 = xgbr_best_g.fit(X_train, y_train)\n",
    "\n",
    "# fitting of GridseachCV  best hyperparameter model\n",
    "\n",
    "#model_3 = xgbr_best_g.fit(X_train, y_train)"
   ]
  },
  {
   "cell_type": "code",
   "execution_count": null,
   "metadata": {},
   "outputs": [],
   "source": [
    "import pickle\n",
    "\n",
    "\n",
    "# save the  vanilla model to disk\n",
    "filename1 = 'vanilla_xgbr_model_LT.sav'\n",
    "pickle.dump(model_1, open(filename1, 'wb'))\n",
    "\n",
    "# save the  GridSearch CV best parameter  model to disk\n",
    "#filename2 = 'GridSearch_xgbr_model_LT.sav'\n",
    "#pickle.dump(model_3, open(filename2, 'wb'))\n",
    "\n",
    "# save the   RandomSearch CV best parameter to disk\n",
    "filename3 = 'Random_Search_xgbr_model_LT.sav'\n",
    "pickle.dump(model_22, open(filename3, 'wb'))"
   ]
  },
  {
   "cell_type": "code",
   "execution_count": null,
   "metadata": {},
   "outputs": [],
   "source": []
  }
 ],
 "metadata": {
  "kernelspec": {
   "display_name": "Python 3",
   "language": "python",
   "name": "python3"
  },
  "language_info": {
   "codemirror_mode": {
    "name": "ipython",
    "version": 3
   },
   "file_extension": ".py",
   "mimetype": "text/x-python",
   "name": "python",
   "nbconvert_exporter": "python",
   "pygments_lexer": "ipython3",
   "version": "3.8.5"
  }
 },
 "nbformat": 4,
 "nbformat_minor": 4
}
